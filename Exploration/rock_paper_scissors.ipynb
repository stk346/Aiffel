{
  "nbformat": 4,
  "nbformat_minor": 0,
  "metadata": {
    "colab": {
      "name": "rock_paper_scissors의 사본",
      "provenance": [],
      "collapsed_sections": []
    },
    "kernelspec": {
      "name": "python3",
      "display_name": "Python 3"
    },
    "language_info": {
      "name": "python"
    }
  },
  "cells": [
    {
      "cell_type": "code",
      "metadata": {
        "id": "sZFqMe3D1ZQx"
      },
      "source": [
        "from PIL import Image"
      ],
      "execution_count": null,
      "outputs": []
    },
    {
      "cell_type": "code",
      "metadata": {
        "colab": {
          "base_uri": "https://localhost:8080/"
        },
        "id": "EdzWyL-D1gA4",
        "outputId": "4c6decc4-8148-4560-8b96-f0da43a068af"
      },
      "source": [
        "from google.colab import drive\n",
        "drive.mount('/content/drive')"
      ],
      "execution_count": null,
      "outputs": [
        {
          "output_type": "stream",
          "text": [
            "Mounted at /content/drive\n"
          ],
          "name": "stdout"
        }
      ]
    },
    {
      "cell_type": "code",
      "metadata": {
        "id": "_aDc0WRm1oXg"
      },
      "source": [
        "import os, glob"
      ],
      "execution_count": null,
      "outputs": []
    },
    {
      "cell_type": "code",
      "metadata": {
        "colab": {
          "base_uri": "https://localhost:8080/"
        },
        "id": "dkTfTWut2c1i",
        "outputId": "a675531c-ac48-4c57-ad5d-3f688775748a"
      },
      "source": [
        "import os\n",
        "\n",
        "def resize_images(img_path):\n",
        "  images=glob.glob(img_path + \"/*.jpg\")\n",
        "  \n",
        "  print(len(images), \"images to be resized.\")\n",
        "\n",
        "  # 파일마다 모두 28x28 사이즈로 바꾸어 저장합니다.\n",
        "  target_size=(28,28)\n",
        "  for img in images:\n",
        "    old_img=Image.open(img)\n",
        "    new_img=old_img.resize(target_size,Image.ANTIALIAS)\n",
        "    new_img.save(img,\"JPEG\")\n",
        "\n",
        "  print(len(images), \" images resized.\")\n",
        "\n",
        "# 가우; 이미지가 저장된 디렉토리 아래의 모든 jpg 파일을 읽어들여서\n",
        "image_dir_path = \"/content/drive/MyDrive/Aiffel/Exploration/rock_paper_scissors/scissor\"\n",
        "resize_images(image_dir_path)\n",
        "\n",
        "print(\"가위 이미지 resize 완료!\")"
      ],
      "execution_count": null,
      "outputs": [
        {
          "output_type": "stream",
          "text": [
            "100 images to be resized.\n",
            "100  images resized.\n",
            "가위 이미지 resize 완료!\n"
          ],
          "name": "stdout"
        }
      ]
    },
    {
      "cell_type": "code",
      "metadata": {
        "colab": {
          "base_uri": "https://localhost:8080/"
        },
        "id": "t1TZgGhy3yUq",
        "outputId": "734f3d08-8a04-4f56-89d5-7db8980a35fc"
      },
      "source": [
        "resize_images('/content/drive/MyDrive/Aiffel/Exploration/rock_paper_scissors/rock')"
      ],
      "execution_count": null,
      "outputs": [
        {
          "output_type": "stream",
          "text": [
            "100 images to be resized.\n",
            "100  images resized.\n"
          ],
          "name": "stdout"
        }
      ]
    },
    {
      "cell_type": "code",
      "metadata": {
        "colab": {
          "base_uri": "https://localhost:8080/"
        },
        "id": "PgE4TgExDzbc",
        "outputId": "a377af56-7912-435b-f380-cc32eb6a19d4"
      },
      "source": [
        "resize_images('/content/drive/MyDrive/Aiffel/Exploration/rock_paper_scissors/Paper')"
      ],
      "execution_count": null,
      "outputs": [
        {
          "output_type": "stream",
          "text": [
            "100 images to be resized.\n",
            "100  images resized.\n"
          ],
          "name": "stdout"
        }
      ]
    },
    {
      "cell_type": "code",
      "metadata": {
        "colab": {
          "base_uri": "https://localhost:8080/"
        },
        "id": "5MR9socqEGXo",
        "outputId": "9dc79c70-00f1-4b83-ecf4-416d536c271e"
      },
      "source": [
        "import numpy as np\n",
        "\n",
        "def load_data(img_path, number_of_data=300):\n",
        "  # 가위 : 0, 바위 : 1, 보 : 2\n",
        "  img_size=28\n",
        "  color=3\n",
        "  # 이미지 데이터와 라벨(가위 : 0, 바위 : 1, 보 : 2) 데이터를 담을 행렬(matrix) 영역을 생성합니다.\n",
        "  imgs=np.zeros(number_of_data*img_size*img_size*color, dtype=np.int32).reshape(number_of_data,img_size,img_size,color)\n",
        "  labels=np.zeros(number_of_data, dtype=np.int32)\n",
        "\n",
        "  idx=0\n",
        "  for file in glob.iglob(img_path + '/scissor/*.jpg'):\n",
        "    img = np.array(Image.open(file), dtype=np.int32)\n",
        "    imgs[idx, :, :, :]=img   #데이터 영역에 이미지 행렬을 복사\n",
        "    idx = idx + 1   # 가위 : 0\n",
        "\n",
        "  for file in glob.iglob(img_path + '/rock/*.jpg'):\n",
        "    img = np.array(Image.open(file), dtype=np.int32)\n",
        "    imgs[idx, :, :, :,]=img   # 데이터 영역에 이미지 행렬을 복사\n",
        "    labels[idx]=1   # 바위 : 1\n",
        "    idx = idx + 1\n",
        "\n",
        "  for file in glob.iglob(img_path + '/Paper/*.jpg'):\n",
        "    img = np.array(Image.open(file), dtype=np.int32)\n",
        "    imgs[idx, :, :, :]=img   # 데이터 영역에 이미지 행렬을 복사\n",
        "    labels[idx]=2   # 보 : 2\n",
        "    idx = idx + 1\n",
        "    \n",
        "  print(\"학습 데이터(x_train)의 이미지 개수는\", idx, \"입니다.\")\n",
        "  return imgs, labels\n",
        "\n",
        "image_dir_path = \"/content/drive/MyDrive/Aiffel/Exploration/rock_paper_scissors\"\n",
        "(x_train, x_test) = load_data(image_dir_path)\n",
        "x_train_norm = x_train/255.0   # 입력은 0~1 사이의 값으로 정규화\n",
        "\n",
        "print(\"x_train shape: {}\".format(x_train.shape))\n",
        "print(\"x_test shape: {}\".format(x_test.shape))\n"
      ],
      "execution_count": null,
      "outputs": [
        {
          "output_type": "stream",
          "text": [
            "학습 데이터(x_train)의 이미지 개수는 300 입니다.\n",
            "x_train shape: (300, 28, 28, 3)\n",
            "x_test shape: (300,)\n"
          ],
          "name": "stdout"
        }
      ]
    },
    {
      "cell_type": "code",
      "metadata": {
        "colab": {
          "base_uri": "https://localhost:8080/",
          "height": 283
        },
        "id": "giSsNHlyIWzH",
        "outputId": "257698e5-b36a-433d-f5a0-9aab8ed81fea"
      },
      "source": [
        "import matplotlib.pyplot as plt\n",
        "plt.imshow(x_train[0])\n",
        "print('라벨: ', x_test[0])"
      ],
      "execution_count": null,
      "outputs": [
        {
          "output_type": "stream",
          "text": [
            "라벨:  0\n"
          ],
          "name": "stdout"
        },
        {
          "output_type": "display_data",
          "data": {
            "image/png": "[encoded data removed]",
            "text/plain": [
              "<Figure size 432x288 with 1 Axes>"
            ]
          },
          "metadata": {
            "tags": [],
            "needs_background": "light"
          }
        }
      ]
    },
    {
      "cell_type": "code",
      "metadata": {
        "colab": {
          "base_uri": "https://localhost:8080/"
        },
        "id": "n3OKl6OBJxuY",
        "outputId": "577fcc22-f697-46fe-ba87-cc399b874e15"
      },
      "source": [
        "# 모델을 직접 만들어 보세요.\n",
        "\n",
        "import tensorflow as tf\n",
        "from tensorflow import keras\n",
        "import numpy as np\n",
        "\n",
        "model=keras.models.Sequential()\n",
        "model.add(keras.layers.Conv2D(16, (3,3), activation='relu', input_shape=(28,28,3)))\n",
        "model.add(keras.layers.MaxPool2D(2,2))\n",
        "model.add(keras.layers.Conv2D(32, (3,3), activation='relu'))\n",
        "model.add(keras.layers.MaxPooling2D((2,2)))\n",
        "model.add(keras.layers.Flatten())\n",
        "model.add(keras.layers.Dense(32, activation='relu'))\n",
        "model.add(keras.layers.Dense(3, activation='softmax'))\n",
        "\n",
        "print('Model에 추가된 Layer 개수: ', len(model.layers))\n",
        "\n",
        "model.summary()"
      ],
      "execution_count": null,
      "outputs": [
        {
          "output_type": "stream",
          "text": [
            "Model에 추가된 Layer 개수:  7\n",
            "Model: \"sequential\"\n",
            "_________________________________________________________________\n",
            "Layer (type)                 Output Shape              Param #   \n",
            "=================================================================\n",
            "conv2d (Conv2D)              (None, 26, 26, 16)        448       \n",
            "_________________________________________________________________\n",
            "max_pooling2d (MaxPooling2D) (None, 13, 13, 16)        0         \n",
            "_________________________________________________________________\n",
            "conv2d_1 (Conv2D)            (None, 11, 11, 32)        4640      \n",
            "_________________________________________________________________\n",
            "max_pooling2d_1 (MaxPooling2 (None, 5, 5, 32)          0         \n",
            "_________________________________________________________________\n",
            "flatten (Flatten)            (None, 800)               0         \n",
            "_________________________________________________________________\n",
            "dense (Dense)                (None, 32)                25632     \n",
            "_________________________________________________________________\n",
            "dense_1 (Dense)              (None, 3)                 99        \n",
            "=================================================================\n",
            "Total params: 30,819\n",
            "Trainable params: 30,819\n",
            "Non-trainable params: 0\n",
            "_________________________________________________________________\n"
          ],
          "name": "stdout"
        }
      ]
    },
    {
      "cell_type": "code",
      "metadata": {
        "colab": {
          "base_uri": "https://localhost:8080/"
        },
        "id": "9nw_819lNeuJ",
        "outputId": "187fefbf-fe9e-4684-ab0e-3e33b05013c3"
      },
      "source": [
        "# 딥러닝 네트워크 학습시키기\n",
        "\n",
        "model.compile(optimizer='adam',\n",
        "              loss='sparse_categorical_crossentropy',\n",
        "              metrics=['accuracy'])\n",
        "\n",
        "model.fit(x_train, x_test, epochs=10)"
      ],
      "execution_count": null,
      "outputs": [
        {
          "output_type": "stream",
          "text": [
            "Epoch 1/10\n",
            "10/10 [==============================] - 1s 19ms/step - loss: 19.3430 - accuracy: 0.3267\n",
            "Epoch 2/10\n",
            "10/10 [==============================] - 0s 19ms/step - loss: 4.7687 - accuracy: 0.5300\n",
            "Epoch 3/10\n",
            "10/10 [==============================] - 0s 18ms/step - loss: 1.5607 - accuracy: 0.7767\n",
            "Epoch 4/10\n",
            "10/10 [==============================] - 0s 17ms/step - loss: 0.3130 - accuracy: 0.9233\n",
            "Epoch 5/10\n",
            "10/10 [==============================] - 0s 21ms/step - loss: 0.1371 - accuracy: 0.9633\n",
            "Epoch 6/10\n",
            "10/10 [==============================] - 0s 18ms/step - loss: 0.0557 - accuracy: 0.9767\n",
            "Epoch 7/10\n",
            "10/10 [==============================] - 0s 18ms/step - loss: 0.0375 - accuracy: 0.9833\n",
            "Epoch 8/10\n",
            "10/10 [==============================] - 0s 18ms/step - loss: 0.0281 - accuracy: 0.9833\n",
            "Epoch 9/10\n",
            "10/10 [==============================] - 0s 18ms/step - loss: 0.0162 - accuracy: 0.9933\n",
            "Epoch 10/10\n",
            "10/10 [==============================] - 0s 18ms/step - loss: 0.0115 - accuracy: 1.0000\n"
          ],
          "name": "stdout"
        },
        {
          "output_type": "execute_result",
          "data": {
            "text/plain": [
              "<tensorflow.python.keras.callbacks.History at 0x7fb4343a6050>"
            ]
          },
          "metadata": {
            "tags": []
          },
          "execution_count": 10
        }
      ]
    },
    {
      "cell_type": "markdown",
      "metadata": {
        "id": "uQaU9K0Dt4we"
      },
      "source": [
        "## 얼마나 잘 만들었는지 확인하기(테스트)"
      ]
    },
    {
      "cell_type": "code",
      "metadata": {
        "colab": {
          "base_uri": "https://localhost:8080/"
        },
        "id": "Y91Mvy42mmWJ",
        "outputId": "6f4b507f-0570-438b-a735-fbb8a7554c6c"
      },
      "source": [
        "import os\n",
        "\n",
        "def resize_images(img_path):\n",
        "  images=glob.glob(img_path + \"/*.jpg\")\n",
        "  \n",
        "  print(len(images), \"images to be resized.\")\n",
        "\n",
        "  # 파일마다 모두 28x28 사이즈로 바꾸어 저장합니다.\n",
        "  target_size=(28,28)\n",
        "  for img in images:\n",
        "    old_img=Image.open(img)\n",
        "    new_img=old_img.resize(target_size,Image.ANTIALIAS)\n",
        "    new_img.save(img,\"JPEG\")\n",
        "\n",
        "  print(len(images), \" images resized.\")\n",
        "\n",
        "# 가위 이미지가 저장된 디렉토리 아래의 모든 jpg 파일을 읽어들여서\n",
        "image_dir_path = \"/content/drive/MyDrive/Aiffel/Exploration/rock_paper_scissors/scissor\"\n",
        "resize_images(image_dir_path)\n",
        "\n",
        "print(\"가위 이미지 resize 완료!\")"
      ],
      "execution_count": null,
      "outputs": [
        {
          "output_type": "stream",
          "text": [
            "100 images to be resized.\n",
            "100  images resized.\n",
            "가위 이미지 resize 완료!\n"
          ],
          "name": "stdout"
        }
      ]
    },
    {
      "cell_type": "code",
      "metadata": {
        "colab": {
          "base_uri": "https://localhost:8080/"
        },
        "id": "kSbpzjsztGuO",
        "outputId": "6a5f7e00-4808-4915-a5d8-1ccf1855a538"
      },
      "source": [
        "# test 데이터셋 이미지 만들기\n",
        "\n",
        "def load_data(img_path, number_of_data=300):  # 가위바위보 이미지 개수 총합에 주의하세요.\n",
        "    # 가위 : 0, 바위 : 1, 보 : 2\n",
        "    img_size=28\n",
        "    color=3\n",
        "    #이미지 데이터와 라벨(가위 : 0, 바위 : 1, 보 : 2) 데이터를 담을 행렬(matrix) 영역을 생성합니다.\n",
        "    imgs=np.zeros(number_of_data*img_size*img_size*color,dtype=np.int32).reshape(number_of_data,img_size,img_size,color)\n",
        "    labels=np.zeros(number_of_data,dtype=np.int32)\n",
        "\n",
        "    idx=0\n",
        "    for file in glob.iglob(img_path+'/scissors-samples/*.jpg'):\n",
        "        img = np.array(Image.open(file),dtype=np.int32)\n",
        "        imgs[idx,:,:,:]=img    # 데이터 영역에 이미지 행렬을 복사\n",
        "        labels[idx]=0   # 가위 : 0\n",
        "        idx=idx+1\n",
        "\n",
        "    for file in glob.iglob(img_path+'/rock-samples/*.jpg'):\n",
        "        img = np.array(Image.open(file),dtype=np.int32)\n",
        "        imgs[idx,:,:,:]=img    # 데이터 영역에 이미지 행렬을 복사\n",
        "        labels[idx]=1   # 바위 : 1\n",
        "        idx=idx+1  \n",
        "    \n",
        "    for file in glob.iglob(img_path+'/paper-samples/*.jpg'):\n",
        "        img = np.array(Image.open(file),dtype=np.int32)\n",
        "        imgs[idx,:,:,:]=img    # 데이터 영역에 이미지 행렬을 복사\n",
        "        labels[idx]=2   # 보 : 2\n",
        "        idx=idx+1\n",
        "        \n",
        "    print(\"학습데이터(y_tarin)의 이미지 개수는\", idx,\"입니다.\")\n",
        "    return imgs, labels\n",
        "\n",
        "image_dir_path = \"/content/drive/MyDrive/Aiffel/Exploration/rock_paper_scissors/testdataset\"\n",
        "(y_train, y_test)=load_data(image_dir_path)\n",
        "y_train_norm = y_train/255.0   # 입력은 0~1 사이의 값으로 정규화\n",
        "\n",
        "print(\"y_train shape: {}\".format(y_train.shape))\n",
        "print(\"y_test shape: {}\".format(y_test.shape))"
      ],
      "execution_count": null,
      "outputs": [
        {
          "output_type": "stream",
          "text": [
            "학습데이터(y_tarin)의 이미지 개수는 300 입니다.\n",
            "y_train shape: (300, 28, 28, 3)\n",
            "y_test shape: (300,)\n"
          ],
          "name": "stdout"
        }
      ]
    },
    {
      "cell_type": "code",
      "metadata": {
        "colab": {
          "base_uri": "https://localhost:8080/"
        },
        "id": "9Yflex0RpX3X",
        "outputId": "8bdddfc3-3efe-4c70-f566-b32038e6dec4"
      },
      "source": [
        "img_path = \"/content/drive/MyDrive/Aiffel/Exploration/rock_paper_scissors/testdataset/rock-samples\"\n",
        "resize_images(img_path)"
      ],
      "execution_count": null,
      "outputs": [
        {
          "output_type": "stream",
          "text": [
            "100 images to be resized.\n",
            "100  images resized.\n"
          ],
          "name": "stdout"
        }
      ]
    },
    {
      "cell_type": "code",
      "metadata": {
        "colab": {
          "base_uri": "https://localhost:8080/"
        },
        "id": "GMB8XhJnppSk",
        "outputId": "996d5bd7-df8a-40c6-aaf3-32cb1254339a"
      },
      "source": [
        "img_path = \"/content/drive/MyDrive/Aiffel/Exploration/rock_paper_scissors/testdataset/scissors-samples\"\n",
        "resize_images(img_path)"
      ],
      "execution_count": null,
      "outputs": [
        {
          "output_type": "stream",
          "text": [
            "100 images to be resized.\n",
            "100  images resized.\n"
          ],
          "name": "stdout"
        }
      ]
    },
    {
      "cell_type": "code",
      "metadata": {
        "colab": {
          "base_uri": "https://localhost:8080/"
        },
        "id": "ys3o-0yhp_L4",
        "outputId": "e2bc9ded-c418-4036-d3c6-d3946006a9e1"
      },
      "source": [
        "img_path = \"/content/drive/MyDrive/Aiffel/Exploration/rock_paper_scissors/testdataset/paper-samples\"\n",
        "resize_images(img_path)"
      ],
      "execution_count": null,
      "outputs": [
        {
          "output_type": "stream",
          "text": [
            "100 images to be resized.\n",
            "100  images resized.\n"
          ],
          "name": "stdout"
        }
      ]
    },
    {
      "cell_type": "code",
      "metadata": {
        "colab": {
          "base_uri": "https://localhost:8080/"
        },
        "id": "6-kkNtwBtq0e",
        "outputId": "ec2098b8-6a33-444d-f934-4e81a98f3b40"
      },
      "source": [
        "test_loss, test_accuracy = model.evaluate(x_test, y_test, verbose=2)\n",
        "print(\"test_loss: {} \".format(test_loss))\n",
        "print(\"test_accuracy: {}\".format(test_accuracy))"
      ],
      "execution_count": null,
      "outputs": [
        {
          "output_type": "stream",
          "text": [
            "10/10 - 0s - loss: 8.4407 - accuracy: 0.2000\n",
            "test_loss: 8.440749168395996 \n",
            "test_accuracy: 0.20000000298023224\n"
          ],
          "name": "stdout"
        }
      ]
    },
    {
      "cell_type": "code",
      "metadata": {
        "id": "L7EgKaXFuCQZ"
      },
      "source": [
        ""
      ],
      "execution_count": null,
      "outputs": []
    },
    {
      "cell_type": "code",
      "metadata": {
        "id": "ncsx53VetbQO"
      },
      "source": [
        ""
      ],
      "execution_count": null,
      "outputs": []
    },
    {
      "cell_type": "code",
      "metadata": {
        "id": "j8xbja_ytbSu"
      },
      "source": [
        ""
      ],
      "execution_count": null,
      "outputs": []
    },
    {
      "cell_type": "code",
      "metadata": {
        "id": "jW_h0Jrzrkxs"
      },
      "source": [
        ""
      ],
      "execution_count": null,
      "outputs": []
    }
  ]
}