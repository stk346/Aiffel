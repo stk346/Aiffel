{
 "cells": [
  {
   "cell_type": "markdown",
   "id": "sharp-mongolia",
   "metadata": {},
   "source": [
    "matplotlib 라이브러리는 기본 폰트로 한국어를 지원하지 않습니다. 따라서 올바른 Attention Map을 확인하기 위해 폰트를 변경해 줍니다."
   ]
  },
  {
   "cell_type": "code",
   "execution_count": 1,
   "id": "distributed-borough",
   "metadata": {},
   "outputs": [],
   "source": [
    "import matplotlib as mpl\n",
    "import matplotlib.pyplot as plt\n",
    "import matplotlib.font_manager as fm\n",
    "\n",
    "%config InlineBackend.figure_format = 'retina'\n",
    " \n",
    "fontpath = '/usr/share/fonts/truetype/nanum/NanumBarunGothic.ttf'\n",
    "font = fm.FontProperties(fname=fontpath, size=9)\n",
    "plt.rc('font', family='NanumBarunGothic') \n",
    "mpl.font_manager._rebuild()"
   ]
  },
  {
   "cell_type": "markdown",
   "id": "noble-shadow",
   "metadata": {},
   "source": [
    "## 내부 모듈 구현하기\n",
    "이번 코스는 트랜스포머를 완성하는 데에 필요한 모듈들을 하나하나 만든 후, 조립하여 완성하는 방식으로 진행할 겁니다.  \n",
    "Tensor로 변환한 입력 데이터가 주어졌다고 가정하고 흐름을 생각해 봅시다. 최초의 텍스트 입력 데이터는 [ batch_size x length ] 의 형태를 가지고 있겠죠? 번역이 끝나고 난 최종 출력 데이터는 [ batch_size x length x vocab_size ]의 형태를 가지게 됩니다. 번역 문제는 결국 매 스텝마다 vocab_size 만큼의 클래스 개수 중에 적당한 단어를 선택하는 작업을 length만큼 반복하는 것이니까요. 모델 구성하는 과정에서 레이어를 통과할 때마다 텐서의 shape가 어떻게 바뀌는지를 눈여겨봅시다."
   ]
  },
  {
   "cell_type": "markdown",
   "id": "thrown-karaoke",
   "metadata": {},
   "source": [
    "1. 입력 데이터 > [ batch_size x length ]  \n",
    "2. Source & Target Embeddung > [batch_size x length x d_emb]  \n",
    "3. **Positional Encoding** 강의 노드에서 구현했듯이 2번 결과에 더해지므로 shape 변화는 없습니다.  \n",
    "4. **Multi-Head Attention** 아래와 같이 여러 개의 서브 모듈들이 존재합니다.  \n",
    "    1) **Split Heads** > [batch_size x length x heads x (d_emb / n_heads)]\n",
    "    2) **Masking for Masked Attention**\n",
    "    3) **Scaled Dot Product Attention**\n",
    "    4) **Combine Heads** > [batch_size x length x d_emb]\n",
    "5. Residual Connection\n",
    "6. Layer Normalization\n",
    "7. **Position-wise-Feed-Forward Netword** > [batch_size x length x d_ft]\n",
    "8. Output Linear Layer > [batch_size x length x vocab_size]"
   ]
  },
  {
   "cell_type": "markdown",
   "id": "public-visibility",
   "metadata": {},
   "source": [
    " 굵게 표시된 모듈을 제외하면 나머지는 텐서플로우 내부에 이미 구현체가 포함되어 있어서 간단하게 사용할 수 있습니다."
   ]
  },
  {
   "cell_type": "code",
   "execution_count": 3,
   "id": "square-northeast",
   "metadata": {},
   "outputs": [
    {
     "name": "stdout",
     "output_type": "stream",
     "text": [
      "2.4.1\n"
     ]
    }
   ],
   "source": [
    "# 라이브러리 import\n",
    "import numpy as np\n",
    "import tensorflow as tf\n",
    "import matplotlib.pyplot as plt\n",
    "\n",
    "import re\n",
    "import os\n",
    "import io\n",
    "import time\n",
    "import random\n",
    "\n",
    "import seaborn # Attention 시각화를 위해 필요\n",
    "\n",
    "print(tf.__version__)"
   ]
  },
  {
   "cell_type": "markdown",
   "id": "electrical-elimination",
   "metadata": {},
   "source": [
    "### Positional Encoding"
   ]
  },
  {
   "cell_type": "markdown",
   "id": "cultural-retailer",
   "metadata": {},
   "source": [
    "수식  \n",
    "$PE(pos,2i) = sin(pos/10000^{2i/{d_{model}}})$  \n",
    "$PE(pos,2i+1) = cos(pos/10000^{2i/{d_{model}}})$"
   ]
  },
  {
   "cell_type": "code",
   "execution_count": 5,
   "id": "dominant-ordering",
   "metadata": {},
   "outputs": [],
   "source": [
    "def positional_encoding(pos, d_model):\n",
    "    def cal_angle(position, i):\n",
    "        return position / np.power(10000, int(i) / d_model)\n",
    "    \n",
    "    def get_posi_angle_vec(position):\n",
    "        return [cal_angle(position, i) for i in range(d_model)]\n",
    "    \n",
    "    sinusoid_table = np.array([get_posi_angle_vec(pos_i) for pos_i in range(pos)])\n",
    "    sinusoid_table[:, 0::2] = np.sin(sinusoid_table[:, 0::2]) # 짝수 번째 자리수 position\n",
    "    sinusoid_table[:, 1::2] = np.cos(sinusoid_table[:, 1::2]) # 홀수 번째 자리수 position\n",
    "    return sinusoid_table"
   ]
  },
  {
   "cell_type": "markdown",
   "id": "grateful-light",
   "metadata": {},
   "source": [
    "### Multi-Head Attention\n",
    "Multi-Head Attention은 여러 개의 서브 모듈을 결합하여 완성됩니다.  \n",
    "* Embedding된 입력을 Head 수로 분할하는 split_heads()  \n",
    "* 분할된 입력으로부터 Attention 값을 구하는 scaled_dot_product_attention()  \n",
    "* 연산이 종료되고 분할된 Head를 다시 하나로 결합시켜주는 combine_heads()  \n",
    "  \n",
    "MultiHeadAttention 클래스를 정의하여 모두 포함시켜 주겠습니다."
   ]
  },
  {
   "cell_type": "markdown",
   "id": "hindu-victory",
   "metadata": {},
   "source": [
    "방금 설명에서는 Masking이 빠져있는데, 마스크의 형태를 결정하는 것은 모델 외부의 훈련 데이터입니다. 따라서 이를 생성하는 함수는 MultiHeadAttention 외부에 정의되어야 합니다. 하지만 생성된 마스크를 처리할 수 있도록  \n",
    "**scaled_dot_product_attention() 함수 내부에 if mask is not None: scaled_qk += (mask * -1e9) 코드를 포함시켜 주겠습니다.**"
   ]
  },
  {
   "cell_type": "markdown",
   "id": "statewide-charleston",
   "metadata": {},
   "source": [
    "수식  \n",
    "$Attention(Q, K, V) = softmax(\\frac{QK^T}{\\sqrt{d_k}})*V$"
   ]
  },
  {
   "cell_type": "code",
   "execution_count": 13,
   "id": "animal-wallace",
   "metadata": {},
   "outputs": [],
   "source": [
    "class MultiHeadAttention(tf.keras.layers.Layer):\n",
    "    def __init__(self, d_model, num_heads):\n",
    "        super(MultiHeadAttention, self).__init__()\n",
    "        self.num_heads = num_heads\n",
    "        self.d_model = d_model\n",
    "        \n",
    "        self.depth = d_model // self.num_heads\n",
    "        \n",
    "        self.W_q = tf.keras.layers.Dense(d_model) # Linear Layer\n",
    "        self.W_k = tf.keras.layers.Dense(d_model)\n",
    "        self.W_v = tf.keras.layers.Dense(d_model)\n",
    "        \n",
    "        self.linear = tf.keras.layers.Dense(d_model)\n",
    "        \n",
    "    def scaled_dot_product_attention(self, Q, K, V, mask):\n",
    "        d_k = tf.cast(K.shape[-1].tf.float32) # tf.cast(): tensor로 변환\n",
    "        \n",
    "        \"\"\"\n",
    "        Scaled QK 값 구하기\n",
    "        \"\"\"\n",
    "        QK = tf.matmul(Q, K, transpose_b=True) ## tf.matmul(a, b, transpose_a, transpose_b) \n",
    "        \n",
    "        scaled_qk = QK / tf.math.sqrt(d_k)\n",
    "        \n",
    "        if mask is not None: scaled_qk += (mask * -1e9)\n",
    "            \n",
    "        \"\"\"\n",
    "        1. Attention Weights 값 구하기 -> attentions\n",
    "        2. Attention 값을 V에 곱하기 -> out\n",
    "        \"\"\"\n",
    "        attentions = tf.nn.softmax(scaled_qk, axis=-1) # tf.nn: 원시 신경망(NN) 작업을 위한 래퍼\n",
    "        out = tf.matmul(attentions, V)\n",
    "        \n",
    "        return out, attentions\n",
    "    \n",
    "    def split_heads(self, x):\n",
    "        \"\"\"\n",
    "        Embedding을 head의 수로 분할하는 함수\n",
    "        \n",
    "        x: [batch x length x emb]\n",
    "        return: [batch x length x heads x self.depth]\n",
    "        \"\"\"\n",
    "        batch_size = x.shape[0]\n",
    "        split_x = tf.reshape(x, (batch_size, -1, self.num_heads, self.depth))\n",
    "        split_x = tf.transpose(split_x, perm=[0, 2, 1, 3]) # perm은 3차원 이상의 행렬을 뒤집을 때 유용하다.\n",
    "        \n",
    "        return split_x\n",
    "    \n",
    "    def combine_heads(self, x):\n",
    "        \"\"\"\n",
    "        분할된 Embedding을 하나로 결합하는 함수\n",
    "        \n",
    "        x: [batch x length x heads x self.depth]\n",
    "        return [batch x length x emb]\n",
    "        \"\"\"\n",
    "        batch_size = x.shape[0]\n",
    "        combined_x = tf.transpose(x, perm=[0, 2, 1, 3])\n",
    "        combined_x = tf.reshape(combined_x, (batch_size, -1, self.d_model))\n",
    "        \n",
    "        return combined_x\n",
    "    \n",
    "    def call(self, Q, K, V, mask):\n",
    "        \"\"\"\n",
    "        아래 순서에 따라 소스를 작성하세요.\n",
    "        \n",
    "        Step1: Linear_in(Q, K, V) -> WQ, WK, WV\n",
    "        Step2: Split Heads(WQ, WK, WV) -> WQ_split, WK_split, WV_split\n",
    "        Step3: Scaled Dot Product Attention(WQ_split, WK_split, WV_split) -> out, attention_weights\n",
    "        Step4: Combine Heads(out) -> out\n",
    "        Step5: Linear_out(out) -> out\n",
    "        \"\"\"\n",
    "        WQ = self.W_q(Q) # Demse layer 만들기\n",
    "        WK = self.W_k(K)\n",
    "        WV = self.W_v(V)\n",
    "        \n",
    "        WQ_splits = self.split_heads(WQ) # linear layer 통과\n",
    "        WK_splits = self.split_heads(WK)\n",
    "        WV_splits = self.split_heads(WV)\n",
    "        \n",
    "        out, attention_weights = self.scaled_dot_product_attention(  # scaled-dot-product 연산\n",
    "            WQ_splits, WK_split, WV_splits, mask)\n",
    "        \n",
    "        out = self.combine_heads(out) # 다시 모아준 이후\n",
    "        out = self.linear(out) # linear 레이어 통과해 적절하게 분배\n",
    "        \n",
    "        return out, attention_weights\n",
    "    "
   ]
  },
  {
   "cell_type": "markdown",
   "id": "noble-bruce",
   "metadata": {},
   "source": [
    "이론을 조금 이해한 상태에서 봤는데 이해가 잘 안된다. 행렬의 shape도 잘 모르겠고 perm에서 차원이 어떻게 변형되는지 등 세부적인 것들이 햇갈린다. 노드를 끝까지 본 이후에 다시 공부해봐야겠다."
   ]
  },
  {
   "cell_type": "markdown",
   "id": "further-yahoo",
   "metadata": {},
   "source": [
    "### Position-wise Feed-Forward Network"
   ]
  },
  {
   "cell_type": "code",
   "execution_count": 14,
   "id": "outstanding-ready",
   "metadata": {},
   "outputs": [],
   "source": [
    "class PoswiseFeedForwardNet(tf.keras.layers.Layer):\n",
    "    def __init__(self, d_model, d_ff):\n",
    "        super(PoswiseFeedForwardNet, self).__init__() # 객체에 할당하면서 초기화, 오버라이드 될 수 있게 만들어줌. f1\n",
    "        self.w_1 = tf.keras.layers.Dense(d_ff, activation='relu') # 활성화함수 통과. f2.\n",
    "        self.w_2 = tf.keras.layers.Dense(d_model) # linear layer 통과. f3\n",
    "        \n",
    "    def call(self, x):\n",
    "        out = self.w_1(x)\n",
    "        out = self.w_2(out)\n",
    "        \n",
    "        return out"
   ]
  },
  {
   "cell_type": "markdown",
   "id": "flexible-percentage",
   "metadata": {},
   "source": [
    "d_ff 는 논문의 설명대로라면 2048 일 거고, d_model 은 512 겠죠? [ batch x length x d_model ] 의 입력을 받아 w_1 이 2048차원으로 매핑하고 활성함수 ReLU를 적용한 후, 다시 w_2 를 통해 512차원으로 되돌리는 과정까지 수행했습니다.  \n",
    "* imput = 512, 은닉층 = 4, output layer = 512인것 같다."
   ]
  },
  {
   "cell_type": "markdown",
   "id": "intense-development",
   "metadata": {},
   "source": [
    "## 모듈 조립하기\n",
    "이 모든 모듈들을 가지고 트랜스포머를 완성할 수 있는데, 정확하게는 트랜스포머의 Encoder 한 층과 Decoder 한 층을 각각 완성할 수 있습니다!  \n",
    "transformer 논문의 층은 총 6개입니다. 측, 레이어 수를 원하는 만큼 쌓을 수 있어야 하죠. 이런 실험이 가능하게 하려면 모델이 동적으로 완성될 수 있게끔 해야 합니다.  \n",
    "방법은 단순합니다, 마치 텐서플로우의 Dense 레이어를 사용하듯이 EncoderLayer, DecoderLayer를 쓸 수 있게 tf.keras.layers.Layer 클래스를 상속받아 레이어 클래스로 정의해 주면 됩니다. MultiHeadAttention 이 그렇게 정의된 레이어입니다."
   ]
  },
  {
   "cell_type": "markdown",
   "id": "great-discipline",
   "metadata": {},
   "source": [
    "N = 10  \n",
    "  \n",
    "**10개의 Linear Layer를 한 방에!**  \n",
    "linear_layers = [tf.keras.layers.Dense(30) for _ in range(N)]  \n",
    "  \n",
    "**10개의 Encoder Layer도 한 방에!**  \n",
    "enc_layers = [TransformerEncoderLayer(30) for _ in range(N)]    \n",
    "  \n",
    "이런 동적인 방식이 낯설다면 지금부터라도 익숙해지시길 강력하게 권장합니다."
   ]
  },
  {
   "cell_type": "markdown",
   "id": "attractive-drain",
   "metadata": {},
   "source": [
    "### Encoder 레이어 구현하기"
   ]
  },
  {
   "cell_type": "code",
   "execution_count": 16,
   "id": "offshore-headquarters",
   "metadata": {},
   "outputs": [],
   "source": [
    "class EncoderLayer(tf.keras.layers.Layer):\n",
    "    def __init__(self, d_model, n_heads, d_ff, dropout):\n",
    "        super(EncoderLayer, self).__init__()\n",
    "        \n",
    "        self.enc_self_attn = MuntiHeadAttention(d_model, n_heads) # MuntiHeadAttention class 상속\n",
    "        self.ffn = PosWiseFeedForwardNet(d_model, d_ff) # PoswiseFeedForwardNet class 상속\n",
    "        \n",
    "        self.norm_1 = tf.keras.layers.LayerNormalization(epsilon = 1e-6) # 인코더는 norm 레이어가 2개\n",
    "        self.norm_2 = tf.keras.layers.LayerNormalization(epsilon = 1e-6)\n",
    "        \n",
    "        self.dropout = tf.keras.layers.Dropout(dropout)\n",
    "        \n",
    "    def call(self, x, mask):\n",
    "        \n",
    "        \"\"\"\n",
    "        Multi-Head Attention\n",
    "        \"\"\"\n",
    "        residual = x # 잔차 할당\n",
    "        out = self.norm_1(x) # 첫 번째 norm layer\n",
    "        out, enc_attn = self.enc_self_attn(out, out, out, mask) # Multi-Head에 input 3개\n",
    "        out = self.dropout(out) # ?\n",
    "        out += residual # 잔차 더해주기\n",
    "        \n",
    "        \"\"\"\n",
    "        Position-Wise Feed Forward Network\n",
    "        \"\"\"\n",
    "        residual = out # 잔차 할당\n",
    "        out = self.norm_2(out) # 2번째 norm layer\n",
    "        out = self.ffn(out) # Feed Forward 통과\n",
    "        out = self.dropout(out) # ?\n",
    "        out += residual # 잔차 더해주기\n",
    "        \n",
    "        return out, enc_attn # decoder Multi-Head Attention으로 들어가는 2개 input 산출"
   ]
  },
  {
   "cell_type": "markdown",
   "id": "minor-attitude",
   "metadata": {},
   "source": [
    "Transformer의 구현은 정말 많은데, 그중에서 Normalization Layer의 위치에 대한 논의가 종종 나온답니다. 실제 논문에서는 [Input] - [Module] - [Residual] - [Norm] (Module = MHA, FFN)으로 표현되어 있지만 정작 Official 구현인 구글의 Tensor2Tensor 에서는 [Input] - [Norm] - [Module] - [Residual] 방식을 사용했어요. \n",
    "  \n",
    "경험에 따르면 레이어가 많아질수록 후자가 약간 더 좋은 성능을 보였기에 필자는 논문 대신 Official 구현을 따르길 권장합니다!"
   ]
  },
  {
   "cell_type": "code",
   "execution_count": 17,
   "id": "appointed-petroleum",
   "metadata": {},
   "outputs": [],
   "source": [
    "class DecoderLayer(tf.keras.layers.Layer):\n",
    "    def __init__(self, d_model, num_heads, d_ff, dropout):\n",
    "        super(DecoderLayer, self).__init__()\n",
    "        \n",
    "        self.dec_self_attn = MultiHeadAttention(d_model, n_heads) # MuntiHeadAttention class 상속\n",
    "        self.enc_dec_atten = MultiHeadAttention(d_model, n_heads) # 중간 단계에 들어가는 Attention\n",
    "        \n",
    "        self.ffn = PosWiseFeedForwardNet(d_model, d_ff) # PoswiseFeedForwardNet class 상속\n",
    "        \n",
    "        self.norm_1 = tf.keras.layers.LayerNormalization(epsilon = 1e-6) # 디코더는 norm 레이어가 3개\n",
    "        self.norm_2 = tf.keras.layers.LayerNormalization(epsilon = 1e-6)\n",
    "        self.norm_3 = tf.keras.layers.LayerNormalization(epsilon = 1e-6)\n",
    "        \n",
    "        self.dropout = tf.keras.layers.Dropout(dropout)\n",
    "        \n",
    "        def call(self, x, enc_out, causality_mask, padding_mask):\n",
    "            \"\"\"\n",
    "            Masked-Multi-Head Attention\n",
    "            \"\"\"\n",
    "            residual = x # 잔차 할당\n",
    "            out = self.norm_1(x) # 첫 번째 norm layer\n",
    "            out, dec_attn = self.dec_self_attn(out, out, out, causality_mask)\n",
    "            self.dropout(out)\n",
    "            out += residual # 잔차 더해주기\n",
    "            \n",
    "            \"\"\"\n",
    "            Multi-Head Attention\n",
    "            \"\"\"\n",
    "            residual = out\n",
    "            out = self.norm_2(out)\n",
    "            out, dec_enc_attn = self.enc_dec_attn(out, enc_out, enc_out, padding_mask) # 디코더 out, 인코더 out2개\n",
    "            out - self.dropout(out)\n",
    "            out += residual\n",
    "            \n",
    "            \"\"\"\n",
    "            Position-Wise Feed Forward Network\n",
    "            \"\"\"\n",
    "            residual = out\n",
    "            out = self.norm_3(out)\n",
    "            out = self.ffn(out)\n",
    "            out = self.dropout(out)\n",
    "            out += residual\n",
    "            \n",
    "            return out, dec_attn, dec_enc_attn"
   ]
  },
  {
   "cell_type": "code",
   "execution_count": 18,
   "id": "alone-illness",
   "metadata": {},
   "outputs": [],
   "source": [
    "class Encoder(tf.keras.Model):\n",
    "    def __init__(self,  # 상속시마다 초기화 되는 파라미터\n",
    "                n_layers,\n",
    "                d_model,\n",
    "                n_heads,\n",
    "                d_ff,\n",
    "                dropout):\n",
    "        super(Encoder, self).__init__() # 자기 자신을 오버라이딩?\n",
    "        self.n_layers = n_layers\n",
    "        self.enc_layers = [EncoderLayer(d_model, n_heads, d_ff, dropout)\n",
    "                          for _ in range(n_layers)] # EncoderLayer를 n_layer만큼 반복?\n",
    "        \n",
    "        def call(self, x, mask):\n",
    "            out = x\n",
    "            \n",
    "            enc_attns = list()\n",
    "            for i in range(self.n_layers):\n",
    "                out, enc_attn = self.enc_layers[i](out, mask)\n",
    "                enc_attns.append(enc_attn)\n",
    "                \n",
    "            return out, enc_attns # out은 누적되고 enc_attn은 list에 기록되는 것 같다."
   ]
  },
  {
   "cell_type": "code",
   "execution_count": 20,
   "id": "technical-eugene",
   "metadata": {},
   "outputs": [],
   "source": [
    "class Decoder(tf.keras.Model):\n",
    "    def __init__(self,\n",
    "                n_layers,\n",
    "                d_model,\n",
    "                n_heads,\n",
    "                d_ff,\n",
    "                dropout):\n",
    "        super(Decoder, self).__init__()\n",
    "        self.n_layers = n_layers\n",
    "        self.dec_layers = [DecoderLayer(d_model, n_heads, d_ff, dropout)\n",
    "                          for _ in range(n_layers)]\n",
    "        \n",
    "    def call(self, x, enc_out, causality_mask, padding_mask):\n",
    "        out = x\n",
    "        \n",
    "        dec_attns = list()\n",
    "        dec_enc_attns = list()\n",
    "        for i in range(self.n_layers):\n",
    "            out, dec_attn, dec_enc_attn = \\\n",
    "            self.dec_layers[i](out, enc_out, causality_mask, padding_mask)\n",
    "            \n",
    "            dec_attns.append(dec_attn)\n",
    "            dec_enc_attns.append(dec_enc_attn)\n",
    "            \n",
    "        return out, dec_attens, dec_enc_attens"
   ]
  },
  {
   "cell_type": "markdown",
   "id": "through-contamination",
   "metadata": {},
   "source": [
    "### Transformer 완성하기\n",
    "정의된 Encoder 와 Decoder 를 가지고 최종적으로 트랜스포머를 완성합니다.  \n",
    "  \n",
    "1. shared 변수를 매개변수로 받아 True 일 경우 Decoder Embedding과 출력층 Linear의 Weight를 공유할 수 있게 하세요! Weight가 공유될 경우 Embedding 값에 sqrt(d_model)을 곱해줘야 하는 것, 잊지 않으셨죠? (참고: tf.keras.layers.Layer.set_weights())  \n",
    "  \n",
    "2. 우리가 정의한 positional_encoding 의 반환값 형태는 [ Length x d_model ] 인데, 이를 더해 줄 Embedding 값 형태가 [ Batch x Length x d_model ] 이라서 연산이 불가능합니다. 연산이 가능하도록 수정하세요! (참고: tf.expand_dims(), np.newaxis)"
   ]
  },
  {
   "cell_type": "code",
   "execution_count": 23,
   "id": "purple-oakland",
   "metadata": {},
   "outputs": [],
   "source": [
    "class Transformer(tf.keras.Model):\n",
    "    def __init__(self,\n",
    "                n_layers,\n",
    "                d_model,\n",
    "                n_heads,\n",
    "                d_ff,\n",
    "                src_vocab_size,\n",
    "                tgt_vocab_size,\n",
    "                pos_len,\n",
    "                dropout=0.2,\n",
    "                shared=True):\n",
    "        super(Transformer, self).__init__()\n",
    "        self.d_model = tf.cast(d_model, tf.float32)\n",
    "        \n",
    "        \"\"\"\n",
    "        1. Embedding Layer 정의\n",
    "        2. Positional Encoding 정의\n",
    "        3. Encoder / Decoder 정의\n",
    "        4. Output Linear 정의\n",
    "        5. Shared Weights\n",
    "        6. Dropout 정의\n",
    "        \"\"\"\n",
    "        self.enc_emb = tf.keras.layers.Embedding(src_vocab_size, d_model)\n",
    "        self.dec_emb = tf.keras.layers.Embedding(tgt_vocab_size, d_model)\n",
    "        \n",
    "        self.pos_encoding = positional_encoding(pos_len, d_model)\n",
    "        self.dropout = tf.keras.layers.Dropout(dropout)\n",
    "        \n",
    "        self.encoder = Encoder(n_layers, d_model, n_heads, d_ff, dropout)\n",
    "        self.decoder = Decoder(n_layers, d_model, n_heads, d_ff, dropout)\n",
    "        \n",
    "        self.fc = tf.keras.layers.Dense(tgt_vocab_size)\n",
    "        \n",
    "        self.shared = shared\n",
    "        \n",
    "        if shared: self.fc.set_weights(tf.transpose(self.dec_emb.weights))\n",
    "        \n",
    "    def embadding(self, emb, x):\n",
    "        \"\"\"\n",
    "        입력된 정수 배열을 Embedding + Pos Encoding + Shared일 경우 Scaling 작업 포함\n",
    "        \n",
    "        x: [batch x length]\n",
    "        return: [batch x length x emb]\n",
    "        \"\"\"\n",
    "        seq_len = x.shape[1] # (Pos * d_model) 이니까\n",
    "        out = emb(x)\n",
    "        \n",
    "        if self.shared: out *= tf.math.sqrt(self.d_model)\n",
    "            \n",
    "        out += self.pos_encoding[np.newaxis, ...][:, :seq_len, :] #  [ Length x d_model ] ->  [ Batch x Length x d_model ] 형태로 변환해줌\n",
    "        out = self.dropout(out)\n",
    "        \n",
    "        return out\n",
    "    \n",
    "    def call(self, enc_in, dec_in, enc_mask, causality_mask, dec_mask):\n",
    "        \"\"\"\n",
    "        아래 순서에 따라 소스를 작성하세요\n",
    "        \n",
    "        Step1: Embedding(enc_in, dec_in) -> enc_in, dec_in\n",
    "        Step2: Encoder(enc_in, enc_mask) -> enc_out, enc_attns\n",
    "        Step3: Decoder(dec_in, enc_out, mask) -> dec_out, dec_attns, dec_enc_attns\n",
    "        Step4: Out Linear(dec_out) -> logits\n",
    "        \"\"\"\n",
    "        enc_in = self.embedding(self, enc_emb, enc_in)\n",
    "        dec_in = self.embedding(self, dec_emb, dec_in)\n",
    "        \n",
    "        enc_out, enc_attns = self.encoder(enc_in, enc_mask)\n",
    "        \n",
    "        dec_out, dec_attns, dec_enc_attns = self.decoder(dec_in, enc_out, causality_mask, dec_mask)\n",
    "        \n",
    "        logits = self.fc(dec_out)\n",
    "        \n",
    "        return logits, enc_attns, dec_attns, dec_enc_attns"
   ]
  },
  {
   "cell_type": "markdown",
   "id": "another-honolulu",
   "metadata": {},
   "source": [
    "* shared가 정확히 뭘하는건지 모르겠다."
   ]
  },
  {
   "cell_type": "markdown",
   "id": "signed-azerbaijan",
   "metadata": {},
   "source": [
    "## 모델 밖의 조력자들\n",
    "Masking을 살펴볼 시간이 다가왔습니다. 그리고 트랜스포머의 Learning Rate가 일반적이지 않다는 것도 기억하고 계실 거예요! 지금부터는 모델 외적인 부분을 정의해 주도록 하겠습니다. 이번 스텝에서는 데이터의 특성이나 학습 과정에 따라 달라지는 부분을 다루게 됩니다.  \n",
    "  \n",
    "먼저 Masking입니다. 이전 노드에서 배운 generate_causality_mask() 를 그대로 사용하면 되는데, 약간 추가할 내용이 있습니다."
   ]
  },
  {
   "cell_type": "code",
   "execution_count": 74,
   "id": "talented-behalf",
   "metadata": {
    "scrolled": false
   },
   "outputs": [
    {
     "name": "stdout",
     "output_type": "stream",
     "text": [
      "(16, 1, 1, 25) (35, 25)\n",
      "(16, 1, 35, 35) (35, 35)\n"
     ]
    }
   ],
   "source": [
    "enc_mask, dec_enc_mask, dec_mask = generate_masks(sample_src, sample_tgt)"
   ]
  },
  {
   "cell_type": "code",
   "execution_count": 73,
   "id": "variable-power",
   "metadata": {},
   "outputs": [],
   "source": [
    "import numpy as np\n",
    "import tensorflow as tf\n",
    "\n",
    "def generate_padding_mask(seq):\n",
    "    seq = tf.cast(tf.math.equal(seq, 0), tf.float32)\n",
    "    return seq[:, tf.newaxis, tf.newaxis, :]\n",
    "\n",
    "def generate_causality_mask(src_len, tgt_len):\n",
    "    mask = 1 - np.cumsum(np.eye(src_len, tgt_len), 0) \n",
    "    return tf.cast(mask, tf.float32)\n",
    "\n",
    "def generate_masks(src,tgt):\n",
    "    enc_mask = generate_padding_mask(src)\n",
    "    dec_mask = generate_padding_mask(tgt)\n",
    "    \n",
    "    dec_enc_causality_mask = generate_causality_mask(tgt.shape[1], src.shape[1])\n",
    "    dec_enc_mask = tf.maximum(enc_mask, dec_enc_causality_mask) \n",
    "    print(enc_mask.shape, dec_enc_causality_mask.shape)\n",
    "    \n",
    "    dec_causality_mask = generate_causality_mask(tgt.shape[1], tgt.shape[1])\n",
    "    dec_mask = tf.maximum(dec_mask, dec_causality_mask)\n",
    "    print(dec_mask.shape, dec_causality_mask.shape)\n",
    "    \n",
    "    return enc_mask, dec_enc_mask, dec_mask"
   ]
  },
  {
   "cell_type": "markdown",
   "id": "flexible-waste",
   "metadata": {},
   "source": [
    "generate_padding_mask() 는 Attention을 할 때에 <PAD> 토큰에도 Attention을 주는 것을 방지해 주는 역할을 합니다. 일전에 Sequence-to-Sequence 모델에서 Loss에 대한 Masking을 해줄 때도 위와 같은 방법으로 진행했죠? 한 배치의 데이터에서 <PAD> 토큰으로 이뤄진 부분을 모두 찾아내는 마스크를 생성합니다. 눈으로 직접 확인해보죠!"
   ]
  },
  {
   "cell_type": "code",
   "execution_count": 90,
   "id": "dynamic-aircraft",
   "metadata": {},
   "outputs": [],
   "source": [
    "import numpy as np\n",
    "import tensorflow as tf\n",
    "\n",
    "def generate_padding_mask(seq):\n",
    "    seq = tf.cast(tf.math.equal(seq, 0), tf.float32)\n",
    "    return seq[:, tf.newaxis, tf.newaxis, :]\n",
    "\n",
    "def generate_causality_mask(src_len, tgt_len):\n",
    "    mask = 1 - np.cumsum(np.eye(src_len, tgt_len), 0)\n",
    "    return tf.cast(mask, tf.float32)\n",
    "\n",
    "def generate_masks(src, tgt):\n",
    "    enc_mask = generate_padding_mask(src)\n",
    "    dec_mask = generate_padding_mask(tgt)\n",
    "\n",
    "    dec_enc_causality_mask = generate_causality_mask(tgt.shape[1], src.shape[1])\n",
    "    dec_enc_mask = tf.maximum(enc_mask, dec_enc_causality_mask)\n",
    "    print(enc_mask.shape, dec_enc_causality_mask.shape)\n",
    "\n",
    "    dec_causality_mask = generate_causality_mask(tgt.shape[1], tgt.shape[1])\n",
    "    dec_mask = tf.maximum(dec_mask, dec_causality_mask)\n",
    "    print(dec_mask.shape, dec_causality_mask.shape)\n",
    "\n",
    "    return enc_mask, dec_enc_mask, dec_mask"
   ]
  },
  {
   "cell_type": "code",
   "execution_count": 96,
   "id": "going-agenda",
   "metadata": {},
   "outputs": [
    {
     "name": "stdout",
     "output_type": "stream",
     "text": [
      "(16, 1, 1, 25) (35, 25)\n",
      "(16, 1, 35, 35) (35, 35)\n"
     ]
    },
    {
     "data": {
      "image/png": "[encoded data removed]",
      "text/plain": [
       "<Figure size 504x504 with 3 Axes>"
      ]
     },
     "metadata": {
      "image/png": {
       "height": 208,
       "width": 426
      },
      "needs_background": "light"
     },
     "output_type": "display_data"
    },
    {
     "name": "stdout",
     "output_type": "stream",
     "text": [
      "(16, 1, 1, 25)\n",
      "(16, 1, 35, 25)\n",
      "(16, 1, 35, 35)\n"
     ]
    }
   ],
   "source": [
    "import matplotlib.pyplot as plt\n",
    "\n",
    "batch, length = 16, 20\n",
    "src_padding = 5\n",
    "tgt_padding = 15\n",
    "\n",
    "src_pad = tf.zeros(shape=(batch, src_padding))\n",
    "tgt_pad = tf.zeros(shape=(batch, tgt_padding))\n",
    "\n",
    "sample_data = tf.ones(shape=(batch, length))\n",
    "\n",
    "sample_src = tf.concat([sample_data, src_pad], axis=-1)\n",
    "sample_tgt = tf.concat([sample_data, tgt_pad], axis=-1)\n",
    "\n",
    "enc_mask, dec_enc_mask, dec_mask = \\\n",
    "generate_masks(sample_src, sample_tgt)\n",
    "\n",
    "fig = plt.figure(figsize=(7, 7))\n",
    "\n",
    "ax1 = fig.add_subplot(131)\n",
    "ax2 = fig.add_subplot(132)\n",
    "ax3 = fig.add_subplot(133)\n",
    "\n",
    "ax1.set_title('1) Encoder Mask')\n",
    "ax2.set_title('2) Encoder-Decoder Mask')\n",
    "ax3.set_title('3) Decoder Mask')\n",
    "\n",
    "ax1.imshow(enc_mask[:3, 0, 0].numpy(), cmap='Dark2') \n",
    "ax2.imshow(dec_enc_mask[0, 0].numpy(), cmap='Dark2')\n",
    "ax3.imshow(dec_mask[0, 0].numpy(), cmap='Dark2')\n",
    "\n",
    "plt.show()\n",
    "\n",
    "print(enc_mask.numpy().shape)\n",
    "print(dec_enc_mask.numpy().shape)\n",
    "print(dec_mask.numpy().shape)"
   ]
  },
  {
   "cell_type": "markdown",
   "id": "executed-newman",
   "metadata": {},
   "source": [
    "dec_enc_mask = tf.maximum(enc_mask, dec_enc_causality_mask) 에서 (16, 1, 1, 25), (35, 25)끼리 shape가 다른데 어떻게 연산이 되는건지 매우 궁금하다."
   ]
  },
  {
   "cell_type": "markdown",
   "id": "regular-reminder",
   "metadata": {},
   "source": [
    "첫 번째 마스크는 각 배치 별로 데이터의 꼬리 부분을 Masking 하는 형태임을 알 수 있습니다. 낯선 부분은 두 번째와 세 번째의 Decoder가 연관된 마스크인데... 이것이 바로 Causality Mask와 Padding Mask를 결합한 형태입니다! 자기 회귀적인 특성을 살리기 위해 Masked Multi-Head Attention에서 인과 관계 마스킹을 했던 것을 기억하시죠? 인과 관계를 가리는 것도 중요하지만 Decoder 역시 <PAD> 토큰은 피해 가야 하기 때문에 이런 형태의 마스크가 사용된답니다!  \n",
    "  \n",
    "또, 트랜스포머는 고정된 Learning Rate를 사용하지 않았었죠! 논문의 해당 부분을 Optimizer까지 포함하여 다시 한번 살펴봅시다. 이전 노드에서 Learning Rate를 numpy 로 간단히 구현을 했었는데, 이번엔 Tensorflow 상에서 잘 구동될 수 있도록 LearningRateSchedule 클래스를 상속받아 구현해보죠!"
   ]
  },
  {
   "cell_type": "code",
   "execution_count": 121,
   "id": "reported-welcome",
   "metadata": {},
   "outputs": [],
   "source": [
    "class LearningRateScheduler(tf.keras.optimizers.schedules.LearningRateSchedule):\n",
    "    def __init__(self, d_model, warmup_steps=4000):\n",
    "        super(LearningRateScheduler, self).__init__()\n",
    "        self.d_model = d_model\n",
    "        self.warmup_steps = warmup_steps\n",
    "        \n",
    "    def __call__(self, step):\n",
    "        arg1 = step ** -0.5\n",
    "        arg2 = step * (self.warmup_steps ** -1.5)\n",
    "        \n",
    "        return (self.d_model ** -0.5) * tf.math.minimum(arg1, arg2)\n",
    "    \n",
    "learning_rate = LearningRateScheduler(512)\n",
    "optimizer = tf.keras.optimizers.Adam(learning_rate,\n",
    "                                    beta_1 = 0.9,\n",
    "                                    beta_2 = 0.98,\n",
    "                                    epsilon = 1e-9)"
   ]
  },
  {
   "cell_type": "markdown",
   "id": "cutting-equation",
   "metadata": {},
   "source": [
    "트랜스포머가 제안한 수식이 아니더라도 가변적인 Learning Rate를 사용하려면 위와 같이 구현을 하시면 됩니다. Optimizer는 논문에 정의된 대로 Adam Optimizer를 사용하며 세부 파라미터도 동일하게 맞춰 줍니다."
   ]
  }
 ],
 "metadata": {
  "kernelspec": {
   "display_name": "Python 3",
   "language": "python",
   "name": "python3"
  },
  "language_info": {
   "codemirror_mode": {
    "name": "ipython",
    "version": 3
   },
   "file_extension": ".py",
   "mimetype": "text/x-python",
   "name": "python",
   "nbconvert_exporter": "python",
   "pygments_lexer": "ipython3",
   "version": "3.7.9"
  }
 },
 "nbformat": 4,
 "nbformat_minor": 5
}
