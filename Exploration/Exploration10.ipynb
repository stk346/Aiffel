{
 "cells": [
  {
   "cell_type": "markdown",
   "id": "thousand-george",
   "metadata": {},
   "source": [
    "# Exploration10: 뉴스 기사 요약해보기"
   ]
  },
  {
   "cell_type": "markdown",
   "id": "removed-banking",
   "metadata": {},
   "source": [
    "## Step1. 데이터 수집하기"
   ]
  },
  {
   "cell_type": "code",
   "execution_count": 1,
   "id": "loved-order",
   "metadata": {},
   "outputs": [
    {
     "name": "stderr",
     "output_type": "stream",
     "text": [
      "[nltk_data] Downloading package stopwords to /aiffel/nltk_data...\n",
      "[nltk_data]   Unzipping corpora/stopwords.zip.\n"
     ]
    },
    {
     "name": "stdout",
     "output_type": "stream",
     "text": [
      "=3\n"
     ]
    }
   ],
   "source": [
    "import nltk\n",
    "nltk.download('stopwords')\n",
    "\n",
    "import numpy as np\n",
    "import pandas as pd\n",
    "import os\n",
    "import re\n",
    "import matplotlib.pyplot as plt\n",
    "from nltk.corpus import stopwords\n",
    "from bs4 import BeautifulSoup \n",
    "from tensorflow.keras.preprocessing.text import Tokenizer \n",
    "from tensorflow.keras.preprocessing.sequence import pad_sequences\n",
    "import urllib.request\n",
    "\n",
    "print('=3')"
   ]
  },
  {
   "cell_type": "code",
   "execution_count": 2,
   "id": "entertaining-opinion",
   "metadata": {},
   "outputs": [
    {
     "name": "stdout",
     "output_type": "stream",
     "text": [
      "전체 샘플 수:  98401\n"
     ]
    }
   ],
   "source": [
    "import urllib.request\n",
    "urllib.request.urlretrieve(\"https://raw.githubusercontent.com/sunnysai12345/News_Summary/master/news_summary_more.csv\", filename=\"news_summary_more.csv\")\n",
    "data = pd.read_csv('news_summary_more.csv', encoding='iso-8859-1')\n",
    "print('전체 샘플 수: ', len(data))"
   ]
  },
  {
   "cell_type": "code",
   "execution_count": 3,
   "id": "medical-drove",
   "metadata": {},
   "outputs": [
    {
     "data": {
      "text/html": [
       "<div>\n",
       "<style scoped>\n",
       "    .dataframe tbody tr th:only-of-type {\n",
       "        vertical-align: middle;\n",
       "    }\n",
       "\n",
       "    .dataframe tbody tr th {\n",
       "        vertical-align: top;\n",
       "    }\n",
       "\n",
       "    .dataframe thead th {\n",
       "        text-align: right;\n",
       "    }\n",
       "</style>\n",
       "<table border=\"1\" class=\"dataframe\">\n",
       "  <thead>\n",
       "    <tr style=\"text-align: right;\">\n",
       "      <th></th>\n",
       "      <th>headlines</th>\n",
       "      <th>text</th>\n",
       "    </tr>\n",
       "  </thead>\n",
       "  <tbody>\n",
       "    <tr>\n",
       "      <th>0</th>\n",
       "      <td>upGrad learner switches to career in ML &amp; Al w...</td>\n",
       "      <td>Saurav Kant, an alumnus of upGrad and IIIT-B's...</td>\n",
       "    </tr>\n",
       "    <tr>\n",
       "      <th>1</th>\n",
       "      <td>Delhi techie wins free food from Swiggy for on...</td>\n",
       "      <td>Kunal Shah's credit card bill payment platform...</td>\n",
       "    </tr>\n",
       "    <tr>\n",
       "      <th>2</th>\n",
       "      <td>New Zealand end Rohit Sharma-led India's 12-ma...</td>\n",
       "      <td>New Zealand defeated India by 8 wickets in the...</td>\n",
       "    </tr>\n",
       "    <tr>\n",
       "      <th>3</th>\n",
       "      <td>Aegon life iTerm insurance plan helps customer...</td>\n",
       "      <td>With Aegon Life iTerm Insurance plan, customer...</td>\n",
       "    </tr>\n",
       "    <tr>\n",
       "      <th>4</th>\n",
       "      <td>Have known Hirani for yrs, what if MeToo claim...</td>\n",
       "      <td>Speaking about the sexual harassment allegatio...</td>\n",
       "    </tr>\n",
       "  </tbody>\n",
       "</table>\n",
       "</div>"
      ],
      "text/plain": [
       "                                           headlines  \\\n",
       "0  upGrad learner switches to career in ML & Al w...   \n",
       "1  Delhi techie wins free food from Swiggy for on...   \n",
       "2  New Zealand end Rohit Sharma-led India's 12-ma...   \n",
       "3  Aegon life iTerm insurance plan helps customer...   \n",
       "4  Have known Hirani for yrs, what if MeToo claim...   \n",
       "\n",
       "                                                text  \n",
       "0  Saurav Kant, an alumnus of upGrad and IIIT-B's...  \n",
       "1  Kunal Shah's credit card bill payment platform...  \n",
       "2  New Zealand defeated India by 8 wickets in the...  \n",
       "3  With Aegon Life iTerm Insurance plan, customer...  \n",
       "4  Speaking about the sexual harassment allegatio...  "
      ]
     },
     "execution_count": 3,
     "metadata": {},
     "output_type": "execute_result"
    }
   ],
   "source": [
    "data.head()"
   ]
  },
  {
   "cell_type": "markdown",
   "id": "homeless-ecuador",
   "metadata": {},
   "source": [
    "## Step2. 데이터 전처리하기(추상적 요약)"
   ]
  },
  {
   "cell_type": "code",
   "execution_count": 4,
   "id": "afraid-measurement",
   "metadata": {},
   "outputs": [
    {
     "name": "stdout",
     "output_type": "stream",
     "text": [
      "Text 열에서 중복을 배제한 유일한 샘플의 수: 98360\n",
      "Summary 열에서 중복을 배제한 유일한 샘플의 수: 98280\n"
     ]
    }
   ],
   "source": [
    "print('Text 열에서 중복을 배제한 유일한 샘플의 수:', data['text'].nunique())\n",
    "print('Summary 열에서 중복을 배제한 유일한 샘플의 수:', data['headlines'].nunique())"
   ]
  },
  {
   "cell_type": "code",
   "execution_count": 5,
   "id": "above-hammer",
   "metadata": {},
   "outputs": [
    {
     "name": "stdout",
     "output_type": "stream",
     "text": [
      "전체 샘플 수: 98360\n"
     ]
    }
   ],
   "source": [
    "# 중복치 제거\n",
    "data.drop_duplicates(subset = ['text'], inplace=True)\n",
    "print('전체 샘플 수:', len(data))"
   ]
  },
  {
   "cell_type": "code",
   "execution_count": 6,
   "id": "adaptive-medline",
   "metadata": {},
   "outputs": [
    {
     "name": "stdout",
     "output_type": "stream",
     "text": [
      "headlines    0\n",
      "text         0\n",
      "dtype: int64\n"
     ]
    }
   ],
   "source": [
    "# 결측치 확인\n",
    "print(data.isnull().sum())"
   ]
  },
  {
   "cell_type": "code",
   "execution_count": 7,
   "id": "western-distinction",
   "metadata": {},
   "outputs": [
    {
     "name": "stdout",
     "output_type": "stream",
     "text": [
      "정규화 사전의 수:  120\n"
     ]
    }
   ],
   "source": [
    "# 비슷한 의미를 갖는 용어들을 통일시켜 준다.\n",
    "contractions = {\"ain't\": \"is not\", \"aren't\": \"are not\",\"can't\": \"cannot\", \"'cause\": \"because\", \"could've\": \"could have\", \"couldn't\": \"could not\",\n",
    "                           \"didn't\": \"did not\",  \"doesn't\": \"does not\", \"don't\": \"do not\", \"hadn't\": \"had not\", \"hasn't\": \"has not\", \"haven't\": \"have not\",\n",
    "                           \"he'd\": \"he would\",\"he'll\": \"he will\", \"he's\": \"he is\", \"how'd\": \"how did\", \"how'd'y\": \"how do you\", \"how'll\": \"how will\", \"how's\": \"how is\",\n",
    "                           \"I'd\": \"I would\", \"I'd've\": \"I would have\", \"I'll\": \"I will\", \"I'll've\": \"I will have\",\"I'm\": \"I am\", \"I've\": \"I have\", \"i'd\": \"i would\",\n",
    "                           \"i'd've\": \"i would have\", \"i'll\": \"i will\",  \"i'll've\": \"i will have\",\"i'm\": \"i am\", \"i've\": \"i have\", \"isn't\": \"is not\", \"it'd\": \"it would\",\n",
    "                           \"it'd've\": \"it would have\", \"it'll\": \"it will\", \"it'll've\": \"it will have\",\"it's\": \"it is\", \"let's\": \"let us\", \"ma'am\": \"madam\",\n",
    "                           \"mayn't\": \"may not\", \"might've\": \"might have\",\"mightn't\": \"might not\",\"mightn't've\": \"might not have\", \"must've\": \"must have\",\n",
    "                           \"mustn't\": \"must not\", \"mustn't've\": \"must not have\", \"needn't\": \"need not\", \"needn't've\": \"need not have\",\"o'clock\": \"of the clock\",\n",
    "                           \"oughtn't\": \"ought not\", \"oughtn't've\": \"ought not have\", \"shan't\": \"shall not\", \"sha'n't\": \"shall not\", \"shan't've\": \"shall not have\",\n",
    "                           \"she'd\": \"she would\", \"she'd've\": \"she would have\", \"she'll\": \"she will\", \"she'll've\": \"she will have\", \"she's\": \"she is\",\n",
    "                           \"should've\": \"should have\", \"shouldn't\": \"should not\", \"shouldn't've\": \"should not have\", \"so've\": \"so have\",\"so's\": \"so as\",\n",
    "                           \"this's\": \"this is\",\"that'd\": \"that would\", \"that'd've\": \"that would have\", \"that's\": \"that is\", \"there'd\": \"there would\",\n",
    "                           \"there'd've\": \"there would have\", \"there's\": \"there is\", \"here's\": \"here is\",\"they'd\": \"they would\", \"they'd've\": \"they would have\",\n",
    "                           \"they'll\": \"they will\", \"they'll've\": \"they will have\", \"they're\": \"they are\", \"they've\": \"they have\", \"to've\": \"to have\",\n",
    "                           \"wasn't\": \"was not\", \"we'd\": \"we would\", \"we'd've\": \"we would have\", \"we'll\": \"we will\", \"we'll've\": \"we will have\", \"we're\": \"we are\",\n",
    "                           \"we've\": \"we have\", \"weren't\": \"were not\", \"what'll\": \"what will\", \"what'll've\": \"what will have\", \"what're\": \"what are\",\n",
    "                           \"what's\": \"what is\", \"what've\": \"what have\", \"when's\": \"when is\", \"when've\": \"when have\", \"where'd\": \"where did\", \"where's\": \"where is\",\n",
    "                           \"where've\": \"where have\", \"who'll\": \"who will\", \"who'll've\": \"who will have\", \"who's\": \"who is\", \"who've\": \"who have\",\n",
    "                           \"why's\": \"why is\", \"why've\": \"why have\", \"will've\": \"will have\", \"won't\": \"will not\", \"won't've\": \"will not have\",\n",
    "                           \"would've\": \"would have\", \"wouldn't\": \"would not\", \"wouldn't've\": \"would not have\", \"y'all\": \"you all\",\n",
    "                           \"y'all'd\": \"you all would\",\"y'all'd've\": \"you all would have\",\"y'all're\": \"you all are\",\"y'all've\": \"you all have\",\n",
    "                           \"you'd\": \"you would\", \"you'd've\": \"you would have\", \"you'll\": \"you will\", \"you'll've\": \"you will have\",\n",
    "                           \"you're\": \"you are\", \"you've\": \"you have\"}\n",
    "\n",
    "print(\"정규화 사전의 수: \", len(contractions))"
   ]
  },
  {
   "cell_type": "code",
   "execution_count": 8,
   "id": "defined-entrance",
   "metadata": {},
   "outputs": [],
   "source": [
    "# 데이터 전처리 함수\n",
    "def preprocess_sentence(sentence, remove_stopwords=True):\n",
    "    sentence = sentence.lower() # 텍스트 소문자화\n",
    "    sentence = BeautifulSoup(sentence, \"lxml\").text # <br />, <a href = ...> 등의 html 태그 제거\n",
    "    sentence = re.sub(r'\\([^)]*\\)', '', sentence) # 괄호로 닫힌 문자열 (...) 제거 Ex) my husband (and myself!) for => my husband for\n",
    "    sentence = re.sub('\"','', sentence) # 쌍따옴표 \" 제거\n",
    "    sentence = ' '.join([contractions[t] if t in contractions else t for t in sentence.split(\" \")]) # 약어 정규화\n",
    "    sentence = re.sub(r\"'s\\b\",\"\", sentence) # 소유격 제거. Ex) roland's -> roland\n",
    "    sentence = re.sub(\"[^a-zA-Z]\", \" \", sentence) # 영어 외 문자(숫자, 특수문자 등) 공백으로 변환\n",
    "    sentence = re.sub('[m]{2,}', 'mm', sentence) # m이 3개 이상이면 2개로 변경. Ex) ummmmmmm yeah -> umm yeah\n",
    "    \n",
    "    # 불용어 제거 (Text)\n",
    "    if remove_stopwords:\n",
    "        tokens = ' '.join(word for word in sentence.split() if not word in stopwords.words('english') if len(word) > 1)\n",
    "    # 불용어 미제거 (Summary)\n",
    "    else:\n",
    "        tokens = ' '.join(word for word in sentence.split() if len(word) > 1)\n",
    "    return tokens"
   ]
  },
  {
   "cell_type": "code",
   "execution_count": 9,
   "id": "spread-settlement",
   "metadata": {},
   "outputs": [
    {
     "name": "stdout",
     "output_type": "stream",
     "text": [
      "everything bought great infact ordered twice third ordered wasfor mother father\n",
      "great way to start the day\n"
     ]
    }
   ],
   "source": [
    "temp_text = 'Everything I bought was great, infact I ordered twice and the third ordered was<br />for my mother and father.'\n",
    "temp_summary = 'Great way to start (or finish) the day!!!'\n",
    "\n",
    "print(preprocess_sentence(temp_text))\n",
    "print(preprocess_sentence(temp_summary, False))  # 불용어를 제거하지 않습니다."
   ]
  },
  {
   "cell_type": "code",
   "execution_count": 10,
   "id": "received-wagner",
   "metadata": {},
   "outputs": [
    {
     "name": "stdout",
     "output_type": "stream",
     "text": [
      "184.4361128807068  seconds\n",
      "['saurav kant alumnus upgrad iiit pg program machine learning artificial intelligence sr systems engineer infosys almost years work experience program upgrad degree career support helped transition data scientist tech mahindra salary hike upgrad online power learning powered lakh careers'\n",
      " 'kunal shah credit card bill payment platform cred gave users chance win free food swiggy one year pranav kaushik delhi techie bagged reward spending cred coins users get one cred coin per rupee bill paid used avail rewards brands like ixigo bookmyshow ubereats cult fit'\n",
      " 'new zealand defeated india wickets fourth odi hamilton thursday win first match five match odi series india lost international match rohit sharma captaincy consecutive victories dating back march match witnessed india getting seventh lowest total odi cricket history'\n",
      " ...\n",
      " 'according reports new version science fiction film matrix development michael jordan reportedly play lead role film screenwriter zak penn talks write script film reports added actor keanu reeves starred original film followed two sequels'\n",
      " 'new music video shows rapper snoop dogg aiming toy gun clown character parodying us president donald trump video also shows tv airing news conference headline ronald klump wants deport doggs airing live clown house video remixed version song lavender'\n",
      " 'madhesi morcha alliance seven political parties withdrawn support pm pushpa kamal dahal led nepal government failed meet seven day ultimatum fulfil demands including endorsement revised constitution amendment bill morcha seats parliament despite withdrawal support immediate threat government']\n",
      "6.087445497512817  seconds\n",
      "['upgrad learner switches to career in ml al with salary hike'\n",
      " 'delhi techie wins free food from swiggy for one year on cred'\n",
      " 'new zealand end rohit sharma led india match winning streak' ...\n",
      " 'the matrix film to get reboot reports'\n",
      " 'snoop dogg aims gun at clown dressed as trump in new video'\n",
      " 'madhesi morcha withdraws support to nepalese government']\n"
     ]
    }
   ],
   "source": [
    "import multiprocessing as mp # 멀티 프로세싱으로 전처리 속도를 줄입니다.\n",
    "from multiprocessing import Pool\n",
    "import numpy as np\n",
    "import time\n",
    "from functools import partial # map을 할 때 함수에 여러 인자를 넣어줄 수 있도록 합니다.\n",
    "\n",
    "start = time.time()\n",
    "\n",
    "# num_cores 만큼 쪼개진 데이터를 전처리하여 반환합니다.\n",
    "def appendTexts(sentences, remove_stopwords):\n",
    "    texts = []\n",
    "    for s in sentences:\n",
    "        texts += preprocess_sentence(s, remove_stopwords),\n",
    "    return texts\n",
    "\n",
    "def preprocess_data(data, remove_stopwords=True):\n",
    "    start_time = time.time()\n",
    "    num_cores = mp.cpu_count()\n",
    "    \n",
    "    text_data_split = np.array_split(data, num_cores) # 코어 수만큼 데이터를 병렬처리합니다.\n",
    "    pool = Pool(num_cores)\n",
    "    \n",
    "    processed_data = np.concatenate(pool.map(partial(appendTexts, remove_stopwords=remove_stopwords), text_data_split)) # 각자 작업한 데이터를 하나로 합쳐줍니다.\n",
    "    pool.close()\n",
    "    pool.join()\n",
    "    print(time.time() - start_time, \" seconds\")\n",
    "    return processed_data\n",
    "\n",
    "clean_text = preprocess_data(data['text'])\n",
    "print(clean_text)\n",
    "\n",
    "clean_summary = preprocess_data(data['headlines'], remove_stopwords=False)\n",
    "print(clean_summary)"
   ]
  },
  {
   "cell_type": "code",
   "execution_count": 11,
   "id": "previous-washington",
   "metadata": {},
   "outputs": [],
   "source": [
    "data['text'] = clean_text\n",
    "data['headlines'] = clean_summary\n",
    "\n",
    "# 빈 값을 Null 값으로 변환\n",
    "data.replace('', np.nan, inplace=True)"
   ]
  },
  {
   "cell_type": "code",
   "execution_count": 12,
   "id": "parliamentary-mission",
   "metadata": {},
   "outputs": [
    {
     "data": {
      "text/plain": [
       "headlines    0\n",
       "text         0\n",
       "dtype: int64"
      ]
     },
     "execution_count": 12,
     "metadata": {},
     "output_type": "execute_result"
    }
   ],
   "source": [
    "data.isnull().sum()"
   ]
  },
  {
   "cell_type": "code",
   "execution_count": 13,
   "id": "extraordinary-product",
   "metadata": {},
   "outputs": [
    {
     "name": "stdout",
     "output_type": "stream",
     "text": [
      "전체 샘플 수:  98360\n"
     ]
    }
   ],
   "source": [
    "data.dropna(axis=0, inplace=True)\n",
    "print('전체 샘플 수: ', len(data))"
   ]
  },
  {
   "cell_type": "code",
   "execution_count": 14,
   "id": "collected-nelson",
   "metadata": {},
   "outputs": [],
   "source": [
    "### 데이터 전처리하기 - 훈련 데이터와 테스트 데이터 나누기"
   ]
  },
  {
   "cell_type": "code",
   "execution_count": 15,
   "id": "decent-hearing",
   "metadata": {},
   "outputs": [
    {
     "name": "stdout",
     "output_type": "stream",
     "text": [
      "텍스트의 최소 길이 : 1\n",
      "텍스트의 최대 길이 : 60\n",
      "텍스트의 평균 길이 : 35.09968483123221\n",
      "요약의 최소 길이 : 1\n",
      "요약의 최대 길이 : 16\n",
      "요약의 평균 길이 : 9.299532330215534\n"
     ]
    },
    {
     "data": {
      "image/png": "[encoded data removed]",
      "text/plain": [
       "<Figure size 432x288 with 2 Axes>"
      ]
     },
     "metadata": {
      "needs_background": "light"
     },
     "output_type": "display_data"
    },
    {
     "data": {
      "image/png": "[encoded data removed]",
      "text/plain": [
       "<Figure size 432x288 with 1 Axes>"
      ]
     },
     "metadata": {
      "needs_background": "light"
     },
     "output_type": "display_data"
    },
    {
     "data": {
      "image/png": "[encoded data removed]",
      "text/plain": [
       "<Figure size 432x288 with 1 Axes>"
      ]
     },
     "metadata": {
      "needs_background": "light"
     },
     "output_type": "display_data"
    }
   ],
   "source": [
    "import matplotlib.pyplot as plt\n",
    "\n",
    "text_len = [len(s.split()) for s in data['text']]\n",
    "summary_len = [len(s.split()) for s in data['headlines']]\n",
    "\n",
    "print('텍스트의 최소 길이 : {}'.format(np.min(text_len)))\n",
    "print('텍스트의 최대 길이 : {}'.format(np.max(text_len)))\n",
    "print('텍스트의 평균 길이 : {}'.format(np.mean(text_len)))\n",
    "print('요약의 최소 길이 : {}'.format(np.min(summary_len)))\n",
    "print('요약의 최대 길이 : {}'.format(np.max(summary_len)))\n",
    "print('요약의 평균 길이 : {}'.format(np.mean(summary_len)))\n",
    "\n",
    "plt.subplot(1,2,1)\n",
    "plt.boxplot(summary_len)\n",
    "plt.title('Summary')\n",
    "\n",
    "plt.subplot(1,2,2)\n",
    "plt.boxplot(text_len)\n",
    "plt.title('Text')\n",
    "plt.tight_layout()\n",
    "plt.show()\n",
    "\n",
    "plt.title('Summary')\n",
    "plt.hist(summary_len, bins=40)\n",
    "plt.xlabel('length of samples')\n",
    "plt.ylabel('number of samples')\n",
    "plt.show()\n",
    "\n",
    "plt.title('Text')\n",
    "plt.hist(text_len, bins=40)\n",
    "plt.xlabel('length of samples')\n",
    "plt.ylabel('number of samples')\n",
    "plt.show()"
   ]
  },
  {
   "cell_type": "code",
   "execution_count": 16,
   "id": "broke-portsmouth",
   "metadata": {},
   "outputs": [],
   "source": [
    "text_max_len = 38\n",
    "summary_max_len = 10"
   ]
  },
  {
   "cell_type": "code",
   "execution_count": 17,
   "id": "superior-marketing",
   "metadata": {},
   "outputs": [],
   "source": [
    "def below_threshold_len(max_len, nested_list):\n",
    "    cnt = 0\n",
    "    for s in nested_list:\n",
    "        if(len(s.split()) <= max_len):\n",
    "            cnt = cnt + 1\n",
    "    print('전체 샘플 중 길이가 %s 이하인 샘플의 비율: %s' %(max_len, (cnt / len(nested_list))))"
   ]
  },
  {
   "cell_type": "code",
   "execution_count": 18,
   "id": "authorized-weather",
   "metadata": {},
   "outputs": [
    {
     "name": "stdout",
     "output_type": "stream",
     "text": [
      "전체 샘플 중 길이가 38 이하인 샘플의 비율: 0.8163379422529483\n",
      "전체 샘플 중 길이가 10 이하인 샘플의 비율: 0.8162972753151687\n"
     ]
    }
   ],
   "source": [
    "below_threshold_len(text_max_len, data['text'])\n",
    "below_threshold_len(summary_max_len, data['headlines'])"
   ]
  },
  {
   "cell_type": "code",
   "execution_count": 19,
   "id": "demographic-olive",
   "metadata": {},
   "outputs": [
    {
     "name": "stdout",
     "output_type": "stream",
     "text": [
      "전체 샘플 수:  65295\n"
     ]
    }
   ],
   "source": [
    "data = data[data['text'].apply(lambda x: len(x.split()) <= text_max_len)]\n",
    "data = data[data['headlines'].apply(lambda x: len(x.split()) <= summary_max_len)]\n",
    "print('전체 샘플 수: ', (len(data)))"
   ]
  },
  {
   "cell_type": "code",
   "execution_count": 20,
   "id": "orange-clearing",
   "metadata": {},
   "outputs": [
    {
     "data": {
      "text/html": [
       "<div>\n",
       "<style scoped>\n",
       "    .dataframe tbody tr th:only-of-type {\n",
       "        vertical-align: middle;\n",
       "    }\n",
       "\n",
       "    .dataframe tbody tr th {\n",
       "        vertical-align: top;\n",
       "    }\n",
       "\n",
       "    .dataframe thead th {\n",
       "        text-align: right;\n",
       "    }\n",
       "</style>\n",
       "<table border=\"1\" class=\"dataframe\">\n",
       "  <thead>\n",
       "    <tr style=\"text-align: right;\">\n",
       "      <th></th>\n",
       "      <th>headlines</th>\n",
       "      <th>text</th>\n",
       "      <th>decoder_input</th>\n",
       "      <th>decoder_target</th>\n",
       "    </tr>\n",
       "  </thead>\n",
       "  <tbody>\n",
       "    <tr>\n",
       "      <th>2</th>\n",
       "      <td>new zealand end rohit sharma led india match w...</td>\n",
       "      <td>new zealand defeated india wickets fourth odi ...</td>\n",
       "      <td>sostoken new zealand end rohit sharma led indi...</td>\n",
       "      <td>new zealand end rohit sharma led india match w...</td>\n",
       "    </tr>\n",
       "    <tr>\n",
       "      <th>3</th>\n",
       "      <td>aegon life iterm insurance plan helps customer...</td>\n",
       "      <td>aegon life iterm insurance plan customers enjo...</td>\n",
       "      <td>sostoken aegon life iterm insurance plan helps...</td>\n",
       "      <td>aegon life iterm insurance plan helps customer...</td>\n",
       "    </tr>\n",
       "    <tr>\n",
       "      <th>5</th>\n",
       "      <td>rahat fateh ali khan denies getting notice for...</td>\n",
       "      <td>pakistani singer rahat fateh ali khan denied r...</td>\n",
       "      <td>sostoken rahat fateh ali khan denies getting n...</td>\n",
       "      <td>rahat fateh ali khan denies getting notice for...</td>\n",
       "    </tr>\n",
       "    <tr>\n",
       "      <th>9</th>\n",
       "      <td>cong wins ramgarh bypoll in rajasthan takes to...</td>\n",
       "      <td>congress candidate shafia zubair ramgarh assem...</td>\n",
       "      <td>sostoken cong wins ramgarh bypoll in rajasthan...</td>\n",
       "      <td>cong wins ramgarh bypoll in rajasthan takes to...</td>\n",
       "    </tr>\n",
       "    <tr>\n",
       "      <th>10</th>\n",
       "      <td>up cousins fed human excreta for friendship wi...</td>\n",
       "      <td>two minor cousins uttar pradesh gorakhpur alle...</td>\n",
       "      <td>sostoken up cousins fed human excreta for frie...</td>\n",
       "      <td>up cousins fed human excreta for friendship wi...</td>\n",
       "    </tr>\n",
       "  </tbody>\n",
       "</table>\n",
       "</div>"
      ],
      "text/plain": [
       "                                            headlines  \\\n",
       "2   new zealand end rohit sharma led india match w...   \n",
       "3   aegon life iterm insurance plan helps customer...   \n",
       "5   rahat fateh ali khan denies getting notice for...   \n",
       "9   cong wins ramgarh bypoll in rajasthan takes to...   \n",
       "10  up cousins fed human excreta for friendship wi...   \n",
       "\n",
       "                                                 text  \\\n",
       "2   new zealand defeated india wickets fourth odi ...   \n",
       "3   aegon life iterm insurance plan customers enjo...   \n",
       "5   pakistani singer rahat fateh ali khan denied r...   \n",
       "9   congress candidate shafia zubair ramgarh assem...   \n",
       "10  two minor cousins uttar pradesh gorakhpur alle...   \n",
       "\n",
       "                                        decoder_input  \\\n",
       "2   sostoken new zealand end rohit sharma led indi...   \n",
       "3   sostoken aegon life iterm insurance plan helps...   \n",
       "5   sostoken rahat fateh ali khan denies getting n...   \n",
       "9   sostoken cong wins ramgarh bypoll in rajasthan...   \n",
       "10  sostoken up cousins fed human excreta for frie...   \n",
       "\n",
       "                                       decoder_target  \n",
       "2   new zealand end rohit sharma led india match w...  \n",
       "3   aegon life iterm insurance plan helps customer...  \n",
       "5   rahat fateh ali khan denies getting notice for...  \n",
       "9   cong wins ramgarh bypoll in rajasthan takes to...  \n",
       "10  up cousins fed human excreta for friendship wi...  "
      ]
     },
     "execution_count": 20,
     "metadata": {},
     "output_type": "execute_result"
    }
   ],
   "source": [
    "# 요약(summary) 데이터에는 시작 토큰과 종료 토큰을 추가한다.\n",
    "data['decoder_input'] = data['headlines'].apply(lambda x: 'sostoken ' + x)\n",
    "data['decoder_target'] = data['headlines'].apply(lambda x: x + ' eostoken')\n",
    "data.head()"
   ]
  },
  {
   "cell_type": "code",
   "execution_count": 21,
   "id": "technological-photographer",
   "metadata": {},
   "outputs": [],
   "source": [
    "encoder_input = np.array(data['text']) # 인코더의 입력\n",
    "decoder_input = np.array(data['decoder_input']) # 디코더의 입력\n",
    "decoder_target = np.array(data['decoder_target']) # 디코더의 레이블"
   ]
  },
  {
   "cell_type": "code",
   "execution_count": 22,
   "id": "southwest-stupid",
   "metadata": {},
   "outputs": [
    {
     "name": "stdout",
     "output_type": "stream",
     "text": [
      "[55337 26953 47640 ...  6672 37335 28795]\n"
     ]
    }
   ],
   "source": [
    "# 입력 인덱스를 랜덤하게 섞어줍니다.\n",
    "indices = np.arange(encoder_input.shape[0])\n",
    "np.random.shuffle(indices)\n",
    "print(indices)"
   ]
  },
  {
   "cell_type": "code",
   "execution_count": 23,
   "id": "straight-occasions",
   "metadata": {},
   "outputs": [],
   "source": [
    "encoder_input = encoder_input[indices]\n",
    "decoder_input = decoder_input[indices]\n",
    "decoder_target = decoder_target[indices]"
   ]
  },
  {
   "cell_type": "code",
   "execution_count": 24,
   "id": "later-traveler",
   "metadata": {},
   "outputs": [
    {
     "name": "stdout",
     "output_type": "stream",
     "text": [
      "테스트 데이터의 수 : 13059\n"
     ]
    }
   ],
   "source": [
    "n_of_val = int(len(encoder_input)*0.2)\n",
    "print('테스트 데이터의 수 :', n_of_val)"
   ]
  },
  {
   "cell_type": "code",
   "execution_count": 25,
   "id": "finite-sample",
   "metadata": {},
   "outputs": [
    {
     "name": "stdout",
     "output_type": "stream",
     "text": [
      "훈련 데이터의 개수 : 52236\n",
      "훈련 레이블의 개수 : 52236\n",
      "테스트 데이터의 개수 : 13059\n",
      "테스트 레이블의 개수 : 13059\n"
     ]
    }
   ],
   "source": [
    "encoder_input_train = encoder_input[:-n_of_val]\n",
    "decoder_input_train = decoder_input[:-n_of_val]\n",
    "decoder_target_train = decoder_target[:-n_of_val]\n",
    "\n",
    "encoder_input_test = encoder_input[-n_of_val:]\n",
    "decoder_input_test = decoder_input[-n_of_val:]\n",
    "decoder_target_test = decoder_target[-n_of_val:]\n",
    "\n",
    "print('훈련 데이터의 개수 :', len(encoder_input_train))\n",
    "print('훈련 레이블의 개수 :', len(decoder_input_train))\n",
    "print('테스트 데이터의 개수 :', len(encoder_input_test))\n",
    "print('테스트 레이블의 개수 :', len(decoder_input_test))"
   ]
  },
  {
   "cell_type": "markdown",
   "id": "plain-collectible",
   "metadata": {},
   "source": [
    "### 데이터 전처기하기 - 정수 인코딩"
   ]
  },
  {
   "cell_type": "code",
   "execution_count": 26,
   "id": "final-virtue",
   "metadata": {},
   "outputs": [],
   "source": [
    "src_tokenizer = Tokenizer() # 토크나이저 정의\n",
    "src_tokenizer.fit_on_texts(encoder_input_train) # 입력된 데이터로부터 단어 집합 생성"
   ]
  },
  {
   "cell_type": "code",
   "execution_count": 27,
   "id": "promising-camcorder",
   "metadata": {},
   "outputs": [
    {
     "name": "stdout",
     "output_type": "stream",
     "text": [
      "단어 집합(vocabulary)의 크기 : 57364\n",
      "등장 빈도가 6번 이하인 희귀 단어의 수: 39405\n",
      "단어 집합에서 희귀 단어를 제외시킬 경우의 단어 집합의 크기 17959\n",
      "단어 집합에서 희귀 단어의 비율: 68.69290844432048\n",
      "전체 등장 빈도에서 희귀 단어 등장 빈도 비율: 4.4973979360664735\n"
     ]
    }
   ],
   "source": [
    "threshold = 7\n",
    "total_cnt = len(src_tokenizer.word_index) # 단어의 수\n",
    "rare_cnt = 0 # 등장 빈도수가 threshold보다 작은 단어의 개수를 카운트\n",
    "total_freq = 0 # 훈련 데이터의 전체 단어 빈도수 총 합\n",
    "rare_freq = 0 # 등장 빈도수가 threshold보다 작은 단어의 등장 빈도수의 총 합\n",
    "\n",
    "# 단어와 빈도수의 쌍(pair)을 key와 value로 받는다.\n",
    "for key, value in src_tokenizer.word_counts.items():\n",
    "    total_freq = total_freq + value\n",
    "    \n",
    "    # 단어의 등장 빈도수가 threshold보다 작으면\n",
    "    if(value < threshold):\n",
    "        rare_cnt = rare_cnt + 1\n",
    "        rare_freq = rare_freq + value\n",
    "        \n",
    "print('단어 집합(vocabulary)의 크기 :', total_cnt)\n",
    "print('등장 빈도가 %s번 이하인 희귀 단어의 수: %s'%(threshold - 1, rare_cnt))\n",
    "print('단어 집합에서 희귀 단어를 제외시킬 경우의 단어 집합의 크기 %s'%(total_cnt - rare_cnt))\n",
    "print(\"단어 집합에서 희귀 단어의 비율:\", (rare_cnt / total_cnt)*100)\n",
    "print(\"전체 등장 빈도에서 희귀 단어 등장 빈도 비율:\", (rare_freq / total_freq)*100)"
   ]
  },
  {
   "cell_type": "code",
   "execution_count": 28,
   "id": "taken-christian",
   "metadata": {},
   "outputs": [],
   "source": [
    "src_vocab = 18000\n",
    "src_tokenizer = Tokenizer(num_words=src_vocab) # 단어 집합의 크기를 18000으로 제한\n",
    "src_tokenizer.fit_on_texts(encoder_input_train) # 단어 집합 재생성"
   ]
  },
  {
   "cell_type": "code",
   "execution_count": 29,
   "id": "settled-hypothesis",
   "metadata": {},
   "outputs": [
    {
     "name": "stdout",
     "output_type": "stream",
     "text": [
      "[[637, 640, 65, 522, 6215, 572, 9, 2123, 434, 7, 1662, 55, 85, 177, 86, 1026, 547, 113, 1868, 41, 105, 4473, 9724, 6452, 1, 10725, 10726, 85, 86, 2123], [64, 220, 338, 7, 443, 151, 1568, 7, 207, 13863, 64, 286, 923, 1497, 370, 1357, 229, 3420, 3420, 443, 718, 6453, 121, 96, 2553, 643, 7, 266, 2603, 2124, 266, 313, 3597], [1222, 651, 12031, 139, 495, 10727, 529, 948, 62, 2979, 23, 201, 9725, 123, 651, 325, 139, 495, 986, 35, 529, 2209, 136, 207, 9419, 9725, 1371, 1992, 5559, 651, 1854, 9725, 3864, 113, 123]]\n"
     ]
    }
   ],
   "source": [
    "# 텍스트 시퀀스를 정수 시퀀스로 변환\n",
    "encoder_input_train = src_tokenizer.texts_to_sequences(encoder_input_train)\n",
    "encoder_input_test = src_tokenizer.texts_to_sequences(encoder_input_test)\n",
    "\n",
    "# 잘 진행됐는지 샘플 출력\n",
    "print(encoder_input_train[:3])"
   ]
  },
  {
   "cell_type": "code",
   "execution_count": 30,
   "id": "restricted-sculpture",
   "metadata": {},
   "outputs": [],
   "source": [
    "tar_tokenizer = Tokenizer()\n",
    "tar_tokenizer.fit_on_texts(decoder_input_train)"
   ]
  },
  {
   "cell_type": "code",
   "execution_count": 31,
   "id": "amino-exhibit",
   "metadata": {},
   "outputs": [
    {
     "name": "stdout",
     "output_type": "stream",
     "text": [
      "단어 집합(vocabulary)의 크기 : 25871\n",
      "등장 빈도가 5번 이하인 희귀 단어의 수: 17472\n",
      "단어 집합에서 희귀 단어를 제외시킬 경우의 단어 집합의 크기 8399\n",
      "단어 집합에서 희귀 단어의 비율: 67.53507788643654\n",
      "전체 등장 빈도에서 희귀 단어 등장 빈도 비율: 6.486392809296819\n"
     ]
    }
   ],
   "source": [
    "threshold = 6\n",
    "total_cnt = len(tar_tokenizer.word_index) # 단어의 수\n",
    "rare_cnt = 0 # 등장 빈도수가 threshold보다 작은 단어의 개수를 카운트\n",
    "total_freq = 0 # 훈련 데이터의 전체 단어 빈도수 총 합\n",
    "rare_freq = 0 # 등장 빈도수가 threshold보다 작은 단어의 등장 빈도수의 총 합\n",
    "\n",
    "# 단어와 빈도수의 쌍(pair)을 key와 value로 받는다.\n",
    "for key, value in tar_tokenizer.word_counts.items():\n",
    "    total_freq = total_freq + value\n",
    "\n",
    "    # 단어의 등장 빈도수가 threshold보다 작으면\n",
    "    if(value < threshold):\n",
    "        rare_cnt = rare_cnt + 1\n",
    "        rare_freq = rare_freq + value\n",
    "\n",
    "print('단어 집합(vocabulary)의 크기 :', total_cnt)\n",
    "print('등장 빈도가 %s번 이하인 희귀 단어의 수: %s'%(threshold - 1, rare_cnt))\n",
    "print('단어 집합에서 희귀 단어를 제외시킬 경우의 단어 집합의 크기 %s'%(total_cnt - rare_cnt))\n",
    "print(\"단어 집합에서 희귀 단어의 비율:\", (rare_cnt / total_cnt)*100)\n",
    "print(\"전체 등장 빈도에서 희귀 단어 등장 빈도 비율:\", (rare_freq / total_freq)*100)"
   ]
  },
  {
   "cell_type": "code",
   "execution_count": 32,
   "id": "entire-coffee",
   "metadata": {},
   "outputs": [
    {
     "name": "stdout",
     "output_type": "stream",
     "text": [
      "input\n",
      "input  [[1, 136, 449, 535, 196, 32, 21, 3478], [1, 226, 276, 381, 7598, 65, 433, 642], [1, 1373, 310, 3014, 26, 90, 8, 486], [1, 434, 855, 32, 1714, 2257, 1679, 11, 751, 337], [1, 3624, 19, 4677, 3235, 3624, 1050, 7, 550, 1141]]\n",
      "target\n",
      "decoder  [[136, 449, 535, 196, 32, 21, 3478, 2], [226, 276, 381, 7598, 65, 433, 642, 2], [1373, 310, 3014, 26, 90, 8, 486, 2], [434, 855, 32, 1714, 2257, 1679, 11, 751, 337, 2], [3624, 19, 4677, 3235, 3624, 1050, 7, 550, 1141, 2]]\n"
     ]
    }
   ],
   "source": [
    "tar_vocab = 8000\n",
    "tar_tokenizer = Tokenizer(num_words=tar_vocab) \n",
    "tar_tokenizer.fit_on_texts(decoder_input_train)\n",
    "tar_tokenizer.fit_on_texts(decoder_target_train)\n",
    "\n",
    "# 텍스트 시퀀스를 정수 시퀀스로 변환\n",
    "decoder_input_train = tar_tokenizer.texts_to_sequences(decoder_input_train) \n",
    "decoder_target_train = tar_tokenizer.texts_to_sequences(decoder_target_train)\n",
    "decoder_input_test = tar_tokenizer.texts_to_sequences(decoder_input_test)\n",
    "decoder_target_test = tar_tokenizer.texts_to_sequences(decoder_target_test)\n",
    "\n",
    "# 잘 변환되었는지 확인\n",
    "print('input')\n",
    "print('input ',decoder_input_train[:5])\n",
    "print('target')\n",
    "print('decoder ',decoder_target_train[:5])"
   ]
  },
  {
   "cell_type": "markdown",
   "id": "light-providence",
   "metadata": {},
   "source": [
    "### 인코딩 작업 완료"
   ]
  },
  {
   "cell_type": "markdown",
   "id": "rolled-alabama",
   "metadata": {},
   "source": [
    "하지만 빈도수가 낮은 단어로 구성됐던 샘플은 이제 빈 샘플이 되었을 가능성이 있다.\n",
    "또한 decoder_input에서는 sostoken, 그리고 decoder_target에는 eostoken이 추가된 상태이므로 길이가 0이 된 요약문의 실제 길이는 1로 나올 것이다.\n",
    "이러한 상황을 고려하여 결측치를 제거해야 한다."
   ]
  },
  {
   "cell_type": "code",
   "execution_count": 33,
   "id": "cardiovascular-summit",
   "metadata": {},
   "outputs": [
    {
     "name": "stdout",
     "output_type": "stream",
     "text": [
      "삭제할 훈련 데이터의 개수 : 0\n",
      "삭제할 테스트 데이터의 개수 : 1\n",
      "훈련 데이터의 개수 : 52236\n",
      "훈련 레이블의 개수 : 52236\n",
      "테스트 데이터의 개수 : 13058\n",
      "테스트 레이블의 개수 : 13058\n"
     ]
    },
    {
     "name": "stderr",
     "output_type": "stream",
     "text": [
      "/opt/conda/lib/python3.7/site-packages/numpy/core/_asarray.py:83: VisibleDeprecationWarning: Creating an ndarray from ragged nested sequences (which is a list-or-tuple of lists-or-tuples-or ndarrays with different lengths or shapes) is deprecated. If you meant to do this, you must specify 'dtype=object' when creating the ndarray\n",
      "  return array(a, dtype, copy=False, order=order)\n"
     ]
    }
   ],
   "source": [
    "drop_train = [index for index, sentence in enumerate(decoder_input_train) if len(sentence) == 1]\n",
    "drop_test = [index for index, sentence in enumerate(decoder_input_test) if len(sentence)==1]\n",
    "\n",
    "print('삭제할 훈련 데이터의 개수 :', len(drop_train))\n",
    "print('삭제할 테스트 데이터의 개수 :', len(drop_test))\n",
    "\n",
    "encoder_input_train = np.delete(encoder_input_train, drop_train, axis=0)\n",
    "decoder_input_train = np.delete(decoder_input_train, drop_train, axis=0)\n",
    "decoder_target_train = np.delete(decoder_target_train, drop_train, axis=0)\n",
    "\n",
    "encoder_input_test = np.delete(encoder_input_test, drop_test, axis=0)\n",
    "decoder_input_test = np.delete(decoder_input_test, drop_test, axis=0)\n",
    "decoder_target_test = np.delete(decoder_target_test, drop_test, axis=0)\n",
    "\n",
    "print('훈련 데이터의 개수 :', len(encoder_input_train))\n",
    "print('훈련 레이블의 개수 :', len(decoder_input_train))\n",
    "print('테스트 데이터의 개수 :', len(encoder_input_test))\n",
    "print('테스트 레이블의 개수 :', len(decoder_input_test))"
   ]
  },
  {
   "cell_type": "code",
   "execution_count": 34,
   "id": "architectural-expert",
   "metadata": {},
   "outputs": [],
   "source": [
    "# 패딩\n",
    "encoder_input_train = pad_sequences(encoder_input_train, maxlen=text_max_len, padding='post')\n",
    "encoder_input_test = pad_sequences(encoder_input_test, maxlen=text_max_len, padding='post')\n",
    "decoder_input_train = pad_sequences(decoder_input_train, maxlen=summary_max_len, padding='post')\n",
    "decoder_target_train = pad_sequences(decoder_target_train, maxlen=summary_max_len, padding='post')\n",
    "decoder_input_test = pad_sequences(decoder_input_test, maxlen=summary_max_len, padding='post')\n",
    "decoder_target_test = pad_sequences(decoder_target_test, maxlen=summary_max_len, padding='post')"
   ]
  },
  {
   "cell_type": "markdown",
   "id": "herbal-sweet",
   "metadata": {},
   "source": [
    "### 모델 설계하기"
   ]
  },
  {
   "cell_type": "code",
   "execution_count": 35,
   "id": "enclosed-football",
   "metadata": {},
   "outputs": [
    {
     "name": "stdout",
     "output_type": "stream",
     "text": [
      "WARNING:tensorflow:Layer lstm will not use cuDNN kernel since it doesn't meet the cuDNN kernel criteria. It will use generic GPU kernel as fallback when running on GPU\n",
      "WARNING:tensorflow:Layer lstm_1 will not use cuDNN kernel since it doesn't meet the cuDNN kernel criteria. It will use generic GPU kernel as fallback when running on GPU\n",
      "WARNING:tensorflow:Layer lstm_2 will not use cuDNN kernel since it doesn't meet the cuDNN kernel criteria. It will use generic GPU kernel as fallback when running on GPU\n"
     ]
    }
   ],
   "source": [
    "from tensorflow.keras.layers import Input, LSTM, Embedding, Dense, Concatenate\n",
    "from tensorflow.keras.models import Model\n",
    "from tensorflow.keras.callbacks import EarlyStopping, ModelCheckpoint\n",
    "\n",
    "# 인코더 설계 시작\n",
    "embedding_dim = 126\n",
    "hidden_size = 256\n",
    "\n",
    "# 인코더\n",
    "encoder_inputs = Input(shape=(text_max_len,))\n",
    "\n",
    "# 인코더의 임베딩 층\n",
    "enc_emb = Embedding(src_vocab, embedding_dim)(encoder_inputs)\n",
    "\n",
    "# 인코더의 LSTM 1\n",
    "encoder_lstm1 = LSTM(hidden_size, return_sequences=True, return_state=True, dropout=0.4, recurrent_dropout=0.4)\n",
    "encoder_output1, state_h1, state_c1 = encoder_lstm1(enc_emb)\n",
    "\n",
    "# 인코더의 LSTM 2\n",
    "encoder_lstm2 = LSTM(hidden_size, return_sequences=True, return_state=True, dropout=0.4, recurrent_dropout=0.4)\n",
    "encoder_output2, state_h2, state_c2 = encoder_lstm2(encoder_output1)\n",
    "\n",
    "# 인코더의 LSTM 3\n",
    "encoder_lstm3 = LSTM(hidden_size, return_state=True, return_sequences=True, dropout=0.4, recurrent_dropout=0.4)\n",
    "encoder_outputs, state_h, state_c= encoder_lstm3(encoder_output2)"
   ]
  },
  {
   "cell_type": "code",
   "execution_count": 36,
   "id": "toxic-defensive",
   "metadata": {},
   "outputs": [
    {
     "name": "stdout",
     "output_type": "stream",
     "text": [
      "WARNING:tensorflow:Layer lstm_3 will not use cuDNN kernel since it doesn't meet the cuDNN kernel criteria. It will use generic GPU kernel as fallback when running on GPU\n"
     ]
    }
   ],
   "source": [
    "# 디코더 설계\n",
    "decoder_inputs = Input(shape=(None,))\n",
    "\n",
    "# 디코더의 임베딩 층\n",
    "dec_emb_layer = Embedding(tar_vocab, embedding_dim)\n",
    "dec_emb = dec_emb_layer(decoder_inputs)\n",
    "\n",
    "# 디코더의 LSTM\n",
    "decoder_lstm = LSTM(hidden_size, return_sequences=True, return_state=True, dropout=0.4, recurrent_dropout=0.2)\n",
    "decoder_outputs, _, _ = decoder_lstm(dec_emb, initial_state=[state_h, state_c])"
   ]
  },
  {
   "cell_type": "code",
   "execution_count": 37,
   "id": "commercial-medium",
   "metadata": {},
   "outputs": [
    {
     "name": "stdout",
     "output_type": "stream",
     "text": [
      "Model: \"model\"\n",
      "__________________________________________________________________________________________________\n",
      "Layer (type)                    Output Shape         Param #     Connected to                     \n",
      "==================================================================================================\n",
      "input_1 (InputLayer)            [(None, 38)]         0                                            \n",
      "__________________________________________________________________________________________________\n",
      "embedding (Embedding)           (None, 38, 126)      2268000     input_1[0][0]                    \n",
      "__________________________________________________________________________________________________\n",
      "lstm (LSTM)                     [(None, 38, 256), (N 392192      embedding[0][0]                  \n",
      "__________________________________________________________________________________________________\n",
      "input_2 (InputLayer)            [(None, None)]       0                                            \n",
      "__________________________________________________________________________________________________\n",
      "lstm_1 (LSTM)                   [(None, 38, 256), (N 525312      lstm[0][0]                       \n",
      "__________________________________________________________________________________________________\n",
      "embedding_1 (Embedding)         (None, None, 126)    1008000     input_2[0][0]                    \n",
      "__________________________________________________________________________________________________\n",
      "lstm_2 (LSTM)                   [(None, 38, 256), (N 525312      lstm_1[0][0]                     \n",
      "__________________________________________________________________________________________________\n",
      "lstm_3 (LSTM)                   [(None, None, 256),  392192      embedding_1[0][0]                \n",
      "                                                                 lstm_2[0][1]                     \n",
      "                                                                 lstm_2[0][2]                     \n",
      "__________________________________________________________________________________________________\n",
      "dense (Dense)                   (None, None, 8000)   2056000     lstm_3[0][0]                     \n",
      "==================================================================================================\n",
      "Total params: 7,167,008\n",
      "Trainable params: 7,167,008\n",
      "Non-trainable params: 0\n",
      "__________________________________________________________________________________________________\n"
     ]
    }
   ],
   "source": [
    "# 디코더의 출력층\n",
    "decoder_softmax_layer = Dense(tar_vocab, activation='softmax')\n",
    "decoder_softmax_outputs = decoder_softmax_layer(decoder_outputs) \n",
    "\n",
    "# 모델 정의\n",
    "model = Model([encoder_inputs, decoder_inputs], decoder_softmax_outputs)\n",
    "model.summary()"
   ]
  },
  {
   "cell_type": "markdown",
   "id": "intended-truth",
   "metadata": {},
   "source": [
    "## Step3. 어텐션 메커니즘 사용하기(추상적 요약)"
   ]
  },
  {
   "cell_type": "code",
   "execution_count": 38,
   "id": "balanced-psychiatry",
   "metadata": {},
   "outputs": [],
   "source": [
    "urllib.request.urlretrieve(\"https://raw.githubusercontent.com/thushv89/attention_keras/master/src/layers/attention.py\", filename=\"attention.py\")\n",
    "from attention import AttentionLayer"
   ]
  },
  {
   "cell_type": "code",
   "execution_count": 39,
   "id": "public-solid",
   "metadata": {},
   "outputs": [
    {
     "name": "stdout",
     "output_type": "stream",
     "text": [
      "Model: \"model_1\"\n",
      "__________________________________________________________________________________________________\n",
      "Layer (type)                    Output Shape         Param #     Connected to                     \n",
      "==================================================================================================\n",
      "input_1 (InputLayer)            [(None, 38)]         0                                            \n",
      "__________________________________________________________________________________________________\n",
      "embedding (Embedding)           (None, 38, 126)      2268000     input_1[0][0]                    \n",
      "__________________________________________________________________________________________________\n",
      "lstm (LSTM)                     [(None, 38, 256), (N 392192      embedding[0][0]                  \n",
      "__________________________________________________________________________________________________\n",
      "input_2 (InputLayer)            [(None, None)]       0                                            \n",
      "__________________________________________________________________________________________________\n",
      "lstm_1 (LSTM)                   [(None, 38, 256), (N 525312      lstm[0][0]                       \n",
      "__________________________________________________________________________________________________\n",
      "embedding_1 (Embedding)         (None, None, 126)    1008000     input_2[0][0]                    \n",
      "__________________________________________________________________________________________________\n",
      "lstm_2 (LSTM)                   [(None, 38, 256), (N 525312      lstm_1[0][0]                     \n",
      "__________________________________________________________________________________________________\n",
      "lstm_3 (LSTM)                   [(None, None, 256),  392192      embedding_1[0][0]                \n",
      "                                                                 lstm_2[0][1]                     \n",
      "                                                                 lstm_2[0][2]                     \n",
      "__________________________________________________________________________________________________\n",
      "attention_layer (AttentionLayer ((None, None, 256),  131328      lstm_2[0][0]                     \n",
      "                                                                 lstm_3[0][0]                     \n",
      "__________________________________________________________________________________________________\n",
      "concat_layer (Concatenate)      (None, None, 512)    0           lstm_3[0][0]                     \n",
      "                                                                 attention_layer[0][0]            \n",
      "__________________________________________________________________________________________________\n",
      "dense_1 (Dense)                 (None, None, 8000)   4104000     concat_layer[0][0]               \n",
      "==================================================================================================\n",
      "Total params: 9,346,336\n",
      "Trainable params: 9,346,336\n",
      "Non-trainable params: 0\n",
      "__________________________________________________________________________________________________\n"
     ]
    }
   ],
   "source": [
    "# 어텐션 층(어텐션 함수)\n",
    "attn_layer = AttentionLayer(name='attention_layer')\n",
    "# 인코더와 디코더의 모든 time step의 hidden state를 어텐션 층에 전달하고 결과를 리턴\n",
    "attn_out, attn_states = attn_layer([encoder_outputs, decoder_outputs])\n",
    "\n",
    "# 어텐션의 결과와 디코더의 hidden state들을 연결\n",
    "decoder_concat_input = Concatenate(axis=-1, name='concat_layer')([decoder_outputs, attn_out])\n",
    "\n",
    "# 디코더의 출력층\n",
    "decoder_softmax_layer = Dense(tar_vocab, activation='softmax')\n",
    "decoder_softmax_outputs = decoder_softmax_layer(decoder_concat_input)\n",
    "\n",
    "# 모델 정의\n",
    "model = Model([encoder_inputs, decoder_inputs], decoder_softmax_outputs)\n",
    "model.summary()"
   ]
  },
  {
   "cell_type": "code",
   "execution_count": 40,
   "id": "addressed-constraint",
   "metadata": {},
   "outputs": [
    {
     "name": "stdout",
     "output_type": "stream",
     "text": [
      "Epoch 1/50\n",
      "205/205 [==============================] - 148s 667ms/step - loss: 6.5881 - val_loss: 5.8488\n",
      "Epoch 2/50\n",
      "205/205 [==============================] - 136s 663ms/step - loss: 5.7848 - val_loss: 5.5949\n",
      "Epoch 3/50\n",
      "205/205 [==============================] - 136s 663ms/step - loss: 5.4841 - val_loss: 5.3493\n",
      "Epoch 4/50\n",
      "205/205 [==============================] - 137s 669ms/step - loss: 5.2107 - val_loss: 5.1586\n",
      "Epoch 5/50\n",
      "205/205 [==============================] - 137s 668ms/step - loss: 4.9556 - val_loss: 5.0211\n",
      "Epoch 6/50\n",
      "205/205 [==============================] - 135s 658ms/step - loss: 4.7392 - val_loss: 4.8016\n",
      "Epoch 7/50\n",
      "205/205 [==============================] - 135s 660ms/step - loss: 4.5418 - val_loss: 4.6732\n",
      "Epoch 8/50\n",
      "205/205 [==============================] - 135s 660ms/step - loss: 4.3866 - val_loss: 4.5775\n",
      "Epoch 9/50\n",
      "205/205 [==============================] - 133s 650ms/step - loss: 4.2408 - val_loss: 4.5210\n",
      "Epoch 10/50\n",
      "205/205 [==============================] - 132s 645ms/step - loss: 4.1098 - val_loss: 4.4638\n",
      "Epoch 11/50\n",
      "205/205 [==============================] - 133s 648ms/step - loss: 3.9862 - val_loss: 4.4086\n",
      "Epoch 12/50\n",
      "205/205 [==============================] - 132s 644ms/step - loss: 3.8728 - val_loss: 4.3627\n",
      "Epoch 13/50\n",
      "205/205 [==============================] - 133s 648ms/step - loss: 3.7779 - val_loss: 4.3296\n",
      "Epoch 14/50\n",
      "205/205 [==============================] - 132s 643ms/step - loss: 3.6894 - val_loss: 4.2955\n",
      "Epoch 15/50\n",
      "205/205 [==============================] - 134s 652ms/step - loss: 3.6004 - val_loss: 4.2806\n",
      "Epoch 16/50\n",
      "205/205 [==============================] - 133s 651ms/step - loss: 3.5145 - val_loss: 4.2449\n",
      "Epoch 17/50\n",
      "205/205 [==============================] - 133s 648ms/step - loss: 3.4385 - val_loss: 4.2261\n",
      "Epoch 18/50\n",
      "205/205 [==============================] - 132s 644ms/step - loss: 3.3666 - val_loss: 4.2174\n",
      "Epoch 19/50\n",
      "205/205 [==============================] - 132s 644ms/step - loss: 3.3028 - val_loss: 4.2092\n",
      "Epoch 20/50\n",
      "205/205 [==============================] - 132s 644ms/step - loss: 3.2380 - val_loss: 4.1929\n",
      "Epoch 21/50\n",
      "205/205 [==============================] - 132s 644ms/step - loss: 3.1738 - val_loss: 4.1960\n",
      "Epoch 22/50\n",
      "205/205 [==============================] - 131s 642ms/step - loss: 3.1219 - val_loss: 4.1735\n",
      "Epoch 23/50\n",
      "205/205 [==============================] - 133s 650ms/step - loss: 3.0711 - val_loss: 4.1729\n",
      "Epoch 24/50\n",
      "205/205 [==============================] - 133s 648ms/step - loss: 3.0094 - val_loss: 4.1757\n",
      "Epoch 25/50\n",
      "205/205 [==============================] - 132s 646ms/step - loss: 2.9672 - val_loss: 4.1842\n",
      "Epoch 00025: early stopping\n"
     ]
    }
   ],
   "source": [
    "model.compile(optimizer='rmsprop', loss='sparse_categorical_crossentropy')\n",
    "es = EarlyStopping(monitor='val_loss', patience=2, verbose=1)\n",
    "history = model.fit(x=[encoder_input_train, decoder_input_train], y=decoder_target_train, \\\n",
    "          validation_data=([encoder_input_test, decoder_input_test], decoder_target_test), \\\n",
    "          batch_size=256, callbacks=[es], epochs=50)"
   ]
  },
  {
   "cell_type": "code",
   "execution_count": 41,
   "id": "agricultural-glucose",
   "metadata": {},
   "outputs": [
    {
     "data": {
      "image/png": "[encoded data removed]",
      "text/plain": [
       "<Figure size 432x288 with 1 Axes>"
      ]
     },
     "metadata": {
      "needs_background": "light"
     },
     "output_type": "display_data"
    }
   ],
   "source": [
    "plt.plot(history.history['loss'], label='train')\n",
    "plt.plot(history.history['val_loss'], label='test')\n",
    "plt.legend()\n",
    "plt.show()"
   ]
  },
  {
   "cell_type": "markdown",
   "id": "delayed-blogger",
   "metadata": {},
   "source": [
    "### 인퍼런스 모델 구현하기\n",
    "* 테스트 단계에서는 정수 인덱스 행렬로 존재하던 텍스트 데이터를 실제 데이터로 복원해야 하므로 필요한 3개의 사전을 미리 준비해 둡니다."
   ]
  },
  {
   "cell_type": "code",
   "execution_count": 42,
   "id": "former-brake",
   "metadata": {},
   "outputs": [],
   "source": [
    "src_index_to_word = src_tokenizer.index_word # 원문 단어 집합에서 정수 -> 단어를 얻음.\n",
    "tar_word_to_index = tar_tokenizer.word_index # 요약 단어 집합에서 단어 -> 정수를 얻음\n",
    "tar_index_to_word = tar_tokenizer.index_word # 요약 단어 집합에서 정수 -> 단어를 얻음"
   ]
  },
  {
   "cell_type": "markdown",
   "id": "coordinate-pendant",
   "metadata": {},
   "source": [
    "seq2seq는 훈련할 때와 실제 동작할 때(인퍼런스 단계)의 방식이 다르기 때문에 이에 맞게 모델 설계를 별개로 진행해야 합니다.  \n",
    "훈련 단계에서는 디코더의 입력부에 정답이 되는 문장 전체를 한꺼번에 넣고 디코더의 출력과 비교할 수 있기에 인코더와 디코더를 엮은 모델 하나만 준비합니다.  \n",
    "그러나 정답 문장이 없는 인퍼런스 단계에서는 만들어야 할 문장의 길이만큼 디코더가 반복해 동작해야 하며 이에 따라 모델 설계를 별도로 해주어야 합니다."
   ]
  },
  {
   "cell_type": "code",
   "execution_count": 43,
   "id": "further-senator",
   "metadata": {},
   "outputs": [],
   "source": [
    "# 인코더 설계\n",
    "encoder_model = Model(inputs=encoder_inputs, outputs=[encoder_outputs, state_h, state_c])\n",
    "\n",
    "# 이전 시점의 상태들을 저장하는 텐서\n",
    "decoder_state_input_h = Input(shape=(hidden_size,))\n",
    "decoder_state_input_c = Input(shape=(hidden_size,))\n",
    "\n",
    "dec_emb2 = dec_emb_layer(decoder_inputs)\n",
    "\n",
    "# 문장의 다음 단어를 예측하기 위해서 초기 상태(initial_state)를 이전 시점의 상태로 사용. 이는 뒤의 함수 decode_sequence()에 구현\n",
    "# 훈련 과정에서와 달리 LSTM의 리턴하는 은닉 상태와 셀 상태인 state_h와 state_c를 버리지 않음.\n",
    "decoder_outputs2, state_h2, state_c2 = decoder_lstm(dec_emb2, initial_state=[decoder_state_input_h, decoder_state_input_c])"
   ]
  },
  {
   "cell_type": "markdown",
   "id": "productive-handbook",
   "metadata": {},
   "source": [
    "어텐션 메커니즘을 사용하는 출력층 설계"
   ]
  },
  {
   "cell_type": "code",
   "execution_count": 44,
   "id": "effective-runner",
   "metadata": {},
   "outputs": [],
   "source": [
    "# 어텐션 함수\n",
    "decoder_hidden_state_input = Input(shape=(text_max_len, hidden_size))\n",
    "attn_out_inf, attn_states_inf = attn_layer([decoder_hidden_state_input, decoder_outputs2])\n",
    "decoder_inf_concat = Concatenate(axis=-1, name='concat')([decoder_outputs2, attn_out_inf])\n",
    "\n",
    "# 디코더의 출력층\n",
    "decoder_outputs2 = decoder_softmax_layer(decoder_inf_concat) \n",
    "\n",
    "# 최종 디코더 모델\n",
    "decoder_model = Model(\n",
    "    [decoder_inputs] + [decoder_hidden_state_input,decoder_state_input_h, decoder_state_input_c],\n",
    "    [decoder_outputs2] + [state_h2, state_c2])"
   ]
  },
  {
   "cell_type": "markdown",
   "id": "forty-archive",
   "metadata": {},
   "source": [
    "단어 시퀀스를 완성하는 함수"
   ]
  },
  {
   "cell_type": "code",
   "execution_count": 45,
   "id": "pretty-roommate",
   "metadata": {},
   "outputs": [],
   "source": [
    "def decode_sequence(input_seq):\n",
    "    # 입력으로부터 인코더의 상태를 얻음\n",
    "    e_out, e_h, e_c = encoder_model.predict(input_seq)\n",
    "\n",
    "     # <SOS>에 해당하는 토큰 생성\n",
    "    target_seq = np.zeros((1,1))\n",
    "    target_seq[0, 0] = tar_word_to_index['sostoken']\n",
    "\n",
    "    stop_condition = False\n",
    "    decoded_sentence = ''\n",
    "    while not stop_condition: # stop_condition이 True가 될 때까지 루프 반복\n",
    "\n",
    "        output_tokens, h, c = decoder_model.predict([target_seq] + [e_out, e_h, e_c])\n",
    "        sampled_token_index = np.argmax(output_tokens[0, -1, :])\n",
    "        sampled_token = tar_index_to_word[sampled_token_index]\n",
    "\n",
    "        if (sampled_token!='eostoken'):\n",
    "            decoded_sentence += ' '+sampled_token\n",
    "\n",
    "        #  <eos>에 도달하거나 최대 길이를 넘으면 중단.\n",
    "        if (sampled_token == 'eostoken'  or len(decoded_sentence.split()) >= (summary_max_len-1)):\n",
    "            stop_condition = True\n",
    "\n",
    "        # 길이가 1인 타겟 시퀀스를 업데이트\n",
    "        target_seq = np.zeros((1,1))\n",
    "        target_seq[0, 0] = sampled_token_index\n",
    "\n",
    "        # 상태를 업데이트 합니다.\n",
    "        e_h, e_c = h, c\n",
    "\n",
    "    return decoded_sentence"
   ]
  },
  {
   "cell_type": "markdown",
   "id": "anticipated-shooting",
   "metadata": {},
   "source": [
    "## Step4. 실제 결과와 요약문 비교하기(추상적 요약)"
   ]
  },
  {
   "cell_type": "markdown",
   "id": "possible-burton",
   "metadata": {},
   "source": [
    "테스트 단계에서는 정수 시퀀스를 텍스트 시퀀스로 변환하는 함수를 만듭니다. 이 때 Text의 정수 시퀀스에서는 패딩을 위해 사용되는 숫자 0을 제외하고, Summary의 정수 시퀀스에서는 숫자0, 시작 토큰의 인덱스, 종료 토큰의 인덱스를 출력에서 제외하도록 만듭니다."
   ]
  },
  {
   "cell_type": "code",
   "execution_count": 49,
   "id": "verbal-boring",
   "metadata": {},
   "outputs": [],
   "source": [
    "# 원문의 정수 시퀀스를 텍스트 시퀀스로 변환\n",
    "def seq2text(input_seq):\n",
    "    temp=''\n",
    "    for i in input_seq:\n",
    "        if (i != 0):\n",
    "            temp = temp + src_index_to_word[i]+' '\n",
    "    return temp\n",
    "# 요약문의 정수 시퀀스를 텍스트 시퀀스로 변환\n",
    "def seq2summary(input_seq):\n",
    "    temp=''\n",
    "    for i in input_seq:\n",
    "        if ((i != 0 and i != tar_word_to_index['sostoken']) and i != tar_word_to_index['eostoken']):\n",
    "            temp = temp + tar_index_to_word[i] + ' '\n",
    "    return temp"
   ]
  },
  {
   "cell_type": "markdown",
   "id": "stone-helmet",
   "metadata": {},
   "source": [
    "테스트 데이터 50개 샘플에 대해서 비교하기"
   ]
  },
  {
   "cell_type": "code",
   "execution_count": 50,
   "id": "promotional-furniture",
   "metadata": {},
   "outputs": [
    {
     "name": "stdout",
     "output_type": "stream",
     "text": [
      "원문 : first look poster sidharth malhotra manoj bajpayee starrer aiyaary unveiled manoj retweeted poster captioned aiyaary also tale friendship heart brace film reportedly crime thriller scheduled release january \n",
      "실제 요약 : first look poster of sidharth manoj aiyaary unveiled \n",
      "예측 요약 :  first look poster of sidharth malhotra starrer out\n",
      "\n",
      "\n",
      "원문 : united airlines monday said reached resolution simon giant rabbit died reportedly left freezer staff hours however owners group businessmen threatened take legal action united seeking compensation lost future earnings \n",
      "실제 요약 : united reaches resolution with of giant rabbit \n",
      "예측 요약 :  united united airlines passes away\n",
      "\n",
      "\n",
      "원문 : japanese retail company created pair jeans additional sixth pocket back hold wearer smartphone company says pocket placed away center wearer sit phone jeans available men women five different styles \n",
      "실제 요약 : jeans with additional pocket to keep smartphone made \n",
      "예측 요약 :  japanese company offers to make blood\n",
      "\n",
      "\n",
      "원문 : nasa set world record deploying supersonic parachute mars mission seconds parachute used deliver heaviest payload yet mars launched kg payload earlier month according nasa successful test indicates parachute design officially ready mars \n",
      "실제 요약 : nasa opens for mars mission in sec sets record \n",
      "예측 요약 :  nasa unveils st ever mission to\n",
      "\n",
      "\n",
      "원문 : addressing lok sabha power minister rk singh thursday said indian households receive hour power supply march around rural households electrified december added stating lakh crore invested improve power infrastructure singh warned suppliers penalties failing provide uninterrupted power \n",
      "실제 요약 : hour power supply by march says power minister \n",
      "예측 요약 :  govt to invest up in govt govt govt\n",
      "\n",
      "\n",
      "원문 : amid criticism shiv sena mp ravindra gaikwad alleged assault air india staffer video ex congress mp telangana rao reportedly abusing policeman surfaced allowed hold press conference assembly premises rao alleged mlas speak designated area cop told \n",
      "실제 요약 : video shows ex congress mp from telangana abusing cop \n",
      "예측 요약 :  journo is the of the woman shiv sena\n",
      "\n",
      "\n",
      "원문 : two women reportedly attempted suicide consuming poison andhra pradesh secretariat denied permission meet chief minister chandrababu naidu hailing poor family duo seeking job department agriculture late father used work planning request cm naidu intervention matter \n",
      "실제 요약 : andhra women attempt suicide after meeting with cm denied \n",
      "예측 요약 :  ias officer commits suicide after failing cm mamata\n",
      "\n",
      "\n",
      "원문 : dmk spokesperson lawyer said government proposing construct square feet building jayalalithaa memorial refusing give feet land karunanidhi comes dmk moved madras high court tamil nadu government refusing burial space karunanidhi near anna memorial chennai beach \n",
      "실제 요약 : ft for amma not even ft for karunanidhi dmk \n",
      "예측 요약 :  karunanidhi statue of royal house unveiled\n",
      "\n",
      "\n",
      "원문 : flags election campaign us president donald trump made china flag manufacturer claimed factory situated province also made flags trump campaign comes us china involved trade war us tariffs billion chinese imports coming effect friday \n",
      "실제 요약 : trump flags being made in china amid ongoing trade war \n",
      "예측 요약 :  trump to become us president trump\n",
      "\n",
      "\n",
      "원문 : man armed knife holding several employees job centre hostage england police said police said attacker known job centre treating terrorist incident stage negotiations ongoing nearby accommodation evacuated metro station closed \n",
      "실제 요약 : holding job centre staff hostage in uk \n",
      "예측 요약 :  man who killed in terror attack on terror attack\n",
      "\n",
      "\n",
      "원문 : karnataka government permitted authorities start prosecution proceedings snapdeal ludhiana based company allegedly facilitating illegal sale drug schedule sex drug cannot bought without doctor prescription drugs controller said sellers prohibited selling schedule drugs snapdeal company said \n",
      "실제 요약 : snapdeal to face in taka for illegal drug sale \n",
      "예측 요약 :  delhi government employees accused of selling harassment\n",
      "\n",
      "\n",
      "원문 : six indian hotels made world best hotels survey travel leisure magazine oberoi ranking th leela palace udaipur ranked th taj palace jaipur ranked rd list includes oberoi jaipur oberoi agra oberoi udaipur \n",
      "실제 요약 : indian hotels in world best hotels list \n",
      "예측 요약 :  indians named world best in the world\n",
      "\n",
      "\n",
      "원문 : foreign portfolio investors infused crore country capital markets november marking highest inflow months rise overseas funds attributed falling crude oil prices sharp rupee appreciation inflow comes following net withdrawal close crore capital markets september october \n",
      "실제 요약 : overseas funds hit month high of cr in nov \n",
      "예측 요약 :  india retail inflation eases to month low of december\n",
      "\n",
      "\n",
      "원문 : four people allegedly abducted gangraped two aged chhattisgarh district offered drop railway station ashram driving car three men joined later protested threatened gun allegedly gangraped \n",
      "실제 요약 : two threatened gangraped in chhattisgarh \n",
      "예측 요약 :  youth abducted by moving car in bihar\n",
      "\n",
      "\n",
      "원문 : delhi court said journalists exclusive right special privilege criticise make allegations someone instead greater responsibility power potential cause irreparable damage court added hearing man case claimed magazine editor published defamatory articles \n",
      "실제 요약 : press does not have special rights to criticise anyone court \n",
      "예측 요약 :  cannot stop my behaviour on tv court\n",
      "\n",
      "\n",
      "원문 : union cabinet passed bill replace medical council india national medical commission law justice minister ravi shankar prasad said friday bill suggests four tier structure regulation medical education member national medical commission according reports \n",
      "실제 요약 : cabinet approves bill to replace medical council of india \n",
      "예측 요약 :  new finance ministry\n",
      "\n",
      "\n",
      "원문 : criticising tamil nadu government opposition national eligibility cum entrance test madras hc judge justice thursday said ashamed opposing neet hearing petitions seeking allotment postgraduate seats private colleges government quota added feel students better students states \n",
      "실제 요약 : are we not ashamed of opposing neet asks hc judge \n",
      "예측 요약 :  cbse declares neet neet exam\n",
      "\n",
      "\n",
      "원문 : aiming end vip culture state andhra pradesh government saturday banned use blue beacons cars belonging dignitaries according new order emergency disaster management vehicles permitted use blue beacons beacons generally used police ias officers \n",
      "실제 요약 : andhra bans use of blue by officials \n",
      "예측 요약 :  govt bans use of plastic from plastic in\n",
      "\n",
      "\n",
      "원문 : model turned actress urvashi rautela speaking punishment rapists said feel chemical good intended deterrent effect prevent sexual added urvashi said growing sense frustration collective failure protect women children \n",
      "실제 요약 : should be good for rapists urvashi \n",
      "예측 요약 :  am not let me about me richa\n",
      "\n",
      "\n",
      "원문 : move end extension visas would bad policy contrary goals merit based immigration system us chamber commerce said policy would harm american business economy country added proposal implemented would also result self deportation around lakh indians \n",
      "실제 요약 : ending extension of visas bad policy us industry body \n",
      "예측 요약 :  govt proposes to end tax from global game\n",
      "\n",
      "\n",
      "원문 : mumbai indians rounder krunal pandya revealed kenyan cricketers signed autographs brother hardik thought kenya kenyan team players waiting bus outside stadium baroda declining autographs kids krunal said gave autograph hardik added \n",
      "실제 요약 : kenyan cricketers once thought hardik was from kenya krunal \n",
      "예측 요약 :  harbhajan reveals he was called the knot\n",
      "\n",
      "\n",
      "원문 : taapsee pannu denied rumours rejecting film paired nawazuddin siddiqui reasons saying never pretext wanting work particular actor ever said taapsee added respect talent like nawaz wish work together future \n",
      "실제 요약 : taapsee denies rejecting film over with nawazuddin \n",
      "예측 요약 :  am not going to the film taapsee\n",
      "\n",
      "\n",
      "원문 : vatican saturday ruled letter bishops bread used catholic masses cannot entirely free moreover wine used must also natural mixed substances letter read notably believe bread wine served sunday mass converted body blood christ \n",
      "실제 요약 : vatican bans free bread during catholic mass \n",
      "예측 요약 :  vatican to be used to\n",
      "\n",
      "\n",
      "원문 : ahead first india south africa odi captain virat kohli said core indian team world cup less sorted added spot needs number four batting position guys given opportunity need convince suitable spot said \n",
      "실제 요약 : of indian team for world cup almost kohli \n",
      "예측 요약 :  india has been the world biggest games kohli\n",
      "\n",
      "\n",
      "원문 : agreement signed myanmar bangladesh return rohingyas creates impossible timetable safe return refugees therefore involve united nations human rights watch said safety refugees feasible myanmar willingness ensure human rights equal access nationality added \n",
      "실제 요약 : rohingya return deal should be un \n",
      "예측 요약 :  palestine urges myanmar to deport refugee\n",
      "\n",
      "\n",
      "원문 : actor anupam kher talking playing former prime minister manmohan singh upcoming film accidental prime minister said difficult role done studied character manmohan singh four months added directed debutant vijay film scheduled release december \n",
      "실제 요약 : playing manmohan singh most difficult role of career kher \n",
      "예측 요약 :  tubelight is manmohan singh on tubelight\n",
      "\n",
      "\n",
      "원문 : panchayat uttar pradesh village dominated muslim population decided impose fine lakh cow slaughter total lakh penalty given person provides information cow slaughter mohammed former village pradhan reportedly said \n",
      "실제 요약 : muslim village sets fine for cow slaughter \n",
      "예측 요약 :  up govt to give up to farmers\n",
      "\n",
      "\n",
      "원문 : year old auto rickshaw driver arrested allegedly kicking year old man face mumbai andheri wednesday senior citizen reportedly could find auto rickshaw long time entered argument accused refused ply driver allegedly became assaulted senior citizen \n",
      "실제 요약 : mumbai rickshaw driver held for assaulting senior citizen \n",
      "예측 요약 :  mumbai man arrested for molesting woman in mumbai\n",
      "\n",
      "\n",
      "원문 : russian president vladimir putin monday said piano tune referring performance sidelines meeting china putin added quite hard play even adding think let donald trump choose tune match based talks outcome putin said \n",
      "실제 요약 : piano was out of putin after performance \n",
      "예측 요약 :  us has been the world most war putin\n",
      "\n",
      "\n",
      "원문 : women child development ministry identified children across districts eight states new monitoring method launched june ministry equipped anganwadi workers smart phones monitor lakh children six years daily basis information sent centralised database monitored block level centre \n",
      "실제 요약 : new method detects kids in states \n",
      "예측 요약 :  govt to make children to make children\n",
      "\n",
      "\n",
      "원문 : almost month got married mumbai isha ambani anand piramal ceremony pictures shared online designer sabyasachi mukherjee tuesday apart gold necklace isha opted five layers come till waist couple ceremony organised udaipur second weekend december \n",
      "실제 요약 : pictures show isha ambani anand at their ceremony \n",
      "예측 요약 :  mumbai couple to marry their wedding wedding ceremony\n",
      "\n",
      "\n",
      "원문 : least two army soldiers martyred encounter militants jammu kashmir saturday infiltration bid foiled alert troops along loc sector two terrorists killed official said infiltration bid comes backdrop defence minister arun jaitley two day visit kashmir valley \n",
      "실제 요약 : two soldiers martyred in encounter near loc in \n",
      "예측 요약 :  jawans martyred in encounter in pakistan\n",
      "\n",
      "\n",
      "원문 : saudi arabian government retain passports indian airlines crew members arrival anymore issue instead air india spokesperson confirmed friday given crew also limited validity air india new mechanism benefit crew jet airways also flights bound country \n",
      "실제 요약 : saudi to not retain passports of indian airlines crew \n",
      "예측 요약 :  saudi arabia allows air india to curb\n",
      "\n",
      "\n",
      "원문 : manikarnika queen jhansi co director krish speaking kangana ranaut claim directed film said bulls first half manikarnika film shot kangana second half shot claimed krish said hurt controversy \n",
      "실제 요약 : bulls on kangana claim of directing of manikarnika \n",
      "예측 요약 :  manikarnika to be shot in manikarnika maker\n",
      "\n",
      "\n",
      "원문 : year old us woman died flu complications deciding take medicine treat virus expensive husband said prescribed medicine costs current flu outbreak believed worst us history reportedly killing americans week \n",
      "실제 요약 : us woman dies after refusing to take flu medicine \n",
      "예측 요약 :  woman declared dead after yrs after cyclone declared\n",
      "\n",
      "\n",
      "원문 : professor university hyderabad discovered two new languages namely spoken andhra pradesh odisha professor presented research foundation endangered languages conference uk university said name indicative speech community claims descent great indian saint poet valmiki \n",
      "실제 요약 : hyderabad university professor discovers two new languages \n",
      "예측 요약 :  university named professor of the year\n",
      "\n",
      "\n",
      "원문 : former ufc women champion fight seconds agreed join wwe first american woman win olympic medal olympics notably consecutive mma fights lost two straight decided move wwe \n",
      "실제 요약 : former ufc women champion joins wwe \n",
      "예측 요약 :  wwe champ apologises for record for world cup\n",
      "\n",
      "\n",
      "원문 : thailand become first southeast asian nation legalise use marijuana medical use research appointed parliament voted amend narcotic act legalise medicinal use marijuana marijuana used thailand relieve pain fatigue use criminalised country \n",
      "실제 요약 : thailand st southeast asian nation to legalise medical marijuana \n",
      "예측 요약 :  first ever country to be held in parliament\n",
      "\n",
      "\n",
      "원문 : reacting uttarakhand chief minister trivendra singh rawat suspending teacher argument two transfer state congress president pritam singh said cm actions smell arrogance way cm talk widow requesting transfer added demanded teacher suspension order revoked \n",
      "실제 요약 : khand cm action arrogant cong on teacher suspension \n",
      "예측 요약 :  up cm yogi is no action on bjp\n",
      "\n",
      "\n",
      "원문 : authorities australia thursday seized tons drug methamphetamine worth nearly crore biggest ever haul drugs uncovered police raided dock port western australia officials said eight men arrested connection haul facing maximum penalty life imprisonment \n",
      "실제 요약 : meth worth crore seized in australia \n",
      "예측 요약 :  heroin worth crore seized in brazil\n",
      "\n",
      "\n",
      "원문 : swimming water sports across beaches goa closed till end september state witnessed monsoon rains friday seas expected rough advisory issued service asked visitors walk water knee level even days rain \n",
      "실제 요약 : swimming water sports on goa beaches closed over monsoon \n",
      "예측 요약 :  heavy whale water in mumbai to be closed\n",
      "\n",
      "\n",
      "원문 : union minister hansraj ahir tuesday informed lok sabha many terrorists civilians killed jammu kashmir since ahir added since till december incidents involving terrorists said period six incidents involving terrorists reported parts country \n",
      "실제 요약 : terrorists civilians killed in since govt \n",
      "예측 요약 :  killed in india attack on indian army chief\n",
      "\n",
      "\n",
      "원문 : mastermind behind blue whale challenge online game claimed lives children encouraging self harm kill arrested russia children joined game told cut watch horror films eventually commit suicide part series tasks aimed damaging mental health \n",
      "실제 요약 : mastermind behind blue whale challenge arrested in russia \n",
      "예측 요약 :  my video shows on camera while killing\n",
      "\n",
      "\n",
      "원문 : german police thursday launched search operation four convicts escaped local prison hole measuring cm cm wall four inmates convicted theft extortion among things prison outer fence alarm raised half hour escape \n",
      "실제 요약 : four prisoners escape from german jail through hole in wall \n",
      "예측 요약 :  police station to jail for stealing stray stray\n",
      "\n",
      "\n",
      "원문 : rajinikanth akshay kumar starrer crore worldwide box office week since released november according trade analyst ramesh film able garner crore overseas earning crore india film earned crore worldwide opening day \n",
      "실제 요약 : rajinikanth starrer earns cr worldwide in days \n",
      "예측 요약 :  rajinikanth starrer rajinikanth starrer tubelight hits cr\n",
      "\n",
      "\n",
      "원문 : five youths sentenced life imprisonment saturday raping year old girl within days incident odisha district sentenced special pocso judge marathon trial hours juvenile accused case witness crime separately tried juvenile justice court \n",
      "실제 요약 : court gives youths life term within days of raping minor \n",
      "예측 요약 :  year old girl abducted murdered in hyderabad\n",
      "\n",
      "\n",
      "원문 : fine imposed public information officers noida providing information asked right information act within days authorities said necessary make officials understand importance people queries notably rti act came force mandates timely response citizens requests government information \n",
      "실제 요약 : noida officers fined for not to rti queries \n",
      "예측 요약 :  delhi police officers to work in public officers\n",
      "\n",
      "\n",
      "원문 : israel said would reduce electricity gaza strip three hours day palestinian authority refused foot bill move reportedly aimed forcing hamas either control gaza strip back palestinian authority take full responsibility notably hamas took control gaza \n",
      "실제 요약 : israel to reduce electricity supply to gaza \n",
      "예측 요약 :  israel to build new drones to clean pollution\n",
      "\n",
      "\n",
      "원문 : venture capitalist facebook board member marc said idea automation stealing jobs people panic every years people get machines going take jobs never happens said cited rise automobile industry example technology creating jobs \n",
      "실제 요약 : people of robots stealing jobs every yrs \n",
      "예측 요약 :  we will not be data on faulty vehicles\n",
      "\n",
      "\n",
      "원문 : according reports american model gigi hadid come india celebrity guest singer justin bieber purpose tour india scheduled may looking bunch coming india said director agency organising concert reportedly singer zayn malik also invited concert \n",
      "실제 요약 : gigi hadid to attend bieber india concert reports \n",
      "예측 요약 :  justin bieber to launch india concert on tv show\n",
      "\n",
      "\n"
     ]
    }
   ],
   "source": [
    "for i in range(50, 100):\n",
    "    print(\"원문 :\", seq2text(encoder_input_test[i]))\n",
    "    print(\"실제 요약 :\", seq2summary(decoder_input_test[i]))\n",
    "    print(\"예측 요약 :\", decode_sequence(encoder_input_test[i].reshape(1, text_max_len)))\n",
    "    print(\"\\n\")"
   ]
  },
  {
   "cell_type": "markdown",
   "id": "alert-decrease",
   "metadata": {},
   "source": [
    "## Step5. Summa를 이용해서 추출적 요약해보기"
   ]
  },
  {
   "cell_type": "code",
   "execution_count": 51,
   "id": "distant-ladder",
   "metadata": {},
   "outputs": [],
   "source": [
    "import requests\n",
    "from summa.summarizer import summarize"
   ]
  },
  {
   "cell_type": "code",
   "execution_count": 91,
   "id": "portuguese-commitment",
   "metadata": {},
   "outputs": [
    {
     "name": "stdout",
     "output_type": "stream",
     "text": [
      "\n",
      "\n",
      "\n",
      "\n",
      "\n",
      "\n",
      "\n",
      "\n",
      "\n",
      "\n"
     ]
    }
   ],
   "source": [
    "for  i in data['text'][:10]:\n",
    "    print(summarize(i, ratio=0.05))"
   ]
  },
  {
   "cell_type": "code",
   "execution_count": 92,
   "id": "powered-throw",
   "metadata": {},
   "outputs": [],
   "source": [
    "a = 'flags election campaign us president donald trump made china flag manufacturer claimed factory situated province also made flags trump campaign comes us china involved trade war us tariffs billion chinese imports coming effect friday'"
   ]
  },
  {
   "cell_type": "code",
   "execution_count": 93,
   "id": "primary-boards",
   "metadata": {
    "scrolled": false
   },
   "outputs": [
    {
     "name": "stdout",
     "output_type": "stream",
     "text": [
      "\n"
     ]
    }
   ],
   "source": [
    "print(summarize(a, ratio=0.005))"
   ]
  },
  {
   "cell_type": "code",
   "execution_count": null,
   "id": "biblical-comparison",
   "metadata": {},
   "outputs": [],
   "source": []
  },
  {
   "cell_type": "code",
   "execution_count": null,
   "id": "increasing-cooler",
   "metadata": {},
   "outputs": [],
   "source": []
  }
 ],
 "metadata": {
  "kernelspec": {
   "display_name": "Python 3",
   "language": "python",
   "name": "python3"
  },
  "language_info": {
   "codemirror_mode": {
    "name": "ipython",
    "version": 3
   },
   "file_extension": ".py",
   "mimetype": "text/x-python",
   "name": "python",
   "nbconvert_exporter": "python",
   "pygments_lexer": "ipython3",
   "version": "3.7.9"
  }
 },
 "nbformat": 4,
 "nbformat_minor": 5
}
