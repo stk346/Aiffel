{
 "cells": [
  {
   "cell_type": "markdown",
   "id": "magnetic-being",
   "metadata": {},
   "source": [
    "## 번역의 흐름"
   ]
  },
  {
   "cell_type": "markdown",
   "id": "first-triumph",
   "metadata": {},
   "source": [
    "### 규칙 기반 기계 번역\n",
    "잠시 한영 번역가가 되었다고 생각해 봅시다. 나는이라는 어절을 어떻게 번역할 수 있을까요? 아마 백이면 백 I am 또는 I'm 이라고 번역을 할 겁니다. 그렇다면 너는은 어떻죠? You am이라고 번역하실 분은 설마 없겠죠? You are이나 You're로 번역하는 것이 맞습니다!  \n",
    "  \n",
    "나 + 는과 너 + 는 모두 는을 포함하는데, 영문에서는 는 이 am 과 are로 나뉘는 것을 알 수 있습니다. 그러니 는 = am 이라고 정의할 수도, 는 = are 이라고 정의할 수도 없죠. 먼저 등장하는 단어가 나 인지 너 인지에 따라 분기를 나눠줘야 하는 거예요.  \n",
    "  \n",
    "이처럼 번역할 때 경우의 수를 직접 정의해 주는 방식이 규칙 기반 기계 번역(RBMT, Rule-Based Machine Translation) 입니다. 이 수많은 규칙들은 모두 언어학을 기반으로 하기 때문에, 개발 과정에 언어학자가 동반되어야만 했어요.  \n",
    "  \n",
    "예상하셨겠지만 규칙 기반 기계 번역은 한계가 명확합니다. 규칙에 없는 문장이 들어올 경우 번역이 불가능하고 유연성이 떨어지며, 무엇보다 모든 규칙을 정의하는 과정이 너무나도 복잡하고 오랜 시간이 필요 합니다. 더 편하게, 유연하게 번역을 해낼 수는 없을까요?"
   ]
  },
  {
   "cell_type": "markdown",
   "id": "absent-andorra",
   "metadata": {},
   "source": [
    "## 통계적 기계 번역\n",
    "단점이 명확한 규칙 기반 기계 번역을 개선하고자 하는 시도는 당연히 존재했으며, 아무래도 그것은 직접 구현해 본 쪽이 유리했나 봅니다. 1988년에 IBM이 Model 1을 통해 새로운 번역 방식을 선보였죠. 수많은 데이터로부터 통계적 확률을 구해 번역을 진행하는 통계적 기계 번역(SMT, Statistical Machine Translation) 이 바로 그것입니다.  \n",
    "  \n"
   ]
  },
  {
   "attachments": {
    "20211021_094157.png": {
     "image/png": "[encoded data removed]"
    }
   },
   "cell_type": "markdown",
   "id": "unlikely-walker",
   "metadata": {},
   "source": [
    "![20211021_094157.png](attachment:20211021_094157.png)"
   ]
  },
  {
   "attachments": {
    "20211021_094231.png": {
     "image/png": "[encoded data removed]"
    }
   },
   "cell_type": "markdown",
   "id": "occupied-branch",
   "metadata": {},
   "source": [
    "![20211021_094231.png](attachment:20211021_094231.png)"
   ]
  },
  {
   "cell_type": "code",
   "execution_count": null,
   "id": "returning-groove",
   "metadata": {},
   "outputs": [],
   "source": []
  }
 ],
 "metadata": {
  "kernelspec": {
   "display_name": "Python 3",
   "language": "python",
   "name": "python3"
  },
  "language_info": {
   "codemirror_mode": {
    "name": "ipython",
    "version": 3
   },
   "file_extension": ".py",
   "mimetype": "text/x-python",
   "name": "python",
   "nbconvert_exporter": "python",
   "pygments_lexer": "ipython3",
   "version": "3.7.9"
  }
 },
 "nbformat": 4,
 "nbformat_minor": 5
}
