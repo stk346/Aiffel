{
  "nbformat": 4,
  "nbformat_minor": 0,
  "metadata": {
    "colab": {
      "name": "TF Dataset_.ipynb",
      "provenance": [],
      "collapsed_sections": []
    },
    "kernelspec": {
      "name": "python3",
      "display_name": "Python 3"
    },
    "language_info": {
      "name": "python"
    }
  },
  "cells": [
    {
      "cell_type": "code",
      "metadata": {
        "colab": {
          "base_uri": "https://localhost:8080/"
        },
        "id": "23ugwk6UEqpN",
        "outputId": "1240998d-3354-4fc1-9146-d9137a7950d4"
      },
      "source": [
        "from google.colab import drive\n",
        "drive.mount('/content/drive')"
      ],
      "execution_count": null,
      "outputs": [
        {
          "output_type": "stream",
          "name": "stdout",
          "text": [
            "Mounted at /content/drive\n"
          ]
        }
      ]
    },
    {
      "cell_type": "code",
      "metadata": {
        "id": "RAtPIokqUZ3L"
      },
      "source": [
        "import pandas as pd"
      ],
      "execution_count": null,
      "outputs": []
    },
    {
      "cell_type": "code",
      "metadata": {
        "colab": {
          "base_uri": "https://localhost:8080/",
          "height": 206
        },
        "id": "s7UTKmo1QxCb",
        "outputId": "3c74c520-0dba-4f09-ab56-4591ae28091e"
      },
      "source": [
        "train_path = '/content/drive/MyDrive/Aiffel_Hackathon/Data/Training_Data_Clean.csv'\n",
        "test_path = '/content/drive/MyDrive/Aiffel_Hackathon/Data/Test_Data_Clean.csv'\n",
        "\n",
        "train_csv = pd.read_csv(train_path)\n",
        "train_csv.head()"
      ],
      "execution_count": null,
      "outputs": [
        {
          "output_type": "execute_result",
          "data": {
            "text/html": [
              "<div>\n",
              "<style scoped>\n",
              "    .dataframe tbody tr th:only-of-type {\n",
              "        vertical-align: middle;\n",
              "    }\n",
              "\n",
              "    .dataframe tbody tr th {\n",
              "        vertical-align: top;\n",
              "    }\n",
              "\n",
              "    .dataframe thead th {\n",
              "        text-align: right;\n",
              "    }\n",
              "</style>\n",
              "<table border=\"1\" class=\"dataframe\">\n",
              "  <thead>\n",
              "    <tr style=\"text-align: right;\">\n",
              "      <th></th>\n",
              "      <th>Unnamed: 0</th>\n",
              "      <th>Original_Filename_x</th>\n",
              "      <th>Gold_Filename</th>\n",
              "      <th>Document</th>\n",
              "      <th>Full_Text</th>\n",
              "      <th>Summary_Text</th>\n",
              "    </tr>\n",
              "  </thead>\n",
              "  <tbody>\n",
              "    <tr>\n",
              "      <th>0</th>\n",
              "      <td>0</td>\n",
              "      <td>15786_819157_2</td>\n",
              "      <td>15786_819156_1</td>\n",
              "      <td>15786</td>\n",
              "      <td>6 chief executive officer’s review the berong...</td>\n",
              "      <td>3 chairman’s statement in the 18 months since...</td>\n",
              "    </tr>\n",
              "    <tr>\n",
              "      <th>1</th>\n",
              "      <td>1</td>\n",
              "      <td>15783_819108_2</td>\n",
              "      <td>15783_819107_1</td>\n",
              "      <td>15783</td>\n",
              "      <td>chief executive officer’s statement the beron...</td>\n",
              "      <td>chairman s statement it has always been your ...</td>\n",
              "    </tr>\n",
              "    <tr>\n",
              "      <th>2</th>\n",
              "      <td>2</td>\n",
              "      <td>15782_819091_2</td>\n",
              "      <td>15782_819090_1</td>\n",
              "      <td>15782</td>\n",
              "      <td>chief executive officer’s statement the compa...</td>\n",
              "      <td>chairman’s statement the celestial ipilan ore...</td>\n",
              "    </tr>\n",
              "    <tr>\n",
              "      <th>3</th>\n",
              "      <td>3</td>\n",
              "      <td>15787_819176_2</td>\n",
              "      <td>15787_819175_1</td>\n",
              "      <td>15787</td>\n",
              "      <td>page 6 toledo mining corporation plc annual r...</td>\n",
              "      <td>page 5 i should like to begin my message with...</td>\n",
              "    </tr>\n",
              "    <tr>\n",
              "      <th>4</th>\n",
              "      <td>4</td>\n",
              "      <td>15816_820156_2</td>\n",
              "      <td>15816_820155_1</td>\n",
              "      <td>15816</td>\n",
              "      <td>3 chief executive’s statement tomkins plc rep...</td>\n",
              "      <td>2 tomkins plc report accounts 2003 chairman’s...</td>\n",
              "    </tr>\n",
              "  </tbody>\n",
              "</table>\n",
              "</div>"
            ],
            "text/plain": [
              "   Unnamed: 0  ...                                       Summary_Text\n",
              "0           0  ...   3 chairman’s statement in the 18 months since...\n",
              "1           1  ...   chairman s statement it has always been your ...\n",
              "2           2  ...   chairman’s statement the celestial ipilan ore...\n",
              "3           3  ...   page 5 i should like to begin my message with...\n",
              "4           4  ...   2 tomkins plc report accounts 2003 chairman’s...\n",
              "\n",
              "[5 rows x 6 columns]"
            ]
          },
          "metadata": {},
          "execution_count": 9
        }
      ]
    },
    {
      "cell_type": "code",
      "metadata": {
        "colab": {
          "base_uri": "https://localhost:8080/",
          "height": 112
        },
        "id": "0HoCZ_X2Y-0l",
        "outputId": "fbc98c46-b63d-46d1-a69a-f7a2ae1dc962"
      },
      "source": [
        "train = train_csv[['Document','Full_Text', 'Summary_Text']]\n",
        "train.head(2)"
      ],
      "execution_count": null,
      "outputs": [
        {
          "output_type": "execute_result",
          "data": {
            "text/html": [
              "<div>\n",
              "<style scoped>\n",
              "    .dataframe tbody tr th:only-of-type {\n",
              "        vertical-align: middle;\n",
              "    }\n",
              "\n",
              "    .dataframe tbody tr th {\n",
              "        vertical-align: top;\n",
              "    }\n",
              "\n",
              "    .dataframe thead th {\n",
              "        text-align: right;\n",
              "    }\n",
              "</style>\n",
              "<table border=\"1\" class=\"dataframe\">\n",
              "  <thead>\n",
              "    <tr style=\"text-align: right;\">\n",
              "      <th></th>\n",
              "      <th>Document</th>\n",
              "      <th>Full_Text</th>\n",
              "      <th>Summary_Text</th>\n",
              "    </tr>\n",
              "  </thead>\n",
              "  <tbody>\n",
              "    <tr>\n",
              "      <th>0</th>\n",
              "      <td>15786</td>\n",
              "      <td>6 chief executive officer’s review the berong...</td>\n",
              "      <td>3 chairman’s statement in the 18 months since...</td>\n",
              "    </tr>\n",
              "    <tr>\n",
              "      <th>1</th>\n",
              "      <td>15783</td>\n",
              "      <td>chief executive officer’s statement the beron...</td>\n",
              "      <td>chairman s statement it has always been your ...</td>\n",
              "    </tr>\n",
              "  </tbody>\n",
              "</table>\n",
              "</div>"
            ],
            "text/plain": [
              "   Document  ...                                       Summary_Text\n",
              "0     15786  ...   3 chairman’s statement in the 18 months since...\n",
              "1     15783  ...   chairman s statement it has always been your ...\n",
              "\n",
              "[2 rows x 3 columns]"
            ]
          },
          "metadata": {},
          "execution_count": 11
        }
      ]
    },
    {
      "cell_type": "code",
      "metadata": {
        "id": "qht5RIsQZRcR"
      },
      "source": [
        "train.to_csv('/content/drive/MyDrive/Aiffel_Hackathon/Data/Training_Data_Clean_Short.csv', index=False)"
      ],
      "execution_count": null,
      "outputs": []
    },
    {
      "cell_type": "code",
      "metadata": {
        "colab": {
          "base_uri": "https://localhost:8080/",
          "height": 112
        },
        "id": "7SR5X1e1Z-pF",
        "outputId": "8675a6f4-e82a-4ebd-cf40-e205a9f16244"
      },
      "source": [
        "train_path = '/content/drive/MyDrive/Aiffel_Hackathon/Data/Training_Data_Clean_Short.csv'\n",
        "train_data = pd.read_csv(train_path)\n",
        "train_data.head(2)"
      ],
      "execution_count": null,
      "outputs": [
        {
          "output_type": "execute_result",
          "data": {
            "text/html": [
              "<div>\n",
              "<style scoped>\n",
              "    .dataframe tbody tr th:only-of-type {\n",
              "        vertical-align: middle;\n",
              "    }\n",
              "\n",
              "    .dataframe tbody tr th {\n",
              "        vertical-align: top;\n",
              "    }\n",
              "\n",
              "    .dataframe thead th {\n",
              "        text-align: right;\n",
              "    }\n",
              "</style>\n",
              "<table border=\"1\" class=\"dataframe\">\n",
              "  <thead>\n",
              "    <tr style=\"text-align: right;\">\n",
              "      <th></th>\n",
              "      <th>Document</th>\n",
              "      <th>Full_Text</th>\n",
              "      <th>Summary_Text</th>\n",
              "    </tr>\n",
              "  </thead>\n",
              "  <tbody>\n",
              "    <tr>\n",
              "      <th>0</th>\n",
              "      <td>15786</td>\n",
              "      <td>6 chief executive officer’s review the berong...</td>\n",
              "      <td>3 chairman’s statement in the 18 months since...</td>\n",
              "    </tr>\n",
              "    <tr>\n",
              "      <th>1</th>\n",
              "      <td>15783</td>\n",
              "      <td>chief executive officer’s statement the beron...</td>\n",
              "      <td>chairman s statement it has always been your ...</td>\n",
              "    </tr>\n",
              "  </tbody>\n",
              "</table>\n",
              "</div>"
            ],
            "text/plain": [
              "   Document  ...                                       Summary_Text\n",
              "0     15786  ...   3 chairman’s statement in the 18 months since...\n",
              "1     15783  ...   chairman s statement it has always been your ...\n",
              "\n",
              "[2 rows x 3 columns]"
            ]
          },
          "metadata": {},
          "execution_count": 15
        }
      ]
    },
    {
      "cell_type": "code",
      "metadata": {
        "colab": {
          "base_uri": "https://localhost:8080/"
        },
        "id": "5mEv2Lsyd9Ei",
        "outputId": "1908b1a0-eef4-4bc4-c06d-89e785295b81"
      },
      "source": [
        "%cd /content/drive/MyDrive/Aiffel_Hackathon/Data"
      ],
      "execution_count": null,
      "outputs": [
        {
          "output_type": "stream",
          "name": "stdout",
          "text": [
            "/content/drive/MyDrive/Aiffel_Hackathon/Data\n"
          ]
        }
      ]
    },
    {
      "cell_type": "code",
      "metadata": {
        "id": "jkeuzlH4YRb5"
      },
      "source": [
        "def _bytes_feature(value):\n",
        "    return tf.train.Feature(bytes_list=tf.train.BytesList(value=[value]))\n",
        "def _int64_feature(value):\n",
        "    return tf.train.Feature(int64_list=tf.train.Int64List(value=[value]))"
      ],
      "execution_count": null,
      "outputs": []
    },
    {
      "cell_type": "code",
      "metadata": {
        "id": "7r8pPL39gL1n"
      },
      "source": [
        "import tensorflow as tf"
      ],
      "execution_count": null,
      "outputs": []
    },
    {
      "cell_type": "code",
      "metadata": {
        "id": "H23IZlc8YU56"
      },
      "source": [
        "tfrecords_filename = 'train.tfrecords'\n",
        "\n",
        "writer = tf.io.TFRecordWriter(tfrecords_filename)\n",
        "\n",
        "original_tables = []\n",
        "\n",
        "for item in train_data.itertuples():\n",
        "    example = tf.train.Example(features=tf.train.Features(feature={\n",
        "        'Document': _int64_feature(item.Document),\n",
        "        'Full_Text': _bytes_feature(str.encode(item.Full_Text)),\n",
        "        'Summary_Text': _bytes_feature(str.encode(item.Summary_Text)),\n",
        "        }))\n",
        "    \n",
        "    writer.write(example.SerializeToString())\n",
        "\n",
        "writer.close()"
      ],
      "execution_count": null,
      "outputs": []
    },
    {
      "cell_type": "code",
      "metadata": {
        "colab": {
          "base_uri": "https://localhost:8080/"
        },
        "id": "VUNbSBZShL0w",
        "outputId": "0692d1e6-3190-4aef-b7bf-065901901274"
      },
      "source": [
        "raw_dataset = tf.data.TFRecordDataset(tfrecords_filename)\n",
        "\n",
        "for raw_record in raw_dataset.take(1):\n",
        "    example = tf.train.Example()\n",
        "    example.ParseFromString(raw_record.numpy())\n",
        "    print(example)"
      ],
      "execution_count": null,
      "outputs": [
        {
          "output_type": "stream",
          "name": "stdout",
          "text": [
            "features {\n",
            "  feature {\n",
            "    key: \"Document\"\n",
            "    value {\n",
            "      int64_list {\n",
            "        value: 15786\n",
            "      }\n",
            "    }\n",
            "  }\n",
            "  feature {\n",
            "    key: \"Full_Text\"\n",
            "    value {\n",
            "      bytes_list {\n",
            "        value: \" 6 chief executive officer\\342\\200\\231s review the berong nickel mine , in which toledo has a 56.1 percent economic interest , successfully recommenced operations in may 2011.this became possible due to favourable market conditions for high grade saprolite nickel ores and strong nickel prices which have stayed above usdollar 20,000 tonne since august 2010. prior to reopening the berong mine , toledo developed a new strategy with its jv partners in berong nickel corporation bnc to target production of nickel ore containing 1.8 percent nickel , which is currently being implemented . the 1.8 percent plan was developed consistent with growing market demands for this ore type . the recent significant changes in market demand for high grade saprolite nickel ore have opened up sound prospects for our deposits . historically , the development of exports of high grade saprolite nickel ore began from new caledonia during the 1950 s by japanese ferronickel producers . later , they extended their ore source market to indonesia and the philippines . the requirement for nickel content in the ore in 2001 was very high at 2.45 percent , which is why only a few nickel ore producers in the philippines could compete in this market . from 2003, the european manufacturers of ferronickel also started using high grade saprolite ore from asia in their electric arc furnace eaf production , thereby competing with japanese consumers . by the end of 2006, the typical nickel content of high grade saprolite ores exported from new caledonia , indonesia and the philippines had fallen to 2.2 percent nickel due to a general decline in the grade of existing deposits and also due to the increased demand for ore . the most significant changes in the market began in 2006, when china began to use nickel ore for the production of nickel pig iron npi in blast furnaces , which were previously used for iron production . as the technology for production of pig iron in blast furnaces requires high iron content in raw materials , the chinese manufacturers mainly used limonitic nickel ores with high iron content 45- 55 percent and low nickel content 0.9-1 percent . the proportion of high grade saprolitic ore in the blast furnaces production of npi was relatively small . at the time of the crash in nickel prices at the end of 2008, china did not yet have substantial numbers of eaf plants for ferronickel production , and had not yet created competition in the market for high grade ores . however , it rapidly became clear to the chinese ferronickel and npi producers that the use of eaf for ferronickel production using high grade ores was much more competitive compared to npi production in blast furnaces . by early 2011, china had already built significant numbers of eaf plants for the production of ferronickel . this dramatically increased the demand for high grade saprolitic ore , resulting in a decrease in the average available grade from 2.2 percent to 1.8 percent nickel content . all of this has led to the berong deposit , with its substantial reserves of 1.8 percent nickel ore grade , becoming very competitive against the previous market leaders in high grade ore production from new caledonia , indonesia and the philippines . the restart of the berong mine by bnc was facilitated by the sale of the existing stockpile of low grade ore , produced in 2008, the proceeds of which are being used as working capital to support mining operations . currently , 103,530 wet metric tonnes wmt of nickel ore with an average grade of 1.54 percent nickel has been shipped from the existing stockpile , yielding a revenue of usdollar 2.57 million to bnc . to date , a further 160,569 wmt of ore with a nickel content of 1.8 percent has been mined and delivered to the stockpile . we anticipate producing a total of 450,000 wmt of ore containing 1.8 percent nickel by the end of this year , from which we expect to ship 200,000-250,000 wmt in this shipping season . because berong uses barges to load ships offshore , sea conditions typically limit shipments to between march and october . it is planned that shipments will be resumed at the beginning of march 2012, when sea conditions again become conducive to barge ship loading . we have revised our projected shipping target for bnc , as announced on 27 may 2011, downwards by 50,000 tonnes . the berong mine is targeting production of 750,000 wmt of 1.8 percent nickel ore during 2012. to address the constraints of the limited shipping window , bnc has recently engaged an engineering 7 company to look into the possibility of increasing the shipping period , the successful outcome of which would increase the capacity of the berong port to 1,000,000 wmt per year . among the range of possible measures being considered in the engineering study are the extension of the pier to accommodate bigger barges and the construction of a protective sea wall . the jorc-compliant resource for berong was prepared by snowden mining industry consultants in june 2007. the total resource over the area drilled was stated at 9.92 million dry tonnes averaging 1.55 percent ni at a 1 percent cut-off grade . this resource included a subset of high grade resource of 4.88 million dry tonnes grading 1.88 percent ni at a 1.5 percent cut-off grade . currently , following the 2006 to 2008 direct shipping ore operation , the balance of this high grade resource is approximately 4.68 million dry tonnes equivalent to approximately 6.98 million wet tonnes of ore which will support a 9-year life of mine at the present rate of production of 750,000 wmt of 1.8 percent nickel grade per annum . for every tonne of high-grade ore produced , approximately two tonnes of low grade ore with nickel content averaging 1.3 percent will be produced alongside . this will be stored at the mine site area in anticipation of future value added processing operations or for sale should favourable market conditions prevail . a mining project feasibility study for ipilan , in which toledo holds a 52 percent economic interest , was carried out in august 2010 and the relevant documents were compiled and submitted to the mines and geosciences bureau for review and approval in november 2010. these included a declaration of project mining feasibility dmf , environmental protection and enhancement program , final mine rehabilitation and decommissioning plan , social development and management plan and a health and safety plan . clearance of the all-important strategic environmental plan sep has been received from the palawan council for sustainable development pcsd . a comprehensive sintering test has been undertaken on ipilan\\342\\200\\231s ore , which has highlighted an opportunity to upgrade the ore , especially its limonitic part . this study has opened up the possibility of upgrading the iron and nickel content of ipilan\\342\\200\\231s limonitic ore to make it more suitable for npi blast furnace production . as berong\\342\\200\\231s ore is similar to ipilan\\342\\200\\231s , the results of the study could also be extended to berong\\342\\200\\231s low grade limonitic ore . capital and operating costs of the process are being evaluated . mine experience gained in the development and operation of berong will be applied to ipilan once full permitting for mine development has been secured . past works have confirmed the possibility of using all the available leaching technologies such as high pressure acid leaching hpal , atmospheric leaching al and heap leaching hl for processing the ores of our deposits . we continue to assess the viability of these technologies in line with changing market conditions . we are also expanding our study on pyro-metallurgical technologies , such as looking into regional eaf production of ferronickel to evaluate which is the most viable and sustainable value added process for our ore . berong continues to set the benchmark in best practice for its environmental work within the community . the mine rehabilitation area is now home to 4.5 hectares of rubber trees , which should provide the community with a sustainable source of income for years to come . alongside this , toledo is dedicated to preserving its relationships with the local government units lgus and schools in support of the national greening project to deliver our commitment to plant 50 new trees for every one tree cut . in this regard , numerous species of value added trees , fruit trees and grasses continue to be planted . funds from royalty payments made to the indigenous peoples continue to provide essential services to the community as well as establishing livelihood projects , which aim to empower the local community in generating its own income . we are consistently investing more time and money into corporate social responsibility csr projects than is our obligation , as mandated by law , and continue to strive to contribute positively to the local environment and communities amongst which we operate . 8 finally , it would not have been possible to resume operations at berong at such short notice , or indeed at all , without the continued support and hard work of all of our stakeholders including the local community , the lgus , the provincial and national government and of course our staff and management both locally in the philippines and in the uk . i would like to take this opportunity to congratulate them all and look ahead to continued success in the months and years to come . victor kolesnikov chief executive officer 24 august 2011 competent person statement the resource information in this statement is based on information reviewed by mr pierre charlent , chief operating officer of toledo mining corporation , who is a member of the australasian institute of mining metallurgy . mr charlent has sufficient experience , which is relevant to the style of mineralisation and type of deposit under consideration and to the activities undertaken , to qualify as a competent person as defined in the 2004 edition of the australasian code for reporting of exploration results , mineral resources and ore reserves the jorc code . mr charlent consents to the inclusion in this statement of the matters based on this information , in the form and context in which they appear . 9 in the community toledo is very mindful of its duty to manage the environmental and social impact of its mining operations in a responsible and sensitive manner . all businesses are part of the wider society , and we believe they have both the responsibility and the capability to make a positive contribution to the communities in which they operate . berong nickel corporation bnc recognises that the efficient operation of its business depends on the support of the local authorities and of the community as a whole , and seeks to provide significant and sustainable benefits through its presence . bnc\\342\\200\\231s community relations officer , joy asignacion , ensures that everyone within the local community has a say in identifying and participating in projects backed by the company . there are currently two main focus areas for these projects the social development and management programme and community programmes . bnc\\342\\200\\231s social development and management programme sdmp was launched in 2007, following extensive consultation with the community and local government to ensure that the programme would be fully aligned with their interests and aspirations . since then , the sdmp has funded a number of very successful initiatives , including a scholarship scheme , a para-teachers programme , improved medical services , and a potable water system . the community programmes are wide ranging , and are selected and run with the active involvement of members of the community . recent programmes include livelihood backyard gardening scheme tilapia festival manufacture of coco-based products buying station for recyclable materials . education read-along scheme berong elementary extension school science month celebration at berong national high school . health cooking contest supplemental feeding personal hygiene demonstration community garden and beautification dumi mo , linis mo construction of comfort rooms new mothers\\342\\200\\231 classes school garden . adopt-a-mountain bnc devised its adopt-a-mountain programme as a proactive and imaginative response to a directive issued by the environmental management bureau of the philippine department of environment and natural resources denr relating to the rehabilitation by mining operators of denuded forests or mountains outside of currently approved mining areas . along with restoration and conservation , the programme also aims to provide livelihoods to local people by planting tree species that can generate sustainable income in the future . the barangay district of berong is home to indigenous peoples called tagbanua and migrants from the visayan islands . the tagbanua are the aborigines of quezon and have inhabited the land for centuries . slash and burn farming known locally as kaingin and fishing are the main sources of livelihood of the nomadic tagbanua , and this has had a detrimental effect on the environment within the district . bnc\\342\\200\\231s community relations team faced a real challenge in finding denuded areas to adopt , since most of them are still being used as kaingin by the tagbanua who understandably do not want to leave unless they can sell the land at a very high price to bnc . however , following a series of negotiations conducted with the helpful guidance of the denr , the first tree planting event under the adopt-a-mountain programme was able to take place on 11 september 2010. hundreds of people from the community , including schoolchildren along with their teachers and mothers , government officials and local civic groups , converged and planted around 6,000 seedlings . 10 the adopt-a-mountain initiative is not only helping to rehabilitate the local environment , but also to promote better understanding and relationships throughout the community . bnc will continue to fund and extend this initiative , and the barangay of berong has declared that 11 september will from now on be designated adopt-a-mountain day . \"\n",
            "      }\n",
            "    }\n",
            "  }\n",
            "  feature {\n",
            "    key: \"Summary_Text\"\n",
            "    value {\n",
            "      bytes_list {\n",
            "        value: \" 3 chairman\\342\\200\\231s statement in the 18 months since the beginning of toledo\\342\\200\\231s 2011 financial year , our management has worked tirelessly to extract greater value from our nickel investments located in the philippines . it was very pleasing therefore to be able to announce in april that sales contracts had been secured to finance the reopening of the berong mine , which duly occurred in may . the intention is now to produce 450,000 wet metric tonnes wmt of nickel ore this calendar year rising to 750,000 wmt annually thereafter . the expected net revenue generated from ore sales will be more than sufficient at current nickel prices for the joint owners of berong to fund an exploration programme of the area around berong and undertake engineering studies to improve ship loading capability and determine the optimal technology for local processing of ore . at the ipilan project , on the eastern and opposite side of palawan island to berong , significant progress has been made towards being able to mine the deposit . last december , we announced that statutory licencing obligations had been progressed to the point where only a mine feasibility plan and related documents required official sign off before mining operations could begin . the feasibility plan has been submitted to the minerals and geosciences bureau , and it is understood that their initial review has drawn no negative feedback . at the beginning of our financial year , we had just commenced an exploration programme on the moorsom prospect , lying within a 14 kilometre radius of the berong mine . the stated aim was to prove up sufficient ore capable of supporting a processing operation producing 20,000 tonnes per annum of contained nickel . although the initial results were encouraging , the programme was curtailed when it became apparent that whilst the requisite tonnage undoubtedly exists , the nickel grade is less than hoped . in-house analysis of the assay data indicates a total resource of 43 million tonnes grading just over 0.8 percent nickel using a 0 percent cut-off grade . further work is required to determine whether any part of this huge resource has the potential of commercial development . as mentioned in my half yearly statement , the area long believed to offer significant exploration potential is the coastal portion of the long point prospect , located some 20 kilometres to the north east of the berong mine . this area , which lies within an environmental critical area network ecan , is presently off limits to exploration . however , we remain hopeful that with the support of the local council , which has petitioned for the ecan map to be redrawn , we will be granted permission to explore palawan is a particularly environmentally sensitive island within which to operate . often described as the philippines last ecological frontier it has been accorded special status under the constitution . it is not surprising therefore that obtaining permits to explore and mine on palawan requires extensive review and cooperation with local authorities . management of both berong and ipilan has ensured that very careful attention to community , social and environmental issues has enabled the restart of the berong mine and successful ratification of the environmental plans for the development of ipilan . more detailed operational information on both berong and ipilan is contained in the chief executive\\342\\200\\231s review . for the financial year to 31 march 2011 toledo reported a pre-tax loss of pound 4.4 million as compared to a loss of pound 2.0 million in the 2010 financial year . of the pound 2.4 million increase in pre-tax losses , pound 1.6 million is due to non-cash provisions with respect to the early settlement by atlas consolidated mining and development corporation atlas of a loan from toledo to atlas , a partner in berong , and a reduction in the carrying value of our investment in ipilan . a further pound 0.21 million was due to foreign exchange losses on usdollar denominated loans to philippine partners . associated 4 company losses rose by pound 0.36 million and administrative expenses were pound 0.46 million higher , principally as a result of negotiations with the jinchuan group during the financial year . with no income during 2010 and for most of this year , toledo has relied on the loyal support of shareholders . last december , the company placed 8.307 million shares to raise pound 1.9 million net of expenses . as a result of the issue , toledo now has 49,845,333 fully paid ordinary shares in issue of which daintree limited whose major shareholder , jason cheng , sits on the toledo board holds 22 percent and fevamotinico sarl a company related to kostyantin zhevago holds 20 percent . the issue also saw mr . jason cropper increase his equity holding to 6.7 percent , since when , through on market purchases , his holding has risen to 16 percent . meanwhile , toledo\\342\\200\\231s once most significant shareholder , european nickel plc , now has just a little over 5 percent equity holding , although it still retains its 18.7 percent voting interest in berong nickel corporation . presently financial matters look a lot better for both toledo and its shareholders . the berong mine should now be self-financing for the foreseeable future . whilst toledo still has a commitment to fund on a recoverable basis ipilan up to mine development , your company is well funded as a result of the early settlement of the atlas loan referred to earlier and which will add usdollar 4.5 million to toledo\\342\\200\\231s cash holdings . it is quite natural that strong commodity prices draws the attention of mineral rich countries to the wealth beneath their feet and heightens the debate as to how best these resources be developed for the benefit of the country concerned . the philippines , with its exceptional endowment of mineral resources , is no exception to such debate , the current focus being on the pros and cons of limiting ore exports in preference to domestic processing and on whether to tighten or relax the legislation limiting foreign ownership of mineral properties . toledo welcomes clarification and resolution on both these issues . meanwhile , your company considers it wise to recognise philippine nationals\\342\\200\\231 desire to process minerals within the country and , accordingly , to plan for a more restrictive environment on ore exports . we do not see such an outcome as necessarily financially damaging for toledo . equally , we believe that any change to the legislation on foreign ownership will recognise the important contribution foreign investment makes to the philippine economy . as toledo became more confident that developments in the nickel market and in particular the explosive growth in demand for nickel ore , primarily from china but also elsewhere , would support a reopening of the berong mine and accelerate value added ambitions , we moved to strengthen our management capabilities . in january 2011, we welcomed victor kolesnikov to the toledo board . in march we appointed him chief executive officer . victor is a metallurgist with over 22 years\\342\\200\\231 experience in mining and sales in the non-ferrous metals industry , including eight years with norilsk nickel , the world\\342\\200\\231s largest nickel producer . in the short time since his appointment as ceo , victor has made a very positive impact on our business including overseeing the commencement of operations at berong . in may 2011, we appointed pierre charlent , chief operating officer based in the philippines . pierre replaces ken stein , who returned to australia for personal reasons . as a geologist and mining engineer , pierre not only complements victor\\342\\200\\231s metallurgical expertise , but also comes to toledo with over 25 years\\342\\200\\231 experience in the mining industry , including 14 years in nickel laterite exploration , mining and development in new caledonia . we are very fortunate to have been able to recruit two such high calibre and experienced individuals . with the commitment of the staff of the manila-based management company of berong and ipilan and the employees at the respective sites , we have significantly advanced the reactivation of berong and made substantial progress in the permitting at ipilan . the toledo board owes all of them a huge debt of gratitude . 5 i would also like to thank felix pole who stood down from the toledo board at the end of june . felix was my companion in guiding toledo through some very challenging times . fortunately , although felix resigned from the board because of the heavy demands of his business interests , he remains available should we need to tap his wise counsel . finally , i would like to extend my thanks to our shareholders for their continued support . we have made much positive progress this year and i look forward to updating you as we continue to realise further goals over the coming year . reginald eccles chairman 24 august 2011 \"\n",
            "      }\n",
            "    }\n",
            "  }\n",
            "}\n",
            "\n"
          ]
        }
      ]
    },
    {
      "cell_type": "code",
      "metadata": {
        "colab": {
          "base_uri": "https://localhost:8080/"
        },
        "id": "htwyYy0UjMkl",
        "outputId": "49d72719-90ca-4b63-aa42-67778f09e0a7"
      },
      "source": [
        "print(train_data['Full_Text'][0])"
      ],
      "execution_count": null,
      "outputs": [
        {
          "output_type": "stream",
          "name": "stdout",
          "text": [
            " 6 chief executive officer’s review the berong nickel mine , in which toledo has a 56.1 percent economic interest , successfully recommenced operations in may 2011.this became possible due to favourable market conditions for high grade saprolite nickel ores and strong nickel prices which have stayed above usdollar 20,000 tonne since august 2010. prior to reopening the berong mine , toledo developed a new strategy with its jv partners in berong nickel corporation bnc to target production of nickel ore containing 1.8 percent nickel , which is currently being implemented . the 1.8 percent plan was developed consistent with growing market demands for this ore type . the recent significant changes in market demand for high grade saprolite nickel ore have opened up sound prospects for our deposits . historically , the development of exports of high grade saprolite nickel ore began from new caledonia during the 1950 s by japanese ferronickel producers . later , they extended their ore source market to indonesia and the philippines . the requirement for nickel content in the ore in 2001 was very high at 2.45 percent , which is why only a few nickel ore producers in the philippines could compete in this market . from 2003, the european manufacturers of ferronickel also started using high grade saprolite ore from asia in their electric arc furnace eaf production , thereby competing with japanese consumers . by the end of 2006, the typical nickel content of high grade saprolite ores exported from new caledonia , indonesia and the philippines had fallen to 2.2 percent nickel due to a general decline in the grade of existing deposits and also due to the increased demand for ore . the most significant changes in the market began in 2006, when china began to use nickel ore for the production of nickel pig iron npi in blast furnaces , which were previously used for iron production . as the technology for production of pig iron in blast furnaces requires high iron content in raw materials , the chinese manufacturers mainly used limonitic nickel ores with high iron content 45- 55 percent and low nickel content 0.9-1 percent . the proportion of high grade saprolitic ore in the blast furnaces production of npi was relatively small . at the time of the crash in nickel prices at the end of 2008, china did not yet have substantial numbers of eaf plants for ferronickel production , and had not yet created competition in the market for high grade ores . however , it rapidly became clear to the chinese ferronickel and npi producers that the use of eaf for ferronickel production using high grade ores was much more competitive compared to npi production in blast furnaces . by early 2011, china had already built significant numbers of eaf plants for the production of ferronickel . this dramatically increased the demand for high grade saprolitic ore , resulting in a decrease in the average available grade from 2.2 percent to 1.8 percent nickel content . all of this has led to the berong deposit , with its substantial reserves of 1.8 percent nickel ore grade , becoming very competitive against the previous market leaders in high grade ore production from new caledonia , indonesia and the philippines . the restart of the berong mine by bnc was facilitated by the sale of the existing stockpile of low grade ore , produced in 2008, the proceeds of which are being used as working capital to support mining operations . currently , 103,530 wet metric tonnes wmt of nickel ore with an average grade of 1.54 percent nickel has been shipped from the existing stockpile , yielding a revenue of usdollar 2.57 million to bnc . to date , a further 160,569 wmt of ore with a nickel content of 1.8 percent has been mined and delivered to the stockpile . we anticipate producing a total of 450,000 wmt of ore containing 1.8 percent nickel by the end of this year , from which we expect to ship 200,000-250,000 wmt in this shipping season . because berong uses barges to load ships offshore , sea conditions typically limit shipments to between march and october . it is planned that shipments will be resumed at the beginning of march 2012, when sea conditions again become conducive to barge ship loading . we have revised our projected shipping target for bnc , as announced on 27 may 2011, downwards by 50,000 tonnes . the berong mine is targeting production of 750,000 wmt of 1.8 percent nickel ore during 2012. to address the constraints of the limited shipping window , bnc has recently engaged an engineering 7 company to look into the possibility of increasing the shipping period , the successful outcome of which would increase the capacity of the berong port to 1,000,000 wmt per year . among the range of possible measures being considered in the engineering study are the extension of the pier to accommodate bigger barges and the construction of a protective sea wall . the jorc-compliant resource for berong was prepared by snowden mining industry consultants in june 2007. the total resource over the area drilled was stated at 9.92 million dry tonnes averaging 1.55 percent ni at a 1 percent cut-off grade . this resource included a subset of high grade resource of 4.88 million dry tonnes grading 1.88 percent ni at a 1.5 percent cut-off grade . currently , following the 2006 to 2008 direct shipping ore operation , the balance of this high grade resource is approximately 4.68 million dry tonnes equivalent to approximately 6.98 million wet tonnes of ore which will support a 9-year life of mine at the present rate of production of 750,000 wmt of 1.8 percent nickel grade per annum . for every tonne of high-grade ore produced , approximately two tonnes of low grade ore with nickel content averaging 1.3 percent will be produced alongside . this will be stored at the mine site area in anticipation of future value added processing operations or for sale should favourable market conditions prevail . a mining project feasibility study for ipilan , in which toledo holds a 52 percent economic interest , was carried out in august 2010 and the relevant documents were compiled and submitted to the mines and geosciences bureau for review and approval in november 2010. these included a declaration of project mining feasibility dmf , environmental protection and enhancement program , final mine rehabilitation and decommissioning plan , social development and management plan and a health and safety plan . clearance of the all-important strategic environmental plan sep has been received from the palawan council for sustainable development pcsd . a comprehensive sintering test has been undertaken on ipilan’s ore , which has highlighted an opportunity to upgrade the ore , especially its limonitic part . this study has opened up the possibility of upgrading the iron and nickel content of ipilan’s limonitic ore to make it more suitable for npi blast furnace production . as berong’s ore is similar to ipilan’s , the results of the study could also be extended to berong’s low grade limonitic ore . capital and operating costs of the process are being evaluated . mine experience gained in the development and operation of berong will be applied to ipilan once full permitting for mine development has been secured . past works have confirmed the possibility of using all the available leaching technologies such as high pressure acid leaching hpal , atmospheric leaching al and heap leaching hl for processing the ores of our deposits . we continue to assess the viability of these technologies in line with changing market conditions . we are also expanding our study on pyro-metallurgical technologies , such as looking into regional eaf production of ferronickel to evaluate which is the most viable and sustainable value added process for our ore . berong continues to set the benchmark in best practice for its environmental work within the community . the mine rehabilitation area is now home to 4.5 hectares of rubber trees , which should provide the community with a sustainable source of income for years to come . alongside this , toledo is dedicated to preserving its relationships with the local government units lgus and schools in support of the national greening project to deliver our commitment to plant 50 new trees for every one tree cut . in this regard , numerous species of value added trees , fruit trees and grasses continue to be planted . funds from royalty payments made to the indigenous peoples continue to provide essential services to the community as well as establishing livelihood projects , which aim to empower the local community in generating its own income . we are consistently investing more time and money into corporate social responsibility csr projects than is our obligation , as mandated by law , and continue to strive to contribute positively to the local environment and communities amongst which we operate . 8 finally , it would not have been possible to resume operations at berong at such short notice , or indeed at all , without the continued support and hard work of all of our stakeholders including the local community , the lgus , the provincial and national government and of course our staff and management both locally in the philippines and in the uk . i would like to take this opportunity to congratulate them all and look ahead to continued success in the months and years to come . victor kolesnikov chief executive officer 24 august 2011 competent person statement the resource information in this statement is based on information reviewed by mr pierre charlent , chief operating officer of toledo mining corporation , who is a member of the australasian institute of mining metallurgy . mr charlent has sufficient experience , which is relevant to the style of mineralisation and type of deposit under consideration and to the activities undertaken , to qualify as a competent person as defined in the 2004 edition of the australasian code for reporting of exploration results , mineral resources and ore reserves the jorc code . mr charlent consents to the inclusion in this statement of the matters based on this information , in the form and context in which they appear . 9 in the community toledo is very mindful of its duty to manage the environmental and social impact of its mining operations in a responsible and sensitive manner . all businesses are part of the wider society , and we believe they have both the responsibility and the capability to make a positive contribution to the communities in which they operate . berong nickel corporation bnc recognises that the efficient operation of its business depends on the support of the local authorities and of the community as a whole , and seeks to provide significant and sustainable benefits through its presence . bnc’s community relations officer , joy asignacion , ensures that everyone within the local community has a say in identifying and participating in projects backed by the company . there are currently two main focus areas for these projects the social development and management programme and community programmes . bnc’s social development and management programme sdmp was launched in 2007, following extensive consultation with the community and local government to ensure that the programme would be fully aligned with their interests and aspirations . since then , the sdmp has funded a number of very successful initiatives , including a scholarship scheme , a para-teachers programme , improved medical services , and a potable water system . the community programmes are wide ranging , and are selected and run with the active involvement of members of the community . recent programmes include livelihood backyard gardening scheme tilapia festival manufacture of coco-based products buying station for recyclable materials . education read-along scheme berong elementary extension school science month celebration at berong national high school . health cooking contest supplemental feeding personal hygiene demonstration community garden and beautification dumi mo , linis mo construction of comfort rooms new mothers’ classes school garden . adopt-a-mountain bnc devised its adopt-a-mountain programme as a proactive and imaginative response to a directive issued by the environmental management bureau of the philippine department of environment and natural resources denr relating to the rehabilitation by mining operators of denuded forests or mountains outside of currently approved mining areas . along with restoration and conservation , the programme also aims to provide livelihoods to local people by planting tree species that can generate sustainable income in the future . the barangay district of berong is home to indigenous peoples called tagbanua and migrants from the visayan islands . the tagbanua are the aborigines of quezon and have inhabited the land for centuries . slash and burn farming known locally as kaingin and fishing are the main sources of livelihood of the nomadic tagbanua , and this has had a detrimental effect on the environment within the district . bnc’s community relations team faced a real challenge in finding denuded areas to adopt , since most of them are still being used as kaingin by the tagbanua who understandably do not want to leave unless they can sell the land at a very high price to bnc . however , following a series of negotiations conducted with the helpful guidance of the denr , the first tree planting event under the adopt-a-mountain programme was able to take place on 11 september 2010. hundreds of people from the community , including schoolchildren along with their teachers and mothers , government officials and local civic groups , converged and planted around 6,000 seedlings . 10 the adopt-a-mountain initiative is not only helping to rehabilitate the local environment , but also to promote better understanding and relationships throughout the community . bnc will continue to fund and extend this initiative , and the barangay of berong has declared that 11 september will from now on be designated adopt-a-mountain day . \n"
          ]
        }
      ]
    },
    {
      "cell_type": "code",
      "metadata": {
        "colab": {
          "base_uri": "https://localhost:8080/"
        },
        "id": "-22u1KBcjSAc",
        "outputId": "497bf008-c527-4d60-86bd-e5bd5e30cd31"
      },
      "source": [
        "print(train_data['Summary_Text'][0])"
      ],
      "execution_count": null,
      "outputs": [
        {
          "output_type": "stream",
          "name": "stdout",
          "text": [
            " 3 chairman’s statement in the 18 months since the beginning of toledo’s 2011 financial year , our management has worked tirelessly to extract greater value from our nickel investments located in the philippines . it was very pleasing therefore to be able to announce in april that sales contracts had been secured to finance the reopening of the berong mine , which duly occurred in may . the intention is now to produce 450,000 wet metric tonnes wmt of nickel ore this calendar year rising to 750,000 wmt annually thereafter . the expected net revenue generated from ore sales will be more than sufficient at current nickel prices for the joint owners of berong to fund an exploration programme of the area around berong and undertake engineering studies to improve ship loading capability and determine the optimal technology for local processing of ore . at the ipilan project , on the eastern and opposite side of palawan island to berong , significant progress has been made towards being able to mine the deposit . last december , we announced that statutory licencing obligations had been progressed to the point where only a mine feasibility plan and related documents required official sign off before mining operations could begin . the feasibility plan has been submitted to the minerals and geosciences bureau , and it is understood that their initial review has drawn no negative feedback . at the beginning of our financial year , we had just commenced an exploration programme on the moorsom prospect , lying within a 14 kilometre radius of the berong mine . the stated aim was to prove up sufficient ore capable of supporting a processing operation producing 20,000 tonnes per annum of contained nickel . although the initial results were encouraging , the programme was curtailed when it became apparent that whilst the requisite tonnage undoubtedly exists , the nickel grade is less than hoped . in-house analysis of the assay data indicates a total resource of 43 million tonnes grading just over 0.8 percent nickel using a 0 percent cut-off grade . further work is required to determine whether any part of this huge resource has the potential of commercial development . as mentioned in my half yearly statement , the area long believed to offer significant exploration potential is the coastal portion of the long point prospect , located some 20 kilometres to the north east of the berong mine . this area , which lies within an environmental critical area network ecan , is presently off limits to exploration . however , we remain hopeful that with the support of the local council , which has petitioned for the ecan map to be redrawn , we will be granted permission to explore palawan is a particularly environmentally sensitive island within which to operate . often described as the philippines last ecological frontier it has been accorded special status under the constitution . it is not surprising therefore that obtaining permits to explore and mine on palawan requires extensive review and cooperation with local authorities . management of both berong and ipilan has ensured that very careful attention to community , social and environmental issues has enabled the restart of the berong mine and successful ratification of the environmental plans for the development of ipilan . more detailed operational information on both berong and ipilan is contained in the chief executive’s review . for the financial year to 31 march 2011 toledo reported a pre-tax loss of pound 4.4 million as compared to a loss of pound 2.0 million in the 2010 financial year . of the pound 2.4 million increase in pre-tax losses , pound 1.6 million is due to non-cash provisions with respect to the early settlement by atlas consolidated mining and development corporation atlas of a loan from toledo to atlas , a partner in berong , and a reduction in the carrying value of our investment in ipilan . a further pound 0.21 million was due to foreign exchange losses on usdollar denominated loans to philippine partners . associated 4 company losses rose by pound 0.36 million and administrative expenses were pound 0.46 million higher , principally as a result of negotiations with the jinchuan group during the financial year . with no income during 2010 and for most of this year , toledo has relied on the loyal support of shareholders . last december , the company placed 8.307 million shares to raise pound 1.9 million net of expenses . as a result of the issue , toledo now has 49,845,333 fully paid ordinary shares in issue of which daintree limited whose major shareholder , jason cheng , sits on the toledo board holds 22 percent and fevamotinico sarl a company related to kostyantin zhevago holds 20 percent . the issue also saw mr . jason cropper increase his equity holding to 6.7 percent , since when , through on market purchases , his holding has risen to 16 percent . meanwhile , toledo’s once most significant shareholder , european nickel plc , now has just a little over 5 percent equity holding , although it still retains its 18.7 percent voting interest in berong nickel corporation . presently financial matters look a lot better for both toledo and its shareholders . the berong mine should now be self-financing for the foreseeable future . whilst toledo still has a commitment to fund on a recoverable basis ipilan up to mine development , your company is well funded as a result of the early settlement of the atlas loan referred to earlier and which will add usdollar 4.5 million to toledo’s cash holdings . it is quite natural that strong commodity prices draws the attention of mineral rich countries to the wealth beneath their feet and heightens the debate as to how best these resources be developed for the benefit of the country concerned . the philippines , with its exceptional endowment of mineral resources , is no exception to such debate , the current focus being on the pros and cons of limiting ore exports in preference to domestic processing and on whether to tighten or relax the legislation limiting foreign ownership of mineral properties . toledo welcomes clarification and resolution on both these issues . meanwhile , your company considers it wise to recognise philippine nationals’ desire to process minerals within the country and , accordingly , to plan for a more restrictive environment on ore exports . we do not see such an outcome as necessarily financially damaging for toledo . equally , we believe that any change to the legislation on foreign ownership will recognise the important contribution foreign investment makes to the philippine economy . as toledo became more confident that developments in the nickel market and in particular the explosive growth in demand for nickel ore , primarily from china but also elsewhere , would support a reopening of the berong mine and accelerate value added ambitions , we moved to strengthen our management capabilities . in january 2011, we welcomed victor kolesnikov to the toledo board . in march we appointed him chief executive officer . victor is a metallurgist with over 22 years’ experience in mining and sales in the non-ferrous metals industry , including eight years with norilsk nickel , the world’s largest nickel producer . in the short time since his appointment as ceo , victor has made a very positive impact on our business including overseeing the commencement of operations at berong . in may 2011, we appointed pierre charlent , chief operating officer based in the philippines . pierre replaces ken stein , who returned to australia for personal reasons . as a geologist and mining engineer , pierre not only complements victor’s metallurgical expertise , but also comes to toledo with over 25 years’ experience in the mining industry , including 14 years in nickel laterite exploration , mining and development in new caledonia . we are very fortunate to have been able to recruit two such high calibre and experienced individuals . with the commitment of the staff of the manila-based management company of berong and ipilan and the employees at the respective sites , we have significantly advanced the reactivation of berong and made substantial progress in the permitting at ipilan . the toledo board owes all of them a huge debt of gratitude . 5 i would also like to thank felix pole who stood down from the toledo board at the end of june . felix was my companion in guiding toledo through some very challenging times . fortunately , although felix resigned from the board because of the heavy demands of his business interests , he remains available should we need to tap his wise counsel . finally , i would like to extend my thanks to our shareholders for their continued support . we have made much positive progress this year and i look forward to updating you as we continue to realise further goals over the coming year . reginald eccles chairman 24 august 2011 \n"
          ]
        }
      ]
    },
    {
      "cell_type": "markdown",
      "metadata": {
        "id": "GkA8Cfr41INi"
      },
      "source": [
        "현재 Bigbird는 SOTA 논문이기 때문에 구현된 코드가 많이 없다. 토크나이저도 제대로 불러와지지 않아서 AutoTokenizer를 이용했지만 제대로 되지 않았다. 따라서 google research 깃허브에서 구현한 코드를 차근차근 따라가며 모델을 구현할 계획이다.  \n",
        "해당 코드는 Tensorflow 기반이며 TPU를 사용한다. 따라서 연산이 원활하게 이루어질 수 있도록 기존의 dataset을 tensorflow의 것으로 바꿔 주어야 한다. pandas에서 지원하는 dataframe만 이용하다가 직관적이지 않은 dataset을 사용하니 모든게 생소하게 다가왔다. 하지만 이번에는 모델의 구조를 직접 볼 수 있는 만큼 좋은 결과가 있지 않을까 생각한다."
      ]
    }
  ]
}