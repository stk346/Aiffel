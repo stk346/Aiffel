{
  "nbformat": 4,
  "nbformat_minor": 0,
  "metadata": {
    "colab": {
      "name": "Exploration15",
      "provenance": [],
      "collapsed_sections": []
    },
    "kernelspec": {
      "name": "python3",
      "display_name": "Python 3"
    },
    "language_info": {
      "name": "python"
    },
    "accelerator": "GPU"
  },
  "cells": [
    {
      "cell_type": "markdown",
      "metadata": {
        "id": "d7LsH0cvfxH7"
      },
      "source": [
        "# Exploration15: 한국어 데이터로 챗봇 만들기\n",
        "챗봇 데이터는 송영숙 님이 공개한 챗봇 데이터를 사용합니다."
      ]
    },
    {
      "cell_type": "markdown",
      "metadata": {
        "id": "phW7sCzDidyU"
      },
      "source": [
        "## Step1. 데이터 로드하기"
      ]
    },
    {
      "cell_type": "code",
      "metadata": {
        "id": "DhMnkrGZeexT"
      },
      "source": [
        "import tensorflow as tf\n",
        "import tensorflow_datasets as tfds\n",
        "import os\n",
        "import re\n",
        "import numpy as np\n",
        "import matplotlib.pyplot as plt\n",
        "import pandas as pd"
      ],
      "execution_count": 1,
      "outputs": []
    },
    {
      "cell_type": "code",
      "metadata": {
        "colab": {
          "base_uri": "https://localhost:8080/"
        },
        "id": "tAqDpUijhNul",
        "outputId": "bac264ea-b335-42e6-a0b8-457524de46d5"
      },
      "source": [
        "from google.colab import drive\n",
        "drive.mount('/content/drive')"
      ],
      "execution_count": 2,
      "outputs": [
        {
          "output_type": "stream",
          "name": "stdout",
          "text": [
            "Mounted at /content/drive\n"
          ]
        }
      ]
    },
    {
      "cell_type": "code",
      "metadata": {
        "colab": {
          "base_uri": "https://localhost:8080/",
          "height": 532
        },
        "id": "U3wTRG7FhNxm",
        "outputId": "247a3c50-0451-4907-d37c-4a1e1d0edfbd"
      },
      "source": [
        "file_path = '/content/drive/MyDrive/Colab Notebooks/Aiffel/Exploration/Exploration15/ChatbotData.csv'\n",
        "data = pd.read_csv(file_path)\n",
        "print(data.shape)\n",
        "data.head(15)"
      ],
      "execution_count": 3,
      "outputs": [
        {
          "output_type": "stream",
          "name": "stdout",
          "text": [
            "(11823, 3)\n"
          ]
        },
        {
          "output_type": "execute_result",
          "data": {
            "text/html": [
              "<div>\n",
              "<style scoped>\n",
              "    .dataframe tbody tr th:only-of-type {\n",
              "        vertical-align: middle;\n",
              "    }\n",
              "\n",
              "    .dataframe tbody tr th {\n",
              "        vertical-align: top;\n",
              "    }\n",
              "\n",
              "    .dataframe thead th {\n",
              "        text-align: right;\n",
              "    }\n",
              "</style>\n",
              "<table border=\"1\" class=\"dataframe\">\n",
              "  <thead>\n",
              "    <tr style=\"text-align: right;\">\n",
              "      <th></th>\n",
              "      <th>Q</th>\n",
              "      <th>A</th>\n",
              "      <th>label</th>\n",
              "    </tr>\n",
              "  </thead>\n",
              "  <tbody>\n",
              "    <tr>\n",
              "      <th>0</th>\n",
              "      <td>12시 땡!</td>\n",
              "      <td>하루가 또 가네요.</td>\n",
              "      <td>0</td>\n",
              "    </tr>\n",
              "    <tr>\n",
              "      <th>1</th>\n",
              "      <td>1지망 학교 떨어졌어</td>\n",
              "      <td>위로해 드립니다.</td>\n",
              "      <td>0</td>\n",
              "    </tr>\n",
              "    <tr>\n",
              "      <th>2</th>\n",
              "      <td>3박4일 놀러가고 싶다</td>\n",
              "      <td>여행은 언제나 좋죠.</td>\n",
              "      <td>0</td>\n",
              "    </tr>\n",
              "    <tr>\n",
              "      <th>3</th>\n",
              "      <td>3박4일 정도 놀러가고 싶다</td>\n",
              "      <td>여행은 언제나 좋죠.</td>\n",
              "      <td>0</td>\n",
              "    </tr>\n",
              "    <tr>\n",
              "      <th>4</th>\n",
              "      <td>PPL 심하네</td>\n",
              "      <td>눈살이 찌푸려지죠.</td>\n",
              "      <td>0</td>\n",
              "    </tr>\n",
              "    <tr>\n",
              "      <th>5</th>\n",
              "      <td>SD카드 망가졌어</td>\n",
              "      <td>다시 새로 사는 게 마음 편해요.</td>\n",
              "      <td>0</td>\n",
              "    </tr>\n",
              "    <tr>\n",
              "      <th>6</th>\n",
              "      <td>SD카드 안돼</td>\n",
              "      <td>다시 새로 사는 게 마음 편해요.</td>\n",
              "      <td>0</td>\n",
              "    </tr>\n",
              "    <tr>\n",
              "      <th>7</th>\n",
              "      <td>SNS 맞팔 왜 안하지ㅠㅠ</td>\n",
              "      <td>잘 모르고 있을 수도 있어요.</td>\n",
              "      <td>0</td>\n",
              "    </tr>\n",
              "    <tr>\n",
              "      <th>8</th>\n",
              "      <td>SNS 시간낭비인 거 아는데 매일 하는 중</td>\n",
              "      <td>시간을 정하고 해보세요.</td>\n",
              "      <td>0</td>\n",
              "    </tr>\n",
              "    <tr>\n",
              "      <th>9</th>\n",
              "      <td>SNS 시간낭비인데 자꾸 보게됨</td>\n",
              "      <td>시간을 정하고 해보세요.</td>\n",
              "      <td>0</td>\n",
              "    </tr>\n",
              "    <tr>\n",
              "      <th>10</th>\n",
              "      <td>SNS보면 나만 빼고 다 행복해보여</td>\n",
              "      <td>자랑하는 자리니까요.</td>\n",
              "      <td>0</td>\n",
              "    </tr>\n",
              "    <tr>\n",
              "      <th>11</th>\n",
              "      <td>가끔 궁금해</td>\n",
              "      <td>그 사람도 그럴 거예요.</td>\n",
              "      <td>0</td>\n",
              "    </tr>\n",
              "    <tr>\n",
              "      <th>12</th>\n",
              "      <td>가끔 뭐하는지 궁금해</td>\n",
              "      <td>그 사람도 그럴 거예요.</td>\n",
              "      <td>0</td>\n",
              "    </tr>\n",
              "    <tr>\n",
              "      <th>13</th>\n",
              "      <td>가끔은 혼자인게 좋다</td>\n",
              "      <td>혼자를 즐기세요.</td>\n",
              "      <td>0</td>\n",
              "    </tr>\n",
              "    <tr>\n",
              "      <th>14</th>\n",
              "      <td>가난한 자의 설움</td>\n",
              "      <td>돈은 다시 들어올 거예요.</td>\n",
              "      <td>0</td>\n",
              "    </tr>\n",
              "  </tbody>\n",
              "</table>\n",
              "</div>"
            ],
            "text/plain": [
              "                          Q                   A  label\n",
              "0                    12시 땡!          하루가 또 가네요.      0\n",
              "1               1지망 학교 떨어졌어           위로해 드립니다.      0\n",
              "2              3박4일 놀러가고 싶다         여행은 언제나 좋죠.      0\n",
              "3           3박4일 정도 놀러가고 싶다         여행은 언제나 좋죠.      0\n",
              "4                   PPL 심하네          눈살이 찌푸려지죠.      0\n",
              "5                 SD카드 망가졌어  다시 새로 사는 게 마음 편해요.      0\n",
              "6                   SD카드 안돼  다시 새로 사는 게 마음 편해요.      0\n",
              "7            SNS 맞팔 왜 안하지ㅠㅠ    잘 모르고 있을 수도 있어요.      0\n",
              "8   SNS 시간낭비인 거 아는데 매일 하는 중       시간을 정하고 해보세요.      0\n",
              "9         SNS 시간낭비인데 자꾸 보게됨       시간을 정하고 해보세요.      0\n",
              "10      SNS보면 나만 빼고 다 행복해보여         자랑하는 자리니까요.      0\n",
              "11                   가끔 궁금해       그 사람도 그럴 거예요.      0\n",
              "12              가끔 뭐하는지 궁금해       그 사람도 그럴 거예요.      0\n",
              "13              가끔은 혼자인게 좋다           혼자를 즐기세요.      0\n",
              "14                가난한 자의 설움      돈은 다시 들어올 거예요.      0"
            ]
          },
          "metadata": {},
          "execution_count": 3
        }
      ]
    },
    {
      "cell_type": "markdown",
      "metadata": {
        "id": "imNCb0l-hN0H"
      },
      "source": [
        "## Step 2. 데이터 전처리하기"
      ]
    },
    {
      "cell_type": "markdown",
      "metadata": {
        "id": "B9BGQKDmkPsF"
      },
      "source": [
        "전처리는 정규표현식(Regular Expression)을 사용하여 구두점(punctuation)을 제거하며 단어를 토크나이징(tokenizing)하는 일에 방해가 되지 않도록 만드는 것을 목표로 합니다."
      ]
    },
    {
      "cell_type": "markdown",
      "metadata": {
        "id": "aiTds7knimTl"
      },
      "source": [
        "데이터를 로드하는 동시에 전처리 함수를 호출하여 질문과 답변의 쌍을 전처리합니다."
      ]
    },
    {
      "cell_type": "code",
      "metadata": {
        "id": "bQG7Gmo_vh1P"
      },
      "source": [
        "# 전처리 함수\n",
        "def preprocess_sentence(sentence):\n",
        "    sentence = sentence.lower().strip()\n",
        "\n",
        "    # 단어와 구두점(punctuation) 사이의 거리를 만듭니다.\n",
        "    # 예를 들어서 \"I am a student.\" => \"I am a student .\"와 같이\n",
        "    # student와 온점 사이에 거리를 만듭니다.\n",
        "    sentence = re.sub(r\"([?.!,])\", r\" \\1 \", sentence)\n",
        "    sentence = re.sub(r'[\" \"]+', \" \", sentence)\n",
        "\n",
        "    # (a-z, A-Z, \".\", \"?\", \"!\", \",\")를 제외한 모든 문자를 공백인 ' '로 대체합니다.\n",
        "    sentence = re.sub(r\"[^ㄱ-ㅣ가-힣a-zA-Z0-9?.!,]+\", \" \", sentence)\n",
        "    sentence = sentence.strip()\n",
        "    return sentence"
      ],
      "execution_count": 4,
      "outputs": []
    },
    {
      "cell_type": "code",
      "metadata": {
        "colab": {
          "base_uri": "https://localhost:8080/"
        },
        "id": "Ky3nsk1Tvi79",
        "outputId": "61ce220a-18bd-488c-8d63-4c5d7080dfbd"
      },
      "source": [
        "questions = data['Q']\n",
        "questions = questions.values\n",
        "\n",
        "answers = data['A']\n",
        "answers = answers.values\n",
        "\n",
        "print(questions)\n",
        "print(answers)"
      ],
      "execution_count": 5,
      "outputs": [
        {
          "output_type": "stream",
          "name": "stdout",
          "text": [
            "['12시 땡!' '1지망 학교 떨어졌어' '3박4일 놀러가고 싶다' ... '흑기사 해주는 짝남.'\n",
            " '힘든 연애 좋은 연애라는게 무슨 차이일까?' '힘들어서 결혼할까봐']\n",
            "['하루가 또 가네요.' '위로해 드립니다.' '여행은 언제나 좋죠.' ... '설렜겠어요.'\n",
            " '잘 헤어질 수 있는 사이 여부인 거 같아요.' '도피성 결혼은 하지 않길 바라요.']\n"
          ]
        }
      ]
    },
    {
      "cell_type": "code",
      "metadata": {
        "colab": {
          "base_uri": "https://localhost:8080/"
        },
        "id": "ShTLVycZvKKc",
        "outputId": "21c68c24-4d97-4009-a763-13a8e0d767a5"
      },
      "source": [
        "questions = list(map(preprocess_sentence, questions))\n",
        "questions[:10]"
      ],
      "execution_count": 6,
      "outputs": [
        {
          "output_type": "execute_result",
          "data": {
            "text/plain": [
              "['12시 땡 !',\n",
              " '1지망 학교 떨어졌어',\n",
              " '3박4일 놀러가고 싶다',\n",
              " '3박4일 정도 놀러가고 싶다',\n",
              " 'ppl 심하네',\n",
              " 'sd카드 망가졌어',\n",
              " 'sd카드 안돼',\n",
              " 'sns 맞팔 왜 안하지ㅠㅠ',\n",
              " 'sns 시간낭비인 거 아는데 매일 하는 중',\n",
              " 'sns 시간낭비인데 자꾸 보게됨']"
            ]
          },
          "metadata": {},
          "execution_count": 6
        }
      ]
    },
    {
      "cell_type": "code",
      "metadata": {
        "colab": {
          "base_uri": "https://localhost:8080/"
        },
        "id": "LsFHgCU9vKNK",
        "outputId": "4e8b7e9f-8620-4421-a643-148293bf4ed1"
      },
      "source": [
        "answers = list(map(preprocess_sentence, answers))\n",
        "answers[:10]"
      ],
      "execution_count": 7,
      "outputs": [
        {
          "output_type": "execute_result",
          "data": {
            "text/plain": [
              "['하루가 또 가네요 .',\n",
              " '위로해 드립니다 .',\n",
              " '여행은 언제나 좋죠 .',\n",
              " '여행은 언제나 좋죠 .',\n",
              " '눈살이 찌푸려지죠 .',\n",
              " '다시 새로 사는 게 마음 편해요 .',\n",
              " '다시 새로 사는 게 마음 편해요 .',\n",
              " '잘 모르고 있을 수도 있어요 .',\n",
              " '시간을 정하고 해보세요 .',\n",
              " '시간을 정하고 해보세요 .']"
            ]
          },
          "metadata": {},
          "execution_count": 7
        }
      ]
    },
    {
      "cell_type": "code",
      "metadata": {
        "colab": {
          "base_uri": "https://localhost:8080/"
        },
        "id": "b9MZfmqfvKPQ",
        "outputId": "e27a2672-febc-47f2-aa2c-c6831458e0c0"
      },
      "source": [
        "print('전처리 후의 22번째 질문 샘플: {}'.format(questions[21]))\n",
        "print('전처리 후의 22번째 답변 샘플: {}'.format(answers[21]))"
      ],
      "execution_count": 8,
      "outputs": [
        {
          "output_type": "stream",
          "name": "stdout",
          "text": [
            "전처리 후의 22번째 질문 샘플: 가스비 장난 아님\n",
            "전처리 후의 22번째 답변 샘플: 다음 달에는 더 절약해봐요 .\n"
          ]
        }
      ]
    },
    {
      "cell_type": "markdown",
      "metadata": {
        "id": "0n21ZAVPhN1-"
      },
      "source": [
        "## Step 3. SubwordTextEncoder 사용하기"
      ]
    },
    {
      "cell_type": "markdown",
      "metadata": {
        "id": "zdlvsF_Bp6SN"
      },
      "source": [
        "### 병렬 데이터 전처리하기\n",
        "질문과 답변의 셋을 각각 question과 answers에 저장했으므로 전처리를 진행합니다.  \n",
        "1. TensorFlow Dataset SubwordTextEncoder를 토크나이저로 사용한다. 단어보다 더 작은 단위인 Subword를 기준으로 토크나이징하고 각 토큰을 고유한 정수로 인코딩한다.  \n",
        "2. 각 문장을 토큰화하고 각 문장의 시작과 끝을 나타내는 START_TOKEN 및 END_TOKEN을 추가한다.  \n",
        "3. 최대 길이 MAX_LENGTH를 넘을 문장들은 필터링한다.  \n",
        "4. MAX_LENGTH보다 짧은 문장들은 MAX_LENGTH에 맞도록 한다."
      ]
    },
    {
      "cell_type": "markdown",
      "metadata": {
        "id": "_9jlfZ1ap6VF"
      },
      "source": [
        "단어장 만들기  \n",
        "각 단어에 고유한 정수 인덱스를 부여하기 위해서 단어장(Vocabulary)을 만듭니다. 단어장을 만들 때는 질문과 답변 데이터셋을 모두 사용하여 만듭니다.  \n",
        "한국어 데이터는 형태소 분석기를 사용해 토크나이징을 진행하지만 여기서는 형태소 분석기가 아닌 내부 단어 토크나이저인 SubwordTextEncoder를 사용하겠습니다."
      ]
    },
    {
      "cell_type": "code",
      "metadata": {
        "id": "YHsqLpyHp6X1"
      },
      "source": [
        "import tensorflow_datasets as tfds\n",
        "\n",
        "# 질문과 답변 데이터셋에 대해서 Vocabulary생성.\n",
        "tokenizer = tfds.deprecated.text.SubwordTextEncoder.build_from_corpus(questions+answers, target_vocab_size=2**13)"
      ],
      "execution_count": 9,
      "outputs": []
    },
    {
      "cell_type": "code",
      "metadata": {
        "id": "HEfUpKkGp6ct"
      },
      "source": [
        "# 시작 토큰과 종료 토큰에 고유한 정수를 부여합니다.\n",
        "START_TOKEN, END_TOKEN = [tokenizer.vocab_size], [tokenizer.vocab_size + 1]"
      ],
      "execution_count": 10,
      "outputs": []
    },
    {
      "cell_type": "code",
      "metadata": {
        "colab": {
          "base_uri": "https://localhost:8080/"
        },
        "id": "mbnot34Ep6fd",
        "outputId": "00ffc010-d2c8-48a0-ee67-89c8d76bc0a7"
      },
      "source": [
        "print('START_TOKEN의 번호 :' ,[tokenizer.vocab_size])\n",
        "print('END_TOKEN의 번호 :' ,[tokenizer.vocab_size + 1])"
      ],
      "execution_count": 11,
      "outputs": [
        {
          "output_type": "stream",
          "name": "stdout",
          "text": [
            "START_TOKEN의 번호 : [8170]\n",
            "END_TOKEN의 번호 : [8171]\n"
          ]
        }
      ]
    },
    {
      "cell_type": "markdown",
      "metadata": {
        "id": "Gx2FAAVep6h-"
      },
      "source": [
        "각각 8170과 8171라는 점에서 현재 단어장의 크기가 8170(0번부터 8169번)이라는 의미입니다.  \n",
        "두 개의 토큰을 추가해 주었기 때문에 단어장의 크기도 +2임을 명시해 주어야 합니다."
      ]
    },
    {
      "cell_type": "code",
      "metadata": {
        "colab": {
          "base_uri": "https://localhost:8080/"
        },
        "id": "YmBWZ0x_p6pN",
        "outputId": "09c98ed4-54a4-4487-8e17-b5064b82f20c"
      },
      "source": [
        "VOCAB_SIZE = tokenizer.vocab_size + 2\n",
        "print(VOCAB_SIZE)"
      ],
      "execution_count": 12,
      "outputs": [
        {
          "output_type": "stream",
          "name": "stdout",
          "text": [
            "8172\n"
          ]
        }
      ]
    },
    {
      "cell_type": "markdown",
      "metadata": {
        "id": "5BeYTvZ0p6rv"
      },
      "source": [
        "### 각 단어를 고유한 정수로 인코딩(Integer encoding) & 패딩(Padding)\n",
        "tokenizer.encode()로 각 단어를 정수로 변환할 수 있고 또는 tokenizer.decode()를 통해 정수 시퀀스를 단어 시퀀스로 변환할 수 있습니다."
      ]
    },
    {
      "cell_type": "code",
      "metadata": {
        "colab": {
          "base_uri": "https://localhost:8080/"
        },
        "id": "zD6C1CDc21D8",
        "outputId": "a4b26d37-e6c8-40e6-8f3c-8b25ca1f5fc9"
      },
      "source": [
        "# 사용 예시. 22번째 샘플에 대해서 정수 인코딩 작업을 수행.\n",
        "# 각 토큰을 고유한 정수로 변환\n",
        "print('정수 인코딩 후의 21번째 질문 샘플: {}'.format(tokenizer.encode(questions[21])))\n",
        "print('정수 인코딩 후의 21번째 답변 샘플: {}'.format(tokenizer.encode(answers[21])))"
      ],
      "execution_count": 13,
      "outputs": [
        {
          "output_type": "stream",
          "name": "stdout",
          "text": [
            "정수 인코딩 후의 21번째 질문 샘플: [5761, 610, 2490, 4163]\n",
            "정수 인코딩 후의 21번째 답변 샘플: [2356, 7510, 7, 6273, 97, 1]\n"
          ]
        }
      ]
    },
    {
      "cell_type": "markdown",
      "metadata": {
        "id": "N4UpCSeS21Gz"
      },
      "source": [
        "각 단어에 고유한 정수가 부여된 Vocabulary를 기준으로 단어 시퀀스가 정수 시퀀스로 인코딩된 결과를 확인할 수 있습니다.  \n",
        "위의 결과와 마찬가지로 질문과 답변 셋에 대해서 전부 정수 인코딩을 수행합니다. 동시에 문장의 최대 길이를 정하고 해당 길이로 패딩(padding)합니다."
      ]
    },
    {
      "cell_type": "code",
      "metadata": {
        "id": "jSeJc4WK6J_o"
      },
      "source": [
        "questions_len = [len(i.split()) for i in questions]\n",
        "answers_len = [len(i.split()) for i in answers]"
      ],
      "execution_count": 14,
      "outputs": []
    },
    {
      "cell_type": "code",
      "metadata": {
        "colab": {
          "base_uri": "https://localhost:8080/"
        },
        "id": "oqoszGnW6J9m",
        "outputId": "72e9ca54-572a-408c-e175-9072be80825f"
      },
      "source": [
        "print('질문의 최소 길이: {}'.format(np.min(questions_len)))\n",
        "print('질문의 최대 길이: {}'.format(np.max(questions_len)))\n",
        "print('질문의 평균 길이: {}'.format(np.mean(questions_len)))\n",
        "\n",
        "print('답변의 평균 길이: {}'.format(np.min(answers_len)))\n",
        "print('답변의 평균 길이: {}'.format(np.max(answers_len)))\n",
        "print('답변의 평균 길이: {}'.format(np.mean(answers_len)))"
      ],
      "execution_count": 15,
      "outputs": [
        {
          "output_type": "stream",
          "name": "stdout",
          "text": [
            "질문의 최소 길이: 1\n",
            "질문의 최대 길이: 16\n",
            "질문의 평균 길이: 3.9409625306605767\n",
            "답변의 평균 길이: 1\n",
            "답변의 평균 길이: 24\n",
            "답변의 평균 길이: 4.716146494121627\n"
          ]
        }
      ]
    },
    {
      "cell_type": "code",
      "metadata": {
        "colab": {
          "base_uri": "https://localhost:8080/"
        },
        "id": "UqBIGeYy21J7",
        "outputId": "e937f535-0f37-4000-d283-51de2103eac8"
      },
      "source": [
        "# 샘플의 최대 허용 길이 또는 패딩 후의 최종 길이\n",
        "MAX_LENGTH = 26\n",
        "print(MAX_LENGTH)"
      ],
      "execution_count": 16,
      "outputs": [
        {
          "output_type": "stream",
          "name": "stdout",
          "text": [
            "26\n"
          ]
        }
      ]
    },
    {
      "cell_type": "code",
      "metadata": {
        "id": "kz76Cf703hbD"
      },
      "source": [
        "# 정수 인코딩, 최대 길이를 초과하는 샘플 제거, 패딩\n",
        "def tokenize_and_filter(inputs, outputs):\n",
        "  tokenized_inputs, tokenized_outputs = [], []\n",
        "\n",
        "  for (sentence1, sentence2) in zip(inputs, outputs):\n",
        "    # 정수 인코딩 과정에서 시작 토큰과 종료 토큰을 추가\n",
        "    sentence1 = START_TOKEN + tokenizer.encode(sentence1) + END_TOKEN\n",
        "    sentence2 = START_TOKEN + tokenizer.encode(sentence2) + END_TOKEN\n",
        "\n",
        "    # 최대 길이 40 이하인 경우에만 데이터셋으로 허용\n",
        "    if len(sentence1) <= MAX_LENGTH and len(sentence2) <= MAX_LENGTH:\n",
        "      tokenized_inputs.append(sentence1)\n",
        "      tokenized_outputs.append(sentence2)\n",
        "\n",
        "  # 최대 길이 40으로 모든 데이터셋을 패딩\n",
        "  tokenized_inputs = tf.keras.preprocessing.sequence.pad_sequences(\n",
        "      tokenized_inputs, maxlen=MAX_LENGTH, padding='post')\n",
        "  tokenized_outputs = tf.keras.preprocessing.sequence.pad_sequences(\n",
        "      tokenized_outputs, maxlen=MAX_LENGTH, padding='post')\n",
        "  \n",
        "  return tokenized_inputs, tokenized_outputs"
      ],
      "execution_count": 17,
      "outputs": []
    },
    {
      "cell_type": "code",
      "metadata": {
        "colab": {
          "base_uri": "https://localhost:8080/"
        },
        "id": "v3xtWozb3hd7",
        "outputId": "9f352a50-1656-4264-848e-bd99ede3577d"
      },
      "source": [
        "questions, answers = tokenize_and_filter(questions, answers)\n",
        "print('단어장의 크기 :',(VOCAB_SIZE))\n",
        "print('필터링 후의 질문 샘플 개수: {}'.format(len(questions)))\n",
        "print('필터링 후의 답변 샘플 개수: {}'.format(len(answers)))"
      ],
      "execution_count": 18,
      "outputs": [
        {
          "output_type": "stream",
          "name": "stdout",
          "text": [
            "단어장의 크기 : 8172\n",
            "필터링 후의 질문 샘플 개수: 11819\n",
            "필터링 후의 답변 샘플 개수: 11819\n"
          ]
        }
      ]
    },
    {
      "cell_type": "markdown",
      "metadata": {
        "id": "9YUnu62IhN4i"
      },
      "source": [
        "## Step 4. 모델 구성하기"
      ]
    },
    {
      "cell_type": "markdown",
      "metadata": {
        "id": "d5KcGaKz--EW"
      },
      "source": [
        "### 포지셔널 인코딩 레이어(Positional Encoding Layer)\n",
        "트랜스포머는 덱스트 문장을 입력으로 받기 위해 단어를 임베딩 벡터로 변환하는 벡터화 과정을 거칩니다.  \n",
        "하지만 트랜스포머 모델은 임베딩 벡터에 어떤 값을 더해준 뒤에 입력으로 사용한다는 점에서 다른 모델과 다릅니다.이는 포지셔널 인코딩(Prositional Encoding)에 해당하는 부분입니다.  \n",
        "문장의 모든 단어를 한꺼번에 문장 단위로 입력받는 트랜스포머는 'I ate lunch'와 'lunch ate I'를 구분할 수 없을 수 있기에 같은 단어라도 그 단어가 문장의 몇 번째 어순으로 입력되었는지를 알려주기 위해 위치 정보를 가진 벡터(Positional Encoding)값을 더해서 모델의 입력으로 삼는 것입니다."
      ]
    },
    {
      "cell_type": "code",
      "metadata": {
        "id": "InVfTq9I_CST"
      },
      "source": [
        "# 포지셔널 인코딩 레이어\n",
        "class PositionalEncoding(tf.keras.layers.Layer):\n",
        "\n",
        "    def __init__(self, position, d_model):\n",
        "        super(PositionalEncoding, self).__init__()\n",
        "        self.pos_encoding = self.positional_encoding(position, d_model)\n",
        "\n",
        "    def get_angles(self, position, i, d_model):\n",
        "        angles = 1 / tf.pow(10000, (2 * (i // 2)) / tf.cast(d_model, tf.float32))\n",
        "        return position * angles\n",
        "\n",
        "    def positional_encoding(self, position, d_model):\n",
        "        # 각도 배열 생성\n",
        "        angle_rads = self.get_angles(\n",
        "            position=tf.range(position, dtype=tf.float32)[:, tf.newaxis],\n",
        "            i=tf.range(d_model, dtype=tf.float32)[tf.newaxis, :],\n",
        "            d_model=d_model)\n",
        "\n",
        "        # 배열의 짝수 인덱스에는 sin 함수 적용\n",
        "        sines = tf.math.sin(angle_rads[:, 0::2])\n",
        "        # 배열의 홀수 인덱스에는 cosine 함수 적용\n",
        "        cosines = tf.math.cos(angle_rads[:, 1::2])\n",
        "\n",
        "        # sin과 cosine이 교차되도록 재배열\n",
        "        pos_encoding = tf.stack([sines, cosines], axis=0)\n",
        "        pos_encoding = tf.transpose(pos_encoding,[1, 2, 0]) \n",
        "        pos_encoding = tf.reshape(pos_encoding, [position, d_model])\n",
        "\n",
        "        pos_encoding = pos_encoding[tf.newaxis, ...]\n",
        "        return tf.cast(pos_encoding, tf.float32)\n",
        "\n",
        "    def call(self, inputs):\n",
        "        return inputs + self.pos_encoding[:, :tf.shape(inputs)[1], :]"
      ],
      "execution_count": 19,
      "outputs": []
    },
    {
      "cell_type": "markdown",
      "metadata": {
        "id": "RKbf9VPv_CVL"
      },
      "source": [
        "행의 크기가 50, 열의 크기가 512인 행렬을 만들어 봅니다.  \n",
        "이는 최대 문장의 길이가 50이고 워드 임베딩 차원이 512인 모델의 입력 벡터 모양과 같습니다."
      ]
    },
    {
      "cell_type": "code",
      "metadata": {
        "colab": {
          "base_uri": "https://localhost:8080/",
          "height": 283
        },
        "id": "MTOqJ8ye_CXW",
        "outputId": "53eacbfd-ef49-4ab2-8006-a6a5857e7464"
      },
      "source": [
        "sample_pos_encoding = PositionalEncoding(50, 512)\n",
        "\n",
        "plt.pcolormesh(sample_pos_encoding.pos_encoding.numpy()[0], cmap='RdBu')\n",
        "plt.xlabel('Depth')\n",
        "plt.xlim((0, 512))\n",
        "plt.ylabel('Position')\n",
        "plt.colorbar()\n",
        "plt.show()"
      ],
      "execution_count": 20,
      "outputs": [
        {
          "output_type": "display_data",
          "data": {
            "image/png": "[encoded data removed]",
            "text/plain": [
              "<Figure size 432x288 with 2 Axes>"
            ]
          },
          "metadata": {
            "needs_background": "light"
          }
        }
      ]
    },
    {
      "cell_type": "markdown",
      "metadata": {
        "id": "iVaWEKMt_CZ1"
      },
      "source": [
        "### 어텐션 메커니즘\n",
        "어텐션 함수는 주어진 쿼리(Query)에 대해서 모든 키(Key)와의 유사도를 각각 구합니다. 이후 구해낸 유사도를 키와 맵핑되어있는 각각의 값(Value)에 반영해 줍니다.  \n",
        "그리고 유사도가 반영된 값을 모두 더해서 뭉쳐주면 최종 결과인 어텐션 값(Attention Value)를 얻을 수 있습니다."
      ]
    },
    {
      "cell_type": "markdown",
      "metadata": {
        "id": "4J177IMr_T-7"
      },
      "source": [
        "트랜스포머는 총 세 가지 어텐션을 사용합니다.\n",
        "* 첫번째: 인코더 셀프 어텐션은 인코더에서 이루어지고\n",
        "* 두번째: 디코더 셀프 어텐션은 디코더에서 이루어지며\n",
        "* 세번째: 인코더-디코더 어텐션 또한 디코더에서 이루어집니다."
      ]
    },
    {
      "cell_type": "markdown",
      "metadata": {
        "id": "JfySPuwF_UBb"
      },
      "source": [
        "트랜스포머의 어텐션 함수에 사용되는 쿼리(Query), 키(Key), 벨류(Value)는 기본적으로 '단어(정보를 함축한)벡터'입니다.  \n",
        "이 단어벡터란 초기 입력으로 사용되었던 임베딩 벡터가 아닌 트랜스포머의 여러 연산을 거친 후의 단어벡터 입니다.  \n",
        "그럼 위 세 가지 어텐션이 하는 일을 조금 더 자세히 알아보겠습니다.\n",
        "* 인코더 셀프 어텐션: 인코더의 입력으로 들어간 문장 내 단어들이 서로 유사도를 구한다.\n",
        "* 디코더 셀프 어텐션: 단어를 1개씩 생성하는 디코더가 이미 생성된 앞 단어들과의 유사도를 구한다.\n",
        "* 인코더-디코더 어텐션: 디코더가 잘 예측하기 위해서 인코더에 입력된 단어들과 유사도를 구한다."
      ]
    },
    {
      "cell_type": "markdown",
      "metadata": {
        "id": "A5A7ZhbC_Z6L"
      },
      "source": [
        "**셀프 어텐션(Self Attention)**  \n",
        "셀프 어텐션이란 다른 문장의 단어가 아닌 현재 문장 내의 단어들이 서로 유사도를 구하는 것을 의미합니다.  \n",
        "The animal didn't cross the street bacause it was too tired.  \n",
        "여기서 It은 animal을 지칭하는데, 기계는 그렇지 않습니다. 셀프 어텐션은 문장 내의 단어들끼리 유사도를 구하여 it이 animal과 연관되었을 확률이 높다는 것을 찾아냅니다."
      ]
    },
    {
      "cell_type": "markdown",
      "metadata": {
        "id": "BKP-5wOH_Z9D"
      },
      "source": [
        "**스케일드 닷 프로덕트 어텐션(Scaled Dot Product Attention)**  \n",
        "문장행렬Q * 문장행렬K = 유사도 행렬 (단어 벡터의 유사도가 기록된 행렬)  \n",
        "softmax((유사도 행렬 / 차원 수 (Normalization) ) * 문장행렬V) = 어텐션 값 "
      ]
    },
    {
      "cell_type": "code",
      "metadata": {
        "id": "zn7aFRbS_Z_6"
      },
      "source": [
        "# 스케일드 닷 프로덕트 어텐션 함수\n",
        "def scaled_dot_product_attention(query, key, value, mask):\n",
        "    # 어텐션 가중치는 Q와 K의 닷 프로덕트\n",
        "    matmul_qk = tf.matmul(query, key, transpose_b=True)\n",
        "\n",
        "    # 가중치를 정규화\n",
        "    depth = tf.cast(tf.shape(key)[-1], tf.float32)\n",
        "    logits = matmul_qk / tf.math.sqrt(depth)\n",
        "\n",
        "    # 패딩에 마스크 추가\n",
        "    if mask is not None:\n",
        "        logits += (mask * -1e9)\n",
        "\n",
        "    # softmax적용\n",
        "    attention_weights = tf.nn.softmax(logits, axis=-1)\n",
        "\n",
        "    # 최종 어텐션은 가중치와 V의 닷 프로덕트\n",
        "    output = tf.matmul(attention_weights, value)\n",
        "    return output"
      ],
      "execution_count": 21,
      "outputs": []
    },
    {
      "cell_type": "markdown",
      "metadata": {
        "id": "EVIx0BFe_UEn"
      },
      "source": [
        "**병렬로 어텐션 수행하기**  \n",
        "트랜스포머에서 num_heads라는 변수는 기계가 몇 개의 병렬적인 어텐션 연산을 수행할지 결정하는 파라미터입니다.  \n",
        "트랜스포머의 초기 입력인 문장 행렬의 크기는 문장의 길이를 행으로, d_model을 열의 크기로 가집니다. 이렇게 입력된 문장 행렬을 num_heads의 수만큼 쪼개서 어텐션을 수행하고, 각각의 값 행렬을 다시 하나로 concatenate합니다.  \n",
        "이렇게 함으로써 it라는 토큰을 animal, sreet이라고 보는 각각의 관점을 한꺼번에 얻을 수 있습니다.  \n",
        "이처럼 어텐션을 병렬로 수행하는 것을 멀티 헤드 어텐션이라고 부릅니다."
      ]
    },
    {
      "cell_type": "code",
      "metadata": {
        "id": "ffIRJnkr_UGY"
      },
      "source": [
        "class MultiHeadAttention(tf.keras.layers.Layer):\n",
        "\n",
        "    def __init__(self, d_model, num_heads, name=\"multi_head_attention\"):\n",
        "        super(MultiHeadAttention, self).__init__(name=name)\n",
        "        self.num_heads = num_heads\n",
        "        self.d_model = d_model\n",
        "\n",
        "        assert d_model % self.num_heads == 0\n",
        "\n",
        "        self.depth = d_model // self.num_heads\n",
        "\n",
        "        self.query_dense = tf.keras.layers.Dense(units=d_model)\n",
        "        self.key_dense = tf.keras.layers.Dense(units=d_model)\n",
        "        self.value_dense = tf.keras.layers.Dense(units=d_model)\n",
        "\n",
        "        self.dense = tf.keras.layers.Dense(units=d_model)\n",
        "\n",
        "    def split_heads(self, inputs, batch_size):\n",
        "        inputs = tf.reshape(\n",
        "            inputs, shape=(batch_size, -1, self.num_heads, self.depth))\n",
        "        return tf.transpose(inputs, perm=[0, 2, 1, 3])\n",
        "\n",
        "    def call(self, inputs):\n",
        "        query, key, value, mask = inputs['query'], inputs['key'], inputs[\n",
        "            'value'], inputs['mask']\n",
        "        batch_size = tf.shape(query)[0]\n",
        "\n",
        "        # Q, K, V에 각각 Dense를 적용합니다\n",
        "        query = self.query_dense(query)\n",
        "        key = self.key_dense(key)\n",
        "        value = self.value_dense(value)\n",
        "\n",
        "        # 병렬 연산을 위한 머리를 여러 개 만듭니다\n",
        "        query = self.split_heads(query, batch_size)\n",
        "        key = self.split_heads(key, batch_size)\n",
        "        value = self.split_heads(value, batch_size)\n",
        "\n",
        "        # 스케일드 닷 프로덕트 어텐션 함수\n",
        "        scaled_attention = scaled_dot_product_attention(query, key, value, mask)\n",
        "\n",
        "        scaled_attention = tf.transpose(scaled_attention, perm=[0, 2, 1, 3])\n",
        "\n",
        "        # 어텐션 연산 후에 각 결과를 다시 연결(concatenate)합니다\n",
        "        concat_attention = tf.reshape(scaled_attention,\n",
        "                              (batch_size, -1, self.d_model))\n",
        "\n",
        "        # 최종 결과에도 Dense를 한 번 더 적용합니다\n",
        "        outputs = self.dense(concat_attention)\n",
        "\n",
        "        return outputs"
      ],
      "execution_count": 22,
      "outputs": []
    },
    {
      "cell_type": "markdown",
      "metadata": {
        "id": "q11Iw-RH_CcF"
      },
      "source": [
        "### 마스킹\n",
        "마스킹(Masking)은 특정 값들을 가려서 실제 연산에 방해가 되지 않도록 하는 기법입니다.  \n",
        "트랜스포머에서는 어텐션을 위해 크게 두 가지 마스킹을 사용합니다."
      ]
    },
    {
      "cell_type": "markdown",
      "metadata": {
        "id": "vwREHd3q_vYi"
      },
      "source": [
        "**패딩 마스킹(Padding masking)**  \n",
        "0으로 이루어진 패딩은 실제 의미가 있는 다넝가 아니므로 어텐션 연산에서는 제외할 필요가 있습니다.  \n",
        "패딩 마스킹은 이를 위해 숫자 0인 위치를 체크합니다."
      ]
    },
    {
      "cell_type": "code",
      "metadata": {
        "id": "drlrItjg_vba"
      },
      "source": [
        "def create_padding_mask(x):\n",
        "    mask = tf.cast(tf.math.equal(x, 0), tf.float32)\n",
        "    # (batch_size, 1, 1, sequence length)\n",
        "    return mask[:, tf.newaxis, tf.newaxis, :]"
      ],
      "execution_count": 23,
      "outputs": []
    },
    {
      "cell_type": "markdown",
      "metadata": {
        "id": "MwjKEViX_veL"
      },
      "source": [
        "이 함수에 정수 시퀀스를 입력으로 하면 숫자가 0인 부분을 체크한 벡터를 리턴합니다."
      ]
    },
    {
      "cell_type": "code",
      "metadata": {
        "colab": {
          "base_uri": "https://localhost:8080/"
        },
        "id": "MgFHH9B9_2jK",
        "outputId": "f015cdcf-ea1e-41f5-e6c8-9bfa846ab5b9"
      },
      "source": [
        "print(create_padding_mask(tf.constant([[1, 2, 0, 3, 0], [0, 0, 0, 4, 5]])))"
      ],
      "execution_count": 24,
      "outputs": [
        {
          "output_type": "stream",
          "name": "stdout",
          "text": [
            "tf.Tensor(\n",
            "[[[[0. 0. 1. 0. 1.]]]\n",
            "\n",
            "\n",
            " [[[1. 1. 1. 0. 0.]]]], shape=(2, 1, 1, 5), dtype=float32)\n"
          ]
        }
      ]
    },
    {
      "cell_type": "markdown",
      "metadata": {
        "id": "44KcNsNp_7FK"
      },
      "source": [
        "**룩 어헤드 마스킹(Look-ahead masking, 다음 단어 가리기)**  \n",
        "RNN과 트랜스포머는 문장을 입력받는 방법이 전혀 다릅니다.  \n",
        "RNN은 각 step마다 단어가 순서대로 입력으로 들어가는 반면 트랜스포머의 경우 문장 행렬을 만들어 한 번에 행렬 형태의 입력이 들어갑니다.  \n",
        "우리가 원하는 것은 이전 단어들로부터 다음 단어를 예측하는 것이기 때문에 자신보다 다음에 나올 단어를 참고하지 않도록 가리는 기법이 룩어헤드 마스킹 기법입니다."
      ]
    },
    {
      "cell_type": "code",
      "metadata": {
        "id": "RILGh0VG_7Hq"
      },
      "source": [
        "def create_look_ahead_mask(x):\n",
        "    seq_len = tf.shape(x)[1]\n",
        "    look_ahead_mask = 1 - tf.linalg.band_part(tf.ones((seq_len, seq_len)), -1, 0)\n",
        "    padding_mask = create_padding_mask(x)\n",
        "    return tf.maximum(look_ahead_mask, padding_mask)"
      ],
      "execution_count": 25,
      "outputs": []
    },
    {
      "cell_type": "code",
      "metadata": {
        "colab": {
          "base_uri": "https://localhost:8080/"
        },
        "id": "7F8rdyYO_7J1",
        "outputId": "bf837553-ecd8-4347-ff19-881da7ad7a07"
      },
      "source": [
        "# 테스트\n",
        "print(create_look_ahead_mask(tf.constant([[1, 2, 3, 4, 5]])))"
      ],
      "execution_count": 26,
      "outputs": [
        {
          "output_type": "stream",
          "name": "stdout",
          "text": [
            "tf.Tensor(\n",
            "[[[[0. 1. 1. 1. 1.]\n",
            "   [0. 0. 1. 1. 1.]\n",
            "   [0. 0. 0. 1. 1.]\n",
            "   [0. 0. 0. 0. 1.]\n",
            "   [0. 0. 0. 0. 0.]]]], shape=(1, 1, 5, 5), dtype=float32)\n"
          ]
        }
      ]
    },
    {
      "cell_type": "code",
      "metadata": {
        "colab": {
          "base_uri": "https://localhost:8080/"
        },
        "id": "LwiAWlCz_7Mb",
        "outputId": "c4f62601-b660-4ec4-a992-4ba80ee529cd"
      },
      "source": [
        "print(create_look_ahead_mask(tf.constant([[0, 5, 1, 5, 5]])))"
      ],
      "execution_count": 27,
      "outputs": [
        {
          "output_type": "stream",
          "name": "stdout",
          "text": [
            "tf.Tensor(\n",
            "[[[[1. 1. 1. 1. 1.]\n",
            "   [1. 0. 1. 1. 1.]\n",
            "   [1. 0. 0. 1. 1.]\n",
            "   [1. 0. 0. 0. 1.]\n",
            "   [1. 0. 0. 0. 0.]]]], shape=(1, 1, 5, 5), dtype=float32)\n"
          ]
        }
      ]
    },
    {
      "cell_type": "markdown",
      "metadata": {
        "id": "zSsOuIyQ9_lc"
      },
      "source": [
        "### 인코더\n",
        "하나의 인코더 층은 크게 총 2개의 서브층(sublayer)으로 나누어집니다.  \n",
        "그것은 셀프 어텐션과 피드 포워드 신경망인데, 셀프어텐션은 멀티 헤드 어텐션으로 병렬적으로 이루어집니다."
      ]
    },
    {
      "cell_type": "code",
      "metadata": {
        "id": "CuQVk0xt9_oE"
      },
      "source": [
        "# 인코더 하나의 레이어를 함수로 구현.\n",
        "# 이 하나의 레이어 안에는 두 개의 서브 레이어가 존재합니다.\n",
        "def encoder_layer(units, d_model, num_heads, dropout, name=\"encoder_layer\"):\n",
        "    inputs = tf.keras.Input(shape=(None, d_model), name=\"inputs\")\n",
        "\n",
        "    # 패딩 마스크 사용\n",
        "    padding_mask = tf.keras.Input(shape=(1, 1, None), name=\"padding_mask\")\n",
        "\n",
        "    # 첫 번째 서브 레이어 : 멀티 헤드 어텐션 수행 (셀프 어텐션)\n",
        "    attention = MultiHeadAttention(\n",
        "        d_model, num_heads, name=\"attention\")({\n",
        "        'query': inputs,\n",
        "        'key': inputs,\n",
        "        'value': inputs,\n",
        "        'mask': padding_mask\n",
        "        })\n",
        "\n",
        "    # 어텐션의 결과는 Dropout과 Layer Normalization이라는 훈련을 돕는 테크닉을 수행\n",
        "    attention = tf.keras.layers.Dropout(rate=dropout)(attention)\n",
        "    attention = tf.keras.layers.LayerNormalization(\n",
        "        epsilon=1e-6)(inputs + attention)\n",
        "\n",
        "    # 두 번째 서브 레이어 : 2개의 완전연결층\n",
        "    outputs = tf.keras.layers.Dense(units=units, activation='relu')(attention)\n",
        "    outputs = tf.keras.layers.Dense(units=d_model)(outputs)\n",
        "\n",
        "    # 완전연결층의 결과는 Dropout과 LayerNormalization이라는 훈련을 돕는 테크닉을 수행\n",
        "    outputs = tf.keras.layers.Dropout(rate=dropout)(outputs)\n",
        "    outputs = tf.keras.layers.LayerNormalization(\n",
        "        epsilon=1e-6)(attention + outputs)\n",
        "\n",
        "    return tf.keras.Model(\n",
        "        inputs=[inputs, padding_mask], outputs=outputs, name=name)"
      ],
      "execution_count": 28,
      "outputs": []
    },
    {
      "cell_type": "markdown",
      "metadata": {
        "id": "YIqxvCAm9_qL"
      },
      "source": [
        "**인코더 층을 쌓아 인코더 만들기**  \n",
        "인코더 층을 임베딩 층과 포지셔널 인코딩을 연결하고 원하는 만큼 인코더 층을 쌓음으로써 트랜스포머의 인코더가 완성됩니다.  \n",
        "인코더와 디코더 내부에는 각 서브 층 이후에 훈련을 돕는 Layer Normalization이라는 테크닉이 사용되었습니다.  \n",
        "트랜스포머는 하이퍼파라미터인 num_layers 개수의 인코더 층을 쌓습니다. 학습시간을 고려해 적은 개수를 사용하겠습니다."
      ]
    },
    {
      "cell_type": "code",
      "metadata": {
        "id": "VugaMXk69_su"
      },
      "source": [
        "def encoder(vocab_size,\n",
        "            num_layers,\n",
        "            units,\n",
        "            d_model,\n",
        "            num_heads,\n",
        "            dropout,\n",
        "            name=\"encoder\"):\n",
        "    inputs = tf.keras.Input(shape=(None,), name=\"inputs\")\n",
        "\n",
        "    # 패딩 마스크 사용\n",
        "    padding_mask = tf.keras.Input(shape=(1, 1, None), name=\"padding_mask\")\n",
        "\n",
        "    # 임베딩 레이어\n",
        "    embeddings = tf.keras.layers.Embedding(vocab_size, d_model)(inputs)\n",
        "    embeddings *= tf.math.sqrt(tf.cast(d_model, tf.float32))\n",
        "\n",
        "    # 포지셔널 인코딩\n",
        "    embeddings = PositionalEncoding(vocab_size, d_model)(embeddings)\n",
        "\n",
        "    outputs = tf.keras.layers.Dropout(rate=dropout)(embeddings)\n",
        "\n",
        "    # num_layers만큼 쌓아올린 인코더의 층.\n",
        "    for i in range(num_layers):\n",
        "        outputs = encoder_layer(\n",
        "            units=units,\n",
        "            d_model=d_model,\n",
        "            num_heads=num_heads,\n",
        "            dropout=dropout,\n",
        "            name=\"encoder_layer_{}\".format(i),\n",
        "            )([outputs, padding_mask])\n",
        "\n",
        "    return tf.keras.Model(\n",
        "        inputs=[inputs, padding_mask], outputs=outputs, name=name)"
      ],
      "execution_count": 29,
      "outputs": []
    },
    {
      "cell_type": "markdown",
      "metadata": {
        "id": "s-zA3EEw21Rc"
      },
      "source": [
        "### 디코더\n",
        "디코더는 인코더와 비슷하지만 세 개의 서브 층으로 구성된다는 점에서 조금 더 복잡합니다.\n",
        "1. 셀프 어텐션  \n",
        "2. 인코더-디코더 어텐션  \n",
        "3. 피드 포워드 신경망  \n",
        "인코더-디코더 어텐션은 셀프 어텐션과는 달리 Query가 디코더의 벡터인 반면 Key와 Value가 인코더의 벡터라는 특징이 있습니다. 이 부분이 인코더가 입력 문장으로부터 정보를 디코더에 전달하는 과정입니다.  \n",
        "인코더의 셀프 어텐션과 마찬가지로 디코더의 셀프 어텐션, 인코더-디코더 어텐션, 두 가지 모두 스케일드 닷 프로덕트 어텐션을 멀티 헤드 어텐션으로 병렬적으로 수행합니다."
      ]
    },
    {
      "cell_type": "code",
      "metadata": {
        "id": "hi8oj8Zmp6uQ"
      },
      "source": [
        "# 디코더 하나의 레이어를 함수로 구현.\n",
        "# 이 하나의 레이어 안에는 세 개의 서브 레이어가 존재합니다.\n",
        "def decoder_layer(units, d_model, num_heads, dropout, name=\"decoder_layer\"):\n",
        "    inputs = tf.keras.Input(shape=(None, d_model), name=\"inputs\")\n",
        "    enc_outputs = tf.keras.Input(shape=(None, d_model), name=\"encoder_outputs\")\n",
        "    look_ahead_mask = tf.keras.Input(\n",
        "      shape=(1, None, None), name=\"look_ahead_mask\")\n",
        "    padding_mask = tf.keras.Input(shape=(1, 1, None), name='padding_mask')\n",
        "\n",
        "    # 첫 번째 서브 레이어 : 멀티 헤드 어텐션 수행 (셀프 어텐션)\n",
        "    attention1 = MultiHeadAttention(\n",
        "      d_model, num_heads, name=\"attention_1\")(inputs={\n",
        "          'query': inputs,\n",
        "          'key': inputs,\n",
        "          'value': inputs,\n",
        "          'mask': look_ahead_mask\n",
        "      })\n",
        "\n",
        "    # 멀티 헤드 어텐션의 결과는 LayerNormalization이라는 훈련을 돕는 테크닉을 수행\n",
        "    attention1 = tf.keras.layers.LayerNormalization(\n",
        "      epsilon=1e-6)(attention1 + inputs)\n",
        "\n",
        "    # 두 번째 서브 레이어 : 마스크드 멀티 헤드 어텐션 수행 (인코더-디코더 어텐션)\n",
        "    attention2 = MultiHeadAttention(\n",
        "      d_model, num_heads, name=\"attention_2\")(inputs={\n",
        "          'query': attention1,\n",
        "          'key': enc_outputs,\n",
        "          'value': enc_outputs,\n",
        "          'mask': padding_mask\n",
        "      })\n",
        "\n",
        "    # 마스크드 멀티 헤드 어텐션의 결과는\n",
        "    # Dropout과 LayerNormalization이라는 훈련을 돕는 테크닉을 수행\n",
        "    attention2 = tf.keras.layers.Dropout(rate=dropout)(attention2)\n",
        "    attention2 = tf.keras.layers.LayerNormalization(\n",
        "      epsilon=1e-6)(attention2 + attention1)\n",
        "\n",
        "    # 세 번째 서브 레이어 : 2개의 완전연결층\n",
        "    outputs = tf.keras.layers.Dense(units=units, activation='relu')(attention2)\n",
        "    outputs = tf.keras.layers.Dense(units=d_model)(outputs)\n",
        "\n",
        "    # 완전연결층의 결과는 Dropout과 LayerNormalization 수행\n",
        "    outputs = tf.keras.layers.Dropout(rate=dropout)(outputs)\n",
        "    outputs = tf.keras.layers.LayerNormalization(\n",
        "      epsilon=1e-6)(outputs + attention2)\n",
        "\n",
        "    return tf.keras.Model(\n",
        "      inputs=[inputs, enc_outputs, look_ahead_mask, padding_mask],\n",
        "      outputs=outputs,\n",
        "      name=name)"
      ],
      "execution_count": 30,
      "outputs": []
    },
    {
      "cell_type": "markdown",
      "metadata": {
        "id": "23fv_Dyk-fnT"
      },
      "source": [
        "**디코더 층을 쌓아 디코더 만들기**  \n",
        "디코더의 층은 임베딩 층(Embedding layer)과 포지셔널 인코딩(Positional Encoding)을 연결하고 디코더 층을 쌓아 만듭니다.  \n",
        "위의 인코더와 유사하게 구성해 줍니다."
      ]
    },
    {
      "cell_type": "code",
      "metadata": {
        "id": "9gDM2q_o-fqa"
      },
      "source": [
        "def decoder(vocab_size,\n",
        "            num_layers,\n",
        "            units,\n",
        "            d_model,\n",
        "            num_heads,\n",
        "            dropout,\n",
        "            name='decoder'):\n",
        "    inputs = tf.keras.Input(shape=(None,), name='inputs')\n",
        "    enc_outputs = tf.keras.Input(shape=(None, d_model), name='encoder_outputs')\n",
        "    look_ahead_mask = tf.keras.Input(\n",
        "        shape=(1, None, None), name='look_ahead_mask')\n",
        "\n",
        "    # 패딩 마스크\n",
        "    padding_mask = tf.keras.Input(shape=(1, 1, None), name='padding_mask')\n",
        "\n",
        "    # 임베딩 레이어\n",
        "    embeddings = tf.keras.layers.Embedding(vocab_size, d_model)(inputs)\n",
        "    embeddings *= tf.math.sqrt(tf.cast(d_model, tf.float32))\n",
        "\n",
        "    # 포지셔널 인코딩\n",
        "    embeddings = PositionalEncoding(vocab_size, d_model)(embeddings)\n",
        "\n",
        "    # Dropout이라는 훈련을 돕는 테크닉을 수행\n",
        "    outputs = tf.keras.layers.Dropout(rate=dropout)(embeddings)\n",
        "\n",
        "    for i in range(num_layers):\n",
        "        outputs = decoder_layer(\n",
        "            units=units,\n",
        "            d_model=d_model,\n",
        "            num_heads=num_heads,\n",
        "            dropout=dropout,\n",
        "            name='decoder_layer_{}'.format(i),\n",
        "        )(inputs=[outputs, enc_outputs, look_ahead_mask, padding_mask])\n",
        "\n",
        "    return tf.keras.Model(\n",
        "        inputs=[inputs, enc_outputs, look_ahead_mask, padding_mask],\n",
        "        outputs=outputs,\n",
        "        name=name)"
      ],
      "execution_count": 31,
      "outputs": []
    },
    {
      "cell_type": "markdown",
      "metadata": {
        "id": "JssKLI5B-fs_"
      },
      "source": [
        "### 모델 정의 및 학습하기\n",
        "인코더 층 함수와 디코더 층 함수를 사용하여 트랜스포머 함수를 정의합니다."
      ]
    },
    {
      "cell_type": "code",
      "metadata": {
        "id": "Ax0OHvF2-fvL"
      },
      "source": [
        "def transformer(vocab_size,\n",
        "                num_layers,\n",
        "                units,\n",
        "                d_model,\n",
        "                num_heads,\n",
        "                dropout,\n",
        "                name=\"transformer\"):\n",
        "    inputs = tf.keras.Input(shape=(None,), name=\"inputs\")\n",
        "    dec_inputs = tf.keras.Input(shape=(None,), name=\"dec_inputs\")\n",
        "\n",
        "    # 인코더에서 패딩을 위한 마스크\n",
        "    enc_padding_mask = tf.keras.layers.Lambda(\n",
        "        create_padding_mask, output_shape=(1, 1, None),\n",
        "        name='enc_padding_mask')(inputs)\n",
        "\n",
        "    # 디코더에서 미래의 토큰을 마스크 하기 위해서 사용합니다.\n",
        "    # 내부적으로 패딩 마스크도 포함되어져 있습니다.\n",
        "    look_ahead_mask = tf.keras.layers.Lambda(\n",
        "        create_look_ahead_mask,\n",
        "        output_shape=(1, None, None),\n",
        "        name='look_ahead_mask')(dec_inputs)\n",
        "\n",
        "    # 두 번째 어텐션 블록에서 인코더의 벡터들을 마스킹\n",
        "    # 디코더에서 패딩을 위한 마스크\n",
        "    dec_padding_mask = tf.keras.layers.Lambda(\n",
        "        create_padding_mask, output_shape=(1, 1, None),\n",
        "        name='dec_padding_mask')(inputs)\n",
        "\n",
        "    # 인코더\n",
        "    enc_outputs = encoder(\n",
        "        vocab_size=vocab_size,\n",
        "        num_layers=num_layers,\n",
        "        units=units,\n",
        "        d_model=d_model,\n",
        "        num_heads=num_heads,\n",
        "        dropout=dropout,\n",
        "    )(inputs=[inputs, enc_padding_mask])\n",
        "\n",
        "    # 디코더\n",
        "    dec_outputs = decoder(\n",
        "        vocab_size=vocab_size,\n",
        "        num_layers=num_layers,\n",
        "        units=units,\n",
        "        d_model=d_model,\n",
        "        num_heads=num_heads,\n",
        "        dropout=dropout,\n",
        "    )(inputs=[dec_inputs, enc_outputs, look_ahead_mask, dec_padding_mask])\n",
        "\n",
        "    # 완전연결층\n",
        "    outputs = tf.keras.layers.Dense(units=vocab_size, name=\"outputs\")(dec_outputs)\n",
        "\n",
        "    return tf.keras.Model(inputs=[inputs, dec_inputs], outputs=outputs, name=name)"
      ],
      "execution_count": 32,
      "outputs": []
    },
    {
      "cell_type": "markdown",
      "metadata": {
        "id": "DD13IXaT-fxu"
      },
      "source": [
        "**모델 생성**  \n",
        "num_layers, d-model, units는 전부 사용자가 정할 수 있는 하이퍼파라미터 값입니다.  \n",
        "실제 사용되는 것보다 작은 값을 사용하겠습니다."
      ]
    },
    {
      "cell_type": "code",
      "metadata": {
        "colab": {
          "base_uri": "https://localhost:8080/"
        },
        "id": "VZI3lPiX-ueM",
        "outputId": "2e880326-ce5f-4518-c322-39940213f748"
      },
      "source": [
        "tf.keras.backend.clear_session()\n",
        "\n",
        "# 하이퍼파라미터\n",
        "NUM_LAYERS = 2 # 인코더와 디코더의 층의 개수\n",
        "D_MODEL = 256 # 인코더와 디코더 내부의 입, 출력의 고정 차원\n",
        "NUM_HEADS = 8 # 멀티 헤드 어텐션에서의 헤드 수 \n",
        "UNITS = 512 # 피드 포워드 신경망의 은닉층의 크기\n",
        "DROPOUT = 0.1 # 드롭아웃의 비율\n",
        "\n",
        "model = transformer(\n",
        "    vocab_size=VOCAB_SIZE,\n",
        "    num_layers=NUM_LAYERS,\n",
        "    units=UNITS,\n",
        "    d_model=D_MODEL,\n",
        "    num_heads=NUM_HEADS,\n",
        "    dropout=DROPOUT)\n",
        "\n",
        "model.summary()"
      ],
      "execution_count": 33,
      "outputs": [
        {
          "output_type": "stream",
          "name": "stdout",
          "text": [
            "Model: \"transformer\"\n",
            "__________________________________________________________________________________________________\n",
            "Layer (type)                    Output Shape         Param #     Connected to                     \n",
            "==================================================================================================\n",
            "inputs (InputLayer)             [(None, None)]       0                                            \n",
            "__________________________________________________________________________________________________\n",
            "dec_inputs (InputLayer)         [(None, None)]       0                                            \n",
            "__________________________________________________________________________________________________\n",
            "enc_padding_mask (Lambda)       (None, 1, 1, None)   0           inputs[0][0]                     \n",
            "__________________________________________________________________________________________________\n",
            "encoder (Functional)            (None, None, 256)    3146240     inputs[0][0]                     \n",
            "                                                                 enc_padding_mask[0][0]           \n",
            "__________________________________________________________________________________________________\n",
            "look_ahead_mask (Lambda)        (None, 1, None, None 0           dec_inputs[0][0]                 \n",
            "__________________________________________________________________________________________________\n",
            "dec_padding_mask (Lambda)       (None, 1, 1, None)   0           inputs[0][0]                     \n",
            "__________________________________________________________________________________________________\n",
            "decoder (Functional)            (None, None, 256)    3673600     dec_inputs[0][0]                 \n",
            "                                                                 encoder[0][0]                    \n",
            "                                                                 look_ahead_mask[0][0]            \n",
            "                                                                 dec_padding_mask[0][0]           \n",
            "__________________________________________________________________________________________________\n",
            "outputs (Dense)                 (None, None, 8172)   2100204     decoder[0][0]                    \n",
            "==================================================================================================\n",
            "Total params: 8,920,044\n",
            "Trainable params: 8,920,044\n",
            "Non-trainable params: 0\n",
            "__________________________________________________________________________________________________\n"
          ]
        }
      ]
    },
    {
      "cell_type": "markdown",
      "metadata": {
        "id": "h1KneaNS-ug6"
      },
      "source": [
        "**손실함수(Loss function)**  \n",
        "레이블인 시퀀스에 패딩이 되어 있으므로 loss를 계산할 때 패딩 마스크를 적용해야 합니다."
      ]
    },
    {
      "cell_type": "code",
      "metadata": {
        "id": "qo4ii3i--ukB"
      },
      "source": [
        "def loss_function(y_true, y_pred):\n",
        "    y_true = tf.reshape(y_true, shape=(-1, MAX_LENGTH - 1))\n",
        "    \n",
        "    loss = tf.keras.losses.SparseCategoricalCrossentropy(\n",
        "        from_logits=True, reduction='none')(y_true, y_pred)\n",
        "    \n",
        "    mask = tf.cast(tf.not_equal(y_true, 0), tf.float32)\n",
        "    loss = tf.multiply(loss, mask)\n",
        "    \n",
        "    return tf.reduce_mean(loss)"
      ],
      "execution_count": 42,
      "outputs": []
    },
    {
      "cell_type": "markdown",
      "metadata": {
        "id": "Wuq4zNOv-f0b"
      },
      "source": [
        "**커스텀 된 학습률(Learning rate)**  \n",
        "딥러닝 모델 학습 시 learning rate는 매우 중요한 하이퍼파라미터입니다.  \n",
        "커스텁 학습률 스케쥴링(Custom Learning rate Scheduling)을 사용하면 적합한 lr을 찾을 수 있습니다."
      ]
    },
    {
      "cell_type": "code",
      "metadata": {
        "id": "pZvEfbfEAXJb"
      },
      "source": [
        "class CustomSchedule(tf.keras.optimizers.schedules.LearningRateSchedule):\n",
        "    \n",
        "    def __init__(self, d_model, warmup_steps=4000):\n",
        "        super(CustomSchedule, self).__init__()\n",
        "        \n",
        "        self.d_model = d_model\n",
        "        self.d_model = tf.cast(self.d_model, tf.float32)\n",
        "        \n",
        "        self.warmup_steps = warmup_steps\n",
        "        \n",
        "    def __call__(self, step):\n",
        "        arg1 = tf.math.rsqrt(step)\n",
        "        arg2 = step * (self.warmup_steps**-1.5)\n",
        "        \n",
        "        return tf.math.rsqrt(self.d_model) * tf.math.minimum(arg1, arg2)"
      ],
      "execution_count": 43,
      "outputs": []
    },
    {
      "cell_type": "code",
      "metadata": {
        "colab": {
          "base_uri": "https://localhost:8080/",
          "height": 297
        },
        "id": "hmO7BcgBAXML",
        "outputId": "2ff98aa8-c5a8-450b-b646-07b5ed219b28"
      },
      "source": [
        "# lr 시각화\n",
        "sample_learning_rate = CustomSchedule(d_model=128)\n",
        "\n",
        "plt.plot(sample_learning_rate(tf.range(200000, dtype=tf.float32)))\n",
        "plt.ylabel(\"Learning Rate\")\n",
        "plt.xlabel(\"Train Step\")"
      ],
      "execution_count": 44,
      "outputs": [
        {
          "output_type": "execute_result",
          "data": {
            "text/plain": [
              "Text(0.5, 0, 'Train Step')"
            ]
          },
          "metadata": {},
          "execution_count": 44
        },
        {
          "output_type": "display_data",
          "data": {
            "image/png": "[encoded data removed]",
            "text/plain": [
              "<Figure size 432x288 with 1 Axes>"
            ]
          },
          "metadata": {
            "needs_background": "light"
          }
        }
      ]
    },
    {
      "cell_type": "markdown",
      "metadata": {
        "id": "4Y6r9PrHAXPL"
      },
      "source": [
        "**모델 컴파일**  \n",
        "손실 함수와 커스텀 된 학습률을 사용하여 모델을 컴파일 합니다."
      ]
    },
    {
      "cell_type": "code",
      "metadata": {
        "id": "U2jubCSLAXRj"
      },
      "source": [
        "learning_rate = CustomSchedule(D_MODEL)\n",
        "\n",
        "optimizer = tf.keras.optimizers.Adam(\n",
        "learning_rate, beta_1=0.9, beta_2=0.98, epsilon=1e-9)\n",
        "\n",
        "def accuracy(y_true, y_pred):\n",
        "    y_ture = tf.reshape(y_true, shape=(-1, MAX_LENGTH -1))\n",
        "    return tf.keras.metrics.sparse_categorical_accuracy(y_true, y_pred)\n",
        "\n",
        "model.compile(optimizer=optimizer, loss=loss_function, metrics=[accuracy])"
      ],
      "execution_count": 45,
      "outputs": []
    },
    {
      "cell_type": "markdown",
      "metadata": {
        "id": "rWs0zzWjC-mn"
      },
      "source": [
        "**교사 강요(Teacher Forcing) 사용하기**  \n",
        "tf.data.Dataset API는 훈련 프로세스의 속도가 빨라지도록 입력 파이프라인을 구축하는 API입니다.  \n",
        "이를 사용하기 위해서 질문과 답변의 쌍을 tf.data.Dataset의 입력으로 넣어주는 작업을 합니다.  \n",
        "이 때 디코거의 입력과 실제값(레이블)을 정의해 주기 위해서는 교사 강요(Teacher Forcing) 언어 모델의 훈련 기법을 사용합니다."
      ]
    },
    {
      "cell_type": "markdown",
      "metadata": {
        "id": "O3FR4mPUDGPD"
      },
      "source": [
        "질문과 답변의 쌍을 tf.data.Dataset API의 입력으로 사용하여 파이프라인을 구성합니다. 이때, 교사 강요를 위해서 answers[:, :-1]를 디코더의 입력값, answers[:, 1:]를 디코더의 레이블로 사용합니다."
      ]
    },
    {
      "cell_type": "code",
      "metadata": {
        "id": "fD35aLPtDH2E"
      },
      "source": [
        "BATCH_SIZE = 64\n",
        "BUFFER_SIZE = 20000\n",
        "\n",
        "# 디코더는 이전의 target을 다음의 input으로 사용합니다.\n",
        "# 이에 따라 outputs에서는 START_TOKEN을 제거하겠습니다.\n",
        "dataset = tf.data.Dataset.from_tensor_slices((\n",
        "    {\n",
        "        'inputs': questions,\n",
        "        'dec_inputs': answers[:, :-1]\n",
        "    },\n",
        "    {\n",
        "        'outputs': answers[:, 1:]\n",
        "    },\n",
        "))\n",
        "\n",
        "dataset = dataset.cache()\n",
        "dataset = dataset.shuffle(BUFFER_SIZE)\n",
        "dataset = dataset.batch(BATCH_SIZE)\n",
        "dataset = dataset.prefetch(tf.data.experimental.AUTOTUNE)"
      ],
      "execution_count": 53,
      "outputs": []
    },
    {
      "cell_type": "code",
      "metadata": {
        "colab": {
          "base_uri": "https://localhost:8080/"
        },
        "id": "w7H7J8dWCN4m",
        "outputId": "c10afb19-4e2a-4983-cf47-98f3ddf338ad"
      },
      "source": [
        "EPOCHS = 30\n",
        "model.fit(dataset, epochs=EPOCHS, verbose=1)"
      ],
      "execution_count": 54,
      "outputs": [
        {
          "output_type": "stream",
          "name": "stdout",
          "text": [
            "Epoch 1/30\n",
            "185/185 [==============================] - 16s 89ms/step - loss: 1.3810 - accuracy: 0.0883\n",
            "Epoch 2/30\n",
            "185/185 [==============================] - 16s 88ms/step - loss: 1.2863 - accuracy: 0.0947\n",
            "Epoch 3/30\n",
            "185/185 [==============================] - 16s 88ms/step - loss: 1.1842 - accuracy: 0.1040\n",
            "Epoch 4/30\n",
            "185/185 [==============================] - 16s 88ms/step - loss: 1.0721 - accuracy: 0.1155\n",
            "Epoch 5/30\n",
            "185/185 [==============================] - 16s 88ms/step - loss: 0.9525 - accuracy: 0.1283\n",
            "Epoch 6/30\n",
            "185/185 [==============================] - 16s 89ms/step - loss: 0.8275 - accuracy: 0.1425\n",
            "Epoch 7/30\n",
            "185/185 [==============================] - 16s 88ms/step - loss: 0.6998 - accuracy: 0.1578\n",
            "Epoch 8/30\n",
            "185/185 [==============================] - 16s 88ms/step - loss: 0.5742 - accuracy: 0.1744\n",
            "Epoch 9/30\n",
            "185/185 [==============================] - 16s 88ms/step - loss: 0.4550 - accuracy: 0.1917\n",
            "Epoch 10/30\n",
            "185/185 [==============================] - 16s 88ms/step - loss: 0.3493 - accuracy: 0.2075\n",
            "Epoch 11/30\n",
            "185/185 [==============================] - 16s 88ms/step - loss: 0.2586 - accuracy: 0.2226\n",
            "Epoch 12/30\n",
            "185/185 [==============================] - 16s 88ms/step - loss: 0.1881 - accuracy: 0.2355\n",
            "Epoch 13/30\n",
            "185/185 [==============================] - 16s 87ms/step - loss: 0.1368 - accuracy: 0.2446\n",
            "Epoch 14/30\n",
            "185/185 [==============================] - 16s 88ms/step - loss: 0.1040 - accuracy: 0.2504\n",
            "Epoch 15/30\n",
            "185/185 [==============================] - 16s 87ms/step - loss: 0.0832 - accuracy: 0.2543\n",
            "Epoch 16/30\n",
            "185/185 [==============================] - 16s 87ms/step - loss: 0.0729 - accuracy: 0.2559\n",
            "Epoch 17/30\n",
            "185/185 [==============================] - 16s 87ms/step - loss: 0.0674 - accuracy: 0.2566\n",
            "Epoch 18/30\n",
            "185/185 [==============================] - 16s 88ms/step - loss: 0.0645 - accuracy: 0.2572\n",
            "Epoch 19/30\n",
            "185/185 [==============================] - 16s 88ms/step - loss: 0.0586 - accuracy: 0.2583\n",
            "Epoch 20/30\n",
            "185/185 [==============================] - 16s 88ms/step - loss: 0.0508 - accuracy: 0.2602\n",
            "Epoch 21/30\n",
            "185/185 [==============================] - 16s 88ms/step - loss: 0.0460 - accuracy: 0.2614\n",
            "Epoch 22/30\n",
            "185/185 [==============================] - 16s 87ms/step - loss: 0.0382 - accuracy: 0.2632\n",
            "Epoch 23/30\n",
            "185/185 [==============================] - 16s 87ms/step - loss: 0.0346 - accuracy: 0.2642\n",
            "Epoch 24/30\n",
            "185/185 [==============================] - 16s 87ms/step - loss: 0.0329 - accuracy: 0.2646\n",
            "Epoch 25/30\n",
            "185/185 [==============================] - 16s 87ms/step - loss: 0.0297 - accuracy: 0.2653\n",
            "Epoch 26/30\n",
            "185/185 [==============================] - 16s 87ms/step - loss: 0.0257 - accuracy: 0.2665\n",
            "Epoch 27/30\n",
            "185/185 [==============================] - 16s 87ms/step - loss: 0.0245 - accuracy: 0.2668\n",
            "Epoch 28/30\n",
            "185/185 [==============================] - 16s 88ms/step - loss: 0.0227 - accuracy: 0.2673\n",
            "Epoch 29/30\n",
            "185/185 [==============================] - 16s 88ms/step - loss: 0.0212 - accuracy: 0.2675\n",
            "Epoch 30/30\n",
            "185/185 [==============================] - 16s 87ms/step - loss: 0.0196 - accuracy: 0.2681\n"
          ]
        },
        {
          "output_type": "execute_result",
          "data": {
            "text/plain": [
              "<keras.callbacks.History at 0x7f6d6f0c1c90>"
            ]
          },
          "metadata": {},
          "execution_count": 54
        }
      ]
    },
    {
      "cell_type": "markdown",
      "metadata": {
        "id": "B4h9FOqqhN7W"
      },
      "source": [
        "## Step 5. 모델 평가하기\n",
        "예측(inference) 단계는 기본적으로 다음과 같은 과정을 거칩니다.  \n",
        "1. 새로운 입력 문장에 대해서는 훈련 때와 동일한 전처리를 거친다.  \n",
        "2. 입력 문장을 토크나이징하고, START_TOKEN과 END_TOKEN을 추가한다.\n",
        "3. 패딩 마스킹과 룩 어헤드 마스킹을 계산한다.\n",
        "4. 디코더는 입력 시퀀스로부터 다음 단어를 예측한다.\n",
        "5. 디코더는 예측된 다음 단어를 기존의 입력 시퀀스에 추가하여 새로운 입력으로 사용한다.\n",
        "6. END_TOKEN이 예측되거나 문장의 최대 길이에 도달하면 디코더는 동작을 멈춘다."
      ]
    },
    {
      "cell_type": "code",
      "metadata": {
        "id": "7tC9iyQUiMaG"
      },
      "source": [
        "def decoder_inference(sentence):\n",
        "    sentence = preprocess_sentence(sentence)\n",
        "\n",
        "    # 입력된 문장을 정수 인코딩 후, 시작 토큰과 종료 토큰을 앞뒤로 추가.\n",
        "    sentence = tf.expand_dims(\n",
        "    START_TOKEN + tokenizer.encode(sentence) + END_TOKEN, axis=0)\n",
        "\n",
        "    # 디코더의 현재까지의 예측한 출력 시퀀스가 지속적으로 저장되는 변수.\n",
        "    # 처음에는 예측한 내용이 없음으로 시작 토큰만 별도 저장.\n",
        "    output_sequence = tf.expand_dims(START_TOKEN, 0)\n",
        "\n",
        "    # 디코더의 인퍼런스 단계\n",
        "    for i in range(MAX_LENGTH):\n",
        "        # 디코더는 최대 MAX_LENGTH의 길이만큼 다음 단어 예측을 반복합니다.\n",
        "        predictions = model(inputs=[sentence, output_sequence], training=False)\n",
        "        predictions = predictions[:, -1:, :]\n",
        "\n",
        "        # 현재 예측한 단어의 정수\n",
        "        predicted_id = tf.cast(tf.argmax(predictions, axis=-1), tf.int32)\n",
        "\n",
        "        # 만약 현재 예측한 단어가 종료 토큰이라면 for문을 종료\n",
        "        if tf.equal(predicted_id, END_TOKEN[0]):\n",
        "            break\n",
        "\n",
        "        # 예측한 단어들은 지속적으로 output_sequence에 추가됩니다.\n",
        "        # 이 output_sequence는 다시 디코더의 입력이 됩니다.\n",
        "        output_sequence = tf.concat([output_sequence, predicted_id], axis=-1)\n",
        "\n",
        "    return tf.squeeze(output_sequence, axis=0)"
      ],
      "execution_count": 55,
      "outputs": []
    },
    {
      "cell_type": "markdown",
      "metadata": {
        "id": "0J0ycWM9BI9L"
      },
      "source": [
        "임의의 입력 문장에 대해서 decoder_inference() 함수를 호출하여 챗봇의 대답을 얻는 sentence_generation() 함수를 만듭니다."
      ]
    },
    {
      "cell_type": "code",
      "metadata": {
        "id": "LfgVDPUiBPI5"
      },
      "source": [
        "def sentence_generation(sentence):\n",
        "    # 입력 문장에 대해서 디코더를 동작 시켜 예측된 정수 시퀀스를 리턴 받습니다.\n",
        "    prediction = decoder_inference(sentence)\n",
        "    \n",
        "    # 정수 시퀀스를 다시 텍스트 시퀀스로 변환합니다.\n",
        "    predicted_sentence = tokenizer.decode(\n",
        "        [i for i in prediction if i < tokenizer.vocab_size])\n",
        "    \n",
        "    print('입력 : {}'.format(sentence))\n",
        "    print('출력 : {}'.format(predicted_sentence))\n",
        "    \n",
        "    return predicted_sentence"
      ],
      "execution_count": 56,
      "outputs": []
    },
    {
      "cell_type": "code",
      "metadata": {
        "colab": {
          "base_uri": "https://localhost:8080/",
          "height": 71
        },
        "id": "v6GZYaY1BPpy",
        "outputId": "4d736b41-966a-419a-e311-54990652b373"
      },
      "source": [
        "sentence_generation('비오는데 너무 심심해. 할 거 없나?')"
      ],
      "execution_count": 68,
      "outputs": [
        {
          "output_type": "stream",
          "name": "stdout",
          "text": [
            "입력 : 비오는데 너무 심심해. 할 거 없나?\n",
            "출력 : 노래 불러 드릴까요 ? 북치기박치기 헥헥헥헥헥헥헥헥헥헥헥헥헥헥헥헥\n"
          ]
        },
        {
          "output_type": "execute_result",
          "data": {
            "application/vnd.google.colaboratory.intrinsic+json": {
              "type": "string"
            },
            "text/plain": [
              "'노래 불러 드릴까요 ? 북치기박치기 헥헥헥헥헥헥헥헥헥헥헥헥헥헥헥헥'"
            ]
          },
          "metadata": {},
          "execution_count": 68
        }
      ]
    },
    {
      "cell_type": "code",
      "metadata": {
        "colab": {
          "base_uri": "https://localhost:8080/",
          "height": 71
        },
        "id": "2V0mKVchBPsm",
        "outputId": "e239ec25-d8ec-4240-d941-6c4995f8c4b2"
      },
      "source": [
        "sentence_generation('큰 북을 울려라 둥둥둥')"
      ],
      "execution_count": 69,
      "outputs": [
        {
          "output_type": "stream",
          "name": "stdout",
          "text": [
            "입력 : 큰 북을 울려라 둥둥둥\n",
            "출력 : 상처받고 있다고 말해보세요 .\n"
          ]
        },
        {
          "output_type": "execute_result",
          "data": {
            "application/vnd.google.colaboratory.intrinsic+json": {
              "type": "string"
            },
            "text/plain": [
              "'상처받고 있다고 말해보세요 .'"
            ]
          },
          "metadata": {},
          "execution_count": 69
        }
      ]
    },
    {
      "cell_type": "code",
      "metadata": {
        "colab": {
          "base_uri": "https://localhost:8080/",
          "height": 71
        },
        "id": "nD6qPt4jHyI_",
        "outputId": "30634bb9-fdb7-41fc-c71b-4895e98f391d"
      },
      "source": [
        "sentence_generation('상처받고 있어 너 때문에')"
      ],
      "execution_count": 70,
      "outputs": [
        {
          "output_type": "stream",
          "name": "stdout",
          "text": [
            "입력 : 상처받고 있어 너 때문에\n",
            "출력 : 먼저 다가가는 건 어떨까요 .\n"
          ]
        },
        {
          "output_type": "execute_result",
          "data": {
            "application/vnd.google.colaboratory.intrinsic+json": {
              "type": "string"
            },
            "text/plain": [
              "'먼저 다가가는 건 어떨까요 .'"
            ]
          },
          "metadata": {},
          "execution_count": 70
        }
      ]
    },
    {
      "cell_type": "code",
      "metadata": {
        "colab": {
          "base_uri": "https://localhost:8080/",
          "height": 71
        },
        "id": "HhuJsBH8H3Or",
        "outputId": "ba57a0fc-c1b5-4c5f-c747-0b2edd850d76"
      },
      "source": [
        "sentence_generation('도대체 무슨 소리를 하는거야')"
      ],
      "execution_count": 71,
      "outputs": [
        {
          "output_type": "stream",
          "name": "stdout",
          "text": [
            "입력 : 도대체 무슨 소리를 하는거야\n",
            "출력 : 당신이 사랑이라고 생각하는 경향이 있나 봅니다 .\n"
          ]
        },
        {
          "output_type": "execute_result",
          "data": {
            "application/vnd.google.colaboratory.intrinsic+json": {
              "type": "string"
            },
            "text/plain": [
              "'당신이 사랑이라고 생각하는 경향이 있나 봅니다 .'"
            ]
          },
          "metadata": {},
          "execution_count": 71
        }
      ]
    },
    {
      "cell_type": "code",
      "metadata": {
        "colab": {
          "base_uri": "https://localhost:8080/",
          "height": 71
        },
        "id": "K-6nSD-rIR0k",
        "outputId": "6ac9ab60-8496-46f5-f31c-778f2532bc35"
      },
      "source": [
        "sentence_generation('우리는 이루어질 수 없는 사이야 미안해')"
      ],
      "execution_count": 72,
      "outputs": [
        {
          "output_type": "stream",
          "name": "stdout",
          "text": [
            "입력 : 우리는 이루어질 수 없는 사이야 미안해\n",
            "출력 : 이제 짝사랑 말고 둘이서 하는 사랑하세요 .\n"
          ]
        },
        {
          "output_type": "execute_result",
          "data": {
            "application/vnd.google.colaboratory.intrinsic+json": {
              "type": "string"
            },
            "text/plain": [
              "'이제 짝사랑 말고 둘이서 하는 사랑하세요 .'"
            ]
          },
          "metadata": {},
          "execution_count": 72
        }
      ]
    },
    {
      "cell_type": "code",
      "metadata": {
        "id": "yV2ZHFR2IVus"
      },
      "source": [
        ""
      ],
      "execution_count": null,
      "outputs": []
    },
    {
      "cell_type": "code",
      "metadata": {
        "id": "F8BDaympIZ54"
      },
      "source": [
        ""
      ],
      "execution_count": null,
      "outputs": []
    }
  ]
}