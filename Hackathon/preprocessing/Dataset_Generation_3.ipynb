{
  "nbformat": 4,
  "nbformat_minor": 0,
  "metadata": {
    "colab": {
      "name": "Dataset_Generation_3",
      "provenance": [],
      "collapsed_sections": [],
      "machine_shape": "hm"
    },
    "kernelspec": {
      "display_name": "Python 3",
      "name": "python3"
    },
    "language_info": {
      "name": "python"
    },
    "accelerator": "GPU"
  },
  "cells": [
    {
      "cell_type": "markdown",
      "metadata": {
        "id": "SG7H9_uBp-PJ"
      },
      "source": [
        "## Load the Data for Cleaning"
      ]
    },
    {
      "cell_type": "code",
      "metadata": {
        "colab": {
          "base_uri": "https://localhost:8080/"
        },
        "id": "TGmtMjhkaOPM",
        "outputId": "2fa0dccf-e845-433b-d655-c6ca4971da8f"
      },
      "source": [
        "from google.colab import drive\n",
        "drive.mount('/content/drive')"
      ],
      "execution_count": null,
      "outputs": [
        {
          "output_type": "stream",
          "name": "stdout",
          "text": [
            "Mounted at /content/drive\n"
          ]
        }
      ]
    },
    {
      "cell_type": "code",
      "metadata": {
        "id": "bB-rtTcIaI0h"
      },
      "source": [
        "import pandas as pd\n",
        "import re"
      ],
      "execution_count": null,
      "outputs": []
    },
    {
      "cell_type": "code",
      "metadata": {
        "id": "e4I2itkIqfD4",
        "colab": {
          "base_uri": "https://localhost:8080/",
          "height": 289
        },
        "outputId": "a75a20b9-0765-448f-91c2-8df5a0aab96b"
      },
      "source": [
        "uncleaned_data_path = \"/content/drive/MyDrive/Colab Notebooks/Aiffel_Hackathon/financial_documents/preprocessing_test/Training_Data_uncleaned.csv\"\n",
        "train_data = pd.read_csv(uncleaned_data_path)\n",
        "train_data.head()"
      ],
      "execution_count": null,
      "outputs": [
        {
          "output_type": "execute_result",
          "data": {
            "text/html": [
              "<div>\n",
              "<style scoped>\n",
              "    .dataframe tbody tr th:only-of-type {\n",
              "        vertical-align: middle;\n",
              "    }\n",
              "\n",
              "    .dataframe tbody tr th {\n",
              "        vertical-align: top;\n",
              "    }\n",
              "\n",
              "    .dataframe thead th {\n",
              "        text-align: right;\n",
              "    }\n",
              "</style>\n",
              "<table border=\"1\" class=\"dataframe\">\n",
              "  <thead>\n",
              "    <tr style=\"text-align: right;\">\n",
              "      <th></th>\n",
              "      <th>Original_Filename</th>\n",
              "      <th>Gold_Filename</th>\n",
              "      <th>Document</th>\n",
              "      <th>Full_Text</th>\n",
              "      <th>Summary_Text</th>\n",
              "    </tr>\n",
              "  </thead>\n",
              "  <tbody>\n",
              "    <tr>\n",
              "      <th>0</th>\n",
              "      <td>17_896314_2</td>\n",
              "      <td>17_896313_1</td>\n",
              "      <td>17</td>\n",
              "      <td>06 Z GROUP plc  ANNUAL REPORT AND ACCOUNTS 2...</td>\n",
              "      <td>04 CHAIRMAN’S STATEMENT JOHN STANDEN Non-Exe...</td>\n",
              "    </tr>\n",
              "    <tr>\n",
              "      <th>1</th>\n",
              "      <td>19_896332_2</td>\n",
              "      <td>19_896331_1</td>\n",
              "      <td>19</td>\n",
              "      <td>JOiNT CHiEf EXECUTivES’ ST aTEmENT iNTrOdUCTi...</td>\n",
              "      <td>“godsend” “ Your service has been a godsend f...</td>\n",
              "    </tr>\n",
              "    <tr>\n",
              "      <th>2</th>\n",
              "      <td>64_868733_2</td>\n",
              "      <td>64_868732_1</td>\n",
              "      <td>64</td>\n",
              "      <td>VPhase plc   Group Financial Statements for t...</td>\n",
              "      <td>VPhase plc   Group Financial Statements for t...</td>\n",
              "    </tr>\n",
              "    <tr>\n",
              "      <th>3</th>\n",
              "      <td>65_868749_2</td>\n",
              "      <td>65_868748_1</td>\n",
              "      <td>65</td>\n",
              "      <td>6 VPhase plc Group Financial Statements for t...</td>\n",
              "      <td>4 VPhase plc Group Financial Statements for t...</td>\n",
              "    </tr>\n",
              "    <tr>\n",
              "      <th>4</th>\n",
              "      <td>66_868765_2</td>\n",
              "      <td>66_868764_1</td>\n",
              "      <td>66</td>\n",
              "      <td>3 w w w . vph a s e . c o . u k \\t V Ph as e ...</td>\n",
              "      <td>2 V Ph as e plc  Group Financial Statements f...</td>\n",
              "    </tr>\n",
              "  </tbody>\n",
              "</table>\n",
              "</div>"
            ],
            "text/plain": [
              "  Original_Filename  ...                                       Summary_Text\n",
              "0       17_896314_2  ...    04 CHAIRMAN’S STATEMENT JOHN STANDEN Non-Exe...\n",
              "1       19_896332_2  ...   “godsend” “ Your service has been a godsend f...\n",
              "2       64_868733_2  ...   VPhase plc   Group Financial Statements for t...\n",
              "3       65_868749_2  ...   4 VPhase plc Group Financial Statements for t...\n",
              "4       66_868765_2  ...   2 V Ph as e plc  Group Financial Statements f...\n",
              "\n",
              "[5 rows x 5 columns]"
            ]
          },
          "metadata": {},
          "execution_count": 4
        }
      ]
    },
    {
      "cell_type": "code",
      "metadata": {
        "id": "zPe3eFGDqoso"
      },
      "source": [
        "# Function to remove non-ascii characters from the text\n",
        "\n",
        "def remove_non_ascii(text_list):\n",
        "  clean_list = []\n",
        "  for text in text_list:\n",
        "    try:\n",
        "      temp_encode = text.encode('ascii', 'ignore')\n",
        "      temp_decode = temp_encode.decode('ascii')\n",
        "    except:\n",
        "      continue\n",
        "    finally:\n",
        "      clean_list.append(temp_decode)\n",
        "  return clean_list"
      ],
      "execution_count": null,
      "outputs": []
    },
    {
      "cell_type": "code",
      "metadata": {
        "id": "34SZIyN0rfof",
        "colab": {
          "base_uri": "https://localhost:8080/",
          "height": 171
        },
        "outputId": "6654d2d9-cbb1-4e8e-a75c-2f6571ee694b"
      },
      "source": [
        "unclean_full_text = list(train_data['Full_Text'])\n",
        "clean_full_text = remove_non_ascii(unclean_full_text)\n",
        "clean_full_text[0]"
      ],
      "execution_count": null,
      "outputs": [
        {
          "output_type": "execute_result",
          "data": {
            "application/vnd.google.colaboratory.intrinsic+json": {
              "type": "string"
            },
            "text/plain": [
              "'  06 Z GROUP plc  ANNUAL REPORT AND ACCOUNTS 2006 JOINT CHIEF EXECUTIVES STATEMENT JAMIE TRUE Joint Chief Executive JACK BEKHOR Joint Chief Executive  This year has seen us achieve not only admission to AIM  but also a 78% increase in our pro ts, with a pre-tax pro t  of 1.1 million. OVERVIEW This is our  rst Annual Report since joining AIM and we are  pleased to announce that we have achieved further  improvement in our pro ts this year, our third consecutive  year of growth, with a pre-tax pro t of 1.1 million. This  success has been the result of consolidating our core  business, developing new delivery channels and expanding  into European and other international markets. We have  also made signi cant investment in our product portfolio,  both by licensing new technologies to commercialise  and by developing in-house proprietary technologies to  address the needs of mass consumer markets. AIMS AND ACHIEVEMENTS Our primary aim this year was to increase our turnover  and profits whilst investing in the business to expand  our product portfolio. We are pleased to report that we  have achieved success in both endeavours. This growth  is a result of continued sales from ONSPEED and a sustained  revenue contribution from our other products.  By developing a number of new routes to market, through  both retail and af liate partnerships, as well as expanding our  customer base abroad, we have achieved signi cant sales  growth. In addition, we continue to maintain high customer  retention levels through the provision of unique and affordable  software services and excellent customer support. We have laid the foundations for the future this year through  sizeable investment in research and development. This  has resulted in the recent launch of ONSPEED Mobile and  the release of our revolutionary  le sharing software OnShare. Our  rst products Net2Roam and NetAway have provided  a consistent revenue stream, with very little requirement  for additional resources or marketing budget. It has been  through the success of these products that we have also  established strong relationships with distributors and retailers  that have been bene cial in the development of new routes  to market for ONSPEED both in the UK and abroad. Onbidder was also launched this year, and although  it only accounts for a small percentage of our revenue,  it also sells both online and through retail outlets, further  strengthening the Groups brand position with major  retailers and consumers alike. ONSPEED has continued to perform very well throughout  the year and we now have over half a million customers.  Online sales have grown, continuing to account for the majority  of sales both in the UK and abroad. Of ine sales increased  with the publication of a retail version of ONSPEED, which  is now sold in most major retailers in the UK and Europe.  The Group further developed its Internet acceleration software  for Dial-up and Broadband, with the release in January 2006   07 Z GROUP plc  ANNUAL REPORT AND ACCOUNTS 2006  By developing a number  of new routes to market,  through both retail and  af liate partnerships as  well as expanding our  customer base abroad  we have achieved  signi cant sales growth.  We continue to maintain  high customer retention  levels through the  provision of unique and  highly affordable software  services and excellent  customer support. of ONSPEED Version 5, which delivers 40% faster Internet  connection speeds. The addition of ONSPEED Version 5  has allowed us to market the product more effectively to  Broadband customers in addition to the existing Dial-up  customer base. NEW ROUTES TO MARKET Following the success of ONSPEED sales via the web and  the release of the retail version, we have signed a number  of distribution deals for ONSPEED this year. These include  Koch Media, one of Europes largest software distributors,  with which we have signed deals in the UK, Germany,  Switzerland, Austria and Italy. In the UK, our retail products  are available in the key software retailers such as PC World,  WH Smith, Game, HMV and Virgin. The product was  successfully chart-tracked in the retail market, a key driver  for establishing good credentials and positioning with  retailers. Signi cant sales were achieved through this channel,  which opened up the market for ONSPEED to a wider  audience. It has also served well in promoting the ONSPEED  brand to the consumer marketplace. In addition we have distribution deals in place with  companies in the USA, Russia, the rest of Europe, Africa  and Asia. We recognise the need for local support within  international markets and have established relationships  with key local partners, which we have found to be highly    When so many programs claim to speed up your net  connection its refreshing to  nd one that actually does it. .Net magazine  08 Z GROUP plc  ANNUAL REPORT AND ACCOUNTS 2006  We are delighted by the  Groups progress since  admission to AIM and  this is, in large part, due  to the skill and hard work  of our employees. beneficial in supporting sales growth. The demand  for products such as ONSPEED is very high in these  countries, with the majority of Internet users still on  Dial-up connections. During the year, the Group has established itself within  the international retail sector and retail sales now account  for 18% of turnover. Our strong relationships with the  major retailers will stand us in good stead for future  product releases, including ONSPEED Mobile and  OnShare. Distribution deals are already lined up for the  retail version of ONSPEED Mobile as well as a number  of consumer-focused gaming software products. ONLINE AND AFFILIATE PARTNERSHIPS This year we formed a number of new af liate partnerships  and consolidated existing ones. Our deal with BT has  continued to drive sales and we have signed new ISP  agreements with among others, Wanadoo and PIPEX.  We have also signed af liate deals in a number of other  countries in Africa and Asia, as well as Russia. Aside from  the commercial value of these deals, Z GROUP has  strengthened its brand through these high profile  relationships and further improved its awareness and  credibility to a wider international audience.  JOINT CHIEF EXECUTIVES STATEMENT CONTINUED  Speed up your modem Internet connection to Broadband  speeds. Were serious! An amazing piece of software. PC Answers magazine  09 AWARD-WINNING SOFTWARE Not only has it been an encouraging year for the Group  in terms of sales growth but we have also received  a number of awards from the technical press that have  helped establish ONSPEED as the recognised market  leader. This has raised our pro le within the software  industry, distinguishing the Group as a highly innovative  provider of consumer-focused software services. OUTLOOK We are delighted by the Groups progress since  admission to AIM and this is, in large part, due  to the skill and hard work of our employees.  By building on the success of our existing products,  we expect to see sustained levels of sales growth  in the period ahead. We also anticipate additional  growth will be achieved from our expanded product  portfolio and further development of our own IP and we  will continue to explore new opportunities for the Group  throughout the year. JACK BEKHOR Joint Chief Executive JAMIE TRUE Joint Chief Executive 30 May 2006 Z GROUP plc  ANNUAL REPORT AND ACCOUNTS 2006  We have also laid the foundations for the future this year,  through sizeable investment in research and development,  which has resulted in the launch of ONSPEED Mobile  and OnShare. '"
            ]
          },
          "metadata": {},
          "execution_count": 6
        }
      ]
    },
    {
      "cell_type": "code",
      "metadata": {
        "id": "8ENKHZ6iscNA",
        "colab": {
          "base_uri": "https://localhost:8080/",
          "height": 171
        },
        "outputId": "44e20355-10fa-4483-abbd-5bebd675178c"
      },
      "source": [
        "unclean_summary_text = list(train_data['Summary_Text'])\n",
        "clean_summary_text = remove_non_ascii(unclean_summary_text)\n",
        "clean_summary_text[0]"
      ],
      "execution_count": null,
      "outputs": [
        {
          "output_type": "execute_result",
          "data": {
            "application/vnd.google.colaboratory.intrinsic+json": {
              "type": "string"
            },
            "text/plain": [
              "'  04 CHAIRMANS STATEMENT JOHN STANDEN Non-Executive Chairman   We ended the year with a clear focus for the future   to continue to invest in new licensed technologies  and to continue to create our own Intellectual Property. I am pleased to report our  rst full  nancial results since  Z GROUPs successful admission to trading on the  London Stock Exchanges Alternative Investment Market  in June 2005.  RESULTS Our results demonstrate that our business model is delivering  substantial growth. Turnover has increased by 63% to  5.0 million compared with 3.1 million for the 11-month period  ended 28 February 2005, as annualised for comparison  purposes. Gross margin was consistent with previous  periods of trading at 78% and we made a record full year  pre-tax pro t of 1.1 million (2005: 0.6 million). After a substantial investment of 0.9 million in our new  products and the related websites, we ended the year with  cash resources of 4.1 million, compared to 4.6 million  immediately following the Placing in June 2005. CORPORATE STRATEGY We develop and sell innovative web-enabled technologies  which meet an identified growing mass market need.  In the last  nancial year our major priorities have been  to invest in our ground-breaking new products OnShare  and ONSPEED Mobile, while selling ONSPEED into  an ever-widening marketplace. We ended the year with  over half a million customers worldwide and a clear focus  for the future  to continue to invest in new licensed  technologies and to continue to create our own IP . BOARD AND PEOPLE At the time of our Placing we stated that we would expand  the Board by recruiting a Chair for our Audit Committee.  We are pleased to announce that Polly Williams will be joining  the Board from 6 July 2006. Polly Williams will bring  considerable experience to this role and we look forward  to welcoming her onto the Board. We are continuing the search for a Finance Director to join  our Board. In the meantime, we have been fortunate to  have excellent assistance in this regard and anticipate that  by the end of the financial year we will have appointed  a new Finance Director. We have seen a steady increase in the number of staff  working at Z GROUP with over 35 people now working  for the Group. Without these staff members and the  unique skills each brings to the Group, it would not have  been possible for us to achieve these record results. Their  hard work, commitment and innovation have been the key  to Z GROUPs success. CORPORATE SOCIAL RESPONSIBILITY Part of Z GROUPs philosophy is to work to the highest  ethical standards, wherever possible  this includes  its relationships with staff and customers and all those  who may have dealings with the Group. We actively support  a small start-up charity and provide encouragement  to those staff involved. Z GROUP plc  ANNUAL REPORT AND ACCOUNTS 2006  05 Z GROUP plc  ANNUAL REPORT AND ACCOUNTS 2006  Turnover has increased  by 63% to 5.0 million  compared with  3.1 million for the year  ended 28 February 2005  and we made a record  full year pre-tax pro t of  1.1 million ending the  year with cash resources  of 4.1 million. PROSPECTS Z GROUP continues to identify commercial opportunities  for new technologies and to develop products that satisfy  consumer needs. During the  rst month of the new  nancial  year we have successfully released two new products:  ONSPEED Mobile and OnShare (as a beta release) and  their current performance is meeting our expectations.  In ONSPEED Mobile and OnShare we have two new exciting  products that we anticipate will address the growing  consumer demand for mobile Internet and file sharing  services, which are predicted to grow exponentially over  the next few years. We are well positioned to satisfy this  consumer demand and we are looking forward to another  successful year.  JOHN STANDEN Non-Executive Chairman 30 May 2006   Broadband speeds on a 56k modem may seem like  fantasy, but amazingly it does work.   Performance 5/5, Ease of use 5/5, Value 5/5, Rating 5/5. Internet and Broadband Advisor magazine  I am pleased to report our  rst  nancial results since  Z GROUPs successful admission to trading on  AIM in June 2005. Our results demonstrate that  our business model is delivering substantial growth. '"
            ]
          },
          "metadata": {},
          "execution_count": 7
        }
      ]
    },
    {
      "cell_type": "code",
      "metadata": {
        "id": "TWLCzwUDZ45r"
      },
      "source": [
        "def preprocessing(sentence): \n",
        "  sentence = sentence.lower()\n",
        "  # dollar 다음에 띄어쓰기 1칸을 넣어줌으로써 다음에 올 숫자와 구분해 준다\n",
        "  sentence = re.sub(\"[$]\", \"dollar \", sentence)\n",
        "  # pound 다음에 띄어쓰기 1칸을 넣어줌으로써 다음에 올 숫자와 구분해 준다. \n",
        "  sentence = re.sub(\"[£]\", \"pound \", sentence)\n",
        "  # percent 전에 띄어쓰기 1칸을 넣어줌으로써 전에 올 숫자와 구분해 준다. \n",
        "  sentence = re.sub(\"[%]\", \" percent\", sentence)\n",
        "  sentence = re.sub(r\"[^a-zA-Z0-9?!.,'-‘’]\", ' ', sentence) # 영국 재무제표에는 ‘’이라는 특수한 어퍼스트로피를 사용하는듯 하다.\n",
        "  sentence = re.sub(r\"([?!])\", r\" \\1 \", sentence)\n",
        "  sentence = re.sub('r\"([a-z])(?=[.,])', r'\\1 ', sentence)\n",
        "  # 띄어쓰기 여러개를 한개로 바꾸기\n",
        "  sentence = re.sub(r\"\\s+\", \" \", sentence)\n",
        "  return sentence"
      ],
      "execution_count": null,
      "outputs": []
    },
    {
      "cell_type": "code",
      "metadata": {
        "id": "vqxuaPzRaCH7"
      },
      "source": [
        "unclean_full_text = unclean_full_text\n",
        "clean_full_text =[]\n",
        "for item in unclean_full_text: \n",
        "  sentences = preprocessing(item)\n",
        "  clean_full_text.append(sentences)"
      ],
      "execution_count": null,
      "outputs": []
    },
    {
      "cell_type": "code",
      "metadata": {
        "id": "2ZYzJmi_aCYT"
      },
      "source": [
        "unclean_sum_text = unclean_summary_text\n",
        "clean_summary_text =[]\n",
        "for item in unclean_sum_text: \n",
        "  sentences = preprocessing(item)\n",
        "  clean_summary_text.append(sentences)"
      ],
      "execution_count": null,
      "outputs": []
    },
    {
      "cell_type": "code",
      "metadata": {
        "colab": {
          "base_uri": "https://localhost:8080/",
          "height": 1000
        },
        "id": "ZYO1EfbKbony",
        "outputId": "4ea35cdd-c2a9-4619-8e1d-c581a4124095"
      },
      "source": [
        "clean_full_text[3]"
      ],
      "execution_count": null,
      "outputs": [
        {
          "output_type": "execute_result",
          "data": {
            "application/vnd.google.colaboratory.intrinsic+json": {
              "type": "string"
            },
            "text/plain": [
              "' 6 vphase plc group financial statements for the year ended 31 december 2009 chief executive s review dr lee juby chief executive officer our objective to provide long term shareholder value through the commercial growth of our business leading to growing earnings per share . we aim to do this with our cost effective products designed to meet the growing global demand for domestic and light commercial energy efficiency technologies . our strategy to pursue identified market opportunities in the group s target sector of energy efficiency for domestic and light commercial applications to produce products based on robust engineering principles , regularly utilising existing mass produced components configured in a novel and patentable way to avoid cutting edge science enabling us to de-risk the new product development process to provide exceptional levels of customer service to generate an environment which attracts highly skilled and motivated people that can provide the group with a sustainable competitive advantage to manage the group in a controlled governance environment with due regard to financial and other business risks our 2009 target of creating a platform for revenue generation and growth has been achieved i am pleased to present this review of progress over the last twelve months and i am confident that we are now in a position to drive forward the group s continuing commercial growth . we are particularly pleased to see vphase products being shipped to our customers as they save both energy and money by optimising the voltage supplied to their homes . whilst vphase has achieved initial sales , we do recognise that it has taken longer than originally anticipated to have products available commercially due to the delay in achieving ce marking . now that vphase is a certified product , we are putting in place the necessary measures to capitalise on the order pipeline that we ve built over the past two years . to deliver on our sales targets we have established the associated supply chain and sales channels , and have increased our marketing activities . the strict management of our cost base and cash resources has allowed us to deliver an operating loss that , whilst higher than last year by pound 0.14 million due to the increased commercial activity , is still significantly lower than the board s expectations . we end the year with pound 1.7 million cash in the bank , giving us comfort that our current plans can be delivered from our existing resources . general market review continual concerns about the high costs of energy and the tightening of budgets across homes and businesses in the downturn have called for an ever greater need for cost-effective ways to conserve energy and reduce household bills . in the uk , our home ground and launch market , the government has also recognised the need to support energy efficiency and conservation in the household sector , which is responsible for roughly one- quarter of the country s emissions . indeed , the uk government announced a raft of initiatives in 2009 to promote carbon reduction and smart energy management in the household sector . a key development has been the proposal to extend cert to 2012. cert obligates energy suppliers to deliver measures to limit carbon emissions from uk homes . the current phase runs from 2008 to 2011 and covers carbon savings equivalent to the emissions from 700,000 homes per year . in early 2009 the government further raised the cert target by an additional 20 percent , and late in the year proposed to extend the scheme to december 2012 with a higher carbon reduction target . 7 vphase plc group financial statements for the year ended 31 december 2009 cesp was introduced which further requires energy suppliers and generators to provide domestic energy efficiency measures via community schemes , with a particular focus on serving households in low-income areas . the government rolled out a programme late last year to install smart meters across all 26 million uk homes by 2020, as part of a roadmap towards a more efficient energy system . we believe that this will pave the way for the integration of smart energy management technologies such as vphase . more recently , the government has announced plans for eco home loans . these are designed to fund both the initial purchase of energy-efficient technologies , such as our vphase units , and also to create an ongoing price differential between energy-efficient and inefficient homes . whilst government initiatives , in particular cert , have been instrumental in driving the adoption of energy-saving technologies such as vphase and in focusing public opinion on energy conservation and carbon reduction , the group s position on such initiatives is clear . whether provided through eco-loans or household efficiency programmes (such as cert and smart metering), they are useful in focusing public opinion on energy conservation and carbon reduction . we prefer , however , to focus on developing products that deliver a compelling economic case without artificial subsidies from current or future governments and to use such subsidies as an additional benefit for our customers . our vphase product , by saving household bills while offering a quick payback , offers a compelling proposition . operational review the group has put in place a wide range of new processes and procedures to enable the consistent supply and delivery of quality products to our customers . i would like to thank the teams who , amongst other things , rapidly put in place the full range of procedures and controls to enable the group to start selling vphase products , not only to our commercial customers but also direct to the general public through our website , www .vphase .com . the electronic sales procedures entailed putting in place all procedures to comply with the distance selling regulations . the whole process was undertaken over a very short period of time and has been operating successfully for the past 6 months . the group has been increasing the profile of vphase and promoting the vphase message vphase is the smart new way to cut your energy costs immediately without changing your supplier or your lifestyle . by reducing and managing the voltage coming into your home , a vphase device will ensure many of your electrical appliances use less electricity and cost less to run . it will also lower your carbon emissions . the device is simple to install by a qualified electrician and requires no maintenance . it s simply a matter of fit , forget and save instantly ! in the first half of 2009 vphase completed the development of its first domestic energy saving device . this achieved ce marking in june , which means that the product complies with the essential requirements of the relevant european health , safety and environmental protection legislation and , therefore , permitting sales across the uk and continental europe . initially sales have been focused in the uk . achieving the ce marking milestone also enabled ofgem s formal demonstration action of the vphase unit to commence , in conjunction with scottish and southern energy (sse), for the uk government s cert scheme . the results from this trial will indicate the level of lifetime carbon dioxide savings that utility companies can claim through the cert scheme from the sale of the vphase product . these trials are expected to conclude in the second quarter of 2010, which is later than we anticipated due to delays in the sse customer selection and installation programme . these trials are now fully installed . trials are also being conducted with a major northwest-based social housing provider , british gas , and in vphase staff homes for both product performance and marketing opportunities . independently analysed results from staff homes have shown annualised savings of between pound 75 to pound 135 per home , dependent upon the level of incoming voltage and load profile of the property . these homes are all detached properties , and therefore smaller homes are likely to have lower levels of savings . during the year we have increased our sales and marketing activities and have promoted the vphase device at ecobuild , the world s biggest trade and consumer event for sustainable design , construction and the built environment on the bbc s working lunch television programme and in the national press . we recruited a head of sales and have established training sessions with the national association of professional inspectors and testers (napit). these training sessions allow vphase to train electrical contractors in the benefits and installation of vphase whilst also introducing them to the additional revenue opportunity that vphase offers . we have established a programme of these training sessions for 2010, and are organising product familiarisation days with electrical distributors for their customers along with a series of training days for electricians at vphase s premises in capenhurst . people we have delivered excellent performance with a team of eight people . in 2010 we plan to expand this team with the further recruitment of sales and marketing professionals . financial position and outlook we finished the year with cash levels ahead of the directors expectations and a business well placed to capitalise on growing sales and margins during 2010. dr lee juby chief executive officer 23 march 2010 one quarter of the uk s total emissions come from homes , so householders have to be a part of the solution to climate change . increasing the energy efficiency of homes not only helps reduce emissions , but will also help reduce fuel bills ed miliband , energy and climate change secretary , december 2009 '"
            ]
          },
          "metadata": {},
          "execution_count": 132
        }
      ]
    },
    {
      "cell_type": "code",
      "metadata": {
        "id": "aPZYhfPFapJQ"
      },
      "source": [
        "# Replace the columns with the clean data\n",
        "train_data['Full_Text'] = clean_full_text\n",
        "train_data['Summary_Text'] = clean_summary_text"
      ],
      "execution_count": null,
      "outputs": []
    },
    {
      "cell_type": "code",
      "metadata": {
        "colab": {
          "base_uri": "https://localhost:8080/",
          "height": 171
        },
        "id": "-wOiAkotx2r9",
        "outputId": "77ab100f-cdc3-44d9-9d96-dcdfad5f77ef"
      },
      "source": [
        "train_data['Full_Text'][1]"
      ],
      "execution_count": null,
      "outputs": [
        {
          "output_type": "execute_result",
          "data": {
            "application/vnd.google.colaboratory.intrinsic+json": {
              "type": "string"
            },
            "text/plain": [
              "' joint chief executives st atement introduction the past financial year has seen focus on the following areas the core consumer product onspeed , improving the cost of acquisition and focusing on customer retention , mitigating a reduction in sales as a result of the increasing use of broadband onspeed mobile which provides a fast , full internet expe- rience on a mobile phone , was launched last march 2006 and the business continues to focus on sales both to consumers and also to operators the development of the innova- tive file sharing service onshare , and its underlying technology . beta testing of onshare was concluded in february 2007 and is demonstrating encouraging signs of success laying the groundwork for the release of new products and towards the end of the year , the commencement of a cost- cutting exercise . financial overview the group s results for the 12 months ending 28 february 2007 show a loss before tax of pound 1.1 million on turnover of pound 2.6 million , compared to a restated profit in 2006 of pound 0.4 million on turnover of pound 5.0 million . turnover from onspeed re- presents 88 percent of total turnover for the year . the fall in onspeed turnover from pound 4.4 million for 2006 to pound 2.4 million in 2007 was princi- pally as a result of the growth of competitive , fast broadband in the uk , europe and the us . net2roam contributed pound 0.1 million to turnover (2006 pound 0.4 million) and onspeed mobile which was launched in 2006 added pound 0.1 million to turnover . the loss in the year adjusted for all non-cash items was pound 0.6 million . together with the investment in onshare of pound 1.3 million , this has resulted in a net cash outflow of pound 1.9 million , leaving cash resources of pound 2.2 million at 28 february 2007. a cost saving plan was implemented in january 2007 and we are already seeing the benefits in the current financial year . shar e issues 333,172 shares were issued in the year on the exercise of share options by three option holders . a further 3,942,134 shares were issued to the minority shareholders of onshare limited to acquire the 49 percent minority interest in the business , ensuring that the benefits of the future success of this service will flow 100 percent to z group shareholders . re view of op era tions the primary aims in the past year were to maintain good customer retention in onspeed , while gaining market traction for two new products , onspeed mobile and onshare . onspeed in spite of the predicted decline in dial-up internet access , onspeed has performed well throughout the year in retaining its direct customer base whilst gaining additional rest of the world revenue through partner- ships in new territories . online sales continue to account for the majority of sales both in the uk and abroad . onspeed has been a mainstay since the business was founded and has provided a valuable internet service for those consumers who have not converted to internet broadband usage . safe (onshare is) a safe and convenient way of sharing files among friends web user z group plc annual report and accounts 2007 we recognise the need for local support within international markets and have established relationships with key local partners , which we have found to be highly beneficial in supporting sales growth . following the success of onspeed sales via the web and the release of the retail version in europe , we have signed a number of additional distribution deals for onspeed in poland and russia . in russia , we deployed a retail promotion in march 2006 through monthly scratch cards , thereby addressing low credit card penetration and successfully attracting direct consumer revenue . in august 2006, we closed an agreement with voxnet , one of poland s leading isps , to promote onspeed and onspeed mobile . the group s retail presence in europe and the us has also been strengthened . in april 2006, the group signed a retail agreement with avanquest , a leading global publisher of best-selling personal and professional software marketed in over 100 countries , for france and spain gaining a retail presence in key multiples including fnac , boulanger and through select online portals such as bluesquad and blitzbox . in february 2007, we appointed navarre (nasdaq navr), a leading distributor of home enter- tainment pc software in the us . in june 2006, we announced an extension to the agreement with bt to distribute onspeed to bt s 512kb broadband base , giving these customers up to 5 times faster connectivity with onspeed version 5. the group continues to use these high profile relationships to further improve its awareness and credibility to a wider interna- tional audience . marketing spend on onspeed represented 29 percent of total group indirect costs , representing a continuation of the historically efficient use of marketing . with targeted media buying and innovative in-house analysis , cost per sale equated to an efficient pound 6.76 compared to pound 8.04 in 2006. to further increase arpu across the onspeed base , we launched an onspeed toolbar in february 2007, providing more value to the onspeed product as well as a search box powered by yahoo ! to capitalise on search revenue from the onspeed base . the benefit of this added capability will be reflected in next year s results . onspeed mobile the onspeed mobile product became commercially available in march 2006 via internet subscription and through existing uk distribution channels , including amazon , pc world , play and staples . onspeed mobile has received wide acclaim in the trade press , many of whom believe that demand will be triggered by the current expense of accessing the internet via mobile devices the same driver behind the original success of onspeed . 07 onspeed mobile has received wide acclaim in the trade press z group plc annual report and accounts 2007 joint chief executives st atement fifteen publications have presented upbeat reviews , some granting 5 star awards , notably computer active , stuff and webuser . although direct consumer sales have been slow to materialise , the directors believe in the size and strength of the mobile internet market and feel onspeed mobile is well-positioned to benefit from longer term consumer take-up . in addition , deeper market penetra- tion will take place via partnership with mobile network operators as demonstrated by a diverse pipeline of potential partners and jurisdictions . onshare the group has continued to invest significantly in onshare , the proprietary file sharing software . the development of onshare over the last 12 months has seen a series of continuous improvements to the design and functionality of the onshare product , with focus on building stability and ease of use . in addition , significant r d has been invested in onshare s underlying protocol , activestream . this proprietary ip will be re-used and is set to become the basis for future consumer and corporate product development . onshare was launched to a test group of users in march 2006, with subsequent upgrades through the year . this test identified a number of required improvements prior to launch and in february 2007 a soft launch was implemented providing users with free access to the product which included a mechanism to encourage viral marketing . the growth in users has exceeded budget and based on this trend , we plan to commer- cialise the product with marketing support around the middle of the current financial year . share- holders will be informed at the commencement of this initiative and will be regularly updated as to progress . net2roam net2roam continues to provide a consistent revenue stream , with very little requirement for additional resources or marketing budget . relaunched in february 2007 using ipass (nasdaq ipas) infrastructure , net2roam added 76,000 wi-fi hotspots in 68 countries to its offering . cost savings and performance in the current financial year a cost saving plan was imple- mented starting in january 2007, based on a staff redundancy programme , continuing focus on efficient marketing spend , streamlining server use across our portfolio of products and negotiating better terms with our suppliers . as a result of these costs savings , our unaudited manage- ment accounts for the first two months of the current financial year show a 30 percent reduction in administrative costs year-on-year . in addition , consolidated sales for quarter one of the current year are ahead of budget . outlook the extended test launch of onshare , although putting us behind our original plan at the time of admission to aim , has resulted in a stronger offering to consumers . onshare offers several unique features to consumers and to smes which the group intends to take full advantage of in the great (onspeed mobile is) a great way to bring the web to your mobile phone , it works extremely well personal computer world , product of the week z group plc annual report and accounts 2007 coming months . additionally , the r d invested in onshare s underlying proprietary protocol , activestream is well-placed to be used in other products developed by the group to drive future revenue streams . mobile internet usage is the key driver to onspeed mobile , our other recent product , which uses proprietary compression technology to enable more efficient access to the internet , and we are confident of the conclusion of operator agreements and healthy consumer demand in the coming year . the group has continued to identify commercial opportuni- ties for new technologies and to develop products that satisfy consumer needs . we have a confirmed launch plan for two new and exciting software products that adhere to our high margin , pre-paid criteria . the sentiment within the group is one of excitement for the current financial year , with a focus on maintaining our core businesses , exploiting the group s ip and developing a new pipeline of products with a more efficient cost-base . jack bekhor jamie true joint chief executive officers 21 june 2007 09 we have a confirmed launch plan for two new and exciting software products that adhere to our high margin , pre-paid criteria '"
            ]
          },
          "metadata": {},
          "execution_count": 130
        }
      ]
    },
    {
      "cell_type": "code",
      "metadata": {
        "colab": {
          "base_uri": "https://localhost:8080/",
          "height": 289
        },
        "id": "0sj4L73J0K1W",
        "outputId": "5bb3deef-b94c-48ad-f9e5-3006db3d4ec4"
      },
      "source": [
        "train_data.head(5)"
      ],
      "execution_count": null,
      "outputs": [
        {
          "output_type": "execute_result",
          "data": {
            "text/html": [
              "<div>\n",
              "<style scoped>\n",
              "    .dataframe tbody tr th:only-of-type {\n",
              "        vertical-align: middle;\n",
              "    }\n",
              "\n",
              "    .dataframe tbody tr th {\n",
              "        vertical-align: top;\n",
              "    }\n",
              "\n",
              "    .dataframe thead th {\n",
              "        text-align: right;\n",
              "    }\n",
              "</style>\n",
              "<table border=\"1\" class=\"dataframe\">\n",
              "  <thead>\n",
              "    <tr style=\"text-align: right;\">\n",
              "      <th></th>\n",
              "      <th>Original_Filename</th>\n",
              "      <th>Gold_Filename</th>\n",
              "      <th>Document</th>\n",
              "      <th>Full_Text</th>\n",
              "      <th>Summary_Text</th>\n",
              "    </tr>\n",
              "  </thead>\n",
              "  <tbody>\n",
              "    <tr>\n",
              "      <th>0</th>\n",
              "      <td>17_896314_2</td>\n",
              "      <td>17_896313_1</td>\n",
              "      <td>17</td>\n",
              "      <td>06 z group plc annual report and accounts 200...</td>\n",
              "      <td>04 chairman s statement john standen non-exec...</td>\n",
              "    </tr>\n",
              "    <tr>\n",
              "      <th>1</th>\n",
              "      <td>19_896332_2</td>\n",
              "      <td>19_896331_1</td>\n",
              "      <td>19</td>\n",
              "      <td>joint chief executives st atement introductio...</td>\n",
              "      <td>godsend your service has been a godsend for m...</td>\n",
              "    </tr>\n",
              "    <tr>\n",
              "      <th>2</th>\n",
              "      <td>64_868733_2</td>\n",
              "      <td>64_868732_1</td>\n",
              "      <td>64</td>\n",
              "      <td>vphase plc group financial statements for the...</td>\n",
              "      <td>vphase plc group financial statements for the...</td>\n",
              "    </tr>\n",
              "    <tr>\n",
              "      <th>3</th>\n",
              "      <td>65_868749_2</td>\n",
              "      <td>65_868748_1</td>\n",
              "      <td>65</td>\n",
              "      <td>6 vphase plc group financial statements for t...</td>\n",
              "      <td>4 vphase plc group financial statements for t...</td>\n",
              "    </tr>\n",
              "    <tr>\n",
              "      <th>4</th>\n",
              "      <td>66_868765_2</td>\n",
              "      <td>66_868764_1</td>\n",
              "      <td>66</td>\n",
              "      <td>3 w w w . vph a s e . c o . u k v ph as e plc...</td>\n",
              "      <td>2 v ph as e plc group financial statements fo...</td>\n",
              "    </tr>\n",
              "  </tbody>\n",
              "</table>\n",
              "</div>"
            ],
            "text/plain": [
              "  Original_Filename  ...                                       Summary_Text\n",
              "0       17_896314_2  ...   04 chairman s statement john standen non-exec...\n",
              "1       19_896332_2  ...   godsend your service has been a godsend for m...\n",
              "2       64_868733_2  ...   vphase plc group financial statements for the...\n",
              "3       65_868749_2  ...   4 vphase plc group financial statements for t...\n",
              "4       66_868765_2  ...   2 v ph as e plc group financial statements fo...\n",
              "\n",
              "[5 rows x 5 columns]"
            ]
          },
          "metadata": {},
          "execution_count": 139
        }
      ]
    },
    {
      "cell_type": "code",
      "metadata": {
        "id": "pC8TxAN-apMi"
      },
      "source": [
        "train_data.to_csv(\"/content/drive/MyDrive/Colab Notebooks/Aiffel_Hackathon/financial_documents/preprocessing_test/Training_Data_cleaned.csv\")"
      ],
      "execution_count": null,
      "outputs": []
    }
  ]
}