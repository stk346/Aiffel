{
 "cells": [
  {
   "cell_type": "markdown",
   "id": "negative-furniture",
   "metadata": {},
   "source": [
    "# GD4. 한영 번역기 만들기 project"
   ]
  },
  {
   "cell_type": "markdown",
   "id": "rubber-ordering",
   "metadata": {},
   "source": [
    "## Step 1. 데이터 다운로드"
   ]
  },
  {
   "cell_type": "code",
   "execution_count": 1,
   "id": "massive-dairy",
   "metadata": {
    "scrolled": true
   },
   "outputs": [
    {
     "name": "stdout",
     "output_type": "stream",
     "text": [
      "2.4.1\n"
     ]
    }
   ],
   "source": [
    "import tensorflow as tf\n",
    "import numpy as np\n",
    "import gzip # tar.gz파일 열기\n",
    "\n",
    "from sklearn.model_selection import train_test_split\n",
    "\n",
    "import matplotlib.ticker as ticker\n",
    "import matplotlib.pyplot as plt\n",
    "\n",
    "import time\n",
    "import re\n",
    "import os\n",
    "import io\n",
    "\n",
    "print(tf.__version__)"
   ]
  },
  {
   "cell_type": "code",
   "execution_count": 2,
   "id": "collaborative-crystal",
   "metadata": {},
   "outputs": [
    {
     "name": "stdout",
     "output_type": "stream",
     "text": [
      "완료!\n"
     ]
    }
   ],
   "source": [
    "import matplotlib as mpl\n",
    "import matplotlib.pyplot as plt\n",
    " \n",
    "%config InlineBackend.figure_format = 'retina'\n",
    " \n",
    "import matplotlib.font_manager as fm\n",
    "fontpath = '/usr/share/fonts/truetype/nanum/NanumBarunGothic.ttf'\n",
    "font = fm.FontProperties(fname=fontpath, size=9)\n",
    "plt.rc('font', family='NanumBarunGothic') \n",
    "mpl.font_manager._rebuild()\n",
    "\n",
    "print(\"완료!\")"
   ]
  },
  {
   "cell_type": "code",
   "execution_count": 3,
   "id": "designed-minnesota",
   "metadata": {},
   "outputs": [],
   "source": [
    "train_ko_path = os.getenv('HOME') + '/aiffel/NLPGD/GD4/korean-english-park.train.ko'\n",
    "train_en_path = os.getenv('HOME') + '/aiffel/NLPGD/GD4/korean-english-park.train.en'\n",
    "test_ko_path = os.getenv('HOME') + '/aiffel/NLPGD/GD4/korean-english-park.test.ko'\n",
    "test_en_path = os.getenv('HOME') + '/aiffel/NLPGD/GD4/korean-english-park.test.en'"
   ]
  },
  {
   "cell_type": "code",
   "execution_count": 4,
   "id": "initial-haiti",
   "metadata": {},
   "outputs": [],
   "source": [
    "with open(train_ko_path, \"r\") as f:\n",
    "    raw_train_ko = f.read().splitlines()\n",
    "    \n",
    "with open(train_en_path, \"r\") as f:\n",
    "    raw_train_en = f.read().splitlines()"
   ]
  },
  {
   "cell_type": "code",
   "execution_count": 5,
   "id": "characteristic-intervention",
   "metadata": {
    "scrolled": false
   },
   "outputs": [
    {
     "name": "stdout",
     "output_type": "stream",
     "text": [
      ">> 개인용 컴퓨터 사용의 상당 부분은 \"이것보다 뛰어날 수 있느냐?\"\n",
      ">> Much of personal computing is about \"can you top this?\" \n",
      "\n",
      ">> 북한의 핵무기 계획을 포기하도록 하려는 압력이 거세지고 있는 가운데, 일본과 북한의 외교관들이 외교 관계를 정상화하려는 회담을 재개했다.\n",
      ">> Amid mounting pressure on North Korea to abandon its nuclear weapons program Japanese and North Korean diplomats have resumed talks on normalizing diplomatic relations. \n",
      "\n",
      ">> \"경호 로보트가 침입자나 화재를 탐지하기 위해서 개인적으로, 그리고 전문적으로 사용되고 있습니다.\"\n",
      ">> “Guard robots are used privately and professionally to detect intruders or fire,” Karlsson said. \n",
      "\n",
      ">> 수자원부 당국은 논란이 되고 있고, 막대한 비용이 드는 이 사업에 대해 내년에 건설을 시작할 계획이다.\n",
      ">> Authorities from the Water Resources Ministry plan to begin construction next year on the controversial and hugely expensive project. \n",
      "\n",
      ">> 또한 근력 운동은 활발하게 걷는 것이나 최소한 20분 동안 뛰는 것과 같은 유산소 활동에서 얻는 운동 효과를 심장과 폐에 주지 않기 때문에, 연구학자들은 근력 운동이 심장에 큰 영향을 미치는지 여부에 대해 논쟁을 해왔다.\n",
      ">> Researchers also have debated whether weight-training has a big impact on the heart, since it does not give the heart and lungs the kind of workout they get from aerobic activities such as brisk walking or running for at least 20 minutes. \n",
      "\n"
     ]
    }
   ],
   "source": [
    "for i in range(0,100,20):\n",
    "    print(\">>\", raw_train_ko[i])\n",
    "    print(\">>\", raw_train_en[i],'\\n')"
   ]
  },
  {
   "cell_type": "code",
   "execution_count": 6,
   "id": "tribal-texas",
   "metadata": {},
   "outputs": [
    {
     "name": "stdout",
     "output_type": "stream",
     "text": [
      "94123\n",
      "94123\n"
     ]
    }
   ],
   "source": [
    "print(len(raw_train_ko))\n",
    "print(len(raw_train_en))"
   ]
  },
  {
   "cell_type": "markdown",
   "id": "stainless-wallace",
   "metadata": {},
   "source": [
    "## Step2. 데이터 정제\n",
    "set 데이터형이 중복을 허용하지 않는다는 것을 활용해 중복된 데이터를 제거하도록 합니다. 데이터의 병렬 쌍이 흐트러지지 않게 주의  \n",
    "중복을 제거한 데이터를 cleaned_corpus 에 저장합니다."
   ]
  },
  {
   "cell_type": "code",
   "execution_count": 7,
   "id": "solid-least",
   "metadata": {},
   "outputs": [
    {
     "name": "stdout",
     "output_type": "stream",
     "text": [
      "[('비평가들은 이 참사가 한국의 비상대응 체제에 대한 많은 문제와 테러에 대한 잠재적 취약성을 노출시켰다고 말했다.', \"Critics said the tragedy revealed problems with the nation's emergency response system and a potential vulnerability to terrorism.\"), ('그는 “제품 마진 많은 제품일수록 가격 흥정을 많이 한다”고 말했다.', '\"Any product with a large product margin is ripe for haggling,\" he said.'), ('숀 맥코맥 미 국무부 대변인은 기자회견을 통해 “여러 경로를 통해 국제사회의 관심을 이끌어낼 것”이라며 “미안먀 군부에 압력을 가하기 위해서는 모든 사람들의 노력이 필요하다”고 강조했다.', 'State Department spokesman Sean McCormack told a news conference the United States would work on \"many, many different fronts\" to keep Myanmar on the international agenda. \"It requires everybody\\'s effort and it requires concerted pressure from all parties involved,\" he said.'), ('쟁점이 되고 있는 랄 마스지드(붉은 사원) 외부에서 수 시간 동안의 총격전이 있은 후, 휴전을 위한 협의가 있었다.', 'After several hours of shooting outside the controversial Lal Masjid (Red Mosque) a ceasefire was negotiated.'), ('신화통신은 장 팅 수문기상학 사무국장의 말을 인용 “방수로의 확보는 제방안전을 위해 꼭 필요한 작업”이라고 전했다.', '¡°Increasing the outflow of water is critical for the dam¡¯s safety,¡± said Zhang Ting, head of the Sichuan provincial hydro-meteorological bureau, the Xinhua news agency reported.')] \n",
      "\n",
      "78968\n"
     ]
    }
   ],
   "source": [
    "cleaned_corpus = list(set(zip(raw_train_ko, raw_train_en)))\n",
    "print(cleaned_corpus[0:5], '\\n')\n",
    "print(len(cleaned_corpus))"
   ]
  },
  {
   "cell_type": "code",
   "execution_count": 8,
   "id": "celtic-retention",
   "metadata": {},
   "outputs": [],
   "source": [
    "# 한글 형태소 분리를 위해 konlpy 불러오기\n",
    "from konlpy.tag import Mecab"
   ]
  },
  {
   "cell_type": "code",
   "execution_count": 9,
   "id": "national-philadelphia",
   "metadata": {},
   "outputs": [],
   "source": [
    "def preprocess_sentence_ko(sentence):\n",
    "#     sentence = sentence.lower.strip() ## 이거 문제될 수 있음 ##\n",
    "    \n",
    "    sentence = re.sub(r\"([?.!,])\", r\" \\1 \", sentence)\n",
    "    sentence = re.sub(r'[\" \"]+' ,\" \", sentence)\n",
    "    sentence = re.sub(r\"[^a-zA-Zㄱ-ㅎㅏ-ㅣ-가-힣?.!,]+\",\" \",sentence)\n",
    "    \n",
    "    sentence = sentence.strip()\n",
    "    \n",
    "    tokenizer = Mecab()\n",
    "    sentence =  tokenizer.morphs(sentence)\n",
    "        \n",
    "    return sentence"
   ]
  },
  {
   "cell_type": "code",
   "execution_count": 10,
   "id": "little-antigua",
   "metadata": {},
   "outputs": [],
   "source": [
    "def preprocess_sentence_en(sentence, s_token=False, e_token=False):\n",
    "    sentence = sentence.lower().strip()\n",
    "    \n",
    "    sentence = re.sub(r\"([?.!,])\", r\" \\1 \", sentence)\n",
    "    sentence = re.sub(r'[\" \"]+' ,\" \", sentence)\n",
    "    sentence = re.sub(r\"[^a-zA-Zㅏ-ㅣ-가-힣-ㄱ-ㅎ?,!.]+\",\" \", sentence)\n",
    "    \n",
    "    sentence = sentence.strip()\n",
    "    \n",
    "    if s_token:\n",
    "        sentence = '<start> ' + sentence\n",
    "\n",
    "    if e_token:\n",
    "        sentence += ' <end>'\n",
    "    \n",
    "    sentence = sentence.split()\n",
    "    \n",
    "    return sentence"
   ]
  },
  {
   "cell_type": "code",
   "execution_count": 11,
   "id": "brave-hungarian",
   "metadata": {},
   "outputs": [],
   "source": [
    "enc_corpus = []\n",
    "dec_corpus = []\n",
    "\n",
    "for i in cleaned_corpus:\n",
    "    ko = preprocess_sentence_ko(i[0])\n",
    "    en = preprocess_sentence_en(i[1], s_token=True, e_token=True)\n",
    "    \n",
    "    if len(ko) <= 40 and len(en) <=40:\n",
    "        enc_corpus.append(ko)\n",
    "        dec_corpus.append(en)"
   ]
  },
  {
   "cell_type": "code",
   "execution_count": 12,
   "id": "statutory-forty",
   "metadata": {},
   "outputs": [
    {
     "name": "stdout",
     "output_type": "stream",
     "text": [
      ">> ['비평가', '들', '은', '이', '참사', '가', '한국', '의', '비상', '대응', '체제', '에', '대한', '많', '은', '문제', '와', '테러', '에', '대한', '잠재', '적', '취약', '성', '을', '노출', '시켰', '다고', '말', '했', '다', '.']\n",
      ">> ['<start>', 'critics', 'said', 'the', 'tragedy', 'revealed', 'problems', 'with', 'the', 'nation', 's', 'emergency', 'response', 'system', 'and', 'a', 'potential', 'vulnerability', 'to', 'terrorism', '.', '<end>'] \n",
      "\n",
      ">> ['그', '는', '제품', '마진', '많', '은', '제품', '일수록', '가격', '흥정', '을', '많이', '한다', '고', '말', '했', '다', '.']\n",
      ">> ['<start>', 'any', 'product', 'with', 'a', 'large', 'product', 'margin', 'is', 'ripe', 'for', 'haggling', ',', 'he', 'said', '.', '<end>'] \n",
      "\n",
      ">> ['쟁점', '이', '되', '고', '있', '는', '랄', '마스지드', '붉', '은', '사원', '외부', '에서', '수', '시간', '동안', '의', '총격전', '이', '있', '은', '후', ',', '휴전', '을', '위한', '협의', '가', '있', '었', '다', '.']\n",
      ">> ['<start>', 'after', 'several', 'hours', 'of', 'shooting', 'outside', 'the', 'controversial', 'lal', 'masjid', 'red', 'mosque', 'a', 'ceasefire', 'was', 'negotiated', '.', '<end>'] \n",
      "\n",
      ">> ['신화', '통신', '은', '장', '팅', '수문', '기상학', '사무', '국장', '의', '말', '을', '인용', '방수로', '의', '확보', '는', '제방', '안전', '을', '위해', '꼭', '필요', '한', '작업', '이', '라고', '전했', '다', '.']\n",
      ">> ['<start>', 'increasing', 'the', 'outflow', 'of', 'water', 'is', 'critical', 'for', 'the', 'dam', 's', 'safety', ',', 'said', 'zhang', 'ting', ',', 'head', 'of', 'the', 'sichuan', 'provincial', 'hydro-meteorological', 'bureau', ',', 'the', 'xinhua', 'news', 'agency', 'reported', '.', '<end>'] \n",
      "\n",
      ">> ['경찰', '은', '또', '용의자', '의', '집', '에서', '파이프', '폭탄', '을', '만드', '는', '방법', '을', '알려', '주', '는', '설명서', '도', '찾아냈', '다고', '밝혔', '다', '.']\n",
      ">> ['<start>', 'police', 'also', 'uncovered', 'instructions', 'in', 'the', 'students', 'papers', 'on', 'how', 'to', 'build', 'a', 'pipe', 'bomb', ',', 'though', 'there', 'was', 'no', 'evidence', 'of', 'an', 'actual', 'bomb', ',', 'he', 'said', '.', '<end>'] \n",
      "\n",
      ">> ['그', '는', '이', '들', '은', '고양이', '와', '쥐', '의', '놀이', '를', '벌였으며', '결국', '사고', '가', '터졌', '다', '고', '증언', '했', '다', '.']\n",
      ">> ['<start>', 'the', 'very', 'fact', 'that', '.', '.', '.', 'they', 'played', 'this', 'cat', 'and', 'mouse', 'game', '.', '.', '.', 'was', 'to', 'me', 'the', 'beginning', 'of', 'the', 'end', ',', 'he', 'testified', '.', '<end>'] \n",
      "\n"
     ]
    }
   ],
   "source": [
    "for i in range(6):\n",
    "    print(\">>\", enc_corpus[i])\n",
    "    print(\">>\", dec_corpus[i], '\\n')"
   ]
  },
  {
   "cell_type": "markdown",
   "id": "destroyed-decision",
   "metadata": {},
   "source": [
    "### Step3. 데이터 토큰화\n",
    "앞서 정의한 tokenize() 함수를 사용해 데이터를 텐서로 변환하고 각각의 tokenizer를 얻으세요.  \n",
    "단어의 수는 실험을 통해 적당한 값을 맞춰주도록 합니다.  \n",
    "(난이도에 비해 데이터가 많지 않아 훈련 데이터와 검증 데이터를 따로 나누지는 않습니다.)"
   ]
  },
  {
   "cell_type": "code",
   "execution_count": 13,
   "id": "soviet-broadcasting",
   "metadata": {},
   "outputs": [],
   "source": [
    "def tokenize(corpus):\n",
    "    tokenizer = tf.keras.preprocessing.text.Tokenizer(num_words=15000, oov_token='<unk>')\n",
    "    tokenizer.fit_on_texts(corpus)\n",
    "    \n",
    "    tensor = tokenizer.texts_to_sequences(corpus)\n",
    "    \n",
    "    tensor = tf.keras.preprocessing.sequence.pad_sequences(tensor, padding='post')\n",
    "    \n",
    "    return tensor, tokenizer"
   ]
  },
  {
   "cell_type": "code",
   "execution_count": 14,
   "id": "impressed-swimming",
   "metadata": {},
   "outputs": [
    {
     "name": "stdout",
     "output_type": "stream",
     "text": [
      "한국어 최대 token 길이: 40\n",
      "한국어 평균 token 길이: 24.559605332147\n",
      "한국어 최소 token 길이: 0\n"
     ]
    }
   ],
   "source": [
    "len_of_ko = [len(v) for v in enc_corpus]\n",
    "max_len_ko = max(len_of_ko)\n",
    "temp_ko = 0\n",
    "for v in len_of_ko:\n",
    "    temp_ko += v\n",
    "\n",
    "print(\"한국어 최대 token 길이:\", max_len_ko)\n",
    "print(\"한국어 평균 token 길이:\", temp_ko/len(len_of_ko))\n",
    "print(\"한국어 최소 token 길이:\", min(len_of_ko))"
   ]
  },
  {
   "cell_type": "code",
   "execution_count": 15,
   "id": "mediterranean-corner",
   "metadata": {},
   "outputs": [
    {
     "name": "stdout",
     "output_type": "stream",
     "text": [
      "영어 최대 token 길이: 40\n",
      "영어 평균 token 길이: 23.109407521568503\n",
      "영어 최소 token 길이: 2\n"
     ]
    }
   ],
   "source": [
    "len_of_en = [len(v) for v in dec_corpus]\n",
    "max_len_en = max(len_of_en)\n",
    "temp_en = 0\n",
    "for v in len_of_en:\n",
    "    temp_en += v\n",
    "\n",
    "print(\"영어 최대 token 길이:\", max_len_en)\n",
    "print(\"영어 평균 token 길이:\", temp_en/len(len_of_en))\n",
    "print(\"영어 최소 token 길이:\", min(len_of_en))"
   ]
  },
  {
   "cell_type": "code",
   "execution_count": 84,
   "id": "german-ownership",
   "metadata": {},
   "outputs": [],
   "source": [
    "enc_tensor, enc_tokenizer = tokenize(enc_corpus)\n",
    "dec_tensor, dec_tokenizer = tokenize(dec_corpus)"
   ]
  },
  {
   "cell_type": "code",
   "execution_count": 85,
   "id": "buried-strap",
   "metadata": {},
   "outputs": [
    {
     "name": "stdout",
     "output_type": "stream",
     "text": [
      "(30000, 40) (30000, 40)\n"
     ]
    }
   ],
   "source": [
    "## [_Derived_]RecvAsync is cancelled.##\n",
    "# long-running operation Error 해결하기 위해서 데이터셋의 크기를 줄여봅니다.\n",
    "enc_tensor = enc_tensor[:30000][:]\n",
    "dec_tensor = dec_tensor[:30000][:]\n",
    "\n",
    "print(enc_tensor.shape, dec_tensor.shape)"
   ]
  },
  {
   "cell_type": "code",
   "execution_count": 86,
   "id": "advanced-gibson",
   "metadata": {},
   "outputs": [
    {
     "name": "stdout",
     "output_type": "stream",
     "text": [
      "(30000, 40) (30000, 40)\n"
     ]
    }
   ],
   "source": [
    "print(enc_tensor.shape, dec_tensor.shape)"
   ]
  },
  {
   "cell_type": "code",
   "execution_count": 87,
   "id": "lucky-memorabilia",
   "metadata": {},
   "outputs": [
    {
     "name": "stdout",
     "output_type": "stream",
     "text": [
      "[5000   16    8    4 5167   14  113    7 1458 1321 1630    9   63  123\n",
      "    8  121   29  107    9   63 3321   33 5943  116    6 1876  494   23\n",
      "   31   10    3    2    0    0    0    0    0    0    0    0] \n",
      "\n",
      "[   4 1763   13    2 3810 2239  671   19    2  291   12  423 1133  398\n",
      "   11    9 1242    1    7 1192    3    5    0    0    0    0    0    0\n",
      "    0    0    0    0    0    0    0    0    0    0    0    0]\n"
     ]
    }
   ],
   "source": [
    "print(enc_tensor[0], '\\n')\n",
    "print(dec_tensor[0])"
   ]
  },
  {
   "cell_type": "markdown",
   "id": "brazilian-heritage",
   "metadata": {},
   "source": [
    "### Step 4. 모델 설계"
   ]
  },
  {
   "cell_type": "markdown",
   "id": "behavioral-mambo",
   "metadata": {},
   "source": [
    "한국어를 영어로 잘 번역해 줄 Attention 기반 Seq2seq 모델을 설계하세요.  \n",
    "모델에 Dropout 모듈을 추가하면 성능이 더 좋아집니다! Embedding Size와 Hidden Size는 실험을 통해 적당한 값을 맞춰 주도록 합니다."
   ]
  },
  {
   "cell_type": "code",
   "execution_count": 88,
   "id": "split-carry",
   "metadata": {},
   "outputs": [],
   "source": [
    "class BahdanauAttention(tf.keras.layers.Layer):\n",
    "    def __init__(self, units):\n",
    "        super(BahdanauAttention, self).__init__()\n",
    "        self.w_dec = tf.keras.layers.Dense(units)\n",
    "        self.w_enc = tf.keras.layers.Dense(units)\n",
    "        self.w_com = tf.keras.layers.Dense(1)\n",
    "        \n",
    "    def call(self, h_enc, h_dec):\n",
    "        # h_enc shape: [batch x length x units]\n",
    "        # h_dec shape: [batch x units]\n",
    "        \n",
    "        h_enc = self.w_enc(h_enc)\n",
    "        h_dec = tf.expand_dims(h_dec, 1)\n",
    "        h_dec = self.w_dec(h_dec)\n",
    "        \n",
    "        score = self.w_com(tf.nn.tanh(h_dec + h_enc))\n",
    "        \n",
    "        attn = tf.nn.softmax(score, axis=1)\n",
    "\n",
    "        context_vec = attn * h_enc\n",
    "        context_vec = tf.reduce_sum(context_vec, axis=1)\n",
    "\n",
    "        return context_vec, attn"
   ]
  },
  {
   "cell_type": "code",
   "execution_count": 89,
   "id": "finished-grocery",
   "metadata": {},
   "outputs": [],
   "source": [
    "class Encoder(tf.keras.Model):\n",
    "    def __init__(self, vocab_size, embedding_dim, enc_units):\n",
    "        super(Encoder, self).__init__()\n",
    "        \n",
    "        self.enc_units = enc_units\n",
    "        self.embedding = tf.keras.layers.Embedding(vocab_size, embedding_dim)\n",
    "        self.gru = tf.keras.layers.GRU(enc_units, return_sequences=True)\n",
    "        \n",
    "    def call(self, x):\n",
    "        out = self.embedding(x)\n",
    "        out = self.gru(out)\n",
    "        \n",
    "        return out"
   ]
  },
  {
   "cell_type": "code",
   "execution_count": 90,
   "id": "brazilian-greensboro",
   "metadata": {},
   "outputs": [],
   "source": [
    "class Decoder(tf.keras.Model):\n",
    "    def __init__(self, vocab_size, embedding_dim, dec_units):\n",
    "        super(Decoder, self).__init__()\n",
    "        self.dec_units = dec_units\n",
    "        self.embedding = tf.keras.layers.Embedding(vocab_size, embedding_dim)\n",
    "        self.gru = tf.keras.layers.GRU(dec_units, return_sequences=True, return_state=True)\n",
    "        self.fc = tf.keras.layers.Dense(vocab_size)\n",
    "        \n",
    "        self.attention = BahdanauAttention(self.dec_units)\n",
    "        \n",
    "    def call(self, x, h_dec, enc_out):\n",
    "        context_vec, attn = self.attention(enc_out, h_dec)\n",
    "        \n",
    "        out = self.embedding(x)\n",
    "        out = tf.concat([tf.expand_dims(context_vec, 1), out], axis=-1)\n",
    "        \n",
    "        out, h_dec = self.gru(out)\n",
    "        out = tf.reshape(out, (-1, out.shape[2]))\n",
    "        out = self.fc(out)\n",
    "        \n",
    "        return out, h_dec, attn"
   ]
  },
  {
   "cell_type": "code",
   "execution_count": 95,
   "id": "controlling-compromise",
   "metadata": {},
   "outputs": [
    {
     "name": "stdout",
     "output_type": "stream",
     "text": [
      "Encoder Output: (4, 30, 1024)\n",
      "Decoder Output: (4, 42976)\n",
      "Decoder Hidden State: (4, 1024)\n",
      "Attention: (4, 30, 1)\n"
     ]
    }
   ],
   "source": [
    "BATCH_SIZE = 4\n",
    "SRC_VOCAB_SIZE = len(enc_tokenizer.index_word) + 1\n",
    "TGT_VOCAB_SIZE = len(dec_tokenizer.index_word) + 1\n",
    "\n",
    "units = 1024  ## 원래 1024였음 ##\n",
    "embedding_dim = 512\n",
    "\n",
    "encoder = Encoder(SRC_VOCAB_SIZE, embedding_dim, units)\n",
    "decoder = Decoder(TGT_VOCAB_SIZE, embedding_dim, units)\n",
    "\n",
    "# sample input\n",
    "sequence_len = 30\n",
    "\n",
    "sample_enc = tf.random.uniform((BATCH_SIZE, sequence_len))\n",
    "sample_output = encoder(sample_enc)\n",
    "\n",
    "print('Encoder Output:', sample_output.shape)\n",
    "\n",
    "sample_state = tf.random.uniform((BATCH_SIZE, units))\n",
    "\n",
    "sample_logits, h_dec, attn = decoder(tf.random.uniform((BATCH_SIZE, 1)),\n",
    "                                    sample_state, sample_output)\n",
    "\n",
    "print('Decoder Output:', sample_logits.shape)\n",
    "print('Decoder Hidden State:', h_dec.shape)\n",
    "print('Attention:', attn.shape)"
   ]
  },
  {
   "cell_type": "markdown",
   "id": "vulnerable-dallas",
   "metadata": {},
   "source": [
    "### Optimizer & Loss\n",
    "Encoder-Decoder 구조의 경우 입출력이 단순하지 않아 학습 과정을 직접 정의해줘야 합니다."
   ]
  },
  {
   "cell_type": "code",
   "execution_count": 96,
   "id": "metropolitan-photography",
   "metadata": {},
   "outputs": [],
   "source": [
    "optimizer = tf.keras.optimizers.Adam()\n",
    "loss_object = tf.keras.losses.SparseCategoricalCrossentropy(\n",
    "    from_logits=True, reduction='none')\n",
    "\n",
    "def loss_function(real, pred):\n",
    "    mask = tf.math.logical_not(tf.math.equal(real, 0))\n",
    "    loss = loss_object(real, pred)\n",
    "    \n",
    "    mask = tf.cast(mask, dtype=loss.dtype)\n",
    "    loss += mask\n",
    "    \n",
    "    return tf.reduce_mean(loss)"
   ]
  },
  {
   "cell_type": "markdown",
   "id": "curious-visibility",
   "metadata": {},
   "source": [
    "Optimizer는 모델이 학습할 때에 정답을 찾아가는 방법 정도로 설명할 수 있는데, 일반적으로 Adam을 사용합니다.\n",
    "\n",
    "여기서 fit() 함수를 사용할 수 없는 이유는 바로 Loss 함수 때문입니다. 앞서 설명한 것처럼 Encoder-Decoder 구조는 학습 과정이 일반적이지 않으므로 직접 Loss를 커스텀해서 사용해야 하기 때문이죠.\n",
    "\n",
    "SparseCategoricalCrossentropy() 함수는 모델이 출력한 확률 분포와 (One-hot이 아닌) 정수 인덱스 답안을 비교해 Cross Entropy값을 구해줍니다. CategoricalCrossentropy()라면 [ 0.1, 0.2, 0.7 ] 과 One-hot 인코딩된 라벨 [0, 0, 1] 을 비교하여 점수를 채점하겠지만, SparseCategoricalCrossentropy() 함수라면 [ 0.1, 0.2, 0.7 ] 과 정수 인덱스 답안 2 를 비교하여 점수를 채점하는 거죠. from_logits 는 확률 분포가 Softmax를 거쳐서 들어오는지, 모델의 출력값 그대로 들어오는지를 결정합니다. True 로 줬으니 모델의 출력값을 그대로 전달하면 됩니다.  \n",
    "  \n",
    " pad_sequences()는 가장 긴 문장을 기준으로 패딩을 적용합니다. 만약 모델에게 \\<PAD> 토큰이 패딩을 위한 토큰이라고 명시하지 않으면 모델은 데이터의 굉장히 많은 부분이 \\<PAD> 로 이뤄져 있다고 생각하게 됩니다. 쉽게 말해 유난히 같은 답이 많은 객관식 시험이라고나 할까요...? 어떤 시험이 한 번호로만 찍어도 80점 이상을 받을 수 있다면 그 시험은 공부를 절대 하지 않겠죠! 모델은 심지어 10,000개의 정답이 넘게 있는 고난도의 문제를 풀고 있기 때문에 패딩에 대한 처리를 해주지 않으면 \\<PAD> 토큰만을 생성할 확률이 굉장히 높아집니다.  \n",
    "  \n",
    "이것은 종종 발생하는 문제입니다.  이 문제를 방지하기 위해 mask 가 사용됩니다! mask 는 정답지에서 \\<PAD> 토큰을 찾아내어 그 부분에 대한 Loss는 구하지 않도록 하는 역할을 해주죠. equal() 함수에 정확히는 0 이 아닌 \\<PAD> 토큰의 인덱스를 전달하는 것이 맞지만 대부분의 경우는 0으로 패딩되기 때문에 편의상 0을 전달하여 처리하도록 하겠습니다."
   ]
  },
  {
   "cell_type": "markdown",
   "id": "present-design",
   "metadata": {},
   "source": [
    "### train_step 구현하기"
   ]
  },
  {
   "cell_type": "code",
   "execution_count": 97,
   "id": "impressed-purchase",
   "metadata": {},
   "outputs": [],
   "source": [
    "@tf.function\n",
    "def train_step(src, tgt, encoder, decoder, optimizer, dec_tok):\n",
    "    bsz = src.shape[0]\n",
    "    loss = 0\n",
    "    \n",
    "    with tf.GradientTape() as tape:\n",
    "        enc_out = encoder(src) # context vector 생성\n",
    "        h_dec = enc_out[:, -1] # t=0일 때 Decoder의 Hidden State는 Encoder의 Final State로 정의\n",
    "        \n",
    "        dec_src = tf.expand_dims([dec_tok.word_index['<start>']] * bsz, 1) # Decoder에 입력으로 전달할 <start>토큰 문장 생성\n",
    "        \n",
    "        for t in range(1, tgt.shape[1]): # 문장과 enc_out, Hidden State를 기반으로 다음 단어(t=1)를 예측\n",
    "            pred, h_dec, _ = decoder(dec_src, h_dec, enc_out)\n",
    "            \n",
    "            loss += loss_function(tgt[:, t], pred) # 예측된 단어와 정답 간의 loss를  구함\n",
    "            dec_src = tf.expand_dims(tgt[:, t], 1) # t=1의 정답 단어를 다음 입력으로 사용\n",
    "            \n",
    "    batch_loss = (loss / int(tgt.shape[1]))\n",
    "    \n",
    "    variables = encoder.trainable_variables + decoder.trainable_variables\n",
    "    gradients = tape.gradient(loss, variables)\n",
    "    optimizer.apply_gradients(zip(gradients, variables))\n",
    "    \n",
    "    return batch_loss"
   ]
  },
  {
   "cell_type": "markdown",
   "id": "criminal-mistake",
   "metadata": {},
   "source": [
    "train_step()의 학습 과정은 아래와 같습니다.  \n",
    "1. Encoder에 소스 문장을 전달해 컨텍스트 벡터인 enc_out 을 생성  \n",
    "2. t=0일 때, Decoder의 Hidden State는 Encoder의 Final State로 정의. h_dec = enc_out[:, -1]  \n",
    "3. Decoder에 입력으로 전달할 \\<start> 토큰 문장 생성  \n",
    "4. <start> 문장과 enc_out, Hidden State를 기반으로 다음 단어(t=1)를 예측. pred  \n",
    "5. 예측된 단어와 정답 간의 Loss를 구한 후, t=1의 정답 단어를 다음 입력으로 사용 (예측 단어 X)  \n",
    "6. 반복"
   ]
  },
  {
   "cell_type": "markdown",
   "id": "similar-buffer",
   "metadata": {},
   "source": [
    "## 훈련하기"
   ]
  },
  {
   "cell_type": "code",
   "execution_count": 101,
   "id": "harmful-layer",
   "metadata": {},
   "outputs": [
    {
     "name": "stderr",
     "output_type": "stream",
     "text": [
      "Epoch  1: 100%|██████████| 7500/7500 [1:43:17<00:00,  1.21it/s, Loss 4.2890]\n"
     ]
    }
   ],
   "source": [
    "from tqdm import tqdm\n",
    "import random\n",
    "\n",
    "EPOCHS = 1\n",
    "\n",
    "for epoch in range(EPOCHS):\n",
    "    total_loss = 0\n",
    "    \n",
    "    idx_list = list(range(0, enc_tensor.shape[0], BATCH_SIZE)) # 각 배치의 시작 인덱스를 idx_list 배열에 저장\n",
    "    random.shuffle(idx_list) # 학습이 원활하게 이루어질 수 있도록 인덱스를 섞음\n",
    "    t = tqdm(idx_list)\n",
    "    \n",
    "    # 각 미니배치를 train_step() 함수에서 학습합니다. train_step()은 학습에 필요한 것은 모두 가져가 Loss를 계산한 후 반환하는 함수입니다.\n",
    "    for (batch, idx) in enumerate(t):\n",
    "        batch_loss = train_step(enc_tensor[idx: idx+BATCH_SIZE],\n",
    "                                dec_tensor[idx: idx+BATCH_SIZE],\n",
    "                                encoder,\n",
    "                                decoder,\n",
    "                                optimizer,\n",
    "                                dec_tokenizer)\n",
    "        \n",
    "        total_loss += batch_loss\n",
    "        \n",
    "        t.set_description_str('Epoch %2d' % (epoch + 1)) # tqdm\n",
    "        t.set_postfix_str('Loss %.4f' % (total_loss.numpy() / (batch + 1))) # tqdm"
   ]
  },
  {
   "cell_type": "markdown",
   "id": "sought-locking",
   "metadata": {},
   "source": [
    "tqdm은 훈련의 진행 과정을 한눈에 볼 수 있게 해주는 라이브러리입니다.\n",
    "먼저 EPOCHS = 10 만큼 반복하는 루프에 진입한 후, 각 배치의 시작 인덱스를 idx_list 배열에 저장합니다. 그리고 모델이 학습을 원활하게 할 수 있도록 데이터를 섞어줘야 하는데요, 인덱스를 섞어서 처리할 겁니다. 순차적인 인덱스로 데이터를 불러오는 게 아닌 랜덤한 인덱스로 데이터를 불러오는 것은 데이터를 섞는 것과 동일한 효과를 가져옵니다.\n",
    "그 후에 각 미니배치를 train_step() 함수에서 학습합니다. train_step()은 학습에 필요한 것은 모두 가져가 Loss를 계산한 후 반환하는 함수입니다."
   ]
  },
  {
   "cell_type": "code",
   "execution_count": 126,
   "id": "favorite-mercy",
   "metadata": {},
   "outputs": [],
   "source": [
    "def evaluate(sentence, encoder, decoder):\n",
    "    attention = np.zeros((dec_tensor.shape[-1], enc_tensor.shape[-1]))\n",
    "    \n",
    "    sentence = preprocess_sentence_ko(sentence)\n",
    "    inputs = enc_tokenizer.texts_to_sequences([sentence])\n",
    "    inputs = tf.keras.preprocessing.sequence.pad_sequences(inputs,\n",
    "                                                           maxlen=enc_tensor.shape[-1],\n",
    "                                                           padding='post')\n",
    "\n",
    "    result = ''\n",
    "\n",
    "    enc_out = encoder(inputs)\n",
    "\n",
    "    dec_hidden = enc_out[:, -1]\n",
    "    dec_input = tf.expand_dims([dec_tokenizer.word_index['<start>']], 0)\n",
    "\n",
    "    for t in range(dec_tensor.shape[-1]):\n",
    "        predictions, dec_hidden, attention_weights = decoder(dec_input,\n",
    "                                                             dec_hidden,\n",
    "                                                             enc_out)\n",
    "\n",
    "        attention_weights = tf.reshape(attention_weights, (-1, ))\n",
    "        attention[t] = attention_weights.numpy()\n",
    "\n",
    "        predicted_id = \\\n",
    "        tf.argmax(tf.math.softmax(predictions, axis=-1)[0]).numpy()\n",
    "\n",
    "        result += dec_tokenizer.index_word[predicted_id] + ' '\n",
    "\n",
    "        if dec_tokenizer.index_word[predicted_id] == '<end>':\n",
    "            return result, sentence, attention\n",
    "\n",
    "        dec_input = tf.expand_dims([predicted_id], 0)\n",
    "\n",
    "    return result, sentence, attention"
   ]
  },
  {
   "cell_type": "code",
   "execution_count": 127,
   "id": "collected-architect",
   "metadata": {},
   "outputs": [],
   "source": [
    "def plot_attention(attention, sentence, predicted_sentence):\n",
    "    fig = plt.figure(figsize=(10,10))\n",
    "    ax = fig.add_subplot(1, 1, 1)\n",
    "    ax.matshow(attention, cmap='viridis')\n",
    "\n",
    "    fontdict = {'fontsize': 14}\n",
    "\n",
    "    ax.set_xticklabels([''] + sentence, fontdict=fontdict, rotation=90)\n",
    "    ax.set_yticklabels([''] + predicted_sentence, fontdict=fontdict)\n",
    "\n",
    "    ax.xaxis.set_major_locator(ticker.MultipleLocator(1))\n",
    "    ax.yaxis.set_major_locator(ticker.MultipleLocator(1))\n",
    "\n",
    "    plt.show()"
   ]
  },
  {
   "cell_type": "code",
   "execution_count": 133,
   "id": "monetary-geometry",
   "metadata": {},
   "outputs": [],
   "source": [
    "def translate(sentence, encoder, decoder):\n",
    "    result, sentence, attention = evaluate(sentence, encoder, decoder)\n",
    "\n",
    "    print('Input: %s' % (sentence))\n",
    "    print('Predicted translation: {}'.format(result))\n",
    "    \n",
    "    attention = attention[:len(result.split()), :len(sentence)]\n",
    "    plot_attention(attention, sentence, result.split(' '))"
   ]
  },
  {
   "cell_type": "code",
   "execution_count": 134,
   "id": "expanded-dining",
   "metadata": {},
   "outputs": [
    {
     "name": "stdout",
     "output_type": "stream",
     "text": [
      "Input: ['커피', '마시', '러', '갈래요', '?']\n",
      "Predicted translation: the not not not not not not not not not not not not not not not not not not not not not not not not not not not not not not not not not not not not not not not \n"
     ]
    },
    {
     "name": "stderr",
     "output_type": "stream",
     "text": [
      "/opt/conda/lib/python3.7/site-packages/ipykernel_launcher.py:8: UserWarning: FixedFormatter should only be used together with FixedLocator\n",
      "  \n",
      "/opt/conda/lib/python3.7/site-packages/ipykernel_launcher.py:9: UserWarning: FixedFormatter should only be used together with FixedLocator\n",
      "  if __name__ == '__main__':\n"
     ]
    },
    {
     "data": {
      "image/png": "[encoded data removed]",
      "text/plain": [
       "<Figure size 720x720 with 1 Axes>"
      ]
     },
     "metadata": {
      "image/png": {
       "height": 606,
       "width": 111
      },
      "needs_background": "light"
     },
     "output_type": "display_data"
    }
   ],
   "source": [
    "translate(\"커피 마시러 갈래요?\", encoder, decoder)"
   ]
  },
  {
   "cell_type": "code",
   "execution_count": 136,
   "id": "outdoor-logic",
   "metadata": {},
   "outputs": [
    {
     "name": "stdout",
     "output_type": "stream",
     "text": [
      "Input: ['너무', '추워', '요', '.']\n",
      "Predicted translation: not not not not not not not not not not not not not not not not not not not not not not not not not not not not not not not not not not not not not not not not \n"
     ]
    },
    {
     "name": "stderr",
     "output_type": "stream",
     "text": [
      "/opt/conda/lib/python3.7/site-packages/ipykernel_launcher.py:8: UserWarning: FixedFormatter should only be used together with FixedLocator\n",
      "  \n",
      "/opt/conda/lib/python3.7/site-packages/ipykernel_launcher.py:9: UserWarning: FixedFormatter should only be used together with FixedLocator\n",
      "  if __name__ == '__main__':\n"
     ]
    },
    {
     "data": {
      "image/png": "[encoded data removed]",
      "text/plain": [
       "<Figure size 720x720 with 1 Axes>"
      ]
     },
     "metadata": {
      "image/png": {
       "height": 593,
       "width": 97
      },
      "needs_background": "light"
     },
     "output_type": "display_data"
    }
   ],
   "source": [
    "translate(\"너무 추워요.\", encoder, decoder)"
   ]
  },
  {
   "cell_type": "code",
   "execution_count": 139,
   "id": "tender-ordinance",
   "metadata": {
    "scrolled": false
   },
   "outputs": [
    {
     "name": "stdout",
     "output_type": "stream",
     "text": [
      "Input: ['심심', '한데', '뭐', '하', '고', '놀', '지', '?']\n",
      "Predicted translation: the <unk> <end> \n"
     ]
    },
    {
     "name": "stderr",
     "output_type": "stream",
     "text": [
      "/opt/conda/lib/python3.7/site-packages/ipykernel_launcher.py:8: UserWarning: FixedFormatter should only be used together with FixedLocator\n",
      "  \n",
      "/opt/conda/lib/python3.7/site-packages/ipykernel_launcher.py:9: UserWarning: FixedFormatter should only be used together with FixedLocator\n",
      "  if __name__ == '__main__':\n"
     ]
    },
    {
     "data": {
      "image/png": "[encoded data removed]",
      "text/plain": [
       "<Figure size 720x720 with 1 Axes>"
      ]
     },
     "metadata": {
      "image/png": {
       "height": 259,
       "width": 616
      },
      "needs_background": "light"
     },
     "output_type": "display_data"
    }
   ],
   "source": [
    "translate(\"심심한데 뭐 하고 놀지?\", encoder, decoder)"
   ]
  },
  {
   "cell_type": "markdown",
   "id": "pediatric-hostel",
   "metadata": {},
   "source": [
    "## 회고\n",
    "* 모델의 사이즈가 너무 커서 OOM 문제가 지속적으로 발생했다. 따라서 incode, decode tensor의 크기를 줄였다.  \n",
    "* 배치 사이즈를 줄였기 때문에 학습에 너무 많은 시간이 소요되는 것 같다. epoch를 늘리면 결과가 제대로 나올지 궁금하다."
   ]
  },
  {
   "cell_type": "code",
   "execution_count": null,
   "id": "competent-shuttle",
   "metadata": {},
   "outputs": [],
   "source": []
  }
 ],
 "metadata": {
  "kernelspec": {
   "display_name": "Python 3",
   "language": "python",
   "name": "python3"
  },
  "language_info": {
   "codemirror_mode": {
    "name": "ipython",
    "version": 3
   },
   "file_extension": ".py",
   "mimetype": "text/x-python",
   "name": "python",
   "nbconvert_exporter": "python",
   "pygments_lexer": "ipython3",
   "version": "3.7.9"
  }
 },
 "nbformat": 4,
 "nbformat_minor": 5
}
