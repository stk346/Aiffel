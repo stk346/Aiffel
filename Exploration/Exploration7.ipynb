{
  "nbformat": 4,
  "nbformat_minor": 0,
  "metadata": {
    "colab": {
      "name": "Exploration7",
      "provenance": [],
      "collapsed_sections": []
    },
    "kernelspec": {
      "name": "python3",
      "display_name": "Python 3"
    },
    "language_info": {
      "name": "python"
    },
    "accelerator": "GPU"
  },
  "cells": [
    {
      "cell_type": "code",
      "metadata": {
        "colab": {
          "base_uri": "https://localhost:8080/"
        },
        "id": "g_uSlAUjr30Q",
        "outputId": "208f276d-1f31-448e-c321-3d9ead1448d2"
      },
      "source": [
        "from google.colab import drive\n",
        "drive.mount('/content/drive')"
      ],
      "execution_count": 174,
      "outputs": [
        {
          "output_type": "stream",
          "text": [
            "Drive already mounted at /content/drive; to attempt to forcibly remount, call drive.mount(\"/content/drive\", force_remount=True).\n"
          ],
          "name": "stdout"
        }
      ]
    },
    {
      "cell_type": "code",
      "metadata": {
        "colab": {
          "base_uri": "https://localhost:8080/"
        },
        "collapsed": true,
        "id": "5_NKzHa8uaNn",
        "outputId": "1361e0de-10dc-452c-d2fb-ccbd4b054280"
      },
      "source": [
        "!apt-get update\n",
        "!apt-get install g++ openjdk-8-jdk \n",
        "!pip3 install konlpy JPype1-py3\n",
        "!bash <(curl -s https://raw.githubusercontent.com/konlpy/konlpy/master/scripts/mecab.sh)"
      ],
      "execution_count": 175,
      "outputs": [
        {
          "output_type": "stream",
          "text": [
            "\r0% [Working]\r            \rHit:1 https://cloud.r-project.org/bin/linux/ubuntu bionic-cran40/ InRelease\n",
            "Ign:2 https://developer.download.nvidia.com/compute/cuda/repos/ubuntu1804/x86_64  InRelease\n",
            "Ign:3 https://developer.download.nvidia.com/compute/machine-learning/repos/ubuntu1804/x86_64  InRelease\n",
            "Hit:4 https://developer.download.nvidia.com/compute/cuda/repos/ubuntu1804/x86_64  Release\n",
            "Get:5 http://security.ubuntu.com/ubuntu bionic-security InRelease [88.7 kB]\n",
            "Hit:6 https://developer.download.nvidia.com/compute/machine-learning/repos/ubuntu1804/x86_64  Release\n",
            "Hit:7 http://ppa.launchpad.net/c2d4u.team/c2d4u4.0+/ubuntu bionic InRelease\n",
            "Hit:9 http://archive.ubuntu.com/ubuntu bionic InRelease\n",
            "Hit:10 http://ppa.launchpad.net/cran/libgit2/ubuntu bionic InRelease\n",
            "Get:11 http://archive.ubuntu.com/ubuntu bionic-updates InRelease [88.7 kB]\n",
            "Hit:13 http://ppa.launchpad.net/deadsnakes/ppa/ubuntu bionic InRelease\n",
            "Get:14 http://archive.ubuntu.com/ubuntu bionic-backports InRelease [74.6 kB]\n",
            "Hit:15 http://ppa.launchpad.net/graphics-drivers/ppa/ubuntu bionic InRelease\n",
            "Fetched 252 kB in 2s (132 kB/s)\n",
            "Reading package lists... Done\n",
            "Reading package lists... Done\n",
            "Building dependency tree       \n",
            "Reading state information... Done\n",
            "g++ is already the newest version (4:7.4.0-1ubuntu2.3).\n",
            "openjdk-8-jdk is already the newest version (8u292-b10-0ubuntu1~18.04).\n",
            "0 upgraded, 0 newly installed, 0 to remove and 104 not upgraded.\n",
            "Requirement already satisfied: konlpy in /usr/local/lib/python3.7/dist-packages (0.5.2)\n",
            "Requirement already satisfied: JPype1-py3 in /usr/local/lib/python3.7/dist-packages (0.5.5.4)\n",
            "Requirement already satisfied: numpy>=1.6 in /usr/local/lib/python3.7/dist-packages (from konlpy) (1.19.5)\n",
            "Requirement already satisfied: lxml>=4.1.0 in /usr/local/lib/python3.7/dist-packages (from konlpy) (4.2.6)\n",
            "Requirement already satisfied: tweepy>=3.7.0 in /usr/local/lib/python3.7/dist-packages (from konlpy) (3.10.0)\n",
            "Requirement already satisfied: beautifulsoup4==4.6.0 in /usr/local/lib/python3.7/dist-packages (from konlpy) (4.6.0)\n",
            "Requirement already satisfied: JPype1>=0.7.0 in /usr/local/lib/python3.7/dist-packages (from konlpy) (1.3.0)\n",
            "Requirement already satisfied: colorama in /usr/local/lib/python3.7/dist-packages (from konlpy) (0.4.4)\n",
            "Requirement already satisfied: typing-extensions in /usr/local/lib/python3.7/dist-packages (from JPype1>=0.7.0->konlpy) (3.7.4.3)\n",
            "Requirement already satisfied: requests-oauthlib>=0.7.0 in /usr/local/lib/python3.7/dist-packages (from tweepy>=3.7.0->konlpy) (1.3.0)\n",
            "Requirement already satisfied: requests[socks]>=2.11.1 in /usr/local/lib/python3.7/dist-packages (from tweepy>=3.7.0->konlpy) (2.23.0)\n",
            "Requirement already satisfied: six>=1.10.0 in /usr/local/lib/python3.7/dist-packages (from tweepy>=3.7.0->konlpy) (1.15.0)\n",
            "Requirement already satisfied: oauthlib>=3.0.0 in /usr/local/lib/python3.7/dist-packages (from requests-oauthlib>=0.7.0->tweepy>=3.7.0->konlpy) (3.1.1)\n",
            "Requirement already satisfied: chardet<4,>=3.0.2 in /usr/local/lib/python3.7/dist-packages (from requests[socks]>=2.11.1->tweepy>=3.7.0->konlpy) (3.0.4)\n",
            "Requirement already satisfied: urllib3!=1.25.0,!=1.25.1,<1.26,>=1.21.1 in /usr/local/lib/python3.7/dist-packages (from requests[socks]>=2.11.1->tweepy>=3.7.0->konlpy) (1.24.3)\n",
            "Requirement already satisfied: certifi>=2017.4.17 in /usr/local/lib/python3.7/dist-packages (from requests[socks]>=2.11.1->tweepy>=3.7.0->konlpy) (2021.5.30)\n",
            "Requirement already satisfied: idna<3,>=2.5 in /usr/local/lib/python3.7/dist-packages (from requests[socks]>=2.11.1->tweepy>=3.7.0->konlpy) (2.10)\n",
            "Requirement already satisfied: PySocks!=1.5.7,>=1.5.6 in /usr/local/lib/python3.7/dist-packages (from requests[socks]>=2.11.1->tweepy>=3.7.0->konlpy) (1.7.1)\n",
            "mecab-ko is already installed\n",
            "mecab-ko-dic is already installed\n",
            "mecab-python is already installed\n",
            "Done.\n"
          ],
          "name": "stdout"
        }
      ]
    },
    {
      "cell_type": "code",
      "metadata": {
        "colab": {
          "base_uri": "https://localhost:8080/"
        },
        "id": "6_Qs_p_8XL3E",
        "outputId": "12787749-31f7-42d4-a8a1-9aeaae1a552c"
      },
      "source": [
        "from konlpy.tag import Mecab\n",
        "tokenizer = Mecab()\n",
        "\n",
        "tokenizer.morphs(\"민락동에서 가장 맛있는 텐동집이 어디인가요?\")"
      ],
      "execution_count": 176,
      "outputs": [
        {
          "output_type": "execute_result",
          "data": {
            "text/plain": [
              "['민락동', '에서', '가장', '맛있', '는', '텐동', '집', '이', '어디', '인가요', '?']"
            ]
          },
          "metadata": {
            "tags": []
          },
          "execution_count": 176
        }
      ]
    },
    {
      "cell_type": "code",
      "metadata": {
        "id": "pY8jTK13-aUy"
      },
      "source": [
        "import pandas as pd\n",
        "import urllib.request\n",
        "%matplotlib inline\n",
        "import matplotlib.pyplot as plt\n",
        "import re\n",
        "from konlpy.tag import Okt\n",
        "from tensorflow import keras\n",
        "from tensorflow.keras.preprocessing.text import Tokenizer\n",
        "import numpy as np\n",
        "from tensorflow.keras.preprocessing.sequence import pad_sequences\n",
        "from collections import Counter"
      ],
      "execution_count": 177,
      "outputs": []
    },
    {
      "cell_type": "code",
      "metadata": {
        "colab": {
          "base_uri": "https://localhost:8080/",
          "height": 204
        },
        "id": "cvysCLw8rbnr",
        "outputId": "3330099d-bc20-419e-ef2d-9f94b2b4b805"
      },
      "source": [
        "train_data = pd.read_table('/content/drive/MyDrive/Colab Notebooks/Aiffel/Exploration/Exploration7/ratings_train.txt')\n",
        "test_data = pd.read_table('/content/drive/MyDrive/Colab Notebooks/Aiffel/Exploration/Exploration7/ratings_test.txt')\n",
        "\n",
        "train_data.head()"
      ],
      "execution_count": 178,
      "outputs": [
        {
          "output_type": "execute_result",
          "data": {
            "text/html": [
              "<div>\n",
              "<style scoped>\n",
              "    .dataframe tbody tr th:only-of-type {\n",
              "        vertical-align: middle;\n",
              "    }\n",
              "\n",
              "    .dataframe tbody tr th {\n",
              "        vertical-align: top;\n",
              "    }\n",
              "\n",
              "    .dataframe thead th {\n",
              "        text-align: right;\n",
              "    }\n",
              "</style>\n",
              "<table border=\"1\" class=\"dataframe\">\n",
              "  <thead>\n",
              "    <tr style=\"text-align: right;\">\n",
              "      <th></th>\n",
              "      <th>id</th>\n",
              "      <th>document</th>\n",
              "      <th>label</th>\n",
              "    </tr>\n",
              "  </thead>\n",
              "  <tbody>\n",
              "    <tr>\n",
              "      <th>0</th>\n",
              "      <td>9976970</td>\n",
              "      <td>아 더빙.. 진짜 짜증나네요 목소리</td>\n",
              "      <td>0</td>\n",
              "    </tr>\n",
              "    <tr>\n",
              "      <th>1</th>\n",
              "      <td>3819312</td>\n",
              "      <td>흠...포스터보고 초딩영화줄....오버연기조차 가볍지 않구나</td>\n",
              "      <td>1</td>\n",
              "    </tr>\n",
              "    <tr>\n",
              "      <th>2</th>\n",
              "      <td>10265843</td>\n",
              "      <td>너무재밓었다그래서보는것을추천한다</td>\n",
              "      <td>0</td>\n",
              "    </tr>\n",
              "    <tr>\n",
              "      <th>3</th>\n",
              "      <td>9045019</td>\n",
              "      <td>교도소 이야기구먼 ..솔직히 재미는 없다..평점 조정</td>\n",
              "      <td>0</td>\n",
              "    </tr>\n",
              "    <tr>\n",
              "      <th>4</th>\n",
              "      <td>6483659</td>\n",
              "      <td>사이몬페그의 익살스런 연기가 돋보였던 영화!스파이더맨에서 늙어보이기만 했던 커스틴 ...</td>\n",
              "      <td>1</td>\n",
              "    </tr>\n",
              "  </tbody>\n",
              "</table>\n",
              "</div>"
            ],
            "text/plain": [
              "         id                                           document  label\n",
              "0   9976970                                아 더빙.. 진짜 짜증나네요 목소리      0\n",
              "1   3819312                  흠...포스터보고 초딩영화줄....오버연기조차 가볍지 않구나      1\n",
              "2  10265843                                  너무재밓었다그래서보는것을추천한다      0\n",
              "3   9045019                      교도소 이야기구먼 ..솔직히 재미는 없다..평점 조정      0\n",
              "4   6483659  사이몬페그의 익살스런 연기가 돋보였던 영화!스파이더맨에서 늙어보이기만 했던 커스틴 ...      1"
            ]
          },
          "metadata": {
            "tags": []
          },
          "execution_count": 178
        }
      ]
    },
    {
      "cell_type": "code",
      "metadata": {
        "colab": {
          "base_uri": "https://localhost:8080/"
        },
        "id": "gN32GJeOlFEE",
        "outputId": "2ea80e2b-3392-4c4c-acae-8ac7549a0355"
      },
      "source": [
        "len(train_data)"
      ],
      "execution_count": 179,
      "outputs": [
        {
          "output_type": "execute_result",
          "data": {
            "text/plain": [
              "150000"
            ]
          },
          "metadata": {
            "tags": []
          },
          "execution_count": 179
        }
      ]
    },
    {
      "cell_type": "code",
      "metadata": {
        "colab": {
          "base_uri": "https://localhost:8080/"
        },
        "id": "LoTO1XRFK7Mq",
        "outputId": "9b559a9c-d975-4063-b00e-83c17705bd96"
      },
      "source": [
        "len(test_data)"
      ],
      "execution_count": 180,
      "outputs": [
        {
          "output_type": "execute_result",
          "data": {
            "text/plain": [
              "50000"
            ]
          },
          "metadata": {
            "tags": []
          },
          "execution_count": 180
        }
      ]
    },
    {
      "cell_type": "code",
      "metadata": {
        "colab": {
          "base_uri": "https://localhost:8080/"
        },
        "id": "59tFUUlsuW3G",
        "outputId": "a8bacf14-e2d4-41ba-cdee-6fd9cb6a9bcf"
      },
      "source": [
        "train_data['document'].nunique(), train_data['label'].nunique()"
      ],
      "execution_count": 181,
      "outputs": [
        {
          "output_type": "execute_result",
          "data": {
            "text/plain": [
              "(146182, 2)"
            ]
          },
          "metadata": {
            "tags": []
          },
          "execution_count": 181
        }
      ]
    },
    {
      "cell_type": "code",
      "metadata": {
        "id": "xFoLcslwGZvJ"
      },
      "source": [
        "from konlpy.tag import Mecab\n",
        "tokenizer = Mecab()\n",
        "stopwords = ['의','가','이','은','들','는','좀','잘','걍','과','도','를','으로','자','에','와','한','하다']\n",
        "\n",
        "def load_data(train_data, test_data, num_words=10000):\n",
        "    train_data.drop_duplicates(subset=['document'], inplace=True)\n",
        "    train_data = train_data.dropna(how = 'any') \n",
        "    test_data.drop_duplicates(subset=['document'], inplace=True)\n",
        "    test_data = test_data.dropna(how = 'any') \n",
        "    \n",
        "    X_train = []\n",
        "    for sentence in train_data['document']:\n",
        "        temp_X = tokenizer.morphs(sentence) # 토큰화\n",
        "        temp_X = [word for word in temp_X if not word in stopwords] # 불용어 제거\n",
        "        X_train.append(temp_X)\n",
        "\n",
        "    X_test = []\n",
        "    for sentence in test_data['document']:\n",
        "        temp_X = tokenizer.morphs(sentence) # 토큰화\n",
        "        temp_X = [word for word in temp_X if not word in stopwords] # 불용어 제거\n",
        "        X_test.append(temp_X)\n",
        "    \n",
        "    words = np.concatenate(X_train).tolist()\n",
        "    counter = Counter(words)\n",
        "    counter = counter.most_common(10000-4)\n",
        "    vocab = ['<PAD>', '<BOS>', '<UNK>', '<UNUSED>'] + [key for key, _ in counter]\n",
        "    word_to_index = {word:index for index, word in enumerate(vocab)}\n",
        "        \n",
        "    def wordlist_to_indexlist(wordlist):\n",
        "        return [word_to_index[word] if word in word_to_index else word_to_index['<UNK>'] for word in wordlist]\n",
        "        \n",
        "    X_train = list(map(wordlist_to_indexlist, X_train))\n",
        "    X_test = list(map(wordlist_to_indexlist, X_test))\n",
        "        \n",
        "    return X_train, np.array(list(train_data['label'])), X_test, np.array(list(test_data['label'])), word_to_index\n",
        "    \n",
        "X_train, y_train, X_test, y_test, word_to_index = load_data(train_data, test_data) "
      ],
      "execution_count": 182,
      "outputs": []
    },
    {
      "cell_type": "code",
      "metadata": {
        "colab": {
          "base_uri": "https://localhost:8080/"
        },
        "id": "RN-gyMXTKvLt",
        "outputId": "4926a799-59c5-483c-b1e0-fda3271a79b8"
      },
      "source": [
        "len(X_train)"
      ],
      "execution_count": 183,
      "outputs": [
        {
          "output_type": "execute_result",
          "data": {
            "text/plain": [
              "146182"
            ]
          },
          "metadata": {
            "tags": []
          },
          "execution_count": 183
        }
      ]
    },
    {
      "cell_type": "code",
      "metadata": {
        "colab": {
          "base_uri": "https://localhost:8080/"
        },
        "id": "3WU2-iJxKkFT",
        "outputId": "49efd558-c36b-4e30-c10b-1f210569f36b"
      },
      "source": [
        "len(X_test)"
      ],
      "execution_count": 184,
      "outputs": [
        {
          "output_type": "execute_result",
          "data": {
            "text/plain": [
              "49157"
            ]
          },
          "metadata": {
            "tags": []
          },
          "execution_count": 184
        }
      ]
    },
    {
      "cell_type": "code",
      "metadata": {
        "id": "e84D8O0fsK8w"
      },
      "source": [
        "# from konlpy.tag import Mecab\n",
        "# tokenizer = Mecab()\n",
        "# stopwords = ['의', '가', '이', '은', '들', '는', '좀', '잘', '걍', '과', '도', '를', ',으로', '자', '에', '와', '한', '하다']\n",
        "\n",
        "# def load_data(train_data, test_data, num_words=10000):\n",
        "#   train_data.drop_duplicates(subset=['document'], inplace=True)\n",
        "#   train_data = train_data.dropna(how='any')\n",
        "#   test_data.drop_duplicates(subset=['document'], inplace=True)\n",
        "#   test_data = test_data.dropna(how = 'any')\n",
        "\n",
        "#   X_train = []\n",
        "#   for sentence in train_data['document']:\n",
        "#     temp_X = tokenizer.morphs(sentence)\n",
        "#     temp_X = [word for word in temp_X if not word in stopwords]\n",
        "#     X_train.append(temp_X)\n",
        "\n",
        "#   X_test = []\n",
        "#   for sentence in test_data['document']:\n",
        "#     temp_X = tokenizer.morphs(sentence)\n",
        "#     temp_X = [word for word in temp_X if not word in stopwords]\n",
        "#     X_test.append(temp_X)\n",
        "\n",
        "#     words = np.concatenate(X_train).tolist()\n",
        "#     counter = Counter(words)\n",
        "#     counter = counter.most_common(10000-4)\n",
        "#     vocab = ['<PAD>', '<BOS>', '<UNK>', '<UNUSED>'] + [key for key, _ in counter]\n",
        "#     word_to_index = {word:index for index, word in enumerate(vocab)}\n",
        "\n",
        "\n",
        "#     def wordlist_to_indexlist(wordlist):\n",
        "#       return [word_to_index[word] if word in word_to_index else word_to_index['<UNK>'] for word in wordlist]\n",
        "    \n",
        "#     X_train = list(map(wordlist_to_indexlist, X_train))\n",
        "#     X_test = list(map(wordlist_to_indexlist, X_test))\n",
        "\n",
        "#     return X_train, np.array(list(train_data['label'])), X_test, np.array(list(test_data['label'])), word_to_index\n",
        "\n",
        "# X_train, y_train, X_test, y_test, word_to_index = load_data(train_data, test_data)"
      ],
      "execution_count": 185,
      "outputs": []
    },
    {
      "cell_type": "code",
      "metadata": {
        "id": "Qc-yKc8_nAXW"
      },
      "source": [
        "index_to_word = {index:word for word, index in word_to_index.items()}"
      ],
      "execution_count": 186,
      "outputs": []
    },
    {
      "cell_type": "code",
      "metadata": {
        "id": "iuhF0ea7OSGC"
      },
      "source": [
        "# 문장 1개를 활용할 딕셔너리와 함께 주면, 단어 인덱스 리스트 벡터로 변환해 주는 함수입니다. \n",
        "# 단, 모든 문장은 <BOS>로 시작하는 것으로 합니다. \n",
        "def get_encoded_sentence(sentence, word_to_index):\n",
        "    return [word_to_index['<BOS>']]+[word_to_index[word] if word in word_to_index else word_to_index['<UNK>'] for word in sentence]\n",
        "\n",
        "# 여러 개의 문장 리스트를 한꺼번에 단어 인덱스 리스트 벡터로 encode해 주는 함수입니다. \n",
        "def get_encoded_sentences(sentences, word_to_index):\n",
        "    return [get_encoded_sentence(sentence, word_to_index) for sentence in sentences]\n",
        "\n",
        "# 숫자 벡터로 encode된 문장을 원래대로 decode하는 함수입니다. \n",
        "def get_decoded_sentence(encoded_sentence, index_to_word):\n",
        "    return ' '.join(index_to_word[index] if index in index_to_word else '<UNK>' for index in encoded_sentence[1:])  #[1:]를 통해 <BOS>를 제외\n",
        "\n",
        "# 여러 개의 숫자 벡터로 encode된 문장을 한꺼번에 원래대로 decode하는 함수입니다. \n",
        "def get_decoded_sentences(encoded_sentences, index_to_word):\n",
        "    return [get_decoded_sentence(encoded_sentence, index_to_word) for encoded_sentence in encoded_sentences]"
      ],
      "execution_count": 187,
      "outputs": []
    },
    {
      "cell_type": "code",
      "metadata": {
        "colab": {
          "base_uri": "https://localhost:8080/"
        },
        "id": "z8dCTGDqNTGC",
        "outputId": "d505af91-ef34-4960-8b1a-3fb2e4dc879a"
      },
      "source": [
        "total_data_text = list(X_train) + list(X_test)\n",
        "\n",
        "num_tokens = [len(tokens) for tokens in total_data_text]\n",
        "num_tokens = np.array(num_tokens)\n",
        "\n",
        "print('문장길이 평균:', np.mean(num_tokens))\n",
        "print('문장길이 최대:', np.max(num_tokens))\n",
        "print('문장길이 표준편차:', np.std(num_tokens))\n",
        "\n",
        "max_tokens = np.mean(num_tokens) + 2*np.std(num_tokens)\n",
        "maxlen = int(max_tokens)\n",
        "print('pad_sequences maxlen:', maxlen)\n",
        "print('전체 문장의 {}%가 포함됩니다.' .format(np.sum(num_tokens < max_tokens) / len(num_tokens)))"
      ],
      "execution_count": 188,
      "outputs": [
        {
          "output_type": "stream",
          "text": [
            "문장길이 평균: 15.969376315021577\n",
            "문장길이 최대: 116\n",
            "문장길이 표준편차: 12.843535456326455\n",
            "pad_sequences maxlen: 41\n",
            "전체 문장의 0.9342988343341575%가 포함됩니다.\n"
          ],
          "name": "stdout"
        }
      ]
    },
    {
      "cell_type": "code",
      "metadata": {
        "collapsed": true,
        "id": "P_EcR_gZIsPM"
      },
      "source": [
        "X_train = get_encoded_sentences(X_train, word_to_index)"
      ],
      "execution_count": 189,
      "outputs": []
    },
    {
      "cell_type": "code",
      "metadata": {
        "id": "8dmVcWdfGFaY"
      },
      "source": [
        "X_test = get_encoded_sentences(X_test, word_to_index)"
      ],
      "execution_count": 190,
      "outputs": []
    },
    {
      "cell_type": "code",
      "metadata": {
        "colab": {
          "base_uri": "https://localhost:8080/"
        },
        "id": "2cgCBxd-MQpC",
        "outputId": "14c370c7-50f1-4802-e266-a4d5b72bec6c"
      },
      "source": [
        "raw_inputs = keras.preprocessing.sequence.pad_sequences(X_train,\n",
        "                                                        value=word_to_index['<PAD>'],\n",
        "                                                        padding='pre',\n",
        "                                                        maxlen=maxlen)\n",
        "print(raw_inputs)"
      ],
      "execution_count": 191,
      "outputs": [
        {
          "output_type": "stream",
          "text": [
            "[[0 0 0 ... 2 2 2]\n",
            " [0 0 0 ... 2 2 2]\n",
            " [0 0 0 ... 2 2 2]\n",
            " ...\n",
            " [0 0 0 ... 2 2 2]\n",
            " [0 0 0 ... 2 2 2]\n",
            " [0 0 0 ... 2 2 2]]\n"
          ],
          "name": "stdout"
        }
      ]
    },
    {
      "cell_type": "code",
      "metadata": {
        "colab": {
          "base_uri": "https://localhost:8080/"
        },
        "id": "62DzEQrWHPKZ",
        "outputId": "943a748c-2d38-4377-96fc-de1cea72fe2d"
      },
      "source": [
        "X_test = keras.preprocessing.sequence.pad_sequences(X_test,\n",
        "                                                        value=word_to_index['<PAD>'],\n",
        "                                                        padding='pre',\n",
        "                                                        maxlen=maxlen)\n",
        "print(X_test)"
      ],
      "execution_count": 192,
      "outputs": [
        {
          "output_type": "stream",
          "text": [
            "[[0 0 0 ... 1 2 2]\n",
            " [0 0 0 ... 0 1 2]\n",
            " [0 0 0 ... 2 2 2]\n",
            " ...\n",
            " [0 0 0 ... 2 2 2]\n",
            " [0 0 0 ... 2 2 2]\n",
            " [0 0 0 ... 2 2 2]]\n"
          ],
          "name": "stdout"
        }
      ]
    },
    {
      "cell_type": "code",
      "metadata": {
        "colab": {
          "base_uri": "https://localhost:8080/"
        },
        "id": "vOoXQe6RNLze",
        "outputId": "b149ed5d-2d7f-4855-91ac-a31df1e15b1d"
      },
      "source": [
        "import numpy as np\n",
        "import tensorflow as tf\n",
        "\n",
        "vocab_size = len(word_to_index)\n",
        "word_vector_dim = 4\n",
        "\n",
        "embedding = tf.keras.layers.Embedding(input_dim=vocab_size, output_dim=word_vector_dim, mask_zero=True)\n",
        "\n",
        "X_train = keras.preprocessing.sequence.pad_sequences(X_train,\n",
        "                                                        value=word_to_index['<PAD>'],\n",
        "                                                        padding='pre',\n",
        "                                                        maxlen=maxlen)\n",
        "\n",
        "output = embedding(X_train)\n",
        "print(output)"
      ],
      "execution_count": 193,
      "outputs": [
        {
          "output_type": "stream",
          "text": [
            "tf.Tensor(\n",
            "[[[ 9.9172220e-03  1.9972373e-02 -2.1991288e-02  3.4207430e-02]\n",
            "  [ 9.9172220e-03  1.9972373e-02 -2.1991288e-02  3.4207430e-02]\n",
            "  [ 9.9172220e-03  1.9972373e-02 -2.1991288e-02  3.4207430e-02]\n",
            "  ...\n",
            "  [ 1.3348307e-02 -4.3780901e-02 -2.8126443e-02 -5.7108700e-06]\n",
            "  [ 1.3348307e-02 -4.3780901e-02 -2.8126443e-02 -5.7108700e-06]\n",
            "  [ 1.3348307e-02 -4.3780901e-02 -2.8126443e-02 -5.7108700e-06]]\n",
            "\n",
            " [[ 9.9172220e-03  1.9972373e-02 -2.1991288e-02  3.4207430e-02]\n",
            "  [ 9.9172220e-03  1.9972373e-02 -2.1991288e-02  3.4207430e-02]\n",
            "  [ 9.9172220e-03  1.9972373e-02 -2.1991288e-02  3.4207430e-02]\n",
            "  ...\n",
            "  [ 1.3348307e-02 -4.3780901e-02 -2.8126443e-02 -5.7108700e-06]\n",
            "  [ 1.3348307e-02 -4.3780901e-02 -2.8126443e-02 -5.7108700e-06]\n",
            "  [ 1.3348307e-02 -4.3780901e-02 -2.8126443e-02 -5.7108700e-06]]\n",
            "\n",
            " [[ 9.9172220e-03  1.9972373e-02 -2.1991288e-02  3.4207430e-02]\n",
            "  [ 9.9172220e-03  1.9972373e-02 -2.1991288e-02  3.4207430e-02]\n",
            "  [ 9.9172220e-03  1.9972373e-02 -2.1991288e-02  3.4207430e-02]\n",
            "  ...\n",
            "  [ 1.3348307e-02 -4.3780901e-02 -2.8126443e-02 -5.7108700e-06]\n",
            "  [ 1.3348307e-02 -4.3780901e-02 -2.8126443e-02 -5.7108700e-06]\n",
            "  [ 1.3348307e-02 -4.3780901e-02 -2.8126443e-02 -5.7108700e-06]]\n",
            "\n",
            " ...\n",
            "\n",
            " [[ 9.9172220e-03  1.9972373e-02 -2.1991288e-02  3.4207430e-02]\n",
            "  [ 9.9172220e-03  1.9972373e-02 -2.1991288e-02  3.4207430e-02]\n",
            "  [ 9.9172220e-03  1.9972373e-02 -2.1991288e-02  3.4207430e-02]\n",
            "  ...\n",
            "  [ 1.3348307e-02 -4.3780901e-02 -2.8126443e-02 -5.7108700e-06]\n",
            "  [ 1.3348307e-02 -4.3780901e-02 -2.8126443e-02 -5.7108700e-06]\n",
            "  [ 1.3348307e-02 -4.3780901e-02 -2.8126443e-02 -5.7108700e-06]]\n",
            "\n",
            " [[ 9.9172220e-03  1.9972373e-02 -2.1991288e-02  3.4207430e-02]\n",
            "  [ 9.9172220e-03  1.9972373e-02 -2.1991288e-02  3.4207430e-02]\n",
            "  [ 9.9172220e-03  1.9972373e-02 -2.1991288e-02  3.4207430e-02]\n",
            "  ...\n",
            "  [ 1.3348307e-02 -4.3780901e-02 -2.8126443e-02 -5.7108700e-06]\n",
            "  [ 1.3348307e-02 -4.3780901e-02 -2.8126443e-02 -5.7108700e-06]\n",
            "  [ 1.3348307e-02 -4.3780901e-02 -2.8126443e-02 -5.7108700e-06]]\n",
            "\n",
            " [[ 9.9172220e-03  1.9972373e-02 -2.1991288e-02  3.4207430e-02]\n",
            "  [ 9.9172220e-03  1.9972373e-02 -2.1991288e-02  3.4207430e-02]\n",
            "  [ 9.9172220e-03  1.9972373e-02 -2.1991288e-02  3.4207430e-02]\n",
            "  ...\n",
            "  [ 1.3348307e-02 -4.3780901e-02 -2.8126443e-02 -5.7108700e-06]\n",
            "  [ 1.3348307e-02 -4.3780901e-02 -2.8126443e-02 -5.7108700e-06]\n",
            "  [ 1.3348307e-02 -4.3780901e-02 -2.8126443e-02 -5.7108700e-06]]], shape=(146182, 41, 4), dtype=float32)\n"
          ],
          "name": "stdout"
        }
      ]
    },
    {
      "cell_type": "code",
      "metadata": {
        "colab": {
          "base_uri": "https://localhost:8080/"
        },
        "id": "ApftfbmDHYEe",
        "outputId": "69e96c06-8826-45e3-9647-d986dab662ea"
      },
      "source": [
        "import numpy as np\n",
        "import tensorflow as tf\n",
        "\n",
        "vocab_size = len(word_to_index)\n",
        "word_vector_dim = 4\n",
        "\n",
        "embedding = tf.keras.layers.Embedding(input_dim=vocab_size, output_dim=word_vector_dim, mask_zero=True)\n",
        "\n",
        "X_test = keras.preprocessing.sequence.pad_sequences(X_test,\n",
        "                                                        value=word_to_index['<PAD>'],\n",
        "                                                        padding='pre',\n",
        "                                                        maxlen=maxlen)\n",
        "\n",
        "output = embedding(X_train)\n",
        "print(output)"
      ],
      "execution_count": 194,
      "outputs": [
        {
          "output_type": "stream",
          "text": [
            "tf.Tensor(\n",
            "[[[-0.03015235  0.00226247 -0.03457129 -0.01612772]\n",
            "  [-0.03015235  0.00226247 -0.03457129 -0.01612772]\n",
            "  [-0.03015235  0.00226247 -0.03457129 -0.01612772]\n",
            "  ...\n",
            "  [-0.04312113  0.004467   -0.02426013  0.01442939]\n",
            "  [-0.04312113  0.004467   -0.02426013  0.01442939]\n",
            "  [-0.04312113  0.004467   -0.02426013  0.01442939]]\n",
            "\n",
            " [[-0.03015235  0.00226247 -0.03457129 -0.01612772]\n",
            "  [-0.03015235  0.00226247 -0.03457129 -0.01612772]\n",
            "  [-0.03015235  0.00226247 -0.03457129 -0.01612772]\n",
            "  ...\n",
            "  [-0.04312113  0.004467   -0.02426013  0.01442939]\n",
            "  [-0.04312113  0.004467   -0.02426013  0.01442939]\n",
            "  [-0.04312113  0.004467   -0.02426013  0.01442939]]\n",
            "\n",
            " [[-0.03015235  0.00226247 -0.03457129 -0.01612772]\n",
            "  [-0.03015235  0.00226247 -0.03457129 -0.01612772]\n",
            "  [-0.03015235  0.00226247 -0.03457129 -0.01612772]\n",
            "  ...\n",
            "  [-0.04312113  0.004467   -0.02426013  0.01442939]\n",
            "  [-0.04312113  0.004467   -0.02426013  0.01442939]\n",
            "  [-0.04312113  0.004467   -0.02426013  0.01442939]]\n",
            "\n",
            " ...\n",
            "\n",
            " [[-0.03015235  0.00226247 -0.03457129 -0.01612772]\n",
            "  [-0.03015235  0.00226247 -0.03457129 -0.01612772]\n",
            "  [-0.03015235  0.00226247 -0.03457129 -0.01612772]\n",
            "  ...\n",
            "  [-0.04312113  0.004467   -0.02426013  0.01442939]\n",
            "  [-0.04312113  0.004467   -0.02426013  0.01442939]\n",
            "  [-0.04312113  0.004467   -0.02426013  0.01442939]]\n",
            "\n",
            " [[-0.03015235  0.00226247 -0.03457129 -0.01612772]\n",
            "  [-0.03015235  0.00226247 -0.03457129 -0.01612772]\n",
            "  [-0.03015235  0.00226247 -0.03457129 -0.01612772]\n",
            "  ...\n",
            "  [-0.04312113  0.004467   -0.02426013  0.01442939]\n",
            "  [-0.04312113  0.004467   -0.02426013  0.01442939]\n",
            "  [-0.04312113  0.004467   -0.02426013  0.01442939]]\n",
            "\n",
            " [[-0.03015235  0.00226247 -0.03457129 -0.01612772]\n",
            "  [-0.03015235  0.00226247 -0.03457129 -0.01612772]\n",
            "  [-0.03015235  0.00226247 -0.03457129 -0.01612772]\n",
            "  ...\n",
            "  [-0.04312113  0.004467   -0.02426013  0.01442939]\n",
            "  [-0.04312113  0.004467   -0.02426013  0.01442939]\n",
            "  [-0.04312113  0.004467   -0.02426013  0.01442939]]], shape=(146182, 41, 4), dtype=float32)\n"
          ],
          "name": "stdout"
        }
      ]
    },
    {
      "cell_type": "code",
      "metadata": {
        "colab": {
          "base_uri": "https://localhost:8080/"
        },
        "id": "7rMM-gw1Owim",
        "outputId": "410f3ea3-28a4-4e32-bda9-b6085054980d"
      },
      "source": [
        "output.shape"
      ],
      "execution_count": 195,
      "outputs": [
        {
          "output_type": "execute_result",
          "data": {
            "text/plain": [
              "TensorShape([146182, 41, 4])"
            ]
          },
          "metadata": {
            "tags": []
          },
          "execution_count": 195
        }
      ]
    },
    {
      "cell_type": "code",
      "metadata": {
        "colab": {
          "base_uri": "https://localhost:8080/"
        },
        "id": "knWdzacRNRw-",
        "outputId": "46d434fd-23f9-4632-d271-7fb1ce311517"
      },
      "source": [
        "len(X_train)"
      ],
      "execution_count": 196,
      "outputs": [
        {
          "output_type": "execute_result",
          "data": {
            "text/plain": [
              "146182"
            ]
          },
          "metadata": {
            "tags": []
          },
          "execution_count": 196
        }
      ]
    },
    {
      "cell_type": "code",
      "metadata": {
        "id": "vem5wOM-PCz2"
      },
      "source": [
        "# validation set 10000건 분리\n",
        "X_val = X_train[:40000]   \n",
        "y_val = y_train[:40000]\n",
        "\n",
        "# validation set을 제외한 나머지 15000건\n",
        "partial_X_train = X_train[40000:]  \n",
        "partial_y_train = y_train[40000:]"
      ],
      "execution_count": 197,
      "outputs": []
    },
    {
      "cell_type": "markdown",
      "metadata": {
        "id": "SbgL926P_zSo"
      },
      "source": [
        "## 모델 훈련"
      ]
    },
    {
      "cell_type": "markdown",
      "metadata": {
        "id": "qCx2aOYN_1J4"
      },
      "source": [
        "RNN"
      ]
    },
    {
      "cell_type": "code",
      "metadata": {
        "colab": {
          "base_uri": "https://localhost:8080/"
        },
        "id": "IYfTH2Oi6m9F",
        "outputId": "3bfcf747-7a05-49b8-eeb0-e0ab88263b5e"
      },
      "source": [
        "vocab_size = 146182    \n",
        "word_vector_dim = 4 \n",
        "\n",
        "model = keras.Sequential()\n",
        "\n",
        "model.add(keras.layers.Embedding(vocab_size, word_vector_dim, input_shape=(None,)))\n",
        "model.add(keras.layers.LSTM(8))   # 가장 널리 쓰이는 RNN인 LSTM 레이어를 사용하였습니다. 이때 LSTM state 벡터의 차원수는 8로 하였습니다. (변경 가능)\n",
        "model.add(keras.layers.Dense(8, activation='relu'))\n",
        "model.add(keras.layers.Dense(1, activation='sigmoid'))  # 최종 출력은 긍정/부정을 나타내는 1dim 입니다.\n",
        "\n",
        "model.summary()"
      ],
      "execution_count": 198,
      "outputs": [
        {
          "output_type": "stream",
          "text": [
            "Model: \"sequential_16\"\n",
            "_________________________________________________________________\n",
            "Layer (type)                 Output Shape              Param #   \n",
            "=================================================================\n",
            "embedding_29 (Embedding)     (None, None, 4)           584728    \n",
            "_________________________________________________________________\n",
            "lstm_11 (LSTM)               (None, 8)                 416       \n",
            "_________________________________________________________________\n",
            "dense_28 (Dense)             (None, 8)                 72        \n",
            "_________________________________________________________________\n",
            "dense_29 (Dense)             (None, 1)                 9         \n",
            "=================================================================\n",
            "Total params: 585,225\n",
            "Trainable params: 585,225\n",
            "Non-trainable params: 0\n",
            "_________________________________________________________________\n"
          ],
          "name": "stdout"
        }
      ]
    },
    {
      "cell_type": "code",
      "metadata": {
        "colab": {
          "base_uri": "https://localhost:8080/"
        },
        "id": "PspLwj0jBBx7",
        "outputId": "62f10c64-a592-42d5-ef20-2cfca7e60902"
      },
      "source": [
        "model.compile(optimizer = 'adam',\n",
        "              loss='binary_crossentropy',\n",
        "              metrics=['accuracy'])\n",
        "\n",
        "epochs=20\n",
        "\n",
        "history = model.fit(partial_X_train,\n",
        "                    partial_y_train,\n",
        "                    epochs=epochs,\n",
        "                    batch_size=512,\n",
        "                    validation_data=(X_val, y_val),\n",
        "                    verbose=1)"
      ],
      "execution_count": 206,
      "outputs": [
        {
          "output_type": "stream",
          "text": [
            "Epoch 1/20\n",
            "208/208 [==============================] - 3s 13ms/step - loss: 0.6927 - accuracy: 0.5082 - val_loss: 0.6927 - val_accuracy: 0.5056\n",
            "Epoch 2/20\n",
            "208/208 [==============================] - 2s 12ms/step - loss: 0.6927 - accuracy: 0.5094 - val_loss: 0.6927 - val_accuracy: 0.5060\n",
            "Epoch 3/20\n",
            "208/208 [==============================] - 2s 12ms/step - loss: 0.6927 - accuracy: 0.5086 - val_loss: 0.6927 - val_accuracy: 0.5059\n",
            "Epoch 4/20\n",
            "208/208 [==============================] - 2s 11ms/step - loss: 0.6927 - accuracy: 0.5085 - val_loss: 0.6928 - val_accuracy: 0.5053\n",
            "Epoch 5/20\n",
            "208/208 [==============================] - 2s 11ms/step - loss: 0.6927 - accuracy: 0.5080 - val_loss: 0.6927 - val_accuracy: 0.5078\n",
            "Epoch 6/20\n",
            "208/208 [==============================] - 2s 12ms/step - loss: 0.6927 - accuracy: 0.5072 - val_loss: 0.6928 - val_accuracy: 0.5034\n",
            "Epoch 7/20\n",
            "208/208 [==============================] - 2s 12ms/step - loss: 0.6927 - accuracy: 0.5092 - val_loss: 0.6927 - val_accuracy: 0.5059\n",
            "Epoch 8/20\n",
            "208/208 [==============================] - 2s 11ms/step - loss: 0.6927 - accuracy: 0.5071 - val_loss: 0.6927 - val_accuracy: 0.5062\n",
            "Epoch 9/20\n",
            "208/208 [==============================] - 2s 12ms/step - loss: 0.6927 - accuracy: 0.5079 - val_loss: 0.6927 - val_accuracy: 0.5065\n",
            "Epoch 10/20\n",
            "208/208 [==============================] - 2s 11ms/step - loss: 0.6927 - accuracy: 0.5092 - val_loss: 0.6927 - val_accuracy: 0.5087\n",
            "Epoch 11/20\n",
            "208/208 [==============================] - 2s 12ms/step - loss: 0.6927 - accuracy: 0.5089 - val_loss: 0.6927 - val_accuracy: 0.5065\n",
            "Epoch 12/20\n",
            "208/208 [==============================] - 2s 12ms/step - loss: 0.6927 - accuracy: 0.5077 - val_loss: 0.6927 - val_accuracy: 0.5060\n",
            "Epoch 13/20\n",
            "208/208 [==============================] - 2s 11ms/step - loss: 0.6927 - accuracy: 0.5083 - val_loss: 0.6927 - val_accuracy: 0.5059\n",
            "Epoch 14/20\n",
            "208/208 [==============================] - 2s 11ms/step - loss: 0.6927 - accuracy: 0.5078 - val_loss: 0.6927 - val_accuracy: 0.5065\n",
            "Epoch 15/20\n",
            "208/208 [==============================] - 2s 12ms/step - loss: 0.6926 - accuracy: 0.5086 - val_loss: 0.6927 - val_accuracy: 0.5090\n",
            "Epoch 16/20\n",
            "208/208 [==============================] - 2s 11ms/step - loss: 0.6927 - accuracy: 0.5081 - val_loss: 0.6928 - val_accuracy: 0.5062\n",
            "Epoch 17/20\n",
            "208/208 [==============================] - 2s 12ms/step - loss: 0.6927 - accuracy: 0.5087 - val_loss: 0.6927 - val_accuracy: 0.5062\n",
            "Epoch 18/20\n",
            "208/208 [==============================] - 2s 11ms/step - loss: 0.6926 - accuracy: 0.5101 - val_loss: 0.6928 - val_accuracy: 0.5064\n",
            "Epoch 19/20\n",
            "208/208 [==============================] - 2s 11ms/step - loss: 0.6926 - accuracy: 0.5091 - val_loss: 0.6927 - val_accuracy: 0.5068\n",
            "Epoch 20/20\n",
            "208/208 [==============================] - 2s 12ms/step - loss: 0.6927 - accuracy: 0.5077 - val_loss: 0.6927 - val_accuracy: 0.5085\n"
          ],
          "name": "stdout"
        }
      ]
    },
    {
      "cell_type": "code",
      "metadata": {
        "colab": {
          "base_uri": "https://localhost:8080/"
        },
        "id": "FzPz73_4SSNt",
        "outputId": "b0fee95a-37fa-4dbb-b4d1-c3a021fc28e0"
      },
      "source": [
        "results = model.evaluate(X_test,  y_test, verbose=2)\n",
        "\n",
        "print(results)"
      ],
      "execution_count": 208,
      "outputs": [
        {
          "output_type": "stream",
          "text": [
            "1537/1537 - 2s - loss: 0.6927 - accuracy: 0.5070\n",
            "[0.6926872730255127, 0.5070285201072693]\n"
          ],
          "name": "stdout"
        }
      ]
    },
    {
      "cell_type": "markdown",
      "metadata": {
        "id": "_unxEgBhI4IT"
      },
      "source": [
        "CNN"
      ]
    },
    {
      "cell_type": "code",
      "metadata": {
        "colab": {
          "base_uri": "https://localhost:8080/"
        },
        "id": "5fWaCVFMNIPS",
        "outputId": "6ee2fd23-ba15-40e2-8dcb-0a71f075d3e3"
      },
      "source": [
        "vocab_size = 146182  # 어휘 사전의 크기입니다(10개의 단어)\n",
        "word_vector_dim = 4   # 단어 하나를 표현하는 임베딩 벡터의 차원 수입니다. \n",
        "\n",
        "model = keras.Sequential()\n",
        "model.add(keras.layers.Embedding(vocab_size, word_vector_dim, input_shape=(None,)))\n",
        "model.add(keras.layers.Conv1D(16, 7, activation='relu'))\n",
        "model.add(keras.layers.MaxPooling1D(5))\n",
        "model.add(keras.layers.Conv1D(16, 7, activation='relu'))\n",
        "model.add(keras.layers.GlobalMaxPooling1D())\n",
        "model.add(keras.layers.Dense(8, activation='relu'))\n",
        "model.add(keras.layers.Dense(1, activation='sigmoid'))  # 최종 출력은 긍정/부정을 나타내는 1dim 입니다.\n",
        "\n",
        "model.summary()"
      ],
      "execution_count": 209,
      "outputs": [
        {
          "output_type": "stream",
          "text": [
            "Model: \"sequential_18\"\n",
            "_________________________________________________________________\n",
            "Layer (type)                 Output Shape              Param #   \n",
            "=================================================================\n",
            "embedding_31 (Embedding)     (None, None, 4)           584728    \n",
            "_________________________________________________________________\n",
            "conv1d_11 (Conv1D)           (None, None, 16)          464       \n",
            "_________________________________________________________________\n",
            "max_pooling1d_3 (MaxPooling1 (None, None, 16)          0         \n",
            "_________________________________________________________________\n",
            "conv1d_12 (Conv1D)           (None, None, 16)          1808      \n",
            "_________________________________________________________________\n",
            "global_max_pooling1d_6 (Glob (None, 16)                0         \n",
            "_________________________________________________________________\n",
            "dense_32 (Dense)             (None, 8)                 136       \n",
            "_________________________________________________________________\n",
            "dense_33 (Dense)             (None, 1)                 9         \n",
            "=================================================================\n",
            "Total params: 587,145\n",
            "Trainable params: 587,145\n",
            "Non-trainable params: 0\n",
            "_________________________________________________________________\n"
          ],
          "name": "stdout"
        }
      ]
    },
    {
      "cell_type": "code",
      "metadata": {
        "colab": {
          "base_uri": "https://localhost:8080/"
        },
        "id": "F43Av-VYNOLj",
        "outputId": "e9b3da19-1f39-41e2-a7a7-3355cc31adb3"
      },
      "source": [
        "model.compile(optimizer = 'adam',\n",
        "              loss='binary_crossentropy',\n",
        "              metrics=['accuracy'])\n",
        "\n",
        "epochs=20\n",
        "\n",
        "history = model.fit(partial_X_train,\n",
        "                    partial_y_train,\n",
        "                    epochs=epochs,\n",
        "                    batch_size=512,\n",
        "                    validation_data=(X_val, y_val),\n",
        "                    verbose=1)"
      ],
      "execution_count": 210,
      "outputs": [
        {
          "output_type": "stream",
          "text": [
            "Epoch 1/20\n",
            "208/208 [==============================] - 3s 12ms/step - loss: 0.6930 - accuracy: 0.5050 - val_loss: 0.6929 - val_accuracy: 0.5002\n",
            "Epoch 2/20\n",
            "208/208 [==============================] - 3s 12ms/step - loss: 0.6928 - accuracy: 0.5055 - val_loss: 0.6928 - val_accuracy: 0.5092\n",
            "Epoch 3/20\n",
            "208/208 [==============================] - 3s 12ms/step - loss: 0.6928 - accuracy: 0.5071 - val_loss: 0.6928 - val_accuracy: 0.5002\n",
            "Epoch 4/20\n",
            "208/208 [==============================] - 3s 12ms/step - loss: 0.6928 - accuracy: 0.5033 - val_loss: 0.6927 - val_accuracy: 0.5074\n",
            "Epoch 5/20\n",
            "208/208 [==============================] - 3s 12ms/step - loss: 0.6928 - accuracy: 0.5059 - val_loss: 0.6927 - val_accuracy: 0.5109\n",
            "Epoch 6/20\n",
            "208/208 [==============================] - 2s 12ms/step - loss: 0.6928 - accuracy: 0.5068 - val_loss: 0.6927 - val_accuracy: 0.5110\n",
            "Epoch 7/20\n",
            "208/208 [==============================] - 2s 12ms/step - loss: 0.6928 - accuracy: 0.5058 - val_loss: 0.6927 - val_accuracy: 0.5109\n",
            "Epoch 8/20\n",
            "208/208 [==============================] - 2s 12ms/step - loss: 0.6928 - accuracy: 0.5069 - val_loss: 0.6927 - val_accuracy: 0.5061\n",
            "Epoch 9/20\n",
            "208/208 [==============================] - 2s 12ms/step - loss: 0.6928 - accuracy: 0.5070 - val_loss: 0.6927 - val_accuracy: 0.5110\n",
            "Epoch 10/20\n",
            "208/208 [==============================] - 3s 12ms/step - loss: 0.6927 - accuracy: 0.5063 - val_loss: 0.6928 - val_accuracy: 0.5081\n",
            "Epoch 11/20\n",
            "208/208 [==============================] - 3s 12ms/step - loss: 0.6927 - accuracy: 0.5066 - val_loss: 0.6927 - val_accuracy: 0.5109\n",
            "Epoch 12/20\n",
            "208/208 [==============================] - 2s 11ms/step - loss: 0.6927 - accuracy: 0.5070 - val_loss: 0.6927 - val_accuracy: 0.5109\n",
            "Epoch 13/20\n",
            "208/208 [==============================] - 3s 12ms/step - loss: 0.6927 - accuracy: 0.5080 - val_loss: 0.6927 - val_accuracy: 0.5026\n",
            "Epoch 14/20\n",
            "208/208 [==============================] - 2s 11ms/step - loss: 0.6927 - accuracy: 0.5078 - val_loss: 0.6929 - val_accuracy: 0.5045\n",
            "Epoch 15/20\n",
            "208/208 [==============================] - 2s 11ms/step - loss: 0.6927 - accuracy: 0.5079 - val_loss: 0.6927 - val_accuracy: 0.5053\n",
            "Epoch 16/20\n",
            "208/208 [==============================] - 2s 12ms/step - loss: 0.6927 - accuracy: 0.5066 - val_loss: 0.6927 - val_accuracy: 0.5113\n",
            "Epoch 17/20\n",
            "208/208 [==============================] - 3s 12ms/step - loss: 0.6927 - accuracy: 0.5073 - val_loss: 0.6927 - val_accuracy: 0.5112\n",
            "Epoch 18/20\n",
            "208/208 [==============================] - 2s 11ms/step - loss: 0.6927 - accuracy: 0.5071 - val_loss: 0.6927 - val_accuracy: 0.5102\n",
            "Epoch 19/20\n",
            "208/208 [==============================] - 2s 11ms/step - loss: 0.6927 - accuracy: 0.5078 - val_loss: 0.6927 - val_accuracy: 0.5102\n",
            "Epoch 20/20\n",
            "208/208 [==============================] - 2s 11ms/step - loss: 0.6927 - accuracy: 0.5081 - val_loss: 0.6927 - val_accuracy: 0.5092\n"
          ],
          "name": "stdout"
        }
      ]
    },
    {
      "cell_type": "code",
      "metadata": {
        "colab": {
          "base_uri": "https://localhost:8080/"
        },
        "id": "kU796ksjSchV",
        "outputId": "bbb62704-f155-4846-e3e8-62045fca10bb"
      },
      "source": [
        "results = model.evaluate(X_test,  y_test, verbose=2)\n",
        "\n",
        "print(results)"
      ],
      "execution_count": 211,
      "outputs": [
        {
          "output_type": "stream",
          "text": [
            "1537/1537 - 2s - loss: 0.6927 - accuracy: 0.5076\n",
            "[0.6926714777946472, 0.5076388120651245]\n"
          ],
          "name": "stdout"
        }
      ]
    },
    {
      "cell_type": "code",
      "metadata": {
        "colab": {
          "base_uri": "https://localhost:8080/"
        },
        "id": "yy8etfN7OA7R",
        "outputId": "f81af19c-7cd1-492f-b4dd-f6d3c451acc2"
      },
      "source": [
        "history_dict = history.history\n",
        "print(history_dict.keys()) # epoch에 따른 그래프를 그려볼 수 있는 항목들"
      ],
      "execution_count": 212,
      "outputs": [
        {
          "output_type": "stream",
          "text": [
            "dict_keys(['loss', 'accuracy', 'val_loss', 'val_accuracy'])\n"
          ],
          "name": "stdout"
        }
      ]
    },
    {
      "cell_type": "code",
      "metadata": {
        "colab": {
          "base_uri": "https://localhost:8080/",
          "height": 295
        },
        "id": "cDazNoZAO5ST",
        "outputId": "3b5cd601-1067-4bf8-affd-c4a08bb888f3"
      },
      "source": [
        "import matplotlib.pyplot as plt\n",
        "\n",
        "acc = history_dict['accuracy']\n",
        "val_acc = history_dict['val_accuracy']\n",
        "loss = history_dict['loss']\n",
        "val_loss = history_dict['val_loss']\n",
        "\n",
        "epochs = range(1, len(acc) + 1)\n",
        "\n",
        "# \"bo\"는 \"파란색 점\"입니다\n",
        "plt.plot(epochs, loss, 'bo', label='Training loss')\n",
        "# b는 \"파란 실선\"입니다\n",
        "plt.plot(epochs, val_loss, 'b', label='Validation loss')\n",
        "plt.title('Training and validation loss')\n",
        "plt.xlabel('Epochs')\n",
        "plt.ylabel('Loss')\n",
        "plt.legend()\n",
        "\n",
        "plt.show()"
      ],
      "execution_count": 213,
      "outputs": [
        {
          "output_type": "display_data",
          "data": {
            "image/png": "[encoded data removed]",
            "text/plain": [
              "<Figure size 432x288 with 1 Axes>"
            ]
          },
          "metadata": {
            "tags": [],
            "needs_background": "light"
          }
        }
      ]
    },
    {
      "cell_type": "code",
      "metadata": {
        "colab": {
          "base_uri": "https://localhost:8080/",
          "height": 295
        },
        "id": "PeomvJZaTSln",
        "outputId": "12df300a-6714-4108-f882-20fe9e9d752e"
      },
      "source": [
        "plt.clf()   # 그림을 초기화합니다\n",
        "\n",
        "plt.plot(epochs, acc, 'bo', label='Training acc')\n",
        "plt.plot(epochs, val_acc, 'b', label='Validation acc')\n",
        "plt.title('Training and validation accuracy')\n",
        "plt.xlabel('Epochs')\n",
        "plt.ylabel('Accuracy')\n",
        "plt.legend()\n",
        "\n",
        "plt.show()"
      ],
      "execution_count": 214,
      "outputs": [
        {
          "output_type": "display_data",
          "data": {
            "image/png": "[encoded data removed]",
            "text/plain": [
              "<Figure size 432x288 with 1 Axes>"
            ]
          },
          "metadata": {
            "tags": [],
            "needs_background": "light"
          }
        }
      ]
    }
  ]
}