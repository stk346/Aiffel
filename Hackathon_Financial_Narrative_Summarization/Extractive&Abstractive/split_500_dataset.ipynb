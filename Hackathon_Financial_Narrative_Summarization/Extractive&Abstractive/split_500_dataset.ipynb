{
  "nbformat": 4,
  "nbformat_minor": 0,
  "metadata": {
    "colab": {
      "name": "Copy of training_500data_bo.ipynb",
      "provenance": [],
      "collapsed_sections": [],
      "machine_shape": "hm"
    },
    "kernelspec": {
      "name": "python3",
      "display_name": "Python 3"
    },
    "language_info": {
      "name": "python"
    },
    "accelerator": "GPU"
  },
  "cells": [
    {
      "cell_type": "code",
      "execution_count": null,
      "metadata": {
        "colab": {
          "base_uri": "https://localhost:8080/"
        },
        "id": "X043iCqfyGLk",
        "outputId": "dec32f1a-c394-47a1-bfcd-8d447e4c52d2"
      },
      "outputs": [
        {
          "output_type": "stream",
          "name": "stdout",
          "text": [
            "Mounted at /content/drive\n"
          ]
        }
      ],
      "source": [
        "from google.colab import drive\n",
        "drive.mount('/content/drive')"
      ]
    },
    {
      "cell_type": "code",
      "source": [
        "import pandas as pd"
      ],
      "metadata": {
        "id": "WnQgwBnGyGwx"
      },
      "execution_count": null,
      "outputs": []
    },
    {
      "cell_type": "markdown",
      "source": [
        "### Data"
      ],
      "metadata": {
        "id": "rG8TYsqpeLEU"
      }
    },
    {
      "cell_type": "code",
      "source": [
        "train_path = '/content/drive/MyDrive/Colab Notebooks/Aiffel_Hackathon/Data/train_data_newlabel.csv'\n",
        "test_path = '/content/drive/MyDrive/Colab Notebooks/Aiffel_Hackathon/Data/test_data_newlabel.csv'\n",
        "\n",
        "train_df = pd.read_csv(train_path, index_col=0)\n",
        "test_df = pd.read_csv(test_path, index_col=0)"
      ],
      "metadata": {
        "id": "3hci9N9KyGy7"
      },
      "execution_count": null,
      "outputs": []
    },
    {
      "cell_type": "code",
      "source": [
        "train_df.head()"
      ],
      "metadata": {
        "colab": {
          "base_uri": "https://localhost:8080/",
          "height": 293
        },
        "id": "RPBw33YIyG0x",
        "outputId": "d5d43980-865b-49b9-fa73-4bb5979df5d5"
      },
      "execution_count": null,
      "outputs": [
        {
          "output_type": "execute_result",
          "data": {
            "text/html": [
              "<div>\n",
              "<style scoped>\n",
              "    .dataframe tbody tr th:only-of-type {\n",
              "        vertical-align: middle;\n",
              "    }\n",
              "\n",
              "    .dataframe tbody tr th {\n",
              "        vertical-align: top;\n",
              "    }\n",
              "\n",
              "    .dataframe thead th {\n",
              "        text-align: right;\n",
              "    }\n",
              "</style>\n",
              "<table border=\"1\" class=\"dataframe\">\n",
              "  <thead>\n",
              "    <tr style=\"text-align: right;\">\n",
              "      <th></th>\n",
              "      <th>Original_Filename</th>\n",
              "      <th>Full_Text</th>\n",
              "      <th>FT_Len</th>\n",
              "      <th>Summary</th>\n",
              "      <th>Summary_Len</th>\n",
              "    </tr>\n",
              "  </thead>\n",
              "  <tbody>\n",
              "    <tr>\n",
              "      <th>0</th>\n",
              "      <td>15783_819108_2</td>\n",
              "      <td>chief executive officer’s statement the beron...</td>\n",
              "      <td>1147.0</td>\n",
              "      <td>chief executive officer’s statement the berong...</td>\n",
              "      <td>305.0</td>\n",
              "    </tr>\n",
              "    <tr>\n",
              "      <th>1</th>\n",
              "      <td>15782_819091_2</td>\n",
              "      <td>chief executive officer’s statement the compa...</td>\n",
              "      <td>882.0</td>\n",
              "      <td>chief executive officer’s statement the compan...</td>\n",
              "      <td>319.0</td>\n",
              "    </tr>\n",
              "    <tr>\n",
              "      <th>2</th>\n",
              "      <td>15787_819176_2</td>\n",
              "      <td>page 6 toledo mining corporation plc annual r...</td>\n",
              "      <td>2203.0</td>\n",
              "      <td>page 6 toledo mining corporation plc annual re...</td>\n",
              "      <td>413.0</td>\n",
              "    </tr>\n",
              "    <tr>\n",
              "      <th>3</th>\n",
              "      <td>15819_820208_2</td>\n",
              "      <td>review 2005 chief executive’s statement tomki...</td>\n",
              "      <td>505.0</td>\n",
              "      <td>review 2005 chief executive’s statement tomkin...</td>\n",
              "      <td>352.0</td>\n",
              "    </tr>\n",
              "    <tr>\n",
              "      <th>4</th>\n",
              "      <td>15842_821001_2</td>\n",
              "      <td>7 plc annual report and financial statements ...</td>\n",
              "      <td>1948.0</td>\n",
              "      <td>7 plc annual report and financial statements 2...</td>\n",
              "      <td>352.0</td>\n",
              "    </tr>\n",
              "  </tbody>\n",
              "</table>\n",
              "</div>"
            ],
            "text/plain": [
              "  Original_Filename  ... Summary_Len\n",
              "0    15783_819108_2  ...       305.0\n",
              "1    15782_819091_2  ...       319.0\n",
              "2    15787_819176_2  ...       413.0\n",
              "3    15819_820208_2  ...       352.0\n",
              "4    15842_821001_2  ...       352.0\n",
              "\n",
              "[5 rows x 5 columns]"
            ]
          },
          "metadata": {},
          "execution_count": 6
        }
      ]
    },
    {
      "cell_type": "code",
      "source": [
        "train_df.shape"
      ],
      "metadata": {
        "colab": {
          "base_uri": "https://localhost:8080/"
        },
        "id": "avj8JfecLMUB",
        "outputId": "140445ad-1ecb-4629-ef55-7601b07b9622"
      },
      "execution_count": null,
      "outputs": [
        {
          "output_type": "execute_result",
          "data": {
            "text/plain": [
              "(2717, 5)"
            ]
          },
          "metadata": {},
          "execution_count": 7
        }
      ]
    },
    {
      "cell_type": "code",
      "source": [
        "print(train_df['FT_Len'].describe())\n",
        "train_df['FT_Len'].hist(bins=20)"
      ],
      "metadata": {
        "colab": {
          "base_uri": "https://localhost:8080/",
          "height": 439
        },
        "id": "3kQeZDmYJeEy",
        "outputId": "83174b3f-2fd7-4c29-9dea-f5c5c4be8a9b"
      },
      "execution_count": null,
      "outputs": [
        {
          "output_type": "stream",
          "name": "stdout",
          "text": [
            "count    2717.000000\n",
            "mean     1814.677218\n",
            "std       831.547957\n",
            "min       501.000000\n",
            "25%      1163.000000\n",
            "50%      1662.000000\n",
            "75%      2333.000000\n",
            "max      3999.000000\n",
            "Name: FT_Len, dtype: float64\n"
          ]
        },
        {
          "output_type": "execute_result",
          "data": {
            "text/plain": [
              "<matplotlib.axes._subplots.AxesSubplot at 0x7fe564b7a910>"
            ]
          },
          "metadata": {},
          "execution_count": 8
        },
        {
          "output_type": "display_data",
          "data": {
            "image/png": "[encoded data removed]",
            "text/plain": [
              "<Figure size 432x288 with 1 Axes>"
            ]
          },
          "metadata": {
            "needs_background": "light"
          }
        }
      ]
    },
    {
      "cell_type": "code",
      "source": [
        "sen_500 = []\n",
        "sen_1000 = []\n",
        "\n",
        "sample_full = train_df['Full_Text'][1]\n",
        "sen_500.append(sample_full[:500].split())\n",
        "sen_1000.append(sample_full[500:1000].split())\n",
        "\n",
        "print(sen_500[:5])\n",
        "print(sen_1000[:10])"
      ],
      "metadata": {
        "colab": {
          "base_uri": "https://localhost:8080/"
        },
        "id": "NNUSlurrOgWs",
        "outputId": "9068bd24-c75f-4a01-a4f8-881496fbbe77"
      },
      "execution_count": null,
      "outputs": [
        {
          "output_type": "stream",
          "name": "stdout",
          "text": [
            "[['chief', 'executive', 'officer’s', 'statement', 'the', 'company', 'is', 'setting', 'new', 'standards', 'in', 'responsible', 'mining', 'in', 'the', 'philippines', 'and', ',', 'pleasingly', ',', 'is', 'being', 'recognised', 'as', 'a', 'role', 'model', 'for', 'other', 'mining', 'operations', '.', 'place', 'included', 'the', 'coastal', 'stockpile', 'and', 'drying', 'areas', ',', 'the', 'off-shore', 'ship', 'anchorage', 'area', 'and', 'the', '50', 'kilometre', 'approach', 'channel', 'lined', 'with', 'eight', 'navigational', 'buoys', ',', 'and', 'mine', 'site', 'environmental', 'structures', '.', 'for', 'the', 'coming', 'year', ',', 'permanent', 'facilities', 'to', 'be', 'constructed', 'include', 'heavy', 'equipment', 'workshop']]\n",
            "[['s', ',', 'accommodation', 'facilities', ',', 'offices', ',', 'assay', 'laboratory', ',', 'and', 'the', 'dangla', 'road', '.', 'still', 'under', 'evaluation', 'are', 'the', 'trestle', 'pylon', 'conveyor', 'and', 'ship', 'loader', ',', 'and', 'development', 'of', 'dangla', 'bay', 'as', 'an', 'additional', 'stockpile', 'area', 'and', 'barge', 'loading', 'facility', '.', 'operationally', ',', 'mining', 'activities', 'have', 'been', 'concentrated', 'on', 'the', 'trial', 'metallurgical', 'sample', 'areas', 'defined', 'to', 'best', 'test', 'the', 'various', 'ore', 'types', 'in', 'customers’', 'plants', '.', 'whilst', 'these', 'areas', 'were', 'not', 'the', 'highest', 'grade', 'areas', ',', 'the', 'mining', 'practices', 'and', 'grade', 'samplin']]\n"
          ]
        }
      ]
    },
    {
      "cell_type": "code",
      "source": [
        "join_sam1 = ' '.join(sen_500[0])\n",
        "print(join_sam1)"
      ],
      "metadata": {
        "colab": {
          "base_uri": "https://localhost:8080/"
        },
        "id": "f85qP16FPakc",
        "outputId": "8ee24c3b-f16c-47eb-e67f-b7d69d120d40"
      },
      "execution_count": null,
      "outputs": [
        {
          "output_type": "stream",
          "name": "stdout",
          "text": [
            "chief executive officer’s statement the company is setting new standards in responsible mining in the philippines and , pleasingly , is being recognised as a role model for other mining operations . place included the coastal stockpile and drying areas , the off-shore ship anchorage area and the 50 kilometre approach channel lined with eight navigational buoys , and mine site environmental structures . for the coming year , permanent facilities to be constructed include heavy equipment workshop\n"
          ]
        }
      ]
    },
    {
      "cell_type": "code",
      "source": [
        "# 5번째 문장은 길이가 2000이 넘는다.\n",
        "\n",
        "print(sen_2500[0])\n",
        "print(sen_2500[1])\n",
        "print(sen_2500[2])\n",
        "print(sen_2500[3])\n",
        "print(sen_2500[4])"
      ],
      "metadata": {
        "colab": {
          "base_uri": "https://localhost:8080/",
          "height": 239
        },
        "id": "BPXL3pj3vmji",
        "outputId": "63375be4-0bbb-47a5-afe3-cf03c2cf389e"
      },
      "execution_count": null,
      "outputs": [
        {
          "output_type": "error",
          "ename": "NameError",
          "evalue": "ignored",
          "traceback": [
            "\u001b[0;31m---------------------------------------------------------------------------\u001b[0m",
            "\u001b[0;31mNameError\u001b[0m                                 Traceback (most recent call last)",
            "\u001b[0;32m<ipython-input-14-0d83693d2cc0>\u001b[0m in \u001b[0;36m<module>\u001b[0;34m()\u001b[0m\n\u001b[1;32m      1\u001b[0m \u001b[0;31m# 5번째 문장은 길이가 2000이 넘는다.\u001b[0m\u001b[0;34m\u001b[0m\u001b[0;34m\u001b[0m\u001b[0;34m\u001b[0m\u001b[0m\n\u001b[1;32m      2\u001b[0m \u001b[0;34m\u001b[0m\u001b[0m\n\u001b[0;32m----> 3\u001b[0;31m \u001b[0mprint\u001b[0m\u001b[0;34m(\u001b[0m\u001b[0msen_2500\u001b[0m\u001b[0;34m[\u001b[0m\u001b[0;36m0\u001b[0m\u001b[0;34m]\u001b[0m\u001b[0;34m)\u001b[0m\u001b[0;34m\u001b[0m\u001b[0;34m\u001b[0m\u001b[0m\n\u001b[0m\u001b[1;32m      4\u001b[0m \u001b[0mprint\u001b[0m\u001b[0;34m(\u001b[0m\u001b[0msen_2500\u001b[0m\u001b[0;34m[\u001b[0m\u001b[0;36m1\u001b[0m\u001b[0;34m]\u001b[0m\u001b[0;34m)\u001b[0m\u001b[0;34m\u001b[0m\u001b[0;34m\u001b[0m\u001b[0m\n\u001b[1;32m      5\u001b[0m \u001b[0mprint\u001b[0m\u001b[0;34m(\u001b[0m\u001b[0msen_2500\u001b[0m\u001b[0;34m[\u001b[0m\u001b[0;36m2\u001b[0m\u001b[0;34m]\u001b[0m\u001b[0;34m)\u001b[0m\u001b[0;34m\u001b[0m\u001b[0;34m\u001b[0m\u001b[0m\n",
            "\u001b[0;31mNameError\u001b[0m: name 'sen_2500' is not defined"
          ]
        }
      ]
    },
    {
      "cell_type": "markdown",
      "source": [
        "### Test"
      ],
      "metadata": {
        "id": "lErdDKNXL68U"
      }
    },
    {
      "cell_type": "code",
      "source": [
        "sen_500 = []\n",
        "sen_1000 = []\n",
        "sen_1500 = []\n",
        "sen_2000 = []\n",
        "sen_2500 = []\n",
        "sen_3000 = []\n",
        "sen_3500 = []\n",
        "sen_4000 = []\n",
        "\n",
        "for doc in test_df['Full_Text']: \n",
        "  sen = doc.split() # split doc by word\n",
        "  \n",
        "\n",
        "  s500 = ' '.join(sen[:500])\n",
        "  sen_500.append(s500) \n",
        "\n",
        "  s1000 = ' '.join(sen[500:1000])\n",
        "  sen_1000.append(s1000)\n",
        "\n",
        "  s1500 = ' '.join(sen[1000:1500])\n",
        "  sen_1500.append(s1500)\n",
        "\n",
        "  s2000 = ' '.join(sen[1500:2000])\n",
        "  sen_2000.append(s2000)\n",
        "\n",
        "  s2500 = ' '.join(sen[2000:2500])\n",
        "  sen_2500.append(s2500)\n",
        "\n",
        "  s3000 = ' '.join(sen[2500:3000])\n",
        "  sen_3000.append(s3000)\n",
        "\n",
        "  s3500 = ' '.join(sen[3000:3500])\n",
        "  sen_3500.append(s3500)\n",
        "\n",
        "  s4000 = ' '.join(sen[3500:4000])\n",
        "  sen_4000.append(s4000)\n"
      ],
      "metadata": {
        "id": "vcduZraoLxxs"
      },
      "execution_count": null,
      "outputs": []
    },
    {
      "cell_type": "code",
      "source": [
        "print(len(sen_500))\n",
        "print(len(sen_1500))\n",
        "print(len(sen_3000))"
      ],
      "metadata": {
        "id": "erY6vyjaLxH0",
        "colab": {
          "base_uri": "https://localhost:8080/"
        },
        "outputId": "ad13e38c-4e59-4607-f8e7-99add91a3d7d"
      },
      "execution_count": null,
      "outputs": [
        {
          "output_type": "stream",
          "name": "stdout",
          "text": [
            "328\n",
            "328\n",
            "328\n"
          ]
        }
      ]
    },
    {
      "cell_type": "code",
      "source": [
        "test_df_500 = pd.DataFrame({'Original_Filename': [], 'sen_500':[], 'sen_1000':[],\n",
        "                            'sen_1500':[], 'sen_2000':[], 'sen_2500':[], 'sen_3000':[],\n",
        "                            'sen_3500':[], 'sen_4000':[], 'Full_Text':[], 'Summary':[]})\n",
        "test_df_500.head()"
      ],
      "metadata": {
        "id": "4R2hEV648kcn",
        "colab": {
          "base_uri": "https://localhost:8080/",
          "height": 69
        },
        "outputId": "6335ff54-6b43-44e3-ae82-b00b093d9d73"
      },
      "execution_count": null,
      "outputs": [
        {
          "output_type": "execute_result",
          "data": {
            "text/html": [
              "<div>\n",
              "<style scoped>\n",
              "    .dataframe tbody tr th:only-of-type {\n",
              "        vertical-align: middle;\n",
              "    }\n",
              "\n",
              "    .dataframe tbody tr th {\n",
              "        vertical-align: top;\n",
              "    }\n",
              "\n",
              "    .dataframe thead th {\n",
              "        text-align: right;\n",
              "    }\n",
              "</style>\n",
              "<table border=\"1\" class=\"dataframe\">\n",
              "  <thead>\n",
              "    <tr style=\"text-align: right;\">\n",
              "      <th></th>\n",
              "      <th>Original_Filename</th>\n",
              "      <th>sen_500</th>\n",
              "      <th>sen_1000</th>\n",
              "      <th>sen_1500</th>\n",
              "      <th>sen_2000</th>\n",
              "      <th>sen_2500</th>\n",
              "      <th>sen_3000</th>\n",
              "      <th>sen_3500</th>\n",
              "      <th>sen_4000</th>\n",
              "      <th>Full_Text</th>\n",
              "      <th>Summary</th>\n",
              "    </tr>\n",
              "  </thead>\n",
              "  <tbody>\n",
              "  </tbody>\n",
              "</table>\n",
              "</div>"
            ],
            "text/plain": [
              "Empty DataFrame\n",
              "Columns: [Original_Filename, sen_500, sen_1000, sen_1500, sen_2000, sen_2500, sen_3000, sen_3500, sen_4000, Full_Text, Summary]\n",
              "Index: []"
            ]
          },
          "metadata": {},
          "execution_count": 30
        }
      ]
    },
    {
      "cell_type": "code",
      "source": [
        "test_df1 = test_df[['Original_Filename', 'Full_Text']].copy()\n",
        "test_df1.head()"
      ],
      "metadata": {
        "id": "7GJTy2iH8kT3",
        "colab": {
          "base_uri": "https://localhost:8080/",
          "height": 206
        },
        "outputId": "b8e2e299-ae3d-40fd-ac08-9cc161958d66"
      },
      "execution_count": null,
      "outputs": [
        {
          "output_type": "execute_result",
          "data": {
            "text/html": [
              "<div>\n",
              "<style scoped>\n",
              "    .dataframe tbody tr th:only-of-type {\n",
              "        vertical-align: middle;\n",
              "    }\n",
              "\n",
              "    .dataframe tbody tr th {\n",
              "        vertical-align: top;\n",
              "    }\n",
              "\n",
              "    .dataframe thead th {\n",
              "        text-align: right;\n",
              "    }\n",
              "</style>\n",
              "<table border=\"1\" class=\"dataframe\">\n",
              "  <thead>\n",
              "    <tr style=\"text-align: right;\">\n",
              "      <th></th>\n",
              "      <th>Original_Filename</th>\n",
              "      <th>Full_Text</th>\n",
              "    </tr>\n",
              "  </thead>\n",
              "  <tbody>\n",
              "    <tr>\n",
              "      <th>0</th>\n",
              "      <td>30777_904926_2</td>\n",
              "      <td>25695 19 march 2018 3 29 pm proof 7 02 s . c ...</td>\n",
              "    </tr>\n",
              "    <tr>\n",
              "      <th>1</th>\n",
              "      <td>30783_905079_2</td>\n",
              "      <td>strategic report chief executive’s statement ...</td>\n",
              "    </tr>\n",
              "    <tr>\n",
              "      <th>2</th>\n",
              "      <td>30785_905133_2</td>\n",
              "      <td>summary our dedication to providing our clien...</td>\n",
              "    </tr>\n",
              "    <tr>\n",
              "      <th>3</th>\n",
              "      <td>30785_905134_2</td>\n",
              "      <td>q a with ceo , david miles 92 percent of tena...</td>\n",
              "    </tr>\n",
              "    <tr>\n",
              "      <th>4</th>\n",
              "      <td>30813_906032_2</td>\n",
              "      <td>strategic report domino’s pizza group plc ann...</td>\n",
              "    </tr>\n",
              "  </tbody>\n",
              "</table>\n",
              "</div>"
            ],
            "text/plain": [
              "  Original_Filename                                          Full_Text\n",
              "0    30777_904926_2   25695 19 march 2018 3 29 pm proof 7 02 s . c ...\n",
              "1    30783_905079_2   strategic report chief executive’s statement ...\n",
              "2    30785_905133_2   summary our dedication to providing our clien...\n",
              "3    30785_905134_2   q a with ceo , david miles 92 percent of tena...\n",
              "4    30813_906032_2   strategic report domino’s pizza group plc ann..."
            ]
          },
          "metadata": {},
          "execution_count": 31
        }
      ]
    },
    {
      "cell_type": "code",
      "source": [
        "test_df_500['sen_500'] = sen_500\n",
        "test_df_500['sen_1000'] = sen_1000\n",
        "test_df_500['sen_1500'] = sen_1500\n",
        "test_df_500['sen_2000'] = sen_2000\n",
        "test_df_500['sen_2500'] = sen_2500\n",
        "test_df_500['sen_3000'] = sen_3000\n",
        "test_df_500['sen_3500'] = sen_3500\n",
        "test_df_500['sen_4000'] = sen_4000\n",
        "test_df_500['Original_Filename'] = test_df['Original_Filename']\n",
        "test_df_500['Full_Text'] = test_df['Full_Text']\n",
        "test_df_500.head()"
      ],
      "metadata": {
        "id": "hVzvjezy8kPf",
        "colab": {
          "base_uri": "https://localhost:8080/",
          "height": 678
        },
        "outputId": "46804f00-5e08-41ae-dc41-ac5afc86656a"
      },
      "execution_count": null,
      "outputs": [
        {
          "output_type": "execute_result",
          "data": {
            "text/html": [
              "<div>\n",
              "<style scoped>\n",
              "    .dataframe tbody tr th:only-of-type {\n",
              "        vertical-align: middle;\n",
              "    }\n",
              "\n",
              "    .dataframe tbody tr th {\n",
              "        vertical-align: top;\n",
              "    }\n",
              "\n",
              "    .dataframe thead th {\n",
              "        text-align: right;\n",
              "    }\n",
              "</style>\n",
              "<table border=\"1\" class=\"dataframe\">\n",
              "  <thead>\n",
              "    <tr style=\"text-align: right;\">\n",
              "      <th></th>\n",
              "      <th>Original_Filename</th>\n",
              "      <th>sen_500</th>\n",
              "      <th>sen_1000</th>\n",
              "      <th>sen_1500</th>\n",
              "      <th>sen_2000</th>\n",
              "      <th>sen_2500</th>\n",
              "      <th>sen_3000</th>\n",
              "      <th>sen_3500</th>\n",
              "      <th>sen_4000</th>\n",
              "      <th>Full_Text</th>\n",
              "      <th>Summary</th>\n",
              "    </tr>\n",
              "  </thead>\n",
              "  <tbody>\n",
              "    <tr>\n",
              "      <th>0</th>\n",
              "      <td>30777_904926_2</td>\n",
              "      <td>25695 19 march 2018 3 29 pm proof 7 02 s . c ....</td>\n",
              "      <td>business saw growth of 14 percent with the maj...</td>\n",
              "      <td>. strategic progress the group’s strategy enco...</td>\n",
              "      <td>from contract wins on automotive and aerospace...</td>\n",
              "      <td></td>\n",
              "      <td></td>\n",
              "      <td></td>\n",
              "      <td></td>\n",
              "      <td>25695 19 march 2018 3 29 pm proof 7 02 s . c ...</td>\n",
              "      <td>NaN</td>\n",
              "    </tr>\n",
              "    <tr>\n",
              "      <th>1</th>\n",
              "      <td>30783_905079_2</td>\n",
              "      <td>strategic report chief executive’s statement 1...</td>\n",
              "      <td>to manage and report on these exposures more e...</td>\n",
              "      <td>stage in its journey . your commitment and vis...</td>\n",
              "      <td></td>\n",
              "      <td></td>\n",
              "      <td></td>\n",
              "      <td></td>\n",
              "      <td></td>\n",
              "      <td>strategic report chief executive’s statement ...</td>\n",
              "      <td>NaN</td>\n",
              "    </tr>\n",
              "    <tr>\n",
              "      <th>2</th>\n",
              "      <td>30785_905133_2</td>\n",
              "      <td>summary our dedication to providing our client...</td>\n",
              "      <td>the last two years . this is due to a number o...</td>\n",
              "      <td>see interest from local authorities to procure...</td>\n",
              "      <td></td>\n",
              "      <td></td>\n",
              "      <td></td>\n",
              "      <td></td>\n",
              "      <td></td>\n",
              "      <td>summary our dedication to providing our clien...</td>\n",
              "      <td>NaN</td>\n",
              "    </tr>\n",
              "    <tr>\n",
              "      <th>3</th>\n",
              "      <td>30785_905134_2</td>\n",
              "      <td>q a with ceo , david miles 92 percent of tenan...</td>\n",
              "      <td>an area where we can afford to stand still and...</td>\n",
              "      <td></td>\n",
              "      <td></td>\n",
              "      <td></td>\n",
              "      <td></td>\n",
              "      <td></td>\n",
              "      <td></td>\n",
              "      <td>q a with ceo , david miles 92 percent of tena...</td>\n",
              "      <td>NaN</td>\n",
              "    </tr>\n",
              "    <tr>\n",
              "      <th>4</th>\n",
              "      <td>30813_906032_2</td>\n",
              "      <td>strategic report domino’s pizza group plc annu...</td>\n",
              "      <td>accounts 2017 domino’s pizza group plc 09 whil...</td>\n",
              "      <td>, cooks your pizza fresh in a local store , an...</td>\n",
              "      <td>visibility of the brand , improve customer ser...</td>\n",
              "      <td>expect to complete roll-out by q3 of 2018. a f...</td>\n",
              "      <td>economy and by our own actions , particularly ...</td>\n",
              "      <td>achieves weekly unit sales of over pound 37,00...</td>\n",
              "      <td>ticket size to absorb the cost of delivery . w...</td>\n",
              "      <td>strategic report domino’s pizza group plc ann...</td>\n",
              "      <td>NaN</td>\n",
              "    </tr>\n",
              "  </tbody>\n",
              "</table>\n",
              "</div>"
            ],
            "text/plain": [
              "  Original_Filename  ... Summary\n",
              "0    30777_904926_2  ...     NaN\n",
              "1    30783_905079_2  ...     NaN\n",
              "2    30785_905133_2  ...     NaN\n",
              "3    30785_905134_2  ...     NaN\n",
              "4    30813_906032_2  ...     NaN\n",
              "\n",
              "[5 rows x 11 columns]"
            ]
          },
          "metadata": {},
          "execution_count": 32
        }
      ]
    },
    {
      "cell_type": "code",
      "source": [
        "df1 = pd.DataFrame({\"Original_Filename\": test_df_500['Original_Filename'],\n",
        "                                        \"temp_col\": test_df_500['sen_500']})\n",
        "\n",
        "df2 = pd.DataFrame({\"Original_Filename\": test_df_500['Original_Filename'],\n",
        "                                        \"temp_col\": test_df_500['sen_1000']})\n",
        "\n",
        "df3 = pd.DataFrame({\"Original_Filename\": test_df_500['Original_Filename'],\n",
        "                                        \"temp_col\": test_df_500['sen_1500']})\n",
        "\n",
        "df4 = pd.DataFrame({\"Original_Filename\": test_df_500['Original_Filename'],\n",
        "                                        \"temp_col\": test_df_500['sen_2000']})\n",
        "\n",
        "df5 = pd.DataFrame({\"Original_Filename\": test_df_500['Original_Filename'],\n",
        "                                        \"temp_col\": test_df_500['sen_2500']})\n",
        "\n",
        "df6 = pd.DataFrame({\"Original_Filename\": test_df_500['Original_Filename'],\n",
        "                                        \"temp_col\": test_df_500['sen_3000']})\n",
        "\n",
        "df7 = pd.DataFrame({\"Original_Filename\": test_df_500['Original_Filename'],\n",
        "                                        \"temp_col\": test_df_500['sen_3500']})\n",
        "\n",
        "df8 = pd.DataFrame({\"Original_Filename\": test_df_500['Original_Filename'],\n",
        "                                        \"temp_col\": test_df_500['sen_4000']})"
      ],
      "metadata": {
        "id": "gyvPNAoepLCg"
      },
      "execution_count": null,
      "outputs": []
    },
    {
      "cell_type": "code",
      "source": [
        "# # 이거 반복하면 concat됨\n",
        "\n",
        "# total_df = []\n",
        "# total_df = pd.concat([df1, df2])\n",
        "# total_df = pd.concat([total_df, df3])\n",
        "# total_df = pd.concat([total_df, df4])\n",
        "# total_df = pd.concat([total_df, df5])\n",
        "# total_df = pd.concat([total_df, df6])\n",
        "# total_df = pd.concat([total_df, df7])\n",
        "# total_df = pd.concat([total_df, df8])"
      ],
      "metadata": {
        "id": "xn6sMZuQsYNH"
      },
      "execution_count": null,
      "outputs": []
    },
    {
      "cell_type": "code",
      "source": [
        "## 잘못된 예\n",
        "\n",
        "# total_df = pd.concat([df1, df2])\n",
        "\n",
        "# for i in range(3,9):\n",
        "#   total_df = pd.concat([total_df, df)"
      ],
      "metadata": {
        "id": "fmo0PG-Euib5"
      },
      "execution_count": 1,
      "outputs": []
    },
    {
      "cell_type": "code",
      "source": [
        "total_df"
      ],
      "metadata": {
        "colab": {
          "base_uri": "https://localhost:8080/",
          "height": 424
        },
        "id": "7e1LC3NOsYTf",
        "outputId": "4315ce34-9317-4bf3-b9c2-3aeb3dc8a1fa"
      },
      "execution_count": null,
      "outputs": [
        {
          "output_type": "execute_result",
          "data": {
            "text/html": [
              "<div>\n",
              "<style scoped>\n",
              "    .dataframe tbody tr th:only-of-type {\n",
              "        vertical-align: middle;\n",
              "    }\n",
              "\n",
              "    .dataframe tbody tr th {\n",
              "        vertical-align: top;\n",
              "    }\n",
              "\n",
              "    .dataframe thead th {\n",
              "        text-align: right;\n",
              "    }\n",
              "</style>\n",
              "<table border=\"1\" class=\"dataframe\">\n",
              "  <thead>\n",
              "    <tr style=\"text-align: right;\">\n",
              "      <th></th>\n",
              "      <th>Original_Filename</th>\n",
              "      <th>temp_col</th>\n",
              "    </tr>\n",
              "  </thead>\n",
              "  <tbody>\n",
              "    <tr>\n",
              "      <th>0</th>\n",
              "      <td>30777_904926_2</td>\n",
              "      <td>25695 19 march 2018 3 29 pm proof 7 02 s . c ....</td>\n",
              "    </tr>\n",
              "    <tr>\n",
              "      <th>1</th>\n",
              "      <td>30783_905079_2</td>\n",
              "      <td>strategic report chief executive’s statement 1...</td>\n",
              "    </tr>\n",
              "    <tr>\n",
              "      <th>2</th>\n",
              "      <td>30785_905133_2</td>\n",
              "      <td>summary our dedication to providing our client...</td>\n",
              "    </tr>\n",
              "    <tr>\n",
              "      <th>3</th>\n",
              "      <td>30785_905134_2</td>\n",
              "      <td>q a with ceo , david miles 92 percent of tenan...</td>\n",
              "    </tr>\n",
              "    <tr>\n",
              "      <th>4</th>\n",
              "      <td>30813_906032_2</td>\n",
              "      <td>strategic report domino’s pizza group plc annu...</td>\n",
              "    </tr>\n",
              "    <tr>\n",
              "      <th>...</th>\n",
              "      <td>...</td>\n",
              "      <td>...</td>\n",
              "    </tr>\n",
              "    <tr>\n",
              "      <th>323</th>\n",
              "      <td>32825_968328_2</td>\n",
              "      <td>human trafficking within our operations and su...</td>\n",
              "    </tr>\n",
              "    <tr>\n",
              "      <th>324</th>\n",
              "      <td>32874_969646_2</td>\n",
              "      <td>these challenging times . christopher mcdonald...</td>\n",
              "    </tr>\n",
              "    <tr>\n",
              "      <th>325</th>\n",
              "      <td>32926_970385_2</td>\n",
              "      <td>, which has been greatly enhanced by the addit...</td>\n",
              "    </tr>\n",
              "    <tr>\n",
              "      <th>326</th>\n",
              "      <td>32966_971103_2</td>\n",
              "      <td>of the 2014 peak , but expected to increase wi...</td>\n",
              "    </tr>\n",
              "    <tr>\n",
              "      <th>327</th>\n",
              "      <td>33090_162245_2</td>\n",
              "      <td>chief executive outperformed national benchmar...</td>\n",
              "    </tr>\n",
              "  </tbody>\n",
              "</table>\n",
              "<p>1312 rows × 2 columns</p>\n",
              "</div>"
            ],
            "text/plain": [
              "    Original_Filename                                           temp_col\n",
              "0      30777_904926_2  25695 19 march 2018 3 29 pm proof 7 02 s . c ....\n",
              "1      30783_905079_2  strategic report chief executive’s statement 1...\n",
              "2      30785_905133_2  summary our dedication to providing our client...\n",
              "3      30785_905134_2  q a with ceo , david miles 92 percent of tenan...\n",
              "4      30813_906032_2  strategic report domino’s pizza group plc annu...\n",
              "..                ...                                                ...\n",
              "323    32825_968328_2  human trafficking within our operations and su...\n",
              "324    32874_969646_2  these challenging times . christopher mcdonald...\n",
              "325    32926_970385_2  , which has been greatly enhanced by the addit...\n",
              "326    32966_971103_2  of the 2014 peak , but expected to increase wi...\n",
              "327    33090_162245_2  chief executive outperformed national benchmar...\n",
              "\n",
              "[1312 rows x 2 columns]"
            ]
          },
          "metadata": {},
          "execution_count": 58
        }
      ]
    },
    {
      "cell_type": "code",
      "source": [
        "len(test_df_500)"
      ],
      "metadata": {
        "id": "V8_1Fbr68kJo",
        "colab": {
          "base_uri": "https://localhost:8080/"
        },
        "outputId": "b96055d1-9ffb-4848-8500-50dc6a38b9a3"
      },
      "execution_count": null,
      "outputs": [
        {
          "output_type": "execute_result",
          "data": {
            "text/plain": [
              "328"
            ]
          },
          "metadata": {},
          "execution_count": 33
        }
      ]
    },
    {
      "cell_type": "code",
      "source": [
        "len(test_df_500['sen_2000'][60].split())"
      ],
      "metadata": {
        "colab": {
          "base_uri": "https://localhost:8080/"
        },
        "id": "joaZjWCid0ib",
        "outputId": "cc01a61c-41af-4934-870e-36d4f0dbc15c"
      },
      "execution_count": null,
      "outputs": [
        {
          "output_type": "execute_result",
          "data": {
            "text/plain": [
              "500"
            ]
          },
          "metadata": {},
          "execution_count": 34
        }
      ]
    },
    {
      "cell_type": "code",
      "source": [
        "test_df_500.to_csv('/content/drive/MyDrive/Colab Notebooks/Aiffel_Hackathon/Data/test_data_500.csv')"
      ],
      "metadata": {
        "id": "--RhF3Wu8kC_"
      },
      "execution_count": null,
      "outputs": []
    },
    {
      "cell_type": "markdown",
      "source": [
        ""
      ],
      "metadata": {
        "id": "rSEaQqhieGke"
      }
    },
    {
      "cell_type": "markdown",
      "source": [
        "### Train "
      ],
      "metadata": {
        "id": "-fuY_gZ9eGmt"
      }
    },
    {
      "cell_type": "code",
      "source": [
        "sen_500 = []\n",
        "sen_1000 = []\n",
        "sen_1500 = []\n",
        "sen_2000 = []\n",
        "sen_2500 = []\n",
        "sen_3000 = []\n",
        "sen_3500 = []\n",
        "sen_4000 = []\n",
        "\n",
        "for doc in train_df['Full_Text']: \n",
        "  sen = doc.split() # split doc by word\n",
        "\n",
        "  s500 = ' '.join(sen[:500])\n",
        "  sen_500.append(s500) \n",
        "\n",
        "  s1000 = ' '.join(sen[500:1000])\n",
        "  sen_1000.append(s1000)\n",
        "\n",
        "  s1500 = ' '.join(sen[1000:1500])\n",
        "  sen_1500.append(s1500)\n",
        "\n",
        "  s2000 = ' '.join(sen[1500:2000])\n",
        "  sen_2000.append(s2000)\n",
        "\n",
        "  s2500 = ' '.join(sen[2000:2500])\n",
        "  sen_2500.append(s2500)\n",
        "\n",
        "  s3000 = ' '.join(sen[2500:3000])\n",
        "  sen_3000.append(s3000)\n",
        "\n",
        "  s3500 = ' '.join(sen[3000:3500])\n",
        "  sen_3500.append(s3500)\n",
        "\n",
        "  s4000 = ' '.join(sen[3500:4000])\n",
        "  sen_4000.append(s4000)\n"
      ],
      "metadata": {
        "id": "i8OEatYSehyh"
      },
      "execution_count": null,
      "outputs": []
    },
    {
      "cell_type": "code",
      "source": [
        "print(len(sen_500))\n",
        "print(len(sen_1500))\n",
        "print(len(sen_3000))"
      ],
      "metadata": {
        "id": "RSnngG4vyG4i",
        "colab": {
          "base_uri": "https://localhost:8080/"
        },
        "outputId": "910dca26-5ef5-41a2-ce89-3d0f1d1b6683"
      },
      "execution_count": null,
      "outputs": [
        {
          "output_type": "stream",
          "name": "stdout",
          "text": [
            "2717\n",
            "2717\n",
            "2717\n"
          ]
        }
      ]
    },
    {
      "cell_type": "code",
      "source": [
        "train_df_500 = pd.DataFrame({'Original_Filename': [], 'Full_Text':[], 'Summary':[]})"
      ],
      "metadata": {
        "id": "RIC_EMRfiPQW"
      },
      "execution_count": null,
      "outputs": []
    },
    {
      "cell_type": "code",
      "source": [
        "train_df_500['Full_Text'] = sen_500 + sen_1000 + sen_1500 + sen_2000 + sen_2500 + sen_3000 + sen_3500 + sen_4000\n",
        "train_df_500['Original_Filename'] = train_df['Original_Filename']\n",
        "print(len(train_df_500))\n",
        "train_df_500.head()"
      ],
      "metadata": {
        "id": "wlCaNjZG8h1Z",
        "colab": {
          "base_uri": "https://localhost:8080/",
          "height": 223
        },
        "outputId": "308cc3b5-60eb-4ca6-f8af-fe3d150e577c"
      },
      "execution_count": null,
      "outputs": [
        {
          "output_type": "stream",
          "name": "stdout",
          "text": [
            "21736\n"
          ]
        },
        {
          "output_type": "execute_result",
          "data": {
            "text/html": [
              "<div>\n",
              "<style scoped>\n",
              "    .dataframe tbody tr th:only-of-type {\n",
              "        vertical-align: middle;\n",
              "    }\n",
              "\n",
              "    .dataframe tbody tr th {\n",
              "        vertical-align: top;\n",
              "    }\n",
              "\n",
              "    .dataframe thead th {\n",
              "        text-align: right;\n",
              "    }\n",
              "</style>\n",
              "<table border=\"1\" class=\"dataframe\">\n",
              "  <thead>\n",
              "    <tr style=\"text-align: right;\">\n",
              "      <th></th>\n",
              "      <th>Original_Filename</th>\n",
              "      <th>Full_Text</th>\n",
              "      <th>Summary</th>\n",
              "    </tr>\n",
              "  </thead>\n",
              "  <tbody>\n",
              "    <tr>\n",
              "      <th>0</th>\n",
              "      <td>15783_819108_2</td>\n",
              "      <td>chief executive officer’s statement the berong...</td>\n",
              "      <td>NaN</td>\n",
              "    </tr>\n",
              "    <tr>\n",
              "      <th>1</th>\n",
              "      <td>15782_819091_2</td>\n",
              "      <td>chief executive officer’s statement the compan...</td>\n",
              "      <td>NaN</td>\n",
              "    </tr>\n",
              "    <tr>\n",
              "      <th>2</th>\n",
              "      <td>15787_819176_2</td>\n",
              "      <td>page 6 toledo mining corporation plc annual re...</td>\n",
              "      <td>NaN</td>\n",
              "    </tr>\n",
              "    <tr>\n",
              "      <th>3</th>\n",
              "      <td>15819_820208_2</td>\n",
              "      <td>review 2005 chief executive’s statement tomkin...</td>\n",
              "      <td>NaN</td>\n",
              "    </tr>\n",
              "    <tr>\n",
              "      <th>4</th>\n",
              "      <td>15842_821001_2</td>\n",
              "      <td>7 plc annual report and financial statements 2...</td>\n",
              "      <td>NaN</td>\n",
              "    </tr>\n",
              "  </tbody>\n",
              "</table>\n",
              "</div>"
            ],
            "text/plain": [
              "  Original_Filename                                          Full_Text  Summary\n",
              "0    15783_819108_2  chief executive officer’s statement the berong...      NaN\n",
              "1    15782_819091_2  chief executive officer’s statement the compan...      NaN\n",
              "2    15787_819176_2  page 6 toledo mining corporation plc annual re...      NaN\n",
              "3    15819_820208_2  review 2005 chief executive’s statement tomkin...      NaN\n",
              "4    15842_821001_2  7 plc annual report and financial statements 2...      NaN"
            ]
          },
          "metadata": {},
          "execution_count": 48
        }
      ]
    },
    {
      "cell_type": "code",
      "source": [
        "8 * 2717"
      ],
      "metadata": {
        "id": "67k4JuFHyG6h",
        "colab": {
          "base_uri": "https://localhost:8080/"
        },
        "outputId": "12c8217c-6db9-4220-aa04-9e08672166d9"
      },
      "execution_count": null,
      "outputs": [
        {
          "output_type": "execute_result",
          "data": {
            "text/plain": [
              "21736"
            ]
          },
          "metadata": {},
          "execution_count": 49
        }
      ]
    },
    {
      "cell_type": "code",
      "source": [
        "for i, doc in enumerate(train_df_500['Full_Text']): \n",
        "  split = doc.split()\n",
        "  train_df_500.loc[i, 'FT_Len'] = len(split) "
      ],
      "metadata": {
        "colab": {
          "base_uri": "https://localhost:8080/"
        },
        "id": "dPAREakwka03",
        "outputId": "510c240d-3dab-4eaa-f9b5-2b46f8a3dfa4"
      },
      "execution_count": null,
      "outputs": [
        {
          "output_type": "execute_result",
          "data": {
            "text/plain": [
              "0"
            ]
          },
          "metadata": {},
          "execution_count": 55
        }
      ]
    }
  ]
}