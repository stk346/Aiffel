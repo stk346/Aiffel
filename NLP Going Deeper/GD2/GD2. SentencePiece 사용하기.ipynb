{
 "cells": [
  {
   "cell_type": "markdown",
   "id": "covered-motion",
   "metadata": {},
   "source": [
    "# GoingDeeper2. SentencePiece 사용하기"
   ]
  },
  {
   "cell_type": "code",
   "execution_count": 1,
   "id": "final-colors",
   "metadata": {},
   "outputs": [],
   "source": [
    "import os\n",
    "import numpy as np\n",
    "import pandas as pd\n",
    "\n",
    "import tensorflow as tf\n",
    "import matplotlib.pyplot as plt\n",
    "import sentencepiece as spm\n",
    "from konlpy.tag import Mecab\n",
    "from tensorflow import keras"
   ]
  },
  {
   "cell_type": "code",
   "execution_count": 2,
   "id": "dangerous-norman",
   "metadata": {},
   "outputs": [],
   "source": [
    "## SentencePiece 모델 학습\n",
    "\n",
    "def tokenize(corpus):  # corpus: Tokenized Sentence's List\n",
    "    tokenizer = tf.keras.preprocessing.text.Tokenizer(filters='')\n",
    "    tokenizer.fit_on_texts(corpus)\n",
    "\n",
    "    tensor = tokenizer.texts_to_sequences(corpus)\n",
    "\n",
    "    tensor = tf.keras.preprocessing.sequence.pad_sequences(tensor, padding='post')\n",
    "\n",
    "    return tensor, tokenizer"
   ]
  },
  {
   "cell_type": "code",
   "execution_count": 3,
   "id": "further-chester",
   "metadata": {},
   "outputs": [
    {
     "name": "stdout",
     "output_type": "stream",
     "text": [
      "Data Size: 94123\n",
      "Example:\n",
      ">> 개인용 컴퓨터 사용의 상당 부분은 \"이것보다 뛰어날 수 있느냐?\"\n",
      ">> 북한의 핵무기 계획을 포기하도록 하려는 압력이 거세지고 있는 가운데, 일본과 북한의 외교관들이 외교 관계를 정상화하려는 회담을 재개했다.\n",
      ">> \"경호 로보트가 침입자나 화재를 탐지하기 위해서 개인적으로, 그리고 전문적으로 사용되고 있습니다.\"\n",
      ">> 수자원부 당국은 논란이 되고 있고, 막대한 비용이 드는 이 사업에 대해 내년에 건설을 시작할 계획이다.\n",
      ">> 또한 근력 운동은 활발하게 걷는 것이나 최소한 20분 동안 뛰는 것과 같은 유산소 활동에서 얻는 운동 효과를 심장과 폐에 주지 않기 때문에, 연구학자들은 근력 운동이 심장에 큰 영향을 미치는지 여부에 대해 논쟁을 해왔다.\n"
     ]
    }
   ],
   "source": [
    "import os\n",
    "path_to_file = os.getenv('HOME')+'/aiffel/sp_tokenizer/data/korean-english-park.train.ko'\n",
    "\n",
    "with open(path_to_file, \"r\") as f:\n",
    "    raw = f.read().splitlines()\n",
    "\n",
    "print(\"Data Size:\", len(raw))\n",
    "\n",
    "print(\"Example:\")\n",
    "for sen in raw[0:100][::20]: print(\">>\", sen)"
   ]
  },
  {
   "cell_type": "code",
   "execution_count": 4,
   "id": "compatible-string",
   "metadata": {},
   "outputs": [
    {
     "name": "stdout",
     "output_type": "stream",
     "text": [
      "문장의 최단 길이: 1\n",
      "문장의 최장 길이: 377\n",
      "문장의 평균 길이: 60\n"
     ]
    },
    {
     "data": {
      "image/png": "[encoded data removed]",
      "text/plain": [
       "<Figure size 432x288 with 1 Axes>"
      ]
     },
     "metadata": {
      "needs_background": "light"
     },
     "output_type": "display_data"
    }
   ],
   "source": [
    "min_len=999\n",
    "max_len=0\n",
    "sum_len=0\n",
    "\n",
    "for sen in raw:\n",
    "    length = len(sen)\n",
    "    if min_len > length: min_len = length\n",
    "    if max_len < length: max_len = length\n",
    "    sum_len += length\n",
    "    \n",
    "print(\"문장의 최단 길이:\", min_len)\n",
    "print(\"문장의 최장 길이:\", max_len)\n",
    "print(\"문장의 평균 길이:\", sum_len//len(raw))\n",
    "\n",
    "sentence_length = np.zeros((max_len), dtype=np.int)\n",
    "\n",
    "for sen in raw:\n",
    "    sentence_length[len(sen)-1]+=1\n",
    "    \n",
    "plt.bar(range(max_len), sentence_length, width=1.0)\n",
    "plt.title(\"Sentence Length Distribution\")\n",
    "plt.show()"
   ]
  },
  {
   "cell_type": "code",
   "execution_count": 5,
   "id": "modular-reasoning",
   "metadata": {},
   "outputs": [
    {
     "name": "stdout",
     "output_type": "stream",
     "text": [
      "’\n"
     ]
    }
   ],
   "source": [
    "def check_sentence_with_length(raw, length):\n",
    "    count=0\n",
    "    \n",
    "    for sen in raw:\n",
    "        if len(sen) == length:\n",
    "            print(sen)\n",
    "            count += 1\n",
    "            if count>100: return\n",
    "            \n",
    "check_sentence_with_length(raw,1)"
   ]
  },
  {
   "cell_type": "code",
   "execution_count": 6,
   "id": "quarterly-creature",
   "metadata": {},
   "outputs": [
    {
     "name": "stdout",
     "output_type": "stream",
     "text": [
      "Outlier index: 11\n",
      "Outlier index: 19\n",
      "Outlier index: 21\n"
     ]
    }
   ],
   "source": [
    "for idx, _sum in enumerate(sentence_length):\n",
    "    # 문장의 수가 1500을 초과하는 문장 길이를 추출합니다.\n",
    "    if _sum>1500:\n",
    "        print(\"Outlier index:\", idx+1)"
   ]
  },
  {
   "cell_type": "code",
   "execution_count": 7,
   "id": "nominated-hearing",
   "metadata": {},
   "outputs": [
    {
     "name": "stdout",
     "output_type": "stream",
     "text": [
      "Data Size: 77591\n",
      "문장의 최단 길이: 1\n",
      "문장의 최장 길이: 377\n",
      "문장의 평균 길이: 64\n"
     ]
    },
    {
     "data": {
      "image/png": "[encoded data removed]",
      "text/plain": [
       "<Figure size 432x288 with 1 Axes>"
      ]
     },
     "metadata": {
      "needs_background": "light"
     },
     "output_type": "display_data"
    }
   ],
   "source": [
    "min_len = 999\n",
    "max_len = 0\n",
    "sum_len = 0\n",
    "\n",
    "cleaned_corpus = list(set(raw))  # set를 사용해서 중복을 제거합니다.\n",
    "print(\"Data Size:\", len(cleaned_corpus))\n",
    "\n",
    "for sen in cleaned_corpus:\n",
    "    length = len(sen)\n",
    "    if min_len > length: min_len = length\n",
    "    if max_len < length: max_len = length\n",
    "    sum_len += length\n",
    "\n",
    "print(\"문장의 최단 길이:\", min_len)\n",
    "print(\"문장의 최장 길이:\", max_len)\n",
    "print(\"문장의 평균 길이:\", sum_len // len(cleaned_corpus))\n",
    "\n",
    "sentence_length = np.zeros((max_len), dtype=np.int)\n",
    "\n",
    "for sen in cleaned_corpus:   # 중복이 제거된 코퍼스 기준\n",
    "    sentence_length[len(sen)-1] += 1\n",
    "\n",
    "plt.bar(range(max_len), sentence_length, width=1.0)\n",
    "plt.title(\"Sentence Length Distribution\")\n",
    "plt.show()"
   ]
  },
  {
   "cell_type": "code",
   "execution_count": 8,
   "id": "native-strand",
   "metadata": {},
   "outputs": [
    {
     "data": {
      "image/png": "[encoded data removed]",
      "text/plain": [
       "<Figure size 432x288 with 1 Axes>"
      ]
     },
     "metadata": {
      "needs_background": "light"
     },
     "output_type": "display_data"
    }
   ],
   "source": [
    "max_len = 150\n",
    "min_len = 10\n",
    "\n",
    "# 길이 조건에 맞는 문장만 선택합니다.\n",
    "filtered_corpus = [s for s in cleaned_corpus if (len(s)<max_len)&(len(s)>=min_len)]\n",
    "\n",
    "# 분포도를 다시 그려봅니다.\n",
    "sentence_length = np.zeros((max_len), dtype=np.int)\n",
    "\n",
    "for sen in filtered_corpus:\n",
    "    sentence_length[len(sen)-1]+=1\n",
    "    \n",
    "plt.bar(range(max_len), sentence_length, width=1.0)\n",
    "plt.title(\"Sentence Length Distribution\")\n",
    "plt.show()"
   ]
  },
  {
   "cell_type": "code",
   "execution_count": 9,
   "id": "frank-encounter",
   "metadata": {},
   "outputs": [
    {
     "name": "stdout",
     "output_type": "stream",
     "text": [
      "-rw-r--r-- 1 root root 376892 Sep 29 00:42 korean_spm.model\r\n",
      "-rw-r--r-- 1 root root 146388 Sep 29 00:42 korean_spm.vocab\r\n"
     ]
    }
   ],
   "source": [
    "import sentencepiece as spm\n",
    "import os\n",
    "temp_file = os.getenv('HOME')+'/aiffel/sp_tokenizer/data/korean-english-park.train.ko.temp'\n",
    "\n",
    "vocab_size = 8000\n",
    "\n",
    "with open(temp_file, 'w') as f:\n",
    "    for row in filtered_corpus:   # 이전 스텝에서 정제했던 corpus를 활용합니다.\n",
    "        f.write(str(row) + '\\n')\n",
    "\n",
    "spm.SentencePieceTrainer.Train(\n",
    "    '--input={} --model_prefix=korean_spm --vocab_size={}'.format(temp_file, vocab_size)    \n",
    ")\n",
    "#위 Train에서  --model_type = 'unigram'이 디폴트 적용되어 있습니다. --model_type = 'bpe' 로 옵션을 주어 변경할 수 있습니다.\n",
    "\n",
    "!ls -l korean_spm*"
   ]
  },
  {
   "cell_type": "code",
   "execution_count": 10,
   "id": "frozen-medline",
   "metadata": {},
   "outputs": [
    {
     "name": "stdout",
     "output_type": "stream",
     "text": [
      "[1244, 11, 306, 7, 3599, 11, 286, 38, 3]\n",
      "['▁아버지', '가', '방', '에', '들어', '가', '신', '다', '.']\n",
      "아버지가방에들어가신다.\n"
     ]
    }
   ],
   "source": [
    "s = spm.SentencePieceProcessor()\n",
    "s.Load('korean_spm.model')\n",
    "\n",
    "# SentencePiece를 활용한 sentence -> encoding\n",
    "tokensIDs = s.EncodeAsIds('아버지가방에들어가신다.')\n",
    "print(tokensIDs)\n",
    "\n",
    "# SentencePiece를 활용한 sentence -> encoded pieces\n",
    "print(s.SampleEncodeAsPieces('아버지가방에들어가신다.',1, 0.0))\n",
    "\n",
    "# SentencePiece를 활용한 encoding -> sentence 복원\n",
    "print(s.DecodeIds(tokensIDs))"
   ]
  },
  {
   "cell_type": "markdown",
   "id": "owned-tennis",
   "metadata": {},
   "source": [
    "## Tokenizer 함수 작성"
   ]
  },
  {
   "cell_type": "code",
   "execution_count": 11,
   "id": "english-transsexual",
   "metadata": {},
   "outputs": [],
   "source": [
    "def sp_tokenize(s, corpus):\n",
    "\n",
    "    tensor = []\n",
    "\n",
    "    for sen in corpus:\n",
    "        tensor.append(s.EncodeAsIds(sen))\n",
    "\n",
    "    with open(\"./korean_spm.vocab\", 'r') as f:\n",
    "        vocab = f.readlines()\n",
    "\n",
    "    word_index = {}\n",
    "    index_word = {}\n",
    "\n",
    "    for idx, line in enumerate(vocab):\n",
    "        word = line.split(\"\\t\")[0]\n",
    "\n",
    "        word_index.update({idx:word})\n",
    "        index_word.update({word:idx})\n",
    "\n",
    "    tensor = tf.keras.preprocessing.sequence.pad_sequences(tensor, padding='post')\n",
    "\n",
    "    return tensor, word_index, index_word"
   ]
  },
  {
   "cell_type": "code",
   "execution_count": 12,
   "id": "olympic-dependence",
   "metadata": {},
   "outputs": [
    {
     "name": "stdout",
     "output_type": "stream",
     "text": [
      "[[1949 5662    5    4 7975 1983    3    0    0    0    0    0    0    0]\n",
      " [ 107 1638  101    4    0  419   11    4   14    0 1969    3    3    3]]\n"
     ]
    }
   ],
   "source": [
    "#sp_tokenize(s, corpus) 사용예제\n",
    "\n",
    "my_corpus = ['나는 밥을 먹었습니다.', '그러나 여전히 ㅠㅠ 배가 고픕니다...']\n",
    "tensor, word_index, index_word = sp_tokenize(s, my_corpus)\n",
    "print(tensor)"
   ]
  },
  {
   "cell_type": "markdown",
   "id": "powered-natural",
   "metadata": {},
   "source": [
    "# 네이버 영화리뷰 감성분석에 SentencePiece 적용"
   ]
  },
  {
   "cell_type": "markdown",
   "id": "sticky-niger",
   "metadata": {},
   "source": [
    "네이버 영화 감정 분석 테스크는 한국어로 된 corpus를 다루어야 하므로 주로 KoNLPy에서 제공하는 형태소 분석기를 사용하여 텍스트를 전처리해서 RNN 모델을 분류기로 사용했을 것입니다.  \n",
    "이 문제에서 tokenizer를 SentencePiece로 바꾸어 다시 풀어본다면 성능이 좋아질까요?  \n",
    "* 네이버 영화리뷰 감정 분석 코퍼스에 SentencePiece 적용시킨 모델 학습\n",
    "* 학습된 모델로 sp_tokenize() 메소드 구현하기\n",
    "* 구현된 토크나이저를 적용하여 네이버 영화리뷰 감정 분석 모델을 재학습하기\n",
    "* KoNLPy 형태소 분석기를 사용한 모델과 성능 비교하기\n",
    "* (보너스) SentencePiece 모델의 model_type, vocab_size 등을 변경해 가면서 성능 개선 여부 확인하기\n",
    "* Word Vector는 활용이 가능하지 않을 것이니 활용할 필요가 없습니다."
   ]
  },
  {
   "cell_type": "markdown",
   "id": "designing-prediction",
   "metadata": {},
   "source": [
    "## 데이터 로드"
   ]
  },
  {
   "cell_type": "code",
   "execution_count": 13,
   "id": "bacterial-thailand",
   "metadata": {},
   "outputs": [],
   "source": [
    "train_data = '~/aiffel/NLPGD/GD2/ratings_train.txt'\n",
    "test_data =  '~/aiffel/NLPGD/GD2/ratings_test.txt'"
   ]
  },
  {
   "cell_type": "code",
   "execution_count": 14,
   "id": "hawaiian-instruction",
   "metadata": {},
   "outputs": [
    {
     "data": {
      "text/plain": [
       "'~/aiffel/NLPGD/GD2/ratings_train.txt'"
      ]
     },
     "execution_count": 14,
     "metadata": {},
     "output_type": "execute_result"
    }
   ],
   "source": [
    "train_data"
   ]
  },
  {
   "cell_type": "code",
   "execution_count": 15,
   "id": "divided-cambodia",
   "metadata": {},
   "outputs": [],
   "source": [
    "train_data = pd.read_table(train_data)\n",
    "test_data = pd.read_table(test_data)"
   ]
  },
  {
   "cell_type": "code",
   "execution_count": 16,
   "id": "modern-botswana",
   "metadata": {
    "scrolled": false
   },
   "outputs": [
    {
     "data": {
      "text/html": [
       "<div>\n",
       "<style scoped>\n",
       "    .dataframe tbody tr th:only-of-type {\n",
       "        vertical-align: middle;\n",
       "    }\n",
       "\n",
       "    .dataframe tbody tr th {\n",
       "        vertical-align: top;\n",
       "    }\n",
       "\n",
       "    .dataframe thead th {\n",
       "        text-align: right;\n",
       "    }\n",
       "</style>\n",
       "<table border=\"1\" class=\"dataframe\">\n",
       "  <thead>\n",
       "    <tr style=\"text-align: right;\">\n",
       "      <th></th>\n",
       "      <th>id</th>\n",
       "      <th>document</th>\n",
       "      <th>label</th>\n",
       "    </tr>\n",
       "  </thead>\n",
       "  <tbody>\n",
       "    <tr>\n",
       "      <th>0</th>\n",
       "      <td>9976970</td>\n",
       "      <td>아 더빙.. 진짜 짜증나네요 목소리</td>\n",
       "      <td>0</td>\n",
       "    </tr>\n",
       "    <tr>\n",
       "      <th>1</th>\n",
       "      <td>3819312</td>\n",
       "      <td>흠...포스터보고 초딩영화줄....오버연기조차 가볍지 않구나</td>\n",
       "      <td>1</td>\n",
       "    </tr>\n",
       "    <tr>\n",
       "      <th>2</th>\n",
       "      <td>10265843</td>\n",
       "      <td>너무재밓었다그래서보는것을추천한다</td>\n",
       "      <td>0</td>\n",
       "    </tr>\n",
       "    <tr>\n",
       "      <th>3</th>\n",
       "      <td>9045019</td>\n",
       "      <td>교도소 이야기구먼 ..솔직히 재미는 없다..평점 조정</td>\n",
       "      <td>0</td>\n",
       "    </tr>\n",
       "    <tr>\n",
       "      <th>4</th>\n",
       "      <td>6483659</td>\n",
       "      <td>사이몬페그의 익살스런 연기가 돋보였던 영화!스파이더맨에서 늙어보이기만 했던 커스틴 ...</td>\n",
       "      <td>1</td>\n",
       "    </tr>\n",
       "  </tbody>\n",
       "</table>\n",
       "</div>"
      ],
      "text/plain": [
       "         id                                           document  label\n",
       "0   9976970                                아 더빙.. 진짜 짜증나네요 목소리      0\n",
       "1   3819312                  흠...포스터보고 초딩영화줄....오버연기조차 가볍지 않구나      1\n",
       "2  10265843                                  너무재밓었다그래서보는것을추천한다      0\n",
       "3   9045019                      교도소 이야기구먼 ..솔직히 재미는 없다..평점 조정      0\n",
       "4   6483659  사이몬페그의 익살스런 연기가 돋보였던 영화!스파이더맨에서 늙어보이기만 했던 커스틴 ...      1"
      ]
     },
     "execution_count": 16,
     "metadata": {},
     "output_type": "execute_result"
    }
   ],
   "source": [
    "train_data.head()"
   ]
  },
  {
   "cell_type": "code",
   "execution_count": 17,
   "id": "basic-count",
   "metadata": {},
   "outputs": [
    {
     "data": {
      "text/html": [
       "<div>\n",
       "<style scoped>\n",
       "    .dataframe tbody tr th:only-of-type {\n",
       "        vertical-align: middle;\n",
       "    }\n",
       "\n",
       "    .dataframe tbody tr th {\n",
       "        vertical-align: top;\n",
       "    }\n",
       "\n",
       "    .dataframe thead th {\n",
       "        text-align: right;\n",
       "    }\n",
       "</style>\n",
       "<table border=\"1\" class=\"dataframe\">\n",
       "  <thead>\n",
       "    <tr style=\"text-align: right;\">\n",
       "      <th></th>\n",
       "      <th>id</th>\n",
       "      <th>document</th>\n",
       "      <th>label</th>\n",
       "    </tr>\n",
       "  </thead>\n",
       "  <tbody>\n",
       "    <tr>\n",
       "      <th>0</th>\n",
       "      <td>6270596</td>\n",
       "      <td>굳 ㅋ</td>\n",
       "      <td>1</td>\n",
       "    </tr>\n",
       "    <tr>\n",
       "      <th>1</th>\n",
       "      <td>9274899</td>\n",
       "      <td>GDNTOPCLASSINTHECLUB</td>\n",
       "      <td>0</td>\n",
       "    </tr>\n",
       "    <tr>\n",
       "      <th>2</th>\n",
       "      <td>8544678</td>\n",
       "      <td>뭐야 이 평점들은.... 나쁘진 않지만 10점 짜리는 더더욱 아니잖아</td>\n",
       "      <td>0</td>\n",
       "    </tr>\n",
       "    <tr>\n",
       "      <th>3</th>\n",
       "      <td>6825595</td>\n",
       "      <td>지루하지는 않은데 완전 막장임... 돈주고 보기에는....</td>\n",
       "      <td>0</td>\n",
       "    </tr>\n",
       "    <tr>\n",
       "      <th>4</th>\n",
       "      <td>6723715</td>\n",
       "      <td>3D만 아니었어도 별 다섯 개 줬을텐데.. 왜 3D로 나와서 제 심기를 불편하게 하죠??</td>\n",
       "      <td>0</td>\n",
       "    </tr>\n",
       "  </tbody>\n",
       "</table>\n",
       "</div>"
      ],
      "text/plain": [
       "        id                                           document  label\n",
       "0  6270596                                                굳 ㅋ      1\n",
       "1  9274899                               GDNTOPCLASSINTHECLUB      0\n",
       "2  8544678             뭐야 이 평점들은.... 나쁘진 않지만 10점 짜리는 더더욱 아니잖아      0\n",
       "3  6825595                   지루하지는 않은데 완전 막장임... 돈주고 보기에는....      0\n",
       "4  6723715  3D만 아니었어도 별 다섯 개 줬을텐데.. 왜 3D로 나와서 제 심기를 불편하게 하죠??      0"
      ]
     },
     "execution_count": 17,
     "metadata": {},
     "output_type": "execute_result"
    }
   ],
   "source": [
    "test_data.head()"
   ]
  },
  {
   "cell_type": "markdown",
   "id": "innovative-settle",
   "metadata": {},
   "source": [
    "## 데이터 전처리"
   ]
  },
  {
   "cell_type": "markdown",
   "id": "british-arthritis",
   "metadata": {},
   "source": [
    "### 중복, 결측치 제거"
   ]
  },
  {
   "cell_type": "code",
   "execution_count": 18,
   "id": "ambient-briefs",
   "metadata": {
    "scrolled": false
   },
   "outputs": [
    {
     "name": "stdout",
     "output_type": "stream",
     "text": [
      "id          0\n",
      "document    5\n",
      "label       0\n",
      "dtype: int64\n",
      "id          0\n",
      "document    3\n",
      "label       0\n",
      "dtype: int64\n"
     ]
    }
   ],
   "source": [
    "print(train_data.isnull().sum())\n",
    "print(test_data.isnull().sum())"
   ]
  },
  {
   "cell_type": "code",
   "execution_count": 19,
   "id": "indoor-testament",
   "metadata": {},
   "outputs": [
    {
     "name": "stdout",
     "output_type": "stream",
     "text": [
      "150000 50000\n"
     ]
    }
   ],
   "source": [
    "print(len(train_data), len(test_data))"
   ]
  },
  {
   "cell_type": "code",
   "execution_count": 20,
   "id": "included-session",
   "metadata": {},
   "outputs": [
    {
     "name": "stdout",
     "output_type": "stream",
     "text": [
      "id          150000\n",
      "document    146182\n",
      "label            2\n",
      "dtype: int64\n",
      "id          50000\n",
      "document    49157\n",
      "label           2\n",
      "dtype: int64\n"
     ]
    }
   ],
   "source": [
    "print(train_data.nunique())\n",
    "print(test_data.nunique())"
   ]
  },
  {
   "cell_type": "code",
   "execution_count": 21,
   "id": "valued-satellite",
   "metadata": {},
   "outputs": [],
   "source": [
    "train_data.drop_duplicates(subset=['document'], inplace=True) # 중복 제거\n",
    "test_data.drop_duplicates(subset=['document'], inplace=True) # 중복 제거"
   ]
  },
  {
   "cell_type": "code",
   "execution_count": 22,
   "id": "infinite-amendment",
   "metadata": {},
   "outputs": [
    {
     "data": {
      "text/html": [
       "<div>\n",
       "<style scoped>\n",
       "    .dataframe tbody tr th:only-of-type {\n",
       "        vertical-align: middle;\n",
       "    }\n",
       "\n",
       "    .dataframe tbody tr th {\n",
       "        vertical-align: top;\n",
       "    }\n",
       "\n",
       "    .dataframe thead th {\n",
       "        text-align: right;\n",
       "    }\n",
       "</style>\n",
       "<table border=\"1\" class=\"dataframe\">\n",
       "  <thead>\n",
       "    <tr style=\"text-align: right;\">\n",
       "      <th></th>\n",
       "      <th>id</th>\n",
       "      <th>document</th>\n",
       "      <th>label</th>\n",
       "    </tr>\n",
       "  </thead>\n",
       "  <tbody>\n",
       "    <tr>\n",
       "      <th>5746</th>\n",
       "      <td>402110</td>\n",
       "      <td>NaN</td>\n",
       "      <td>1</td>\n",
       "    </tr>\n",
       "  </tbody>\n",
       "</table>\n",
       "</div>"
      ],
      "text/plain": [
       "          id document  label\n",
       "5746  402110      NaN      1"
      ]
     },
     "execution_count": 22,
     "metadata": {},
     "output_type": "execute_result"
    }
   ],
   "source": [
    "train_data[train_data.document.isnull()]\n",
    "test_data[test_data.document.isnull()]"
   ]
  },
  {
   "cell_type": "code",
   "execution_count": 23,
   "id": "outside-gibson",
   "metadata": {},
   "outputs": [
    {
     "name": "stdout",
     "output_type": "stream",
     "text": [
      "False\n",
      "False\n"
     ]
    }
   ],
   "source": [
    "train_data = train_data.dropna(how = 'any') # Null 값이 존재하는 행 제거\n",
    "test_data = test_data.dropna(how = 'any') # Null 값이 존재하는 행 제거\n",
    "print(train_data.isnull().values.any())\n",
    "print(test_data.isnull().values.any())"
   ]
  },
  {
   "cell_type": "code",
   "execution_count": 24,
   "id": "loved-temperature",
   "metadata": {},
   "outputs": [
    {
     "name": "stdout",
     "output_type": "stream",
     "text": [
      "146182 49157\n"
     ]
    }
   ],
   "source": [
    "print(len(train_data), len(test_data))"
   ]
  },
  {
   "cell_type": "markdown",
   "id": "female-tyler",
   "metadata": {},
   "source": [
    "문장의 최대, 최소, 평균 길이를 구한 뒤 적정한 문장 길이를 선정합니다."
   ]
  },
  {
   "cell_type": "code",
   "execution_count": 25,
   "id": "turned-stephen",
   "metadata": {},
   "outputs": [
    {
     "name": "stdout",
     "output_type": "stream",
     "text": [
      "문장의 최단 길이: 1\n",
      "문장의 최장 길이: 146\n",
      "문장의 평균 길이: 35\n"
     ]
    },
    {
     "data": {
      "image/png": "[encoded data removed]",
      "text/plain": [
       "<Figure size 432x288 with 1 Axes>"
      ]
     },
     "metadata": {
      "needs_background": "light"
     },
     "output_type": "display_data"
    }
   ],
   "source": [
    "min_len=999\n",
    "max_len=0\n",
    "sum_len=0\n",
    "\n",
    "for sen in train_data['document']:\n",
    "    length = len(sen)\n",
    "    if min_len > length: min_len = length\n",
    "    if max_len < length: max_len = length\n",
    "    sum_len += length\n",
    "    \n",
    "print(\"문장의 최단 길이:\", min_len)\n",
    "print(\"문장의 최장 길이:\", max_len)\n",
    "print(\"문장의 평균 길이:\", sum_len//len(train_data['document']))\n",
    "\n",
    "sentence_length = np.zeros((max_len), dtype=np.int)\n",
    "\n",
    "for sen in train_data['document']:\n",
    "    sentence_length[len(sen)-1]+=1\n",
    "    \n",
    "plt.bar(range(max_len), sentence_length, width=1.0)\n",
    "plt.title(\"Sentence Length Distribution\")\n",
    "plt.show()"
   ]
  },
  {
   "cell_type": "code",
   "execution_count": 26,
   "id": "surrounded-giving",
   "metadata": {},
   "outputs": [
    {
     "name": "stdout",
     "output_type": "stream",
     "text": [
      "아\n",
      "잼\n",
      "1\n",
      "4\n",
      "굿\n",
      "짱\n",
      "휴\n",
      ".\n",
      "음\n",
      "?\n",
      "ㅎ\n",
      "ㅋ\n",
      "즐\n",
      "♥\n",
      "굳\n",
      "네\n",
      "ㅇ\n",
      "k\n",
      "ㅠ\n",
      "쒯\n",
      "♬\n",
      "토\n",
      "O\n",
      "똥\n",
      "z\n",
      "헐\n",
      "삼\n",
      "꽝\n",
      "!\n",
      "풉\n",
      "ㅅ\n",
      "왜\n",
      "ㄴ\n",
      "쉣\n",
      "봐\n",
      "뿌\n",
      "ㅜ\n",
      "♡\n",
      "ㅁ\n",
      "0\n",
      "ㅉ\n",
      "d\n",
      "흥\n",
      "乃\n",
      "찜\n",
      "귯\n",
      "린\n",
      "시\n",
      "ㅗ\n",
      "a\n",
      "c\n",
      "흠\n",
      "웅\n",
      "ㅣ\n",
      "오\n",
      "9\n",
      "쩜\n",
      "애\n",
      "헝\n",
      "쨩\n",
      "f\n",
      "움\n",
      "ㄳ\n",
      "업\n",
      "헉\n",
      "군\n",
      "b\n",
      ";\n",
      "g\n",
      "올\n",
      "걍\n",
      "허\n",
      "-\n",
      "쀍\n",
      "로\n",
      "ㄹ\n",
      "ㅂ\n",
      "갑\n",
      "즛\n",
      "킥\n",
      "함\n",
      "진\n",
      "ㅡ\n",
      "잠\n",
      "곧\n",
      "ㅍ\n",
      "h\n",
      "·\n",
      "캬\n",
      "ㅆ\n",
      ",\n",
      "풋\n",
      "ㄱ\n",
      "파\n",
      "ㄷ\n",
      "웩\n",
      "꺅\n",
      "욜\n",
      "ㅄ\n",
      "2\n",
      "핡\n"
     ]
    }
   ],
   "source": [
    "def check_sentence_with_length(train_data, length):\n",
    "    count=0\n",
    "    \n",
    "    for sen in train_data['document']:\n",
    "        if len(sen) == length:\n",
    "            print(sen)\n",
    "            count += 1\n",
    "            if count>100: return\n",
    "            \n",
    "check_sentence_with_length(train_data,1)"
   ]
  },
  {
   "cell_type": "code",
   "execution_count": 27,
   "id": "dense-vegetation",
   "metadata": {},
   "outputs": [
    {
     "name": "stdout",
     "output_type": "stream",
     "text": [
      "Outlier index: 12\n",
      "Outlier index: 13\n",
      "Outlier index: 14\n",
      "Outlier index: 15\n"
     ]
    }
   ],
   "source": [
    "for idx, _sum in enumerate(sentence_length):\n",
    "    # 문장의 수가 4000을 초과하는 문장 길이를 추출합니다.\n",
    "    if _sum>4000:\n",
    "        print(\"Outlier index:\", idx+1)"
   ]
  },
  {
   "cell_type": "code",
   "execution_count": 28,
   "id": "robust-throat",
   "metadata": {},
   "outputs": [
    {
     "name": "stdout",
     "output_type": "stream",
     "text": [
      "아햏햏 아햏햏 아햏햏.\n",
      "단연 최고라고 할수있지\n",
      "용가리 진짜짱짱맨이다ㅋ\n",
      "나름 괜찮은 작품입니다\n",
      "정말 실망 스러웟음..\n",
      "무술인이 왜 총을드나?\n",
      "너무너무 훈훈하네요^^\n",
      "현실은 꿈, 꿈은 현실\n",
      "답없네, 뭐하는건지..\n",
      "엔딩이 넘 슬퍼요 :(\n",
      "감동감동감동의 도가니탕\n",
      "정말 최고의 영화...\n",
      "진짜 짜증나는 영화..\n",
      "상당히 재밌게 봤습니다\n",
      "영상미가 역시 최고네요\n",
      "감독ㅡㅡ다신영화찍지마라\n",
      "이런 영화가 참 좋다.\n",
      "정말 광해와 비슷한가?\n",
      "더빙이 똥이야 ....\n",
      "잠을 청할 수 있었다.\n",
      "나오코 진짜 집중안된다\n",
      "샬라샬라 나오다즁자쥬아\n",
      "지루하다.. 지루해..\n",
      "사과해요, 나한테!!!\n",
      "소재가 굉장히 신선했다\n",
      "솔직히 산만 하기만했다\n",
      "OST가 좋은 영화!!\n",
      "기적은 이미 일어났다.\n",
      "답을 알려고 하지마라.\n",
      "평점은 믿지마셈 재밌음\n",
      "재미 드럽게 없다ㅋㅋㅋ\n",
      "자식을 그렇게 때리냐?\n",
      "감동적이였고 좋았습니다\n",
      "울컥하는 사회현실 ㅠㅠ\n",
      "등장인물들 모두 짱~~\n",
      "막장드라마가 따로없구만\n",
      "말 필요엄따~~~~진정\n",
      "꿀잼 영화 추억이다ㅜㅜ\n",
      "맞추자 ㅍ?차븟ㅇㄱ디시\n",
      "순수하고 아름답다 :)\n",
      "변태적 성욕 자기합리화\n",
      "흠....나름 갠찬네요\n",
      "걍 10점 이라길래..\n",
      "실력이 필요없는 상황.\n",
      "감동과 웃음을 한방에!\n",
      "이거야 이거 ㅋㅋㅋㅋㅋ\n",
      "성동일딸 시르다...참\n",
      "평점알바들을 위해 1점\n",
      "볼만합니다 강추!!ㅋㅋ\n",
      "이거말고 겨울왕국을봐라\n",
      "좋은니다..^.,^~~\n",
      "2.3 (10자 제한)\n",
      "아무도 안달았네..ㄷㄷ\n",
      "엉성하고 어설프고...\n",
      "그냥 보통으로 보았다.\n",
      "너무 슬픈영화..울음ㅠ\n",
      "으리는 개뿔 ㅡ,.ㅡ^\n",
      "처음 본 에로 영화..\n",
      "평점 조정을 위해...\n",
      "그냥 쓰레기지 쓰레기~\n",
      "쵝오네요 최고 대박영화\n",
      "유전무죄 무전유죄!!!\n",
      "의외의 꿀잼 이였습니다\n",
      "어차피 우승은 송민호~\n",
      "이 때부터가 쓰레기였지\n",
      "완전 찝찝한 영화...\n",
      "이상형이 바뀌었습니다.\n",
      "역시 산드라블록 누님!\n",
      "결국 엄마가 죽인거네?\n",
      "그냥 그저 별시리...\n",
      "추천할만한 경제영화였음\n",
      "제대로 알아야할 역사임\n",
      "일본판이더재미있음...\n",
      "역시 재미있군요 >ㅁ<\n",
      "아깝다 나의 1점도ㅡㅡ\n",
      "마음이 따뜻해지는 영화\n",
      "죽었다. 참 재미없다.\n",
      "최고, 정말 최고다,,\n",
      "공유 보려고 보는 영화\n",
      "재밌습니다. 꿀잼 ㅋㅋ\n",
      "조정래와 임권택의 만남\n",
      "간만에쓰레기영화보네요ㅋ\n",
      "너무재밌게 봤어요...\n",
      "의미가 뭘까...///\n",
      "이건 범죄 수준이다..\n",
      "박평식-뚜껑열린다ㅋㅋㅋ\n",
      "볼수록 재밌는 마의!!\n",
      "짱~ 오늘 티비로 봤음\n",
      "말없이 눈물이 뚝뚝..\n",
      "이렇게 유쾌할수가ㅋㅋㅋ\n",
      "완죤 지루하고 재미없네\n",
      "보다가 나가는 영화??\n",
      "에휴..........\n",
      "재미도 없구만...에효\n",
      "옥보단 3D보다 쓰레기\n",
      "반전이 꽤나 신선했다.\n",
      "허접허접허접허접허접허접\n",
      "독특한 유머. 재밌다.\n",
      "좀 식상한 스릴러영화~\n",
      "하하하핳하햐하핯하핳하하\n",
      "이영화 어디서 보나요?\n"
     ]
    }
   ],
   "source": [
    "check_sentence_with_length(train_data, 12)"
   ]
  },
  {
   "cell_type": "markdown",
   "id": "variable-press",
   "metadata": {},
   "source": [
    "문장의 최대 길이는 100, 최소 길이는 2로 지정하겠습니다."
   ]
  },
  {
   "cell_type": "code",
   "execution_count": 29,
   "id": "extreme-concord",
   "metadata": {},
   "outputs": [
    {
     "data": {
      "image/png": "[encoded data removed]",
      "text/plain": [
       "<Figure size 432x288 with 1 Axes>"
      ]
     },
     "metadata": {
      "needs_background": "light"
     },
     "output_type": "display_data"
    }
   ],
   "source": [
    "max_len = 100\n",
    "min_len = 2\n",
    "\n",
    "# 길이 조건에 맞는 문장만 선택합니다.\n",
    "filtered_corpus = [s for s in train_data['document'] if (len(s)<max_len)&(len(s)>=min_len)]\n",
    "\n",
    "# 분포도를 다시 그려봅니다.\n",
    "sentence_length = np.zeros((max_len), dtype=np.int)\n",
    "\n",
    "for sen in filtered_corpus:\n",
    "    sentence_length[len(sen)-1]+=1\n",
    "    \n",
    "plt.bar(range(max_len), sentence_length, width=1.0)\n",
    "plt.title(\"Sentence Length Distribution\")\n",
    "plt.show()"
   ]
  },
  {
   "cell_type": "code",
   "execution_count": 30,
   "id": "chemical-gateway",
   "metadata": {},
   "outputs": [
    {
     "data": {
      "text/plain": [
       "'아 더빙.. 진짜 짜증나네요 목소리'"
      ]
     },
     "execution_count": 30,
     "metadata": {},
     "output_type": "execute_result"
    }
   ],
   "source": [
    "train_data['document'][0]"
   ]
  },
  {
   "cell_type": "code",
   "execution_count": 31,
   "id": "according-equity",
   "metadata": {},
   "outputs": [
    {
     "name": "stderr",
     "output_type": "stream",
     "text": [
      "/opt/conda/lib/python3.7/site-packages/ipykernel_launcher.py:2: FutureWarning: The default value of regex will change from True to False in a future version.\n",
      "  \n",
      "/opt/conda/lib/python3.7/site-packages/ipykernel_launcher.py:3: FutureWarning: The default value of regex will change from True to False in a future version.\n",
      "  This is separate from the ipykernel package so we can avoid doing imports until\n"
     ]
    }
   ],
   "source": [
    "# 한글, 자음, 모음, 영어, 스페이스를 제외한 나머지를 스페이스로 치환\n",
    "train_data['document'] = train_data['document'].str.replace(\"[^ㄱ-ㅎㅏ-ㅣ가-힣A-Za-z ]\",\" \")\n",
    "test_data['document'] = test_data['document'].str.replace(\"[^ㄱ-ㅎㅏ-ㅣ가-힣A-Za-z ]\",\" \")"
   ]
  },
  {
   "cell_type": "code",
   "execution_count": 32,
   "id": "traditional-helping",
   "metadata": {},
   "outputs": [
    {
     "data": {
      "text/plain": [
       "'아 더빙   진짜 짜증나네요 목소리'"
      ]
     },
     "execution_count": 32,
     "metadata": {},
     "output_type": "execute_result"
    }
   ],
   "source": [
    "train_data['document'][0]"
   ]
  },
  {
   "cell_type": "code",
   "execution_count": 33,
   "id": "universal-feeling",
   "metadata": {},
   "outputs": [
    {
     "name": "stderr",
     "output_type": "stream",
     "text": [
      "/opt/conda/lib/python3.7/site-packages/ipykernel_launcher.py:2: FutureWarning: The default value of regex will change from True to False in a future version.\n",
      "  \n",
      "/opt/conda/lib/python3.7/site-packages/ipykernel_launcher.py:3: FutureWarning: The default value of regex will change from True to False in a future version.\n",
      "  This is separate from the ipykernel package so we can avoid doing imports until\n"
     ]
    }
   ],
   "source": [
    "# 공백 여러개 제거\n",
    "train_data['document'] = train_data['document'].str.replace(' +', ' ')\n",
    "test_data['document'] = test_data['document'].str.replace(' +', ' ')"
   ]
  },
  {
   "cell_type": "code",
   "execution_count": 34,
   "id": "enabling-cincinnati",
   "metadata": {},
   "outputs": [
    {
     "data": {
      "text/plain": [
       "'아 더빙 진짜 짜증나네요 목소리'"
      ]
     },
     "execution_count": 34,
     "metadata": {},
     "output_type": "execute_result"
    }
   ],
   "source": [
    "train_data['document'][0]"
   ]
  },
  {
   "cell_type": "code",
   "execution_count": 35,
   "id": "broad-library",
   "metadata": {},
   "outputs": [
    {
     "name": "stdout",
     "output_type": "stream",
     "text": [
      "id          0\n",
      "document    0\n",
      "label       0\n",
      "dtype: int64\n",
      "id          0\n",
      "document    0\n",
      "label       0\n",
      "dtype: int64\n"
     ]
    }
   ],
   "source": [
    "print(train_data.isnull().sum())\n",
    "print(test_data.isnull().sum())"
   ]
  },
  {
   "cell_type": "markdown",
   "id": "matched-accordance",
   "metadata": {},
   "source": [
    "## 모델 학습"
   ]
  },
  {
   "cell_type": "markdown",
   "id": "elect-chart",
   "metadata": {},
   "source": [
    "## SentencePiece를 적용시킨 모델 학습하기"
   ]
  },
  {
   "cell_type": "code",
   "execution_count": 36,
   "id": "increased-luxembourg",
   "metadata": {},
   "outputs": [],
   "source": [
    "import sentencepiece as spm\n",
    "import os\n",
    "\n",
    "# train_data에서 텍스트 부분만 추출\n",
    "temp_file = os.getenv('HOME')+'/aiffel/sp_tokenizer/data/naver.csv'\n",
    "train_data['document'].to_csv(temp_file, index=False, header=False)"
   ]
  },
  {
   "cell_type": "code",
   "execution_count": 37,
   "id": "rolled-insured",
   "metadata": {},
   "outputs": [],
   "source": [
    "vocab_size = 8000\n",
    "model_prefix = 'naver_spm'\n",
    "\n",
    "        \n",
    "spm.SentencePieceTrainer.Train(\n",
    "'--input={} --model_prefix={} --vocab_size={}'.format(temp_file, model_prefix ,vocab_size)\n",
    ")"
   ]
  },
  {
   "cell_type": "markdown",
   "id": "unique-breakdown",
   "metadata": {},
   "source": [
    "## 학습된 모델로 sp_tokenize() 메소드 구현하기\n",
    "1. 매개변수로 토큰화된 문장의 list를 전달하는 대신 온전한 문장의 list 를 전달합니다. \n",
    "2. 생성된 vocab 파일을 읽어와 { \\<word> : \\<idx> } 형태를 가지는 word_index 사전과 { \\<idx> : \\<word>} 형태를 가지는 index_word 사전을 생성하고 함께 반환합니다.  \n",
    "3. 리턴값인 tensor 는 앞의 함수와 동일하게 토큰화한 후 Encoding된 문장입니다. Padding 또한 적용해줍니다."
   ]
  },
  {
   "cell_type": "code",
   "execution_count": 38,
   "id": "understanding-competition",
   "metadata": {},
   "outputs": [
    {
     "data": {
      "text/plain": [
       "True"
      ]
     },
     "execution_count": 38,
     "metadata": {},
     "output_type": "execute_result"
    }
   ],
   "source": [
    "import sentencepiece as spm\n",
    "s = spm.SentencePieceProcessor()\n",
    "s.Load('naver_spm.model')"
   ]
  },
  {
   "cell_type": "code",
   "execution_count": 39,
   "id": "bronze-optimum",
   "metadata": {},
   "outputs": [],
   "source": [
    "def sp_tokenize(s, corpus):\n",
    "\n",
    "    tensor = []\n",
    "\n",
    "    for sen in corpus:\n",
    "        tensor.append(s.EncodeAsIds(sen))\n",
    "\n",
    "    with open(\"./naver_spm.vocab\", 'r') as f:\n",
    "        vocab = f.readlines()\n",
    "\n",
    "    word_index = {}\n",
    "    index_word = {}\n",
    "\n",
    "    for idx, line in enumerate(vocab):\n",
    "        word = line.split(\"\\t\")[0]\n",
    "        \n",
    "        word_index.update({idx:word})\n",
    "        index_word.update({word:idx})\n",
    "        \n",
    "#     tensor = tf.keras.preprocessing.sequence.pad_sequences(tensor, padding='post')\n",
    "    \n",
    "    return tensor, word_index, index_word"
   ]
  },
  {
   "cell_type": "code",
   "execution_count": 40,
   "id": "automated-sharing",
   "metadata": {},
   "outputs": [],
   "source": [
    "X_train, word_index, index_word = sp_tokenize(s, train_data['document'])"
   ]
  },
  {
   "cell_type": "markdown",
   "id": "future-harmony",
   "metadata": {},
   "source": [
    "## 구현된 토크나이저를 적용하여 네이버 영화리뷰 감정 분석 모델을 재학습하기"
   ]
  },
  {
   "cell_type": "markdown",
   "id": "outer-freeze",
   "metadata": {},
   "source": [
    "### Label 만들어 주기"
   ]
  },
  {
   "cell_type": "code",
   "execution_count": 41,
   "id": "respected-capability",
   "metadata": {},
   "outputs": [],
   "source": [
    "X_test = [s.EncodeAsIds(x) for x in test_data['document']]"
   ]
  },
  {
   "cell_type": "code",
   "execution_count": 42,
   "id": "effective-cleveland",
   "metadata": {},
   "outputs": [
    {
     "data": {
      "text/plain": [
       "[52, 761, 24, 1888, 50, 1652]"
      ]
     },
     "execution_count": 42,
     "metadata": {},
     "output_type": "execute_result"
    }
   ],
   "source": [
    "X_train[0]"
   ]
  },
  {
   "cell_type": "code",
   "execution_count": 43,
   "id": "blessed-residence",
   "metadata": {},
   "outputs": [
    {
     "data": {
      "text/plain": [
       "(146182, 49157)"
      ]
     },
     "execution_count": 43,
     "metadata": {},
     "output_type": "execute_result"
    }
   ],
   "source": [
    "len(X_train), len(X_test)"
   ]
  },
  {
   "cell_type": "code",
   "execution_count": 44,
   "id": "inner-champagne",
   "metadata": {},
   "outputs": [],
   "source": [
    "y_train = np.array(train_data['label'])\n",
    "y_test = np.array(test_data['label'])"
   ]
  },
  {
   "cell_type": "code",
   "execution_count": 45,
   "id": "adjacent-information",
   "metadata": {},
   "outputs": [
    {
     "name": "stdout",
     "output_type": "stream",
     "text": [
      "146182 49157\n",
      "146182 49157\n"
     ]
    }
   ],
   "source": [
    "print(len(X_train), len(X_test))\n",
    "print(len(y_train), len(y_test))"
   ]
  },
  {
   "cell_type": "code",
   "execution_count": 46,
   "id": "hairy-joining",
   "metadata": {},
   "outputs": [],
   "source": [
    "# 패딩\n",
    "X_train = tf.keras.preprocessing.sequence.pad_sequences(X_train, padding='post')\n",
    "X_test = tf.keras.preprocessing.sequence.pad_sequences(X_test, padding='post')"
   ]
  },
  {
   "cell_type": "markdown",
   "id": "separate-glance",
   "metadata": {},
   "source": [
    "### 모델 학습"
   ]
  },
  {
   "cell_type": "code",
   "execution_count": 47,
   "id": "exotic-guarantee",
   "metadata": {},
   "outputs": [
    {
     "name": "stdout",
     "output_type": "stream",
     "text": [
      "Model: \"sequential\"\n",
      "_________________________________________________________________\n",
      "Layer (type)                 Output Shape              Param #   \n",
      "=================================================================\n",
      "embedding (Embedding)        (None, None, 16)          128000    \n",
      "_________________________________________________________________\n",
      "lstm (LSTM)                  (None, 8)                 800       \n",
      "_________________________________________________________________\n",
      "dense (Dense)                (None, 8)                 72        \n",
      "_________________________________________________________________\n",
      "dense_1 (Dense)              (None, 1)                 9         \n",
      "=================================================================\n",
      "Total params: 128,881\n",
      "Trainable params: 128,881\n",
      "Non-trainable params: 0\n",
      "_________________________________________________________________\n"
     ]
    }
   ],
   "source": [
    "word_vector_dim = 16\n",
    "\n",
    "model = keras.Sequential()\n",
    "model.add(keras.layers.Embedding(vocab_size, word_vector_dim, input_shape=(None, )))\n",
    "model.add(keras.layers.LSTM(8))\n",
    "model.add(keras.layers.Dense(8, activation='relu'))\n",
    "model.add(keras.layers.Dense(1, activation='sigmoid'))\n",
    "\n",
    "model.summary()"
   ]
  },
  {
   "cell_type": "code",
   "execution_count": 48,
   "id": "hispanic-danish",
   "metadata": {},
   "outputs": [
    {
     "name": "stdout",
     "output_type": "stream",
     "text": [
      "Epoch 1/20\n",
      "229/229 [==============================] - 10s 30ms/step - loss: 0.6932 - accuracy: 0.5013 - val_loss: 0.6932 - val_accuracy: 0.4961\n",
      "Epoch 2/20\n",
      "229/229 [==============================] - 6s 27ms/step - loss: 0.6931 - accuracy: 0.5015 - val_loss: 0.6931 - val_accuracy: 0.5039\n",
      "Epoch 3/20\n",
      "229/229 [==============================] - 6s 27ms/step - loss: 0.6931 - accuracy: 0.5012 - val_loss: 0.6931 - val_accuracy: 0.5039\n",
      "Epoch 4/20\n",
      "229/229 [==============================] - 6s 27ms/step - loss: 0.6931 - accuracy: 0.5028 - val_loss: 0.6931 - val_accuracy: 0.5039\n",
      "Epoch 5/20\n",
      "229/229 [==============================] - 6s 27ms/step - loss: 0.6932 - accuracy: 0.4999 - val_loss: 0.6931 - val_accuracy: 0.5039\n",
      "Epoch 6/20\n",
      "229/229 [==============================] - 6s 27ms/step - loss: 0.6931 - accuracy: 0.5028 - val_loss: 0.6931 - val_accuracy: 0.5039\n",
      "Epoch 7/20\n",
      "229/229 [==============================] - 6s 27ms/step - loss: 0.6932 - accuracy: 0.5011 - val_loss: 0.6931 - val_accuracy: 0.5039\n",
      "Epoch 8/20\n",
      "229/229 [==============================] - 6s 27ms/step - loss: 0.6931 - accuracy: 0.5014 - val_loss: 0.6931 - val_accuracy: 0.5039\n",
      "Epoch 9/20\n",
      "229/229 [==============================] - 6s 27ms/step - loss: 0.6931 - accuracy: 0.5026 - val_loss: 0.6931 - val_accuracy: 0.5039\n",
      "Epoch 10/20\n",
      "229/229 [==============================] - 6s 27ms/step - loss: 0.6931 - accuracy: 0.5046 - val_loss: 0.6931 - val_accuracy: 0.4961\n",
      "Epoch 11/20\n",
      "229/229 [==============================] - 6s 27ms/step - loss: 0.6931 - accuracy: 0.5000 - val_loss: 0.6932 - val_accuracy: 0.4961\n",
      "Epoch 12/20\n",
      "229/229 [==============================] - 6s 27ms/step - loss: 0.6932 - accuracy: 0.5004 - val_loss: 0.6932 - val_accuracy: 0.4961\n",
      "Epoch 13/20\n",
      "229/229 [==============================] - 6s 27ms/step - loss: 0.6932 - accuracy: 0.5005 - val_loss: 0.6931 - val_accuracy: 0.5039\n",
      "Epoch 14/20\n",
      "229/229 [==============================] - 6s 27ms/step - loss: 0.6931 - accuracy: 0.5008 - val_loss: 0.6931 - val_accuracy: 0.5039\n",
      "Epoch 15/20\n",
      "229/229 [==============================] - 6s 27ms/step - loss: 0.6932 - accuracy: 0.5003 - val_loss: 0.6931 - val_accuracy: 0.5039\n",
      "Epoch 16/20\n",
      "229/229 [==============================] - 6s 27ms/step - loss: 0.6931 - accuracy: 0.5015 - val_loss: 0.6931 - val_accuracy: 0.5039\n",
      "Epoch 17/20\n",
      "229/229 [==============================] - 6s 27ms/step - loss: 0.6932 - accuracy: 0.4991 - val_loss: 0.6931 - val_accuracy: 0.5039\n",
      "Epoch 18/20\n",
      "229/229 [==============================] - 6s 27ms/step - loss: 0.6932 - accuracy: 0.4998 - val_loss: 0.6931 - val_accuracy: 0.5039\n",
      "Epoch 19/20\n",
      "229/229 [==============================] - 6s 27ms/step - loss: 0.6931 - accuracy: 0.5015 - val_loss: 0.6931 - val_accuracy: 0.5039\n",
      "Epoch 20/20\n",
      "229/229 [==============================] - 6s 27ms/step - loss: 0.6931 - accuracy: 0.5032 - val_loss: 0.6931 - val_accuracy: 0.5039\n"
     ]
    }
   ],
   "source": [
    "model.compile(optimizer='adam', loss='binary_crossentropy', metrics=['accuracy'])\n",
    "history = model.fit(X_train, y_train, epochs=20, batch_size=512, validation_split=0.2, verbose=1)"
   ]
  },
  {
   "cell_type": "code",
   "execution_count": 49,
   "id": "strong-namibia",
   "metadata": {},
   "outputs": [
    {
     "name": "stdout",
     "output_type": "stream",
     "text": [
      "1537/1537 - 11s - loss: 0.6932 - accuracy: 0.4973\n"
     ]
    }
   ],
   "source": [
    "results = model.evaluate(X_test, y_test, verbose=2)"
   ]
  },
  {
   "cell_type": "markdown",
   "id": "empty-capture",
   "metadata": {},
   "source": [
    "## KoNLPy 형태소 분석기를 사용한 모델과 성능 비교하기"
   ]
  },
  {
   "cell_type": "code",
   "execution_count": 68,
   "id": "colored-affiliate",
   "metadata": {},
   "outputs": [
    {
     "data": {
      "text/html": [
       "<div>\n",
       "<style scoped>\n",
       "    .dataframe tbody tr th:only-of-type {\n",
       "        vertical-align: middle;\n",
       "    }\n",
       "\n",
       "    .dataframe tbody tr th {\n",
       "        vertical-align: top;\n",
       "    }\n",
       "\n",
       "    .dataframe thead th {\n",
       "        text-align: right;\n",
       "    }\n",
       "</style>\n",
       "<table border=\"1\" class=\"dataframe\">\n",
       "  <thead>\n",
       "    <tr style=\"text-align: right;\">\n",
       "      <th></th>\n",
       "      <th>id</th>\n",
       "      <th>document</th>\n",
       "      <th>label</th>\n",
       "    </tr>\n",
       "  </thead>\n",
       "  <tbody>\n",
       "    <tr>\n",
       "      <th>0</th>\n",
       "      <td>9976970</td>\n",
       "      <td>아 더빙 진짜 짜증나네요 목소리</td>\n",
       "      <td>0</td>\n",
       "    </tr>\n",
       "    <tr>\n",
       "      <th>1</th>\n",
       "      <td>3819312</td>\n",
       "      <td>흠 포스터보고 초딩영화줄 오버연기조차 가볍지 않구나</td>\n",
       "      <td>1</td>\n",
       "    </tr>\n",
       "    <tr>\n",
       "      <th>2</th>\n",
       "      <td>10265843</td>\n",
       "      <td>너무재밓었다그래서보는것을추천한다</td>\n",
       "      <td>0</td>\n",
       "    </tr>\n",
       "    <tr>\n",
       "      <th>3</th>\n",
       "      <td>9045019</td>\n",
       "      <td>교도소 이야기구먼 솔직히 재미는 없다 평점 조정</td>\n",
       "      <td>0</td>\n",
       "    </tr>\n",
       "    <tr>\n",
       "      <th>4</th>\n",
       "      <td>6483659</td>\n",
       "      <td>사이몬페그의 익살스런 연기가 돋보였던 영화 스파이더맨에서 늙어보이기만 했던 커스틴 ...</td>\n",
       "      <td>1</td>\n",
       "    </tr>\n",
       "  </tbody>\n",
       "</table>\n",
       "</div>"
      ],
      "text/plain": [
       "         id                                           document  label\n",
       "0   9976970                                  아 더빙 진짜 짜증나네요 목소리      0\n",
       "1   3819312                       흠 포스터보고 초딩영화줄 오버연기조차 가볍지 않구나      1\n",
       "2  10265843                                  너무재밓었다그래서보는것을추천한다      0\n",
       "3   9045019                         교도소 이야기구먼 솔직히 재미는 없다 평점 조정      0\n",
       "4   6483659  사이몬페그의 익살스런 연기가 돋보였던 영화 스파이더맨에서 늙어보이기만 했던 커스틴 ...      1"
      ]
     },
     "execution_count": 68,
     "metadata": {},
     "output_type": "execute_result"
    }
   ],
   "source": [
    "train_data.head(5)"
   ]
  },
  {
   "cell_type": "code",
   "execution_count": 69,
   "id": "knowing-front",
   "metadata": {},
   "outputs": [
    {
     "data": {
      "text/plain": [
       "(146182, 49157)"
      ]
     },
     "execution_count": 69,
     "metadata": {},
     "output_type": "execute_result"
    }
   ],
   "source": [
    "len(train_data), len(test_data)"
   ]
  },
  {
   "cell_type": "code",
   "execution_count": 70,
   "id": "hybrid-proposition",
   "metadata": {},
   "outputs": [],
   "source": [
    "mecab = Mecab()"
   ]
  },
  {
   "cell_type": "code",
   "execution_count": 71,
   "id": "unique-implement",
   "metadata": {
    "scrolled": true
   },
   "outputs": [
    {
     "data": {
      "text/plain": [
       "['아', '더', '빙', '진짜', '짜증', '나', '네요', '목소리']"
      ]
     },
     "execution_count": 71,
     "metadata": {},
     "output_type": "execute_result"
    }
   ],
   "source": [
    "mecab.morphs(train_data['document'][0])"
   ]
  },
  {
   "cell_type": "code",
   "execution_count": 76,
   "id": "ancient-fellow",
   "metadata": {},
   "outputs": [],
   "source": [
    "def mecab_split(data):\n",
    "    return mecab.morphs(data)\n",
    "\n",
    "mecab_corpus = []\n",
    "for i in train_data['document']:\n",
    "    mecab_corpus.append(mecab_split(i))"
   ]
  },
  {
   "cell_type": "code",
   "execution_count": 77,
   "id": "fiscal-output",
   "metadata": {},
   "outputs": [
    {
     "data": {
      "text/plain": [
       "[['아', '더', '빙', '진짜', '짜증', '나', '네요', '목소리'],\n",
       " ['흠', '포스터', '보고', '초딩', '영화', '줄', '오버', '연기', '조차', '가볍', '지', '않', '구나'],\n",
       " ['너무', '재', '밓었다그래서보는것을추천한다'],\n",
       " ['교도소', '이야기', '구먼', '솔직히', '재미', '는', '없', '다', '평점', '조정']]"
      ]
     },
     "execution_count": 77,
     "metadata": {},
     "output_type": "execute_result"
    }
   ],
   "source": [
    "mecab_corpus[0:4]"
   ]
  },
  {
   "cell_type": "code",
   "execution_count": 116,
   "id": "pressing-mapping",
   "metadata": {
    "scrolled": true
   },
   "outputs": [
    {
     "data": {
      "text/plain": [
       "0                                                  굳 ㅋ\n",
       "1                                 GDNTOPCLASSINTHECLUB\n",
       "2                     뭐야 이 평점들은 나쁘진 않지만 점 짜리는 더더욱 아니잖아\n",
       "3                           지루하지는 않은데 완전 막장임 돈주고 보기에는 \n",
       "4         D만 아니었어도 별 다섯 개 줬을텐데 왜 D로 나와서 제 심기를 불편하게 하죠 \n",
       "                             ...                      \n",
       "49995        오랜만에 평점 로긴했네ㅋㅋ 킹왕짱 쌈뽕한 영화를 만났습니다 강렬하게 육쾌함\n",
       "49996     의지 박약들이나 하는거다 탈영은 일단 주인공 김대희 닮았고 이등병 찐따 OOOO\n",
       "49997                  그림도 좋고 완성도도 높았지만 보는 내내 불안하게 만든다\n",
       "49998       절대 봐서는 안 될 영화 재미도 없고 기분만 잡치고 한 세트장에서 다 해먹네\n",
       "49999                                       마무리는 또 왜이래\n",
       "Name: document, Length: 49157, dtype: object"
      ]
     },
     "execution_count": 116,
     "metadata": {},
     "output_type": "execute_result"
    }
   ],
   "source": [
    "test_data['document']"
   ]
  },
  {
   "cell_type": "code",
   "execution_count": 117,
   "id": "focal-updating",
   "metadata": {},
   "outputs": [],
   "source": [
    "train_token_len_list = [len(token) for token in mecab_corpus]\n",
    "test_token_len_list = [len(token) for token in test_data['document']]\n",
    "total_token_len_list = [train_token_len_list + test_token_len_list]"
   ]
  },
  {
   "cell_type": "code",
   "execution_count": 118,
   "id": "continuing-program",
   "metadata": {},
   "outputs": [
    {
     "name": "stdout",
     "output_type": "stream",
     "text": [
      "문장 길이 평균: 20.943672282544703\n",
      "문장 최대 길이: 140\n",
      "문장 최소 길이: 0\n"
     ]
    }
   ],
   "source": [
    "print('문장 길이 평균:', np.mean(total_token_len_list))\n",
    "print('문장 최대 길이:', np.max(total_token_len_list))\n",
    "print('문장 최소 길이:', np.min(total_token_len_list))"
   ]
  },
  {
   "cell_type": "code",
   "execution_count": 119,
   "id": "impossible-absorption",
   "metadata": {},
   "outputs": [
    {
     "name": "stdout",
     "output_type": "stream",
     "text": [
      "전체 문장의 79.24548020181764%가 maxlen 설정값 이내에 포함됩니다.\n"
     ]
    }
   ],
   "source": [
    "mecab_max_token = np.mean(total_token_len_list)+90\n",
    "max_num_token = np.max(total_token_len_list)\n",
    "print(f'전체 문장의 {(mecab_max_token/max_num_token)*100}%가 maxlen 설정값 이내에 포함됩니다.')"
   ]
  },
  {
   "cell_type": "code",
   "execution_count": 120,
   "id": "everyday-grass",
   "metadata": {},
   "outputs": [],
   "source": [
    "def tokenize(corpus):\n",
    "    tokenizer = tf.keras.preprocessing.text.Tokenizer(filters='')\n",
    "    tokenizer.fit_on_texts(corpus)\n",
    "    \n",
    "    tensor = tokenizer.texts_to_sequences(corpus)\n",
    "    \n",
    "    tensor = tf.keras.preprocessing.sequence.pad_sequences(tensor, padding='post')\n",
    "    \n",
    "    return tensor, tokenizer"
   ]
  },
  {
   "cell_type": "code",
   "execution_count": 121,
   "id": "raising-teaching",
   "metadata": {},
   "outputs": [],
   "source": [
    "mecab_tensor, mecab_tokenizer = tokenize(mecab_corpus)"
   ]
  },
  {
   "cell_type": "code",
   "execution_count": 122,
   "id": "equal-investigator",
   "metadata": {},
   "outputs": [
    {
     "name": "stdout",
     "output_type": "stream",
     "text": [
      "단어사전 길이: 51210\n"
     ]
    }
   ],
   "source": [
    "print('단어사전 길이:', len(mecab_tokenizer.index_word))"
   ]
  },
  {
   "cell_type": "code",
   "execution_count": 136,
   "id": "raising-violin",
   "metadata": {},
   "outputs": [],
   "source": [
    "mecab_x_test_tensor = mecab_tokenizer.texts_to_sequences(mecab_x_test_token)\n",
    "mecab_x_test_tensor = tf.keras.preprocessing.sequence.pad_sequences(mecab_x_test_tensor, padding='post')"
   ]
  },
  {
   "cell_type": "code",
   "execution_count": 167,
   "id": "electric-iceland",
   "metadata": {},
   "outputs": [
    {
     "data": {
      "text/plain": [
       "array([[ 803,  132,    0, ...,    0,    0,    0],\n",
       "       [   0,    0,    0, ...,    0,    0,    0],\n",
       "       [  89,  120,    1, ...,    0,    0,    0],\n",
       "       ...,\n",
       "       [1006,    7,   21, ...,    0,    0,    0],\n",
       "       [ 399,  476,    2, ...,    0,    0,    0],\n",
       "       [ 974,    2,  178, ...,    0,    0,    0]], dtype=int32)"
      ]
     },
     "execution_count": 167,
     "metadata": {},
     "output_type": "execute_result"
    }
   ],
   "source": [
    "mecab_x_test_tensor"
   ]
  },
  {
   "cell_type": "code",
   "execution_count": 138,
   "id": "present-sociology",
   "metadata": {},
   "outputs": [
    {
     "data": {
      "text/plain": [
       "49157"
      ]
     },
     "execution_count": 138,
     "metadata": {},
     "output_type": "execute_result"
    }
   ],
   "source": [
    "len(mecab_x_test_tensor)"
   ]
  },
  {
   "cell_type": "code",
   "execution_count": 143,
   "id": "celtic-ukraine",
   "metadata": {},
   "outputs": [],
   "source": [
    "mecab_x_train = mecab_tensor\n",
    "mecab_y_train = np.array(train_data['label'])\n",
    "mecab_x_test = mecab_x_test_tensor\n",
    "mecab_y_test = np.array(test_data['label'])"
   ]
  },
  {
   "cell_type": "code",
   "execution_count": 160,
   "id": "compact-huntington",
   "metadata": {},
   "outputs": [
    {
     "name": "stdout",
     "output_type": "stream",
     "text": [
      "146182 146182\n",
      "49157 49157\n"
     ]
    }
   ],
   "source": [
    "print(len(mecab_x_train), len(mecab_y_train))\n",
    "print(len(mecab_x_test), len(mecab_y_test))"
   ]
  },
  {
   "cell_type": "code",
   "execution_count": 150,
   "id": "upper-british",
   "metadata": {},
   "outputs": [
    {
     "data": {
      "text/plain": [
       "51210"
      ]
     },
     "execution_count": 150,
     "metadata": {},
     "output_type": "execute_result"
    }
   ],
   "source": [
    "vocab_size2 = len(mecab_tokenizer.index_word)\n",
    "vocab_size2"
   ]
  },
  {
   "cell_type": "code",
   "execution_count": 170,
   "id": "finished-commons",
   "metadata": {},
   "outputs": [
    {
     "name": "stdout",
     "output_type": "stream",
     "text": [
      "Model: \"sequential_4\"\n",
      "_________________________________________________________________\n",
      "Layer (type)                 Output Shape              Param #   \n",
      "=================================================================\n",
      "embedding_3 (Embedding)      (None, None, 16)          819376    \n",
      "_________________________________________________________________\n",
      "lstm_3 (LSTM)                (None, 8)                 800       \n",
      "_________________________________________________________________\n",
      "dense_4 (Dense)              (None, 8)                 72        \n",
      "_________________________________________________________________\n",
      "dense_5 (Dense)              (None, 1)                 9         \n",
      "=================================================================\n",
      "Total params: 820,257\n",
      "Trainable params: 820,257\n",
      "Non-trainable params: 0\n",
      "_________________________________________________________________\n"
     ]
    }
   ],
   "source": [
    "word_vector_dim = 16\n",
    "\n",
    "model2 = keras.Sequential()\n",
    "model2.add(keras.layers.Embedding(vocab_size2+1, word_vector_dim, input_shape=(None,)))\n",
    "model2.add(keras.layers.LSTM(8))\n",
    "model2.add(keras.layers.Dense(8, activation='relu'))\n",
    "model2.add(keras.layers.Dense(1, activation='sigmoid'))\n",
    "\n",
    "model2.summary()"
   ]
  },
  {
   "cell_type": "code",
   "execution_count": 171,
   "id": "wireless-conference",
   "metadata": {},
   "outputs": [
    {
     "name": "stdout",
     "output_type": "stream",
     "text": [
      "Epoch 1/20\n",
      "229/229 [==============================] - 8s 24ms/step - loss: 0.6932 - accuracy: 0.5021 - val_loss: 0.6931 - val_accuracy: 0.5039\n",
      "Epoch 2/20\n",
      "229/229 [==============================] - 5s 22ms/step - loss: 0.6931 - accuracy: 0.5023 - val_loss: 0.6932 - val_accuracy: 0.4961\n",
      "Epoch 3/20\n",
      "229/229 [==============================] - 5s 22ms/step - loss: 0.6932 - accuracy: 0.4994 - val_loss: 0.6931 - val_accuracy: 0.5039\n",
      "Epoch 4/20\n",
      "229/229 [==============================] - 5s 22ms/step - loss: 0.6931 - accuracy: 0.5023 - val_loss: 0.6931 - val_accuracy: 0.5039\n",
      "Epoch 5/20\n",
      "229/229 [==============================] - 5s 22ms/step - loss: 0.6932 - accuracy: 0.4993 - val_loss: 0.6932 - val_accuracy: 0.4961\n",
      "Epoch 6/20\n",
      "229/229 [==============================] - 5s 22ms/step - loss: 0.6932 - accuracy: 0.4992 - val_loss: 0.6931 - val_accuracy: 0.5039\n",
      "Epoch 7/20\n",
      "229/229 [==============================] - 5s 22ms/step - loss: 0.6931 - accuracy: 0.5016 - val_loss: 0.6931 - val_accuracy: 0.5039\n",
      "Epoch 8/20\n",
      "229/229 [==============================] - 5s 22ms/step - loss: 0.6931 - accuracy: 0.4999 - val_loss: 0.6931 - val_accuracy: 0.5039\n",
      "Epoch 9/20\n",
      "229/229 [==============================] - 5s 22ms/step - loss: 0.6932 - accuracy: 0.4986 - val_loss: 0.6931 - val_accuracy: 0.5039\n",
      "Epoch 10/20\n",
      "229/229 [==============================] - 5s 22ms/step - loss: 0.6931 - accuracy: 0.5026 - val_loss: 0.6931 - val_accuracy: 0.5039\n",
      "Epoch 11/20\n",
      "229/229 [==============================] - 5s 22ms/step - loss: 0.6932 - accuracy: 0.4971 - val_loss: 0.6931 - val_accuracy: 0.5039\n",
      "Epoch 12/20\n",
      "229/229 [==============================] - 5s 22ms/step - loss: 0.6932 - accuracy: 0.5011 - val_loss: 0.6931 - val_accuracy: 0.5039\n",
      "Epoch 13/20\n",
      "229/229 [==============================] - 5s 22ms/step - loss: 0.6931 - accuracy: 0.4999 - val_loss: 0.6931 - val_accuracy: 0.5039\n",
      "Epoch 14/20\n",
      "229/229 [==============================] - 5s 22ms/step - loss: 0.6932 - accuracy: 0.5004 - val_loss: 0.6931 - val_accuracy: 0.5039\n",
      "Epoch 15/20\n",
      "229/229 [==============================] - 5s 22ms/step - loss: 0.6931 - accuracy: 0.5016 - val_loss: 0.6931 - val_accuracy: 0.5039\n",
      "Epoch 16/20\n",
      "229/229 [==============================] - 5s 22ms/step - loss: 0.6932 - accuracy: 0.4982 - val_loss: 0.6931 - val_accuracy: 0.5039\n",
      "Epoch 17/20\n",
      "229/229 [==============================] - 5s 22ms/step - loss: 0.6931 - accuracy: 0.5017 - val_loss: 0.6931 - val_accuracy: 0.5039\n",
      "Epoch 18/20\n",
      "229/229 [==============================] - 5s 22ms/step - loss: 0.6931 - accuracy: 0.5001 - val_loss: 0.6931 - val_accuracy: 0.5039\n",
      "Epoch 19/20\n",
      "229/229 [==============================] - 5s 22ms/step - loss: 0.6931 - accuracy: 0.5010 - val_loss: 0.6931 - val_accuracy: 0.5039\n",
      "Epoch 20/20\n",
      "229/229 [==============================] - 5s 22ms/step - loss: 0.6928 - accuracy: 0.5009 - val_loss: 0.6693 - val_accuracy: 0.5595\n"
     ]
    }
   ],
   "source": [
    "model2.compile(optimizer='adam', loss='binary_crossentropy', metrics=['accuracy'])\n",
    "mecab_history = model2.fit(mecab_x_train, mecab_y_train, epochs=20, batch_size=512, validation_split=0.2, verbose=1)"
   ]
  },
  {
   "cell_type": "code",
   "execution_count": 172,
   "id": "universal-mounting",
   "metadata": {},
   "outputs": [
    {
     "name": "stdout",
     "output_type": "stream",
     "text": [
      "1537/1537 - 10s - loss: 0.6702 - accuracy: 0.5637\n"
     ]
    }
   ],
   "source": [
    "mecab_results = model2.evaluate(mecab_x_test, mecab_y_test, verbose=2)"
   ]
  }
 ],
 "metadata": {
  "kernelspec": {
   "display_name": "Python 3",
   "language": "python",
   "name": "python3"
  },
  "language_info": {
   "codemirror_mode": {
    "name": "ipython",
    "version": 3
   },
   "file_extension": ".py",
   "mimetype": "text/x-python",
   "name": "python",
   "nbconvert_exporter": "python",
   "pygments_lexer": "ipython3",
   "version": "3.7.9"
  }
 },
 "nbformat": 4,
 "nbformat_minor": 5
}
