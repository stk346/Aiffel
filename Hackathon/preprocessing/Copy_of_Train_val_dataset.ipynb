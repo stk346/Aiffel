{
  "nbformat": 4,
  "nbformat_minor": 0,
  "metadata": {
    "colab": {
      "name": "Copy of Train_val_dataset",
      "provenance": [],
      "collapsed_sections": [],
      "machine_shape": "hm"
    },
    "kernelspec": {
      "display_name": "Python 3",
      "name": "python3"
    },
    "language_info": {
      "name": "python"
    },
    "accelerator": "GPU"
  },
  "cells": [
    {
      "cell_type": "code",
      "metadata": {
        "colab": {
          "base_uri": "https://localhost:8080/"
        },
        "id": "DDC8oXQKVgaA",
        "outputId": "65566d2b-3d56-4510-e5ec-9ecefbad8998"
      },
      "source": [
        "from google.colab import drive\n",
        "drive.mount('/content/drive')"
      ],
      "execution_count": null,
      "outputs": [
        {
          "output_type": "stream",
          "name": "stdout",
          "text": [
            "Mounted at /content/drive\n"
          ]
        }
      ]
    },
    {
      "cell_type": "code",
      "metadata": {
        "colab": {
          "base_uri": "https://localhost:8080/"
        },
        "id": "qP2D8AD4RY3j",
        "outputId": "a5527aa8-806c-42fc-8338-eee6446faecd"
      },
      "source": [
        "# colab pro 더 빠른 GPU 사용\n",
        "gpu_info = !nvidia-smi\n",
        "gpu_info = '\\n'.join(gpu_info)\n",
        "if gpu_info.find('failed') >= 0:\n",
        "  print('Not connected to a GPU')\n",
        "else:\n",
        "  print(gpu_info)"
      ],
      "execution_count": null,
      "outputs": [
        {
          "output_type": "stream",
          "name": "stdout",
          "text": [
            "Wed Nov 17 05:01:26 2021       \n",
            "+-----------------------------------------------------------------------------+\n",
            "| NVIDIA-SMI 495.44       Driver Version: 460.32.03    CUDA Version: 11.2     |\n",
            "|-------------------------------+----------------------+----------------------+\n",
            "| GPU  Name        Persistence-M| Bus-Id        Disp.A | Volatile Uncorr. ECC |\n",
            "| Fan  Temp  Perf  Pwr:Usage/Cap|         Memory-Usage | GPU-Util  Compute M. |\n",
            "|                               |                      |               MIG M. |\n",
            "|===============================+======================+======================|\n",
            "|   0  Tesla P100-PCIE...  Off  | 00000000:00:04.0 Off |                    0 |\n",
            "| N/A   34C    P0    27W / 250W |      0MiB / 16280MiB |      0%      Default |\n",
            "|                               |                      |                  N/A |\n",
            "+-------------------------------+----------------------+----------------------+\n",
            "                                                                               \n",
            "+-----------------------------------------------------------------------------+\n",
            "| Processes:                                                                  |\n",
            "|  GPU   GI   CI        PID   Type   Process name                  GPU Memory |\n",
            "|        ID   ID                                                   Usage      |\n",
            "|=============================================================================|\n",
            "|  No running processes found                                                 |\n",
            "+-----------------------------------------------------------------------------+\n"
          ]
        }
      ]
    },
    {
      "cell_type": "code",
      "metadata": {
        "colab": {
          "base_uri": "https://localhost:8080/"
        },
        "id": "9dEtmLJxRqcs",
        "outputId": "f0610f4e-8e7f-4ad8-e125-501b134907e5"
      },
      "source": [
        "# colab pro 추가 메모리\n",
        "from psutil import virtual_memory\n",
        "ram_gb = virtual_memory().total / 1e9\n",
        "print('Your runtime has {:.1f} gigabytes of available RAM\\n'.format(ram_gb))\n",
        "\n",
        "if ram_gb < 20:\n",
        "  print('Not using a high-RAM runtime')\n",
        "else:\n",
        "  print('You are using a high-RAM runtime!')"
      ],
      "execution_count": null,
      "outputs": [
        {
          "output_type": "stream",
          "name": "stdout",
          "text": [
            "Your runtime has 27.3 gigabytes of available RAM\n",
            "\n",
            "You are using a high-RAM runtime!\n"
          ]
        }
      ]
    },
    {
      "cell_type": "code",
      "metadata": {
        "id": "VoYFL3WlU1Oc",
        "colab": {
          "base_uri": "https://localhost:8080/"
        },
        "outputId": "7922b9c7-91e3-4326-fc32-c86131b3a4ae"
      },
      "source": [
        "# nltk에서 stopwords 다운로드\n",
        "import nltk\n",
        "nltk.download('stopwords')"
      ],
      "execution_count": null,
      "outputs": [
        {
          "output_type": "stream",
          "name": "stdout",
          "text": [
            "[nltk_data] Downloading package stopwords to /root/nltk_data...\n",
            "[nltk_data]   Unzipping corpora/stopwords.zip.\n"
          ]
        },
        {
          "output_type": "execute_result",
          "data": {
            "text/plain": [
              "True"
            ]
          },
          "metadata": {},
          "execution_count": 4
        }
      ]
    },
    {
      "cell_type": "code",
      "metadata": {
        "colab": {
          "base_uri": "https://localhost:8080/"
        },
        "id": "Wr4wf-4IUroV",
        "outputId": "580412d7-5bf0-4c0f-dad6-b15f8b1a0e13"
      },
      "source": [
        "from IPython.core.interactiveshell import InteractiveShell\n",
        "InteractiveShell.ast_node_interactivity = \"all\"\n",
        "\n",
        "import os\n",
        "import re\n",
        "import numpy as np\n",
        "import pandas as pd\n",
        "import time\n",
        "#import pyLDAvis\n",
        "#import pyLDAvis.gensim_models\n",
        "from nltk.corpus import stopwords\n",
        "\n",
        "stop_words = set(stopwords.words('english'))\n",
        "\n",
        "from nltk.tokenize import RegexpTokenizer\n",
        "\n",
        "from sklearn.feature_extraction.text import TfidfVectorizer\n",
        "from wordcloud import WordCloud\n",
        "from matplotlib import pyplot as plt\n",
        "\n",
        "import gensim\n",
        "import string\n",
        "from gensim import corpora\n",
        "from gensim.test.utils import common_texts\n",
        "from gensim.models.doc2vec import Doc2Vec, TaggedDocument\n",
        "\n",
        "import multiprocessing\n",
        "num_cores = multiprocessing.cpu_count()\n",
        "\n",
        "# Change this to where your datasets are located:\n",
        "os.chdir(\"/content/drive/MyDrive/Aiffel_Hackathon/financial_documents/training_gold_standards\") # 현재 디렉토리 설정. \n",
        "\n",
        "## 확인 필요. 문제 없으면 지울 수 있음. ##\n",
        "# Check versions to ensure that there are no compatability issues:\n",
        "python_version = !python --version\n",
        "print(\"Python Version: \", python_version)\n",
        "print(\"Current Directory: \", os.getcwd())\n",
        "print(\"Numpy version: \", np.__version__)\n",
        "print(\"Pandas version: \", pd.__version__)"
      ],
      "execution_count": null,
      "outputs": [
        {
          "output_type": "stream",
          "name": "stdout",
          "text": [
            "Python Version:  ['Python 3.7.12']\n",
            "Current Directory:  /content/drive/MyDrive/Aiffel_Hackathon/financial_documents/training_gold_standards\n",
            "Numpy version:  1.19.5\n",
            "Pandas version:  1.1.5\n"
          ]
        }
      ]
    },
    {
      "cell_type": "markdown",
      "metadata": {
        "id": "WhTVau9YVRUa"
      },
      "source": [
        "## Gold Standard Summary\n",
        "Gold Summary 파일 중에서 text 부분인 \"_1\" 파일만 csv 파일에 넣어서 리스트를 만들어주고 \"_1\" 파일을 읽어와서 "
      ]
    },
    {
      "cell_type": "code",
      "metadata": {
        "colab": {
          "base_uri": "https://localhost:8080/",
          "height": 220
        },
        "id": "PvYz9tgtWSyB",
        "outputId": "df62fb97-bdf8-4ddd-e5d6-b8fed87d561f"
      },
      "source": [
        "gs_list = os.listdir(\"/content/drive/MyDrive/Aiffel_Hackathon/financial_documents/training_gold_standards\")\n",
        "len(gs_list)\n",
        "\n",
        "gs_df = pd.DataFrame(gs_list, columns=['Original_Filename']) \n",
        "gs_df['Original_Filename'] = gs_df['Original_Filename'].str.replace('.txt', '') \n",
        "gs_df[['Document', 'Middle', 'Section']] = gs_df['Original_Filename'].str.split('_').tolist() \n",
        "gs_df.head()"
      ],
      "execution_count": null,
      "outputs": [
        {
          "output_type": "execute_result",
          "data": {
            "text/plain": [
              "6787"
            ]
          },
          "metadata": {},
          "execution_count": 8
        },
        {
          "output_type": "execute_result",
          "data": {
            "text/html": [
              "<div>\n",
              "<style scoped>\n",
              "    .dataframe tbody tr th:only-of-type {\n",
              "        vertical-align: middle;\n",
              "    }\n",
              "\n",
              "    .dataframe tbody tr th {\n",
              "        vertical-align: top;\n",
              "    }\n",
              "\n",
              "    .dataframe thead th {\n",
              "        text-align: right;\n",
              "    }\n",
              "</style>\n",
              "<table border=\"1\" class=\"dataframe\">\n",
              "  <thead>\n",
              "    <tr style=\"text-align: right;\">\n",
              "      <th></th>\n",
              "      <th>Original_Filename</th>\n",
              "      <th>Document</th>\n",
              "      <th>Middle</th>\n",
              "      <th>Section</th>\n",
              "    </tr>\n",
              "  </thead>\n",
              "  <tbody>\n",
              "    <tr>\n",
              "      <th>0</th>\n",
              "      <td>19468_698370_8</td>\n",
              "      <td>19468</td>\n",
              "      <td>698370</td>\n",
              "      <td>8</td>\n",
              "    </tr>\n",
              "    <tr>\n",
              "      <th>1</th>\n",
              "      <td>19471_701669_8</td>\n",
              "      <td>19471</td>\n",
              "      <td>701669</td>\n",
              "      <td>8</td>\n",
              "    </tr>\n",
              "    <tr>\n",
              "      <th>2</th>\n",
              "      <td>19480_703748_8</td>\n",
              "      <td>19480</td>\n",
              "      <td>703748</td>\n",
              "      <td>8</td>\n",
              "    </tr>\n",
              "    <tr>\n",
              "      <th>3</th>\n",
              "      <td>19471_701677_1</td>\n",
              "      <td>19471</td>\n",
              "      <td>701677</td>\n",
              "      <td>1</td>\n",
              "    </tr>\n",
              "    <tr>\n",
              "      <th>4</th>\n",
              "      <td>19480_703751_1</td>\n",
              "      <td>19480</td>\n",
              "      <td>703751</td>\n",
              "      <td>1</td>\n",
              "    </tr>\n",
              "  </tbody>\n",
              "</table>\n",
              "</div>"
            ],
            "text/plain": [
              "  Original_Filename Document  Middle Section\n",
              "0    19468_698370_8    19468  698370       8\n",
              "1    19471_701669_8    19471  701669       8\n",
              "2    19480_703748_8    19480  703748       8\n",
              "3    19471_701677_1    19471  701677       1\n",
              "4    19480_703751_1    19480  703751       1"
            ]
          },
          "metadata": {},
          "execution_count": 8
        }
      ]
    },
    {
      "cell_type": "code",
      "metadata": {
        "colab": {
          "base_uri": "https://localhost:8080/",
          "height": 220
        },
        "id": "x19r7leiIeUc",
        "outputId": "24e133a1-b8fd-4690-db15-7319c0a22f7c"
      },
      "source": [
        "gs_df = gs_df.loc[gs_df['Section'] == \"1\"]\n",
        "print(len(gs_df))\n",
        "gs_df.head()"
      ],
      "execution_count": null,
      "outputs": [
        {
          "output_type": "stream",
          "name": "stdout",
          "text": [
            "3000\n"
          ]
        },
        {
          "output_type": "execute_result",
          "data": {
            "text/html": [
              "<div>\n",
              "<style scoped>\n",
              "    .dataframe tbody tr th:only-of-type {\n",
              "        vertical-align: middle;\n",
              "    }\n",
              "\n",
              "    .dataframe tbody tr th {\n",
              "        vertical-align: top;\n",
              "    }\n",
              "\n",
              "    .dataframe thead th {\n",
              "        text-align: right;\n",
              "    }\n",
              "</style>\n",
              "<table border=\"1\" class=\"dataframe\">\n",
              "  <thead>\n",
              "    <tr style=\"text-align: right;\">\n",
              "      <th></th>\n",
              "      <th>Original_Filename</th>\n",
              "      <th>Document</th>\n",
              "      <th>Middle</th>\n",
              "      <th>Section</th>\n",
              "    </tr>\n",
              "  </thead>\n",
              "  <tbody>\n",
              "    <tr>\n",
              "      <th>3</th>\n",
              "      <td>19471_701677_1</td>\n",
              "      <td>19471</td>\n",
              "      <td>701677</td>\n",
              "      <td>1</td>\n",
              "    </tr>\n",
              "    <tr>\n",
              "      <th>4</th>\n",
              "      <td>19480_703751_1</td>\n",
              "      <td>19480</td>\n",
              "      <td>703751</td>\n",
              "      <td>1</td>\n",
              "    </tr>\n",
              "    <tr>\n",
              "      <th>7</th>\n",
              "      <td>19483_705473_1</td>\n",
              "      <td>19483</td>\n",
              "      <td>705473</td>\n",
              "      <td>1</td>\n",
              "    </tr>\n",
              "    <tr>\n",
              "      <th>9</th>\n",
              "      <td>19484_706125_1</td>\n",
              "      <td>19484</td>\n",
              "      <td>706125</td>\n",
              "      <td>1</td>\n",
              "    </tr>\n",
              "    <tr>\n",
              "      <th>11</th>\n",
              "      <td>19485_706628_1</td>\n",
              "      <td>19485</td>\n",
              "      <td>706628</td>\n",
              "      <td>1</td>\n",
              "    </tr>\n",
              "  </tbody>\n",
              "</table>\n",
              "</div>"
            ],
            "text/plain": [
              "   Original_Filename Document  Middle Section\n",
              "3     19471_701677_1    19471  701677       1\n",
              "4     19480_703751_1    19480  703751       1\n",
              "7     19483_705473_1    19483  705473       1\n",
              "9     19484_706125_1    19484  706125       1\n",
              "11    19485_706628_1    19485  706628       1"
            ]
          },
          "metadata": {},
          "execution_count": 9
        }
      ]
    },
    {
      "cell_type": "code",
      "metadata": {
        "colab": {
          "base_uri": "https://localhost:8080/"
        },
        "id": "5VJcQAGhaZ3c",
        "outputId": "c6227e7e-e7c9-412e-8c8a-15e9f777d41b"
      },
      "source": [
        "gs_path = []\n",
        "for path in gs_list:\n",
        "  if '_1.txt' in path:\n",
        "    gs_path.append(path)\n",
        "\n",
        "print(len(gs_path))\n",
        "gs_path[:5]"
      ],
      "execution_count": null,
      "outputs": [
        {
          "output_type": "stream",
          "name": "stdout",
          "text": [
            "3000\n"
          ]
        },
        {
          "output_type": "execute_result",
          "data": {
            "text/plain": [
              "['19471_701677_1.txt',\n",
              " '19480_703751_1.txt',\n",
              " '19483_705473_1.txt',\n",
              " '19484_706125_1.txt',\n",
              " '19485_706628_1.txt']"
            ]
          },
          "metadata": {},
          "execution_count": 10
        }
      ]
    },
    {
      "cell_type": "code",
      "metadata": {
        "colab": {
          "base_uri": "https://localhost:8080/"
        },
        "id": "zwr8F0XhIOsP",
        "outputId": "1c6a1600-2d44-4b4f-d805-a6ce8b2e1032"
      },
      "source": [
        "  sample_path = \"/content/drive/MyDrive/Aiffel_Hackathon/financial_documents/training_gold_standards/19480_703751_1.txt\"\n",
        "  file = open(sample_path, encoding='utf8')\n",
        "  text = file.read()\n",
        "  temp_length = len(text.split()) \n",
        "  file.close()\n",
        "\n",
        "  print(text)"
      ],
      "execution_count": null,
      "outputs": [
        {
          "output_type": "stream",
          "name": "stdout",
          "text": [
            " 10 RGI International Limited Annual Report & Accounts 2013\n",
            "CHAIRMAN’S STATEMENT\n",
            "With the full support of VEB, the Company has been \n",
            "able to push forward with building on the legacy  \n",
            "of its visionary founder Boris Kuzinez, who created  \n",
            "a business renowned in Moscow for distinctive, \n",
            "aspirational real estate built to a high quality. The  \n",
            "RGI approach to design and build has been applied \n",
            "most recently to its large residential development,  \n",
            "«V Lesu», in the Moscow Region, where over 30,000 \n",
            "people will live once the project is completed in 2022. \n",
            "Here, a very different kind of neighbourhood is taking \n",
            "shape, far removed from most of the mass market \n",
            "residential projects that are seen in the suburbs  \n",
            "of Moscow.\n",
            "This distinctive look and feel can also be seen at \n",
            "Tsvetnoy Central Market, the department store built, \n",
            "owned and operated by RGI in the centre of Moscow. \n",
            "Both developments have the concept of dynamic \n",
            "communities at their heart and it is this key focus, as \n",
            "well as design excellence and build quality, that sets \n",
            "RGI apart as a developer and gives us the potential  \n",
            "to deliver superior shareholder returns.\n",
            "The opportunity for us is clear. RGI operates solely in \n",
            "Moscow, the 9th largest city economy in the world \n",
            "ranking ahead of cities such as Sao Paulo, Shanghai, \n",
            "Beijing and Washington DC. Home to the Russian \n",
            "Government it is also the headquarters of most of the \n",
            "multinationals operating in Russia across a range of \n",
            "industries. Moscow’s economy is significantly \n",
            "diversified beyond the natural resources sector, with a \n",
            "large industrial base and fast growing technology and \n",
            "consumer sectors. Despite a growing population, as a \n",
            "result of immigration from the regions, unemployment \n",
            "remains low at around 0.5%.\n",
            "This economic dynamism is resulting in a fast \n",
            "expanding, increasingly sophisticated and prosperous \n",
            "middle and upper-middle class, constituting a natural \n",
            "customer base for both our residential development \n",
            "and the Tsvetnoy department store. As in many \n",
            "Western cities, the pressure on a limited stock of \n",
            "suitable housing in the right areas is high. At «V Lesu», \n",
            "we have completed Phase I, opening the doors on a \n",
            "new kind of community for the aspirational buyer. We \n",
            "are setting unique standards in terms of choice and \n",
            "quality in the fit-out of new apartments in a market \n",
            "still dominated by shell and core offerings. We are \n",
            "distinguishing ourselves by having underground \n",
            "parking spaces for every apartment accessible directly \n",
            "by lift. Above all, we are offering an attractive, safe, \n",
            "desirable neighbourhood with the on-site facilities \n",
            "and transport links needed to raise a modern family. \n",
            "As we begin to deliver the first completely fitted-out \n",
            "apartments to residents in H1 2014, we are \n",
            "committed to growing RGI in a responsible way.  \n",
            "This means looking beyond Phase 2, already under \n",
            "construction, to later phases of «V Lesu» and new, \n",
            "scalable projects with suitable risk-return profiles.  \n",
            "At Tsvetnoy, we will continue our efforts to increase \n",
            "profitability while looking for opportunities to return \n",
            "capital from the operation. The Company’s key \n",
            "objective remains to deliver a consistent level of \n",
            "positive cash flow each year to improve shareholder \n",
            "value, translating over time into growth in net asset \n",
            "value per share and a regular dividend stream.\n",
            "Emmanuel Blouin\n",
            "Non-Executive Chairman\n",
            "We are focused on \n",
            "building long-term  \n",
            "value and developing  \n",
            "a sustainable business\n",
            "2013 was a transformational year for RGI as we \n",
            "welcomed a new majority shareholder and drew a \n",
            "line under a difficult period in the Company’s history.\n",
            "The acquisition in Q1 2013 of a majority stake in RGI \n",
            "by Vnesheconombank (“VEB”) group companies \n",
            "represents a long-term portfolio investment by one \n",
            "of Russia’s largest state owned banks. Our new \n",
            "shareholder provides the stability needed to plan for \n",
            "the long term on the basis of a relationship \n",
            "agreement that provides for VEB’s representation on \n",
            "the Board while affirming the principles of best \n",
            "corporate governance practices.\n",
            "The restructured Board has emerged as leaner, \n",
            "independent and better balanced. The elevation last \n",
            "spring of Andrey Nesterenko to the Board of Directors, \n",
            "along with the appointments of David Wood as CFO, \n",
            "Natalia Saakyants as Commercial Director and \n",
            "Petr Isaev as CEO of Tsvetnoy have put in place a \n",
            "dynamic and experienced team combining finance \n",
            "and property expertise to lead the Company. 11 RGI International Limited Annual Report & Accounts 2013\n",
            "Last year, we reported that we had rebranded the \n",
            "operating business in Russia as Rose Group, which has \n",
            "a better connection with consumers as a brand \n",
            "standing for the principles of innovation, design and \n",
            "product quality that have made Microgorod «V Lesu» \n",
            "a success. This year, the Directors are proposing to \n",
            "adopt that name formally for the Group as a whole to \n",
            "ensure alignment of our marketing and corporate \n",
            "messages. We will be adding such a resolution to the \n",
            "agenda for this year’s AGM. \n",
            "RGI invests capital in multi-year projects that, over the \n",
            "long run, have the potential to deliver superior returns. \n",
            "We now enjoy a strong and stable shareholder base, an \n",
            "outstanding executive team, a demonstrated ability to \n",
            "deliver real estate and exciting growth prospects \n",
            "embedded in our current portfolio as well as potential \n",
            "acquisition opportunities. Our management team in \n",
            "Moscow has the experience to generate good deal flow, \n",
            "and the expertise to analyse opportunities quickly and \n",
            "thoroughly. Our business is well-positioned for future \n",
            "growth. We must however caution that it is too early to \n",
            "assess fully the economic impact of the crisis in Ukraine \n",
            "and the Company is actively monitoring the situation.\n",
            "Emmanuel Blouin\n",
            "Non-Executive Chairman\n",
            "“Our new shareholder provides the stability needed to plan for \n",
            "the long term”\n",
            "Vnesheconombank\n",
            "• Founded in 1922\n",
            "• 100% owned by Russian Federation \n",
            "• Senior government representation on the Supervisory Board\n",
            "• Direct equity contributions from the Federal Budget \n",
            "• Cooperation with the key development financial institutions worldwide \n",
            "• International credit ratings \n",
            "Fitch – BBB / Stable \n",
            "S&P – BBB / Stable \n",
            "Moody’s – BAA1/Stable\n",
            "Vnesheconombank is a Russian state corporation performing functions of the Bank for Development. Its \n",
            "mission is to diversify the Russian economy, boost its competitive edge and encourage the inflow of \n",
            "investments. Vnesheconombank funds major investment projects aimed at removing economic growth \n",
            "infrastructure restrictions. As a development bank, VEB does not compete with commercial credit \n",
            "institutions and has a mandate to fund socially important projects. \n",
            "\n"
          ]
        }
      ]
    },
    {
      "cell_type": "code",
      "metadata": {
        "colab": {
          "base_uri": "https://localhost:8080/"
        },
        "id": "MGtbPPyLHSv7",
        "outputId": "9ab94ef9-f699-48e5-b1c5-50e6d30ceebe"
      },
      "source": [
        "doc_lengths = []\n",
        "for path in gs_path:\n",
        "  file = open(path, encoding='utf8')\n",
        "  text = file.read()\n",
        "  temp_length = len(text.split()) \n",
        "  doc_lengths.append(temp_length)\n",
        "  file.close()\n",
        "  \n",
        "print(len(doc_lengths))\n",
        "\n",
        "gs_df['Length'] = doc_lengths\n"
      ],
      "execution_count": null,
      "outputs": [
        {
          "output_type": "stream",
          "name": "stdout",
          "text": [
            "3000\n"
          ]
        }
      ]
    },
    {
      "cell_type": "code",
      "metadata": {
        "colab": {
          "base_uri": "https://localhost:8080/"
        },
        "id": "u4nANDTxojsE",
        "outputId": "17c34580-8304-4e3c-b073-cee8a03a0b60"
      },
      "source": [
        "len(gs_df['Length'])"
      ],
      "execution_count": null,
      "outputs": [
        {
          "output_type": "execute_result",
          "data": {
            "text/plain": [
              "3000"
            ]
          },
          "metadata": {},
          "execution_count": 13
        }
      ]
    },
    {
      "cell_type": "code",
      "metadata": {
        "id": "bPVu4PKTVujv",
        "colab": {
          "base_uri": "https://localhost:8080/",
          "height": 220
        },
        "outputId": "d779daf6-ab25-415f-e49d-df3f8dd92a42"
      },
      "source": [
        "print(len(gs_df))\n",
        "gs_df.head()"
      ],
      "execution_count": null,
      "outputs": [
        {
          "output_type": "stream",
          "name": "stdout",
          "text": [
            "3000\n"
          ]
        },
        {
          "output_type": "execute_result",
          "data": {
            "text/html": [
              "<div>\n",
              "<style scoped>\n",
              "    .dataframe tbody tr th:only-of-type {\n",
              "        vertical-align: middle;\n",
              "    }\n",
              "\n",
              "    .dataframe tbody tr th {\n",
              "        vertical-align: top;\n",
              "    }\n",
              "\n",
              "    .dataframe thead th {\n",
              "        text-align: right;\n",
              "    }\n",
              "</style>\n",
              "<table border=\"1\" class=\"dataframe\">\n",
              "  <thead>\n",
              "    <tr style=\"text-align: right;\">\n",
              "      <th></th>\n",
              "      <th>Original_Filename</th>\n",
              "      <th>Document</th>\n",
              "      <th>Middle</th>\n",
              "      <th>Section</th>\n",
              "      <th>Length</th>\n",
              "    </tr>\n",
              "  </thead>\n",
              "  <tbody>\n",
              "    <tr>\n",
              "      <th>3</th>\n",
              "      <td>19471_701677_1</td>\n",
              "      <td>19471</td>\n",
              "      <td>701677</td>\n",
              "      <td>1</td>\n",
              "      <td>1714</td>\n",
              "    </tr>\n",
              "    <tr>\n",
              "      <th>4</th>\n",
              "      <td>19480_703751_1</td>\n",
              "      <td>19480</td>\n",
              "      <td>703751</td>\n",
              "      <td>1</td>\n",
              "      <td>1031</td>\n",
              "    </tr>\n",
              "    <tr>\n",
              "      <th>7</th>\n",
              "      <td>19483_705473_1</td>\n",
              "      <td>19483</td>\n",
              "      <td>705473</td>\n",
              "      <td>1</td>\n",
              "      <td>1015</td>\n",
              "    </tr>\n",
              "    <tr>\n",
              "      <th>9</th>\n",
              "      <td>19484_706125_1</td>\n",
              "      <td>19484</td>\n",
              "      <td>706125</td>\n",
              "      <td>1</td>\n",
              "      <td>869</td>\n",
              "    </tr>\n",
              "    <tr>\n",
              "      <th>11</th>\n",
              "      <td>19485_706628_1</td>\n",
              "      <td>19485</td>\n",
              "      <td>706628</td>\n",
              "      <td>1</td>\n",
              "      <td>1262</td>\n",
              "    </tr>\n",
              "  </tbody>\n",
              "</table>\n",
              "</div>"
            ],
            "text/plain": [
              "   Original_Filename Document  Middle Section  Length\n",
              "3     19471_701677_1    19471  701677       1    1714\n",
              "4     19480_703751_1    19480  703751       1    1031\n",
              "7     19483_705473_1    19483  705473       1    1015\n",
              "9     19484_706125_1    19484  706125       1     869\n",
              "11    19485_706628_1    19485  706628       1    1262"
            ]
          },
          "metadata": {},
          "execution_count": 15
        }
      ]
    },
    {
      "cell_type": "markdown",
      "metadata": {
        "id": "IkWCPOrYds6z"
      },
      "source": [
        "### Training Sections\n",
        "Analyze the Training Data Sections - similar to above"
      ]
    },
    {
      "cell_type": "code",
      "metadata": {
        "id": "_rbOuJ6Yds9G",
        "colab": {
          "base_uri": "https://localhost:8080/",
          "height": 220
        },
        "outputId": "14a6d0e8-1204-486b-987d-3802ffb230a5"
      },
      "source": [
        "train_list = os.listdir(\"/content/drive/MyDrive/Aiffel_Hackathon/financial_documents/training_sections\")\n",
        "len(train_list)\n",
        "train_df = pd.DataFrame(train_list, columns=['Original_Filename'])\n",
        "train_df['Original_Filename'] = train_df['Original_Filename'].str.replace('.txt', '')\n",
        "train_df[['Document', 'Middle', 'Section']] = train_df['Original_Filename'].str.split('_').tolist()\n",
        "\n",
        "train_df.head()\n"
      ],
      "execution_count": null,
      "outputs": [
        {
          "output_type": "execute_result",
          "data": {
            "text/plain": [
              "3091"
            ]
          },
          "metadata": {},
          "execution_count": 16
        },
        {
          "output_type": "execute_result",
          "data": {
            "text/html": [
              "<div>\n",
              "<style scoped>\n",
              "    .dataframe tbody tr th:only-of-type {\n",
              "        vertical-align: middle;\n",
              "    }\n",
              "\n",
              "    .dataframe tbody tr th {\n",
              "        vertical-align: top;\n",
              "    }\n",
              "\n",
              "    .dataframe thead th {\n",
              "        text-align: right;\n",
              "    }\n",
              "</style>\n",
              "<table border=\"1\" class=\"dataframe\">\n",
              "  <thead>\n",
              "    <tr style=\"text-align: right;\">\n",
              "      <th></th>\n",
              "      <th>Original_Filename</th>\n",
              "      <th>Document</th>\n",
              "      <th>Middle</th>\n",
              "      <th>Section</th>\n",
              "    </tr>\n",
              "  </thead>\n",
              "  <tbody>\n",
              "    <tr>\n",
              "      <th>0</th>\n",
              "      <td>15786_819157_2</td>\n",
              "      <td>15786</td>\n",
              "      <td>819157</td>\n",
              "      <td>2</td>\n",
              "    </tr>\n",
              "    <tr>\n",
              "      <th>1</th>\n",
              "      <td>15783_819108_2</td>\n",
              "      <td>15783</td>\n",
              "      <td>819108</td>\n",
              "      <td>2</td>\n",
              "    </tr>\n",
              "    <tr>\n",
              "      <th>2</th>\n",
              "      <td>15782_819091_2</td>\n",
              "      <td>15782</td>\n",
              "      <td>819091</td>\n",
              "      <td>2</td>\n",
              "    </tr>\n",
              "    <tr>\n",
              "      <th>3</th>\n",
              "      <td>15787_819176_2</td>\n",
              "      <td>15787</td>\n",
              "      <td>819176</td>\n",
              "      <td>2</td>\n",
              "    </tr>\n",
              "    <tr>\n",
              "      <th>4</th>\n",
              "      <td>15816_820156_2</td>\n",
              "      <td>15816</td>\n",
              "      <td>820156</td>\n",
              "      <td>2</td>\n",
              "    </tr>\n",
              "  </tbody>\n",
              "</table>\n",
              "</div>"
            ],
            "text/plain": [
              "  Original_Filename Document  Middle Section\n",
              "0    15786_819157_2    15786  819157       2\n",
              "1    15783_819108_2    15783  819108       2\n",
              "2    15782_819091_2    15782  819091       2\n",
              "3    15787_819176_2    15787  819176       2\n",
              "4    15816_820156_2    15816  820156       2"
            ]
          },
          "metadata": {},
          "execution_count": 16
        }
      ]
    },
    {
      "cell_type": "code",
      "metadata": {
        "colab": {
          "base_uri": "https://localhost:8080/",
          "height": 220
        },
        "id": "Ql-vCfx3pEno",
        "outputId": "2c048ab4-67f4-467b-a05e-e451353b4ed7"
      },
      "source": [
        "train_df = train_df.loc[train_df['Section'] == \"2\"]\n",
        "print(len(train_df))\n",
        "train_df.head()"
      ],
      "execution_count": null,
      "outputs": [
        {
          "output_type": "stream",
          "name": "stdout",
          "text": [
            "3091\n"
          ]
        },
        {
          "output_type": "execute_result",
          "data": {
            "text/html": [
              "<div>\n",
              "<style scoped>\n",
              "    .dataframe tbody tr th:only-of-type {\n",
              "        vertical-align: middle;\n",
              "    }\n",
              "\n",
              "    .dataframe tbody tr th {\n",
              "        vertical-align: top;\n",
              "    }\n",
              "\n",
              "    .dataframe thead th {\n",
              "        text-align: right;\n",
              "    }\n",
              "</style>\n",
              "<table border=\"1\" class=\"dataframe\">\n",
              "  <thead>\n",
              "    <tr style=\"text-align: right;\">\n",
              "      <th></th>\n",
              "      <th>Original_Filename</th>\n",
              "      <th>Document</th>\n",
              "      <th>Middle</th>\n",
              "      <th>Section</th>\n",
              "    </tr>\n",
              "  </thead>\n",
              "  <tbody>\n",
              "    <tr>\n",
              "      <th>0</th>\n",
              "      <td>15786_819157_2</td>\n",
              "      <td>15786</td>\n",
              "      <td>819157</td>\n",
              "      <td>2</td>\n",
              "    </tr>\n",
              "    <tr>\n",
              "      <th>1</th>\n",
              "      <td>15783_819108_2</td>\n",
              "      <td>15783</td>\n",
              "      <td>819108</td>\n",
              "      <td>2</td>\n",
              "    </tr>\n",
              "    <tr>\n",
              "      <th>2</th>\n",
              "      <td>15782_819091_2</td>\n",
              "      <td>15782</td>\n",
              "      <td>819091</td>\n",
              "      <td>2</td>\n",
              "    </tr>\n",
              "    <tr>\n",
              "      <th>3</th>\n",
              "      <td>15787_819176_2</td>\n",
              "      <td>15787</td>\n",
              "      <td>819176</td>\n",
              "      <td>2</td>\n",
              "    </tr>\n",
              "    <tr>\n",
              "      <th>4</th>\n",
              "      <td>15816_820156_2</td>\n",
              "      <td>15816</td>\n",
              "      <td>820156</td>\n",
              "      <td>2</td>\n",
              "    </tr>\n",
              "  </tbody>\n",
              "</table>\n",
              "</div>"
            ],
            "text/plain": [
              "  Original_Filename Document  Middle Section\n",
              "0    15786_819157_2    15786  819157       2\n",
              "1    15783_819108_2    15783  819108       2\n",
              "2    15782_819091_2    15782  819091       2\n",
              "3    15787_819176_2    15787  819176       2\n",
              "4    15816_820156_2    15816  820156       2"
            ]
          },
          "metadata": {},
          "execution_count": 17
        }
      ]
    },
    {
      "cell_type": "code",
      "metadata": {
        "id": "FEAzxj7aqzZK"
      },
      "source": [
        "os.chdir(\"/content/drive/MyDrive/Aiffel_Hackathon/financial_documents/training_sections\")"
      ],
      "execution_count": null,
      "outputs": []
    },
    {
      "cell_type": "code",
      "metadata": {
        "id": "kQY8tHOepPRT"
      },
      "source": [
        "train_doc_lengths = []\n",
        "for path in train_list:\n",
        "  file = open(path, encoding='utf8')\n",
        "  text = file.read()\n",
        "  temp_length = len(text.split())\n",
        "  train_doc_lengths.append(temp_length)\n",
        "  file.close()\n",
        "\n",
        "train_df['Length'] = train_doc_lengths\n"
      ],
      "execution_count": null,
      "outputs": []
    },
    {
      "cell_type": "code",
      "metadata": {
        "colab": {
          "base_uri": "https://localhost:8080/",
          "height": 220
        },
        "id": "fVHDtSNZr0fJ",
        "outputId": "8a6d7339-ae8e-480a-82f0-54c532ff26f0"
      },
      "source": [
        "print(len(train_df))\n",
        "train_df.head()"
      ],
      "execution_count": null,
      "outputs": [
        {
          "output_type": "stream",
          "name": "stdout",
          "text": [
            "3091\n"
          ]
        },
        {
          "output_type": "execute_result",
          "data": {
            "text/html": [
              "<div>\n",
              "<style scoped>\n",
              "    .dataframe tbody tr th:only-of-type {\n",
              "        vertical-align: middle;\n",
              "    }\n",
              "\n",
              "    .dataframe tbody tr th {\n",
              "        vertical-align: top;\n",
              "    }\n",
              "\n",
              "    .dataframe thead th {\n",
              "        text-align: right;\n",
              "    }\n",
              "</style>\n",
              "<table border=\"1\" class=\"dataframe\">\n",
              "  <thead>\n",
              "    <tr style=\"text-align: right;\">\n",
              "      <th></th>\n",
              "      <th>Original_Filename</th>\n",
              "      <th>Document</th>\n",
              "      <th>Middle</th>\n",
              "      <th>Section</th>\n",
              "      <th>Length</th>\n",
              "    </tr>\n",
              "  </thead>\n",
              "  <tbody>\n",
              "    <tr>\n",
              "      <th>0</th>\n",
              "      <td>15786_819157_2</td>\n",
              "      <td>15786</td>\n",
              "      <td>819157</td>\n",
              "      <td>2</td>\n",
              "      <td>2181</td>\n",
              "    </tr>\n",
              "    <tr>\n",
              "      <th>1</th>\n",
              "      <td>15783_819108_2</td>\n",
              "      <td>15783</td>\n",
              "      <td>819108</td>\n",
              "      <td>2</td>\n",
              "      <td>1147</td>\n",
              "    </tr>\n",
              "    <tr>\n",
              "      <th>2</th>\n",
              "      <td>15782_819091_2</td>\n",
              "      <td>15782</td>\n",
              "      <td>819091</td>\n",
              "      <td>2</td>\n",
              "      <td>882</td>\n",
              "    </tr>\n",
              "    <tr>\n",
              "      <th>3</th>\n",
              "      <td>15787_819176_2</td>\n",
              "      <td>15787</td>\n",
              "      <td>819176</td>\n",
              "      <td>2</td>\n",
              "      <td>2203</td>\n",
              "    </tr>\n",
              "    <tr>\n",
              "      <th>4</th>\n",
              "      <td>15816_820156_2</td>\n",
              "      <td>15816</td>\n",
              "      <td>820156</td>\n",
              "      <td>2</td>\n",
              "      <td>2032</td>\n",
              "    </tr>\n",
              "  </tbody>\n",
              "</table>\n",
              "</div>"
            ],
            "text/plain": [
              "  Original_Filename Document  Middle Section  Length\n",
              "0    15786_819157_2    15786  819157       2    2181\n",
              "1    15783_819108_2    15783  819108       2    1147\n",
              "2    15782_819091_2    15782  819091       2     882\n",
              "3    15787_819176_2    15787  819176       2    2203\n",
              "4    15816_820156_2    15816  820156       2    2032"
            ]
          },
          "metadata": {},
          "execution_count": 20
        }
      ]
    },
    {
      "cell_type": "code",
      "metadata": {
        "colab": {
          "base_uri": "https://localhost:8080/"
        },
        "id": "JfziXFLl25SV",
        "outputId": "e2f9b55e-e7a4-4085-a27a-5fe1f023f5de"
      },
      "source": [
        "train_df = train_df.drop_duplicates(subset=['Document', 'Section'], keep='first')\n",
        "print(len(train_df))"
      ],
      "execution_count": null,
      "outputs": [
        {
          "output_type": "stream",
          "name": "stdout",
          "text": [
            "3005\n"
          ]
        }
      ]
    },
    {
      "cell_type": "markdown",
      "metadata": {
        "id": "bNn_ZrFy4K5p"
      },
      "source": [
        "## Text Length Comparisons\n",
        "Analyze the Text by word count to get some statistics."
      ]
    },
    {
      "cell_type": "code",
      "metadata": {
        "id": "3QKWT7ua4csQ",
        "colab": {
          "base_uri": "https://localhost:8080/",
          "height": 416
        },
        "outputId": "f6c3ca1c-c452-45e1-b29b-23ecf65846cb"
      },
      "source": [
        "train_df['Length'].describe()\n",
        "train_df['Length'].hist(bins=20)"
      ],
      "execution_count": null,
      "outputs": [
        {
          "output_type": "execute_result",
          "data": {
            "text/plain": [
              "count     3005.000000\n",
              "mean      2039.665557\n",
              "std       1478.060387\n",
              "min          0.000000\n",
              "25%       1142.000000\n",
              "50%       1715.000000\n",
              "75%       2542.000000\n",
              "max      21742.000000\n",
              "Name: Length, dtype: float64"
            ]
          },
          "metadata": {},
          "execution_count": 24
        },
        {
          "output_type": "execute_result",
          "data": {
            "text/plain": [
              "<matplotlib.axes._subplots.AxesSubplot at 0x7f839ad88110>"
            ]
          },
          "metadata": {},
          "execution_count": 24
        },
        {
          "output_type": "display_data",
          "data": {
            "image/png": "[encoded data removed]",
            "text/plain": [
              "<Figure size 432x288 with 1 Axes>"
            ]
          },
          "metadata": {
            "needs_background": "light"
          }
        }
      ]
    },
    {
      "cell_type": "code",
      "metadata": {
        "id": "_ase8ocV4hk8",
        "colab": {
          "base_uri": "https://localhost:8080/"
        },
        "outputId": "6204c203-7227-40a1-dc24-218576965a82"
      },
      "source": [
        "over4000 = train_df[train_df['Length'] > 4000]\n",
        "print(len(over4000))\n",
        "print(\"ratio: \", len(over4000)/len(train_df['Length'])*100)"
      ],
      "execution_count": null,
      "outputs": [
        {
          "output_type": "stream",
          "name": "stdout",
          "text": [
            "216\n",
            "ratio:  7.18801996672213\n"
          ]
        }
      ]
    },
    {
      "cell_type": "code",
      "metadata": {
        "colab": {
          "base_uri": "https://localhost:8080/"
        },
        "id": "OmJszOywMrZQ",
        "outputId": "e549a956-beef-4961-c651-48f5bb382ec6"
      },
      "source": [
        "over500 = 500 < train_df['Length']\n",
        "less4000 = 4000 > train_df['Length']\n",
        "new_train_df = train_df[over500 & less4000]\n",
        "len(new_train_df)"
      ],
      "execution_count": null,
      "outputs": [
        {
          "output_type": "execute_result",
          "data": {
            "text/plain": [
              "2671"
            ]
          },
          "metadata": {},
          "execution_count": 37
        }
      ]
    },
    {
      "cell_type": "code",
      "metadata": {
        "id": "8eBTbfNdZEDM",
        "colab": {
          "base_uri": "https://localhost:8080/",
          "height": 220
        },
        "outputId": "8cd6b8c7-518c-46ff-951d-b2a62bff32b3"
      },
      "source": [
        "train_data = new_train_df.merge(gs_df, how='left', on=['Document'])\n",
        "print(len(train_data))\n",
        "train_data.head()"
      ],
      "execution_count": null,
      "outputs": [
        {
          "output_type": "stream",
          "name": "stdout",
          "text": [
            "2671\n"
          ]
        },
        {
          "output_type": "execute_result",
          "data": {
            "text/html": [
              "<div>\n",
              "<style scoped>\n",
              "    .dataframe tbody tr th:only-of-type {\n",
              "        vertical-align: middle;\n",
              "    }\n",
              "\n",
              "    .dataframe tbody tr th {\n",
              "        vertical-align: top;\n",
              "    }\n",
              "\n",
              "    .dataframe thead th {\n",
              "        text-align: right;\n",
              "    }\n",
              "</style>\n",
              "<table border=\"1\" class=\"dataframe\">\n",
              "  <thead>\n",
              "    <tr style=\"text-align: right;\">\n",
              "      <th></th>\n",
              "      <th>Original_Filename_x</th>\n",
              "      <th>Document</th>\n",
              "      <th>Middle_x</th>\n",
              "      <th>Section_x</th>\n",
              "      <th>Length_x</th>\n",
              "      <th>Original_Filename_y</th>\n",
              "      <th>Middle_y</th>\n",
              "      <th>Section_y</th>\n",
              "      <th>Length_y</th>\n",
              "    </tr>\n",
              "  </thead>\n",
              "  <tbody>\n",
              "    <tr>\n",
              "      <th>0</th>\n",
              "      <td>15786_819157_2</td>\n",
              "      <td>15786</td>\n",
              "      <td>819157</td>\n",
              "      <td>2</td>\n",
              "      <td>2181</td>\n",
              "      <td>15786_819156_1</td>\n",
              "      <td>819156</td>\n",
              "      <td>1</td>\n",
              "      <td>1387.0</td>\n",
              "    </tr>\n",
              "    <tr>\n",
              "      <th>1</th>\n",
              "      <td>15783_819108_2</td>\n",
              "      <td>15783</td>\n",
              "      <td>819108</td>\n",
              "      <td>2</td>\n",
              "      <td>1147</td>\n",
              "      <td>15783_819107_1</td>\n",
              "      <td>819107</td>\n",
              "      <td>1</td>\n",
              "      <td>950.0</td>\n",
              "    </tr>\n",
              "    <tr>\n",
              "      <th>2</th>\n",
              "      <td>15782_819091_2</td>\n",
              "      <td>15782</td>\n",
              "      <td>819091</td>\n",
              "      <td>2</td>\n",
              "      <td>882</td>\n",
              "      <td>15782_819090_1</td>\n",
              "      <td>819090</td>\n",
              "      <td>1</td>\n",
              "      <td>725.0</td>\n",
              "    </tr>\n",
              "    <tr>\n",
              "      <th>3</th>\n",
              "      <td>15787_819176_2</td>\n",
              "      <td>15787</td>\n",
              "      <td>819176</td>\n",
              "      <td>2</td>\n",
              "      <td>2203</td>\n",
              "      <td>15787_819175_1</td>\n",
              "      <td>819175</td>\n",
              "      <td>1</td>\n",
              "      <td>642.0</td>\n",
              "    </tr>\n",
              "    <tr>\n",
              "      <th>4</th>\n",
              "      <td>15816_820156_2</td>\n",
              "      <td>15816</td>\n",
              "      <td>820156</td>\n",
              "      <td>2</td>\n",
              "      <td>2032</td>\n",
              "      <td>15816_820155_1</td>\n",
              "      <td>820155</td>\n",
              "      <td>1</td>\n",
              "      <td>795.0</td>\n",
              "    </tr>\n",
              "  </tbody>\n",
              "</table>\n",
              "</div>"
            ],
            "text/plain": [
              "  Original_Filename_x Document Middle_x  ... Middle_y  Section_y Length_y\n",
              "0      15786_819157_2    15786   819157  ...   819156          1   1387.0\n",
              "1      15783_819108_2    15783   819108  ...   819107          1    950.0\n",
              "2      15782_819091_2    15782   819091  ...   819090          1    725.0\n",
              "3      15787_819176_2    15787   819176  ...   819175          1    642.0\n",
              "4      15816_820156_2    15816   820156  ...   820155          1    795.0\n",
              "\n",
              "[5 rows x 9 columns]"
            ]
          },
          "metadata": {},
          "execution_count": 46
        }
      ]
    },
    {
      "cell_type": "code",
      "metadata": {
        "colab": {
          "base_uri": "https://localhost:8080/",
          "height": 416
        },
        "id": "ZJm1e60TOneQ",
        "outputId": "e052a2de-e5f6-4619-d1bc-09fcc60cf2f0"
      },
      "source": [
        "# gold summary의 길이 확인 \n",
        "train_data['Length_y'].describe()\n",
        "train_data['Length_y'].hist(bins=20)"
      ],
      "execution_count": null,
      "outputs": [
        {
          "output_type": "execute_result",
          "data": {
            "text/plain": [
              "count    2666.000000\n",
              "mean      931.393098\n",
              "std       540.033564\n",
              "min         3.000000\n",
              "25%       623.250000\n",
              "50%       838.500000\n",
              "75%      1117.000000\n",
              "max      8887.000000\n",
              "Name: Length_y, dtype: float64"
            ]
          },
          "metadata": {},
          "execution_count": 47
        },
        {
          "output_type": "execute_result",
          "data": {
            "text/plain": [
              "<matplotlib.axes._subplots.AxesSubplot at 0x7f83999a3090>"
            ]
          },
          "metadata": {},
          "execution_count": 47
        },
        {
          "output_type": "display_data",
          "data": {
            "image/png": "[encoded data removed]",
            "text/plain": [
              "<Figure size 432x288 with 1 Axes>"
            ]
          },
          "metadata": {
            "needs_background": "light"
          }
        }
      ]
    },
    {
      "cell_type": "code",
      "metadata": {
        "colab": {
          "base_uri": "https://localhost:8080/",
          "height": 220
        },
        "id": "RemOfVG8QfsW",
        "outputId": "9a9e913f-7494-4aad-9461-af12d139c9e4"
      },
      "source": [
        "over200 = train_data['Length_y'] > 200\n",
        "less1500 = train_data['Length_y'] < 1500\n",
        "train_data = train_data[over200 & less1500]\n",
        "len(train_data)\n",
        "train_data.head()"
      ],
      "execution_count": null,
      "outputs": [
        {
          "output_type": "execute_result",
          "data": {
            "text/plain": [
              "2408"
            ]
          },
          "metadata": {},
          "execution_count": 50
        },
        {
          "output_type": "execute_result",
          "data": {
            "text/html": [
              "<div>\n",
              "<style scoped>\n",
              "    .dataframe tbody tr th:only-of-type {\n",
              "        vertical-align: middle;\n",
              "    }\n",
              "\n",
              "    .dataframe tbody tr th {\n",
              "        vertical-align: top;\n",
              "    }\n",
              "\n",
              "    .dataframe thead th {\n",
              "        text-align: right;\n",
              "    }\n",
              "</style>\n",
              "<table border=\"1\" class=\"dataframe\">\n",
              "  <thead>\n",
              "    <tr style=\"text-align: right;\">\n",
              "      <th></th>\n",
              "      <th>Original_Filename_x</th>\n",
              "      <th>Document</th>\n",
              "      <th>Middle_x</th>\n",
              "      <th>Section_x</th>\n",
              "      <th>Length_x</th>\n",
              "      <th>Original_Filename_y</th>\n",
              "      <th>Middle_y</th>\n",
              "      <th>Section_y</th>\n",
              "      <th>Length_y</th>\n",
              "    </tr>\n",
              "  </thead>\n",
              "  <tbody>\n",
              "    <tr>\n",
              "      <th>0</th>\n",
              "      <td>15786_819157_2</td>\n",
              "      <td>15786</td>\n",
              "      <td>819157</td>\n",
              "      <td>2</td>\n",
              "      <td>2181</td>\n",
              "      <td>15786_819156_1</td>\n",
              "      <td>819156</td>\n",
              "      <td>1</td>\n",
              "      <td>1387.0</td>\n",
              "    </tr>\n",
              "    <tr>\n",
              "      <th>1</th>\n",
              "      <td>15783_819108_2</td>\n",
              "      <td>15783</td>\n",
              "      <td>819108</td>\n",
              "      <td>2</td>\n",
              "      <td>1147</td>\n",
              "      <td>15783_819107_1</td>\n",
              "      <td>819107</td>\n",
              "      <td>1</td>\n",
              "      <td>950.0</td>\n",
              "    </tr>\n",
              "    <tr>\n",
              "      <th>2</th>\n",
              "      <td>15782_819091_2</td>\n",
              "      <td>15782</td>\n",
              "      <td>819091</td>\n",
              "      <td>2</td>\n",
              "      <td>882</td>\n",
              "      <td>15782_819090_1</td>\n",
              "      <td>819090</td>\n",
              "      <td>1</td>\n",
              "      <td>725.0</td>\n",
              "    </tr>\n",
              "    <tr>\n",
              "      <th>3</th>\n",
              "      <td>15787_819176_2</td>\n",
              "      <td>15787</td>\n",
              "      <td>819176</td>\n",
              "      <td>2</td>\n",
              "      <td>2203</td>\n",
              "      <td>15787_819175_1</td>\n",
              "      <td>819175</td>\n",
              "      <td>1</td>\n",
              "      <td>642.0</td>\n",
              "    </tr>\n",
              "    <tr>\n",
              "      <th>4</th>\n",
              "      <td>15816_820156_2</td>\n",
              "      <td>15816</td>\n",
              "      <td>820156</td>\n",
              "      <td>2</td>\n",
              "      <td>2032</td>\n",
              "      <td>15816_820155_1</td>\n",
              "      <td>820155</td>\n",
              "      <td>1</td>\n",
              "      <td>795.0</td>\n",
              "    </tr>\n",
              "  </tbody>\n",
              "</table>\n",
              "</div>"
            ],
            "text/plain": [
              "  Original_Filename_x Document Middle_x  ... Middle_y  Section_y Length_y\n",
              "0      15786_819157_2    15786   819157  ...   819156          1   1387.0\n",
              "1      15783_819108_2    15783   819108  ...   819107          1    950.0\n",
              "2      15782_819091_2    15782   819091  ...   819090          1    725.0\n",
              "3      15787_819176_2    15787   819176  ...   819175          1    642.0\n",
              "4      15816_820156_2    15816   820156  ...   820155          1    795.0\n",
              "\n",
              "[5 rows x 9 columns]"
            ]
          },
          "metadata": {},
          "execution_count": 50
        }
      ]
    },
    {
      "cell_type": "markdown",
      "metadata": {
        "id": "bsz1ve3_bdzC"
      },
      "source": [
        "### Appending the Data"
      ]
    },
    {
      "cell_type": "code",
      "metadata": {
        "id": "qQfPFseicoIR",
        "colab": {
          "base_uri": "https://localhost:8080/",
          "height": 35
        },
        "outputId": "5855da9a-d917-447e-9935-bdec7ca4b3f7"
      },
      "source": [
        "os.getcwd()"
      ],
      "execution_count": null,
      "outputs": [
        {
          "output_type": "execute_result",
          "data": {
            "application/vnd.google.colaboratory.intrinsic+json": {
              "type": "string"
            },
            "text/plain": [
              "'/content/drive/My Drive/Aiffel_Hackathon/financial_documents/training_sections'"
            ]
          },
          "metadata": {},
          "execution_count": 66
        }
      ]
    },
    {
      "cell_type": "code",
      "metadata": {
        "id": "5q4woIjdcui4",
        "colab": {
          "base_uri": "https://localhost:8080/",
          "height": 203
        },
        "outputId": "54fd3349-3ade-49ae-b1f5-4364e41dcca2"
      },
      "source": [
        "train_data.rename(columns={'Original_Filename_y' : 'Gold_Filename',\n",
        "                            'Section_y' : 'Gold Section',\n",
        "                            'Length_y' : 'Gold_Summary_Length'}, inplace=True)\n",
        "train_data.head()"
      ],
      "execution_count": null,
      "outputs": [
        {
          "output_type": "execute_result",
          "data": {
            "text/html": [
              "<div>\n",
              "<style scoped>\n",
              "    .dataframe tbody tr th:only-of-type {\n",
              "        vertical-align: middle;\n",
              "    }\n",
              "\n",
              "    .dataframe tbody tr th {\n",
              "        vertical-align: top;\n",
              "    }\n",
              "\n",
              "    .dataframe thead th {\n",
              "        text-align: right;\n",
              "    }\n",
              "</style>\n",
              "<table border=\"1\" class=\"dataframe\">\n",
              "  <thead>\n",
              "    <tr style=\"text-align: right;\">\n",
              "      <th></th>\n",
              "      <th>Original_Filename_x</th>\n",
              "      <th>Document</th>\n",
              "      <th>Middle_x</th>\n",
              "      <th>Section_x</th>\n",
              "      <th>Length_x</th>\n",
              "      <th>Gold_Filename</th>\n",
              "      <th>Middle_y</th>\n",
              "      <th>Gold Section</th>\n",
              "      <th>Gold_Summary_Length</th>\n",
              "    </tr>\n",
              "  </thead>\n",
              "  <tbody>\n",
              "    <tr>\n",
              "      <th>0</th>\n",
              "      <td>15786_819157_2</td>\n",
              "      <td>15786</td>\n",
              "      <td>819157</td>\n",
              "      <td>2</td>\n",
              "      <td>2181</td>\n",
              "      <td>15786_819156_1</td>\n",
              "      <td>819156</td>\n",
              "      <td>1</td>\n",
              "      <td>1387.0</td>\n",
              "    </tr>\n",
              "    <tr>\n",
              "      <th>1</th>\n",
              "      <td>15783_819108_2</td>\n",
              "      <td>15783</td>\n",
              "      <td>819108</td>\n",
              "      <td>2</td>\n",
              "      <td>1147</td>\n",
              "      <td>15783_819107_1</td>\n",
              "      <td>819107</td>\n",
              "      <td>1</td>\n",
              "      <td>950.0</td>\n",
              "    </tr>\n",
              "    <tr>\n",
              "      <th>2</th>\n",
              "      <td>15782_819091_2</td>\n",
              "      <td>15782</td>\n",
              "      <td>819091</td>\n",
              "      <td>2</td>\n",
              "      <td>882</td>\n",
              "      <td>15782_819090_1</td>\n",
              "      <td>819090</td>\n",
              "      <td>1</td>\n",
              "      <td>725.0</td>\n",
              "    </tr>\n",
              "    <tr>\n",
              "      <th>3</th>\n",
              "      <td>15787_819176_2</td>\n",
              "      <td>15787</td>\n",
              "      <td>819176</td>\n",
              "      <td>2</td>\n",
              "      <td>2203</td>\n",
              "      <td>15787_819175_1</td>\n",
              "      <td>819175</td>\n",
              "      <td>1</td>\n",
              "      <td>642.0</td>\n",
              "    </tr>\n",
              "    <tr>\n",
              "      <th>4</th>\n",
              "      <td>15816_820156_2</td>\n",
              "      <td>15816</td>\n",
              "      <td>820156</td>\n",
              "      <td>2</td>\n",
              "      <td>2032</td>\n",
              "      <td>15816_820155_1</td>\n",
              "      <td>820155</td>\n",
              "      <td>1</td>\n",
              "      <td>795.0</td>\n",
              "    </tr>\n",
              "  </tbody>\n",
              "</table>\n",
              "</div>"
            ],
            "text/plain": [
              "  Original_Filename_x Document  ... Gold Section Gold_Summary_Length\n",
              "0      15786_819157_2    15786  ...            1              1387.0\n",
              "1      15783_819108_2    15783  ...            1               950.0\n",
              "2      15782_819091_2    15782  ...            1               725.0\n",
              "3      15787_819176_2    15787  ...            1               642.0\n",
              "4      15816_820156_2    15816  ...            1               795.0\n",
              "\n",
              "[5 rows x 9 columns]"
            ]
          },
          "metadata": {},
          "execution_count": 52
        }
      ]
    },
    {
      "cell_type": "code",
      "metadata": {
        "id": "KELRIFZgS74P"
      },
      "source": [
        "train_data.to_csv(\"/content/drive/MyDrive/Aiffel_Hackathon/financial_documents/Bo_csv_files\")"
      ],
      "execution_count": null,
      "outputs": []
    },
    {
      "cell_type": "code",
      "metadata": {
        "id": "mOTL1SaDdIXp",
        "colab": {
          "base_uri": "https://localhost:8080/"
        },
        "outputId": "6aada6b9-72d6-48da-e8f0-979523e873ff"
      },
      "source": [
        "training_file_list = [x + str(\".txt\") for x in train_data['Original_Filename_x']]\n",
        "len(training_file_list)"
      ],
      "execution_count": null,
      "outputs": [
        {
          "output_type": "execute_result",
          "data": {
            "text/plain": [
              "2408"
            ]
          },
          "metadata": {},
          "execution_count": 68
        }
      ]
    },
    {
      "cell_type": "code",
      "metadata": {
        "colab": {
          "base_uri": "https://localhost:8080/"
        },
        "id": "Mm0Riim1cGA2",
        "outputId": "71d55489-2480-40a9-96f9-89979b1fb413"
      },
      "source": [
        "# sample로 한개 돌려보기\n",
        "with open(training_file_list[8], \"r\", encoding='utf-8') as file:\n",
        "  temp_str = ''\n",
        "  for line in file:\n",
        "    line = line.replace('\\n', ' ') \n",
        "    temp_str += line \n",
        "    \n",
        "print(temp_str)\n"
      ],
      "execution_count": null,
      "outputs": [
        {
          "output_type": "stream",
          "name": "stdout",
          "text": [
            " TOPPS TILES PLC Annual Report & Financial Statements 2007 05 CHIEF EXECUTIVE’S STATEMENT WE HAVE AGAIN THIS YEAR  DEMONSTRATED THE STRENGTH OF OUR STRATEGY AND OUR ORGANIC GROWTH. OUR MARKET LEADING POSITION, EXCELLENT CUSTOMER SERVICE AND COMMITTED STAFF HAVE ALL  CONTRIBUTED TO ANOTHER SOLID YEAR DESPITE A TOUGH HOME IMPROVEMENT MARKET. Tile Clearing House (“TCH”) Tile Clearing House, our “cash and carry” offering has had a strong trading period. We have opened a net 9 new TCH outlets and the format continues to prove popular with both trade customers and jobbing builders. We now have a total of 55 stores in the UK. New locations include Dartford, Southend, Plymouth and Lincoln.  Holland Against the backdrop of a stable market, we have seen good growth in sales and profits in our Dutch business. We opened a further five stores taking the total to 20. Our marketing activity has been at a local level to date. However, as we experienced with the UK market, as we begin to reach a size that brings scalable benefits we anticipate increasing our advertising and marketing to a national audience. We continue to improve the mix of sales with 25% now coming from tiles and the remainder from wood flooring, accessories and adhesives. Plans for the current year include the opening of a minimum of a  further five new stores. UK Store Development and Expansion We are pleased to have again achieved our store opening target of 30 net new stores in the period, giving us an overall total of 301 trading outlets throughout the UK. We have modified the target going forward to a minimum of 20 net new stores reflecting a wider focus on improving and renewing the estate.   Topps Tiles We have opened 25 stores in new locations, rebranded 2 from the TCH format, refitted 10 outlets and closed or relocated a further 6 giving us a total of 246 Topps stores. New locations include Crewe, Sheffield, Gloucester, Aylesbury, Scarborough, Brixton and Byfleet. We continue to develop our store portfolio and have now rolled out our new format across a total of 65 stores. The new enhanced display formats are proving popular with both customers and staff. We introduced a number of new ranges with a particular focus on natural products due to their increasing popularity.  Our aim is simple – to deliver sustainable growth and returns to shareholders and  central to that aim are our customers. We strive to enhance our customers’ buying experience by constantly improving stores and ranges and offering the best in customer service. TOPPS TILES PLC Annual Report & Financial Statements 2007 06 Marketing, advertising and sponsorship Over the last year we have maintained our national and regional marketing and advertising campaigns with Carlton Weather and our sponsorship of the UK Style channel. This year we also signed a sponsorship deal with Leicester City Football Club to coincide with the kick-off of the new football season in August. Although a commercial deal we very much see this as an extension to our community youth football initiative. Topps Tiles is Britain’s biggest supporter of community youth football and we currently sponsor around 300 local teams nationwide.  Staff development and customer service Recruiting and retaining ambitious people at Topps is a core part of our strategy. We place significant emphasis on the training and development of our employees. We have continued to develop our e-learning training system in store with a number of new courses.  CHIEF EXECUTIVE’S STATEMENT continued Group revenue was £207.9m, an increase of 15.4% on last year with like-for-like revenue for the period up 4.7%. Group operating profit was £44.3 million, an increase of 14.1%  compared with last year. We differentiate our business from the competition in a number of ways. All of our stores carry a wide range and supply of stock, we offer a loan-a-tile service, a free “How to” DVD, a tile cutting service and a buy-back service allowing customers to “sell back” undamaged tiles within 45 days of purchase. These services coupled with friendly and knowledgeable staff offering technical advice led to 97.6% of customers surveyed expressing levels of  satisfaction as ‘good to excellent’ (2006: 99.1%). Corporate responsibility Topps believes in conducting its business in a manner which achieves sustainable growth whilst incorporating and demonstrating social responsibility. Our policy is  published on our website at www.toppstiles.co.uk and more detail on our achievements can be found later in this report. The Board takes regular account of social, environmental and ethical matters in the business of the Group and believes in being responsible in the way that it conducts its operations.  TOPPS TILES PLC Annual Report & Financial Statements 2007 07 a requirement for a broader product offering and also a trend towards refurbishing traditional rooms more  regularly. Alongside these consumer trends household numbers continue to grow faster than the UK population, which is anticipated to rise by 12% over the next 25 years (source: ONS). This is in contrast to the increasing number of households, which is expected to grow by almost 23% in the next 20 years, from 20.9m in 2003 to 25.7m in 2026, 3 million of these are expected to be built by 2020. (source: Government forecasts). We therefore believe Topps is well placed to benefit from these consumer and housing trends driving the growth in the tile market.  Current Trading and Outlook               In the first 7 weeks of the new financial period Group overall revenue increased by 8.4% and like for like sales by 1.1%. In the UK revenue increased 8.1% and like for like sales by 1.0%. In Holland overall sales increased 18.1% with like for like sales up 2.5%. We have had a challenging but positive start to the new financial period and there remains an underlying growth trend in the retail tile market. Whilst we believe the prospects for the future growth of Topps Tiles remain broadly positive we must not underestimate the potential impact that this year’s turmoil in financial markets will ultimately have on consumers.   Matthew Williams Chief Executive Officer Topps is pleased to be a constituent member of the FTSE4Good UK Index. The Market We are the leading tile retailer in the UK with an estimated market share of in excess of 22% and we have continued to grow market share over the last financial year. The Home Improvement retail sector continues to see overall expansion and the UK tile market is forecast to grow by volume by over 15% between 2007 and 2011 (source: MBD). There is significant potential for growth in our  marketplace with the UK still having one of the lowest usages per head of ceramic tiles in Europe, at a level around one third of that of other Northern European countries (source: MBD). Consumers are becoming more demanding and buying trends are showing the desire to tile rooms beyond the traditional kitchen and bathroom, 4.7% Like-for-like sales growth. 62.8% Overall Group gross margin (2006: 62.6%). \n"
          ]
        }
      ]
    },
    {
      "cell_type": "code",
      "metadata": {
        "id": "eLeICHWVdrCI"
      },
      "source": [
        "file_path = '/content/drive/My Drive/Aiffel_Hackathon/financial_documents/training_sections/'\n",
        "\n",
        "sentence_list = [] \n",
        "for i in training_file_list: \n",
        "  with open(file_path + i, \"r\", encoding='utf-8') as f: \n",
        "    temp_str = '' \n",
        "    for line in f: \n",
        "      line = line.replace('\\n', ' ') \n",
        "      temp_str += line \n",
        "    sentence_list.append(temp_str)"
      ],
      "execution_count": null,
      "outputs": []
    },
    {
      "cell_type": "code",
      "metadata": {
        "colab": {
          "base_uri": "https://localhost:8080/",
          "height": 120
        },
        "id": "t6mlEsvieHUk",
        "outputId": "b1c62810-fc91-48b2-f45e-0f2d3f12926c"
      },
      "source": [
        "len(sentence_list)\n",
        "sentence_list[10]"
      ],
      "execution_count": null,
      "outputs": [
        {
          "output_type": "execute_result",
          "data": {
            "text/plain": [
              "2408"
            ]
          },
          "metadata": {},
          "execution_count": 86
        },
        {
          "output_type": "execute_result",
          "data": {
            "application/vnd.google.colaboratory.intrinsic+json": {
              "type": "string"
            },
            "text/plain": [
              "\" TOPPS TILES PLC  Annual Report and Financial Statements 2005 07 This year, in a turbulent UK trading environment, we have again demonstrated the fundamental strength of our business through the continued delivery of improved profits. Store Development and Expansion                                                                      Our national store opening programme continues apace with a net 24 new stores (20 Topps and 4 Tile Clearing House) opened in this  financial year. We now have a total of 244 trading stores (207 Topps and 37 Tile Clearing House) and are firmly on our way to achieving our stated target of a minimum of 350 UK outlets. We continue to enjoy a good pipeline of suitable sites for occupation or development. In line with our policy of continued store development and  refurbishment, 3 stores were closed or relocated, 15 re-fitted and a net 24 new stores opened in the period. We have a total of 64 stores  offering our tile studio concept of extra choice of up-market tiles,  available on a special order basis and 17 floorstores with an enhanced stock range of laminate and real wood flooring. The average square footage of our stores has increased gradually and is now  over 6,300 square feet. Our Stoneworks concept has continued to be popular, as consumers’ appetite for natural product grows. We now have 19 stores open with a full Stoneworks offering and we also offer a selected range of these products in all our other stores. Holland We now have a total of 13 stores trading in Holland under our 50/50 joint venture including two new stores opened in the period. It is our intention to open a minimum two stores in the next financial period.     Marketing, advertising and sponsorship As part of our strategy to be “the brand” of choice in the UK we  have again continued our nationwide marketing and advertising  programme. Our approach is two fold: using national television  advertising both digital and terrestrial coupled with print and radio advertising on a regional basis. This is not only an effective strategy in respect of maximising our reach UK wide but is also a cost effective approach, spreading costs across each store in concentrated areas such as central London, for example, the Carlton Weather sponsorship. CHIEF EXECUTIVE’S STATEMENT 2 core brands - one objective Driving the business  forward Nicholas Ounstead Chief Executive Officer TOPPS TILES PLC  Annual Report and Financial Statements 2005 08 + 16.1% Increase in profit before tax 61.3% Gross margin Number of stores at the financial period end  2001  0  50  100  150  250  200  2002 2003 2004 2005  147  171  196  220  244  Source : see page 13  TOPPS TILES PLC  Annual Report and Financial Statements 2005 09 More specifically, in 2004 the UK ceramic tile market grew 12% to 77.2 million square metres, an increase of 49% compared with 2000. At manufacturers selling prices the market was worth close to £400  million in 2004 (source MBD).   The UK still has a very low consumption rate compared to its European counterparts with only 1.1% of world consumption in 2004 compared with, for example Spain at 5.9% (Source: Ceramic World Review). Consumption continues to increase driven by issues such as health and hygiene, an increase in second bathrooms, shower rooms,  conservatories and utility rooms and an increase in the use of  underfloor heating systems.   UK Retail sales of ceramic tiles are expected to increase by 26% by 2010 (source: MBD) and we are confident therefore of the continued growth in the ceramic tile market. Current trading In the first seven weeks of the new financial period we have recorded a like-for-like sales decrease of 4.7%, however, the two year like-for-like sales shows an increase of 14.1%. Overall sales have increased by 1.2% over last year and 24.8% over two years.  We have opened stores in Hayes, Lewes and Pentonville Road already this new financial year with our target roll-out of 24 new stores for 2005/06. There is no doubt that we, along with the rest of the UK retail sector, are experiencing a very tough trading environment. However, given the strength of these results we believe we have the right business model and the best people to continue to gain market share and we are well placed to maintain our goal of providing sustainable returns for  shareholders. Nicholas Ounstead Chief Executive Officer CHIEF EXECUTIVE’S STATEMENT continued Topps Tiles is one of Britain's biggest supporters of youth  football. Topps stores currently sponsor 225 teams nationwide and our yellow kit is arguably the most famous in the beautiful game. Staff Development and Customer Service Our vision is of high-performing, motivated and well-trained people who can make a difference to our customers, shareholders, the  business and themselves. We live by our values of friendly, helpful and expert advice.   The quality of leadership in the company is key to the successful  delivery of our strategy for growth and our commitment to training, development and career progression is demonstrated through our  in-house training school, incentive schemes, bonus system, share save schemes and other incentives including the ‘Home Computing Initiative’ and the ‘Cycle to Work’ schemes. We have recently introduced a comprehensive employee benefits scheme which includes a whole range of internal and external company benefits from discounts on holidays to an employee helpline service. We understand the true value of all our employees and actively encourage the recruitment of staff from all age groups. We have a  policy of internal promotion, encouraging employees to advance their careers both in the stores and the Head Office functions. The market Despite a widely reported slow down in spending, we believe that in the mid-longer term DIY retail remains a relatively stable sector. There are a number of factors underpinning the future of the retail DIY  market. The UK population is growing steadily, particularly in the 35- 64 key age band for DIY; and household numbers are growing faster than the population up from 22.4 million in 1991 to 24.5 million in 2003; and owner occupancy is also on the rise and with an ageing UK housing stock that requires constant repair and maintenance. TOPPS TILES PLC  Annual Report and Financial Statements 2005 10 Gross margin (%)  2001 2002 2003 2004 2005  40  45  50  55  65  60  55.0  56.0  57.5  60.5  61.3  Source : see page 13  £8.8m Total capital expenditure  during the financial period + 18.1% Basic earnings per share increase \""
            ]
          },
          "metadata": {},
          "execution_count": 86
        }
      ]
    },
    {
      "cell_type": "code",
      "metadata": {
        "id": "-8AdI38KfuQX",
        "colab": {
          "base_uri": "https://localhost:8080/",
          "height": 203
        },
        "outputId": "b2e47cb3-5535-48f5-8b08-ac34c93989e1"
      },
      "source": [
        "train_data['Full_Text'] = sentence_list\n",
        "train_data.head()"
      ],
      "execution_count": null,
      "outputs": [
        {
          "output_type": "execute_result",
          "data": {
            "text/html": [
              "<div>\n",
              "<style scoped>\n",
              "    .dataframe tbody tr th:only-of-type {\n",
              "        vertical-align: middle;\n",
              "    }\n",
              "\n",
              "    .dataframe tbody tr th {\n",
              "        vertical-align: top;\n",
              "    }\n",
              "\n",
              "    .dataframe thead th {\n",
              "        text-align: right;\n",
              "    }\n",
              "</style>\n",
              "<table border=\"1\" class=\"dataframe\">\n",
              "  <thead>\n",
              "    <tr style=\"text-align: right;\">\n",
              "      <th></th>\n",
              "      <th>Original_Filename_x</th>\n",
              "      <th>Document</th>\n",
              "      <th>Middle_x</th>\n",
              "      <th>Section_x</th>\n",
              "      <th>Length_x</th>\n",
              "      <th>Gold_Filename</th>\n",
              "      <th>Middle_y</th>\n",
              "      <th>Gold Section</th>\n",
              "      <th>Gold_Summary_Length</th>\n",
              "      <th>Full_Text</th>\n",
              "    </tr>\n",
              "  </thead>\n",
              "  <tbody>\n",
              "    <tr>\n",
              "      <th>0</th>\n",
              "      <td>15786_819157_2</td>\n",
              "      <td>15786</td>\n",
              "      <td>819157</td>\n",
              "      <td>2</td>\n",
              "      <td>2181</td>\n",
              "      <td>15786_819156_1</td>\n",
              "      <td>819156</td>\n",
              "      <td>1</td>\n",
              "      <td>1387.0</td>\n",
              "      <td>6    Chief Executive Officer’s review    The ...</td>\n",
              "    </tr>\n",
              "    <tr>\n",
              "      <th>1</th>\n",
              "      <td>15783_819108_2</td>\n",
              "      <td>15783</td>\n",
              "      <td>819108</td>\n",
              "      <td>2</td>\n",
              "      <td>1147</td>\n",
              "      <td>15783_819107_1</td>\n",
              "      <td>819107</td>\n",
              "      <td>1</td>\n",
              "      <td>950.0</td>\n",
              "      <td>CHIEF EXECUTIVE  OFFICER’S STATEMENT The Bero...</td>\n",
              "    </tr>\n",
              "    <tr>\n",
              "      <th>2</th>\n",
              "      <td>15782_819091_2</td>\n",
              "      <td>15782</td>\n",
              "      <td>819091</td>\n",
              "      <td>2</td>\n",
              "      <td>882</td>\n",
              "      <td>15782_819090_1</td>\n",
              "      <td>819090</td>\n",
              "      <td>1</td>\n",
              "      <td>725.0</td>\n",
              "      <td>Chief executive Officer’s statement The Compa...</td>\n",
              "    </tr>\n",
              "    <tr>\n",
              "      <th>3</th>\n",
              "      <td>15787_819176_2</td>\n",
              "      <td>15787</td>\n",
              "      <td>819176</td>\n",
              "      <td>2</td>\n",
              "      <td>2203</td>\n",
              "      <td>15787_819175_1</td>\n",
              "      <td>819175</td>\n",
              "      <td>1</td>\n",
              "      <td>642.0</td>\n",
              "      <td>page 6 Toledo Mining Corporation plc Annual R...</td>\n",
              "    </tr>\n",
              "    <tr>\n",
              "      <th>4</th>\n",
              "      <td>15816_820156_2</td>\n",
              "      <td>15816</td>\n",
              "      <td>820156</td>\n",
              "      <td>2</td>\n",
              "      <td>2032</td>\n",
              "      <td>15816_820155_1</td>\n",
              "      <td>820155</td>\n",
              "      <td>1</td>\n",
              "      <td>795.0</td>\n",
              "      <td>3 CHIEF EXECUTIVE’S STATEMENT TOMKINS PLC REP...</td>\n",
              "    </tr>\n",
              "  </tbody>\n",
              "</table>\n",
              "</div>"
            ],
            "text/plain": [
              "  Original_Filename_x  ...                                          Full_Text\n",
              "0      15786_819157_2  ...   6    Chief Executive Officer’s review    The ...\n",
              "1      15783_819108_2  ...   CHIEF EXECUTIVE  OFFICER’S STATEMENT The Bero...\n",
              "2      15782_819091_2  ...   Chief executive Officer’s statement The Compa...\n",
              "3      15787_819176_2  ...   page 6 Toledo Mining Corporation plc Annual R...\n",
              "4      15816_820156_2  ...   3 CHIEF EXECUTIVE’S STATEMENT TOMKINS PLC REP...\n",
              "\n",
              "[5 rows x 10 columns]"
            ]
          },
          "metadata": {},
          "execution_count": 87
        }
      ]
    },
    {
      "cell_type": "code",
      "metadata": {
        "id": "VZVgTEhth80u",
        "colab": {
          "base_uri": "https://localhost:8080/"
        },
        "outputId": "ab1552ce-4961-47db-a2d3-899edcdab2ac"
      },
      "source": [
        "summary_file_list = [x + str(\".txt\") for x in train_data['Gold_Filename']]\n",
        "print(len(summary_file_list))"
      ],
      "execution_count": null,
      "outputs": [
        {
          "output_type": "stream",
          "name": "stdout",
          "text": [
            "2408\n"
          ]
        }
      ]
    },
    {
      "cell_type": "code",
      "metadata": {
        "id": "eaVgP0aoiE3m"
      },
      "source": [
        "summary_file_path = '/content/drive/My Drive/Aiffel_Hackathon/financial_documents/training_gold_standards/'\n",
        "\n",
        "summary_list = [] \n",
        "for i in summary_file_list: \n",
        "  with open(summary_file_path + i, \"r\", encoding='utf-8') as f: \n",
        "    temp_str = '' \n",
        "    for line in f: \n",
        "      line = line.replace('\\n', ' ') \n",
        "      temp_str += line \n",
        "    summary_list.append(temp_str)"
      ],
      "execution_count": null,
      "outputs": []
    },
    {
      "cell_type": "code",
      "metadata": {
        "id": "jFcAulXupG6Z",
        "colab": {
          "base_uri": "https://localhost:8080/",
          "height": 137
        },
        "outputId": "9d3f0deb-d4ab-41ad-e637-794aaed036e2"
      },
      "source": [
        "print(len(summary_list))\n",
        "summary_list[10]"
      ],
      "execution_count": null,
      "outputs": [
        {
          "output_type": "stream",
          "name": "stdout",
          "text": [
            "2408\n"
          ]
        },
        {
          "output_type": "execute_result",
          "data": {
            "application/vnd.google.colaboratory.intrinsic+json": {
              "type": "string"
            },
            "text/plain": [
              "' TOPPS TILES PLC  Annual Report and Financial Statements 2005 03 I am pleased to report another strong performance by the Group with record profits and increased UK market share.  We have consolidated our position as the leading UK ceramic tile and wood flooring  specialist, backed by what is now a truly national brand. The new Topps Distribution and Marketing Centre is fully integrated with the capacity to support our UK store target of a minimum of 350 stores. The period has seen a particularly weak UK consumer environment, however I am pleased to report the resilience of our business model has enabled us to continue to deliver record results and to outperform the market.   Since flotation in 1997 total shareholder return has grown by over 2,000% and we have consistently been a top performing company in the FTSE Index.  Financial Results Group turnover has increase by 10.0% over the period to £173.3  million, with profit before tax increasing by 16.1% to £39.2 million. Gross margins have improved to 61.3% compared to 60.5% in 2004. 2004 was an exceptional year in respect of trading and if you look at the trend over the last two years like-for-like sales have improved 24.9% Set against extremely strong comparatives last year and the tough UK trading, growth in like-for-like sales for the period was 3.4%, with  overall sales growth of 10.0%.  Our business continues to be highly cash generative and at the year end we had net cash balances of £21.8 million. Board Changes As announced at the Annual General Meeting on 11 January 2005, Stuart Williams, my co-founder of Topps, stepped down as  Co-Chairman and Board Director on 31 March 2005. I am delighted however that Stuart has taken on the newly created non Board  advisory role of President and continues to offer his expertise and guidance to the business. Dividend The Board continues to be committed to a progressive dividend policy and is recommending a final dividend of 6.00 pence per share. Together with the interim dividend of 3.50p per share the total  dividend for the period will be 9.50 pence per share, an increase of 18.8%. The dividend will be paid on 31 January 2006 to all shareholders on the register as at 13 January 2006. People Our staff are fundamental to the success of the business and I would like to take this opportunity to thank all our employees for their  inspiring contributions and continued commitment during the period. We have created another 174 jobs as a direct result of our expansion programme. Outlook Although the current UK trading environment continues to be volatile, I remain confident that the strength of our business model and the expertise of the strong management team will enable us to continue to grow the business and ensure the delivery of sustainable growth for shareholders. Barry Bester Chairman CHAIRMAN’S STATEMENT The key to our continued success is our commitment to the highest levels of  customer service and both the range and quality of products that we offer. 244 stores - one focus Barry Bester Chairman TOPPS TILES PLC  Annual Report and Financial Statements 2005 04 Store  locations Stock  availability Store  layout Our success  is built on four  key cornerstones: > > > > Customer service '"
            ]
          },
          "metadata": {},
          "execution_count": 90
        }
      ]
    },
    {
      "cell_type": "code",
      "metadata": {
        "id": "Zc9ZEBoFpZoZ"
      },
      "source": [
        "train_data['Summary_Text'] = summary_list"
      ],
      "execution_count": null,
      "outputs": []
    },
    {
      "cell_type": "code",
      "metadata": {
        "id": "SUEFxRPHpbgZ",
        "colab": {
          "base_uri": "https://localhost:8080/",
          "height": 234
        },
        "outputId": "61582625-ca74-45d4-ff75-563d244a237b"
      },
      "source": [
        "train_data.set_index(['Original_Filename_x', 'Gold_Filename'], inplace=True)\n",
        "train_data2 = train_data[['Document', 'Full_Text', 'Summary_Text']]\n",
        "train_data2.head()"
      ],
      "execution_count": null,
      "outputs": [
        {
          "output_type": "execute_result",
          "data": {
            "text/html": [
              "<div>\n",
              "<style scoped>\n",
              "    .dataframe tbody tr th:only-of-type {\n",
              "        vertical-align: middle;\n",
              "    }\n",
              "\n",
              "    .dataframe tbody tr th {\n",
              "        vertical-align: top;\n",
              "    }\n",
              "\n",
              "    .dataframe thead th {\n",
              "        text-align: right;\n",
              "    }\n",
              "</style>\n",
              "<table border=\"1\" class=\"dataframe\">\n",
              "  <thead>\n",
              "    <tr style=\"text-align: right;\">\n",
              "      <th></th>\n",
              "      <th></th>\n",
              "      <th>Document</th>\n",
              "      <th>Full_Text</th>\n",
              "      <th>Summary_Text</th>\n",
              "    </tr>\n",
              "    <tr>\n",
              "      <th>Original_Filename_x</th>\n",
              "      <th>Gold_Filename</th>\n",
              "      <th></th>\n",
              "      <th></th>\n",
              "      <th></th>\n",
              "    </tr>\n",
              "  </thead>\n",
              "  <tbody>\n",
              "    <tr>\n",
              "      <th>15786_819157_2</th>\n",
              "      <th>15786_819156_1</th>\n",
              "      <td>15786</td>\n",
              "      <td>6    Chief Executive Officer’s review    The ...</td>\n",
              "      <td>3     Chairman’s statement      In the 18 mon...</td>\n",
              "    </tr>\n",
              "    <tr>\n",
              "      <th>15783_819108_2</th>\n",
              "      <th>15783_819107_1</th>\n",
              "      <td>15783</td>\n",
              "      <td>CHIEF EXECUTIVE  OFFICER’S STATEMENT The Bero...</td>\n",
              "      <td>CHAIRMAN‘S STATEMENT It has always been your ...</td>\n",
              "    </tr>\n",
              "    <tr>\n",
              "      <th>15782_819091_2</th>\n",
              "      <th>15782_819090_1</th>\n",
              "      <td>15782</td>\n",
              "      <td>Chief executive Officer’s statement The Compa...</td>\n",
              "      <td>Chairman’s statement the Celestial/Ipilan ore...</td>\n",
              "    </tr>\n",
              "    <tr>\n",
              "      <th>15787_819176_2</th>\n",
              "      <th>15787_819175_1</th>\n",
              "      <td>15787</td>\n",
              "      <td>page 6 Toledo Mining Corporation plc Annual R...</td>\n",
              "      <td>page 5 I should like to begin my message with...</td>\n",
              "    </tr>\n",
              "    <tr>\n",
              "      <th>15816_820156_2</th>\n",
              "      <th>15816_820155_1</th>\n",
              "      <td>15816</td>\n",
              "      <td>3 CHIEF EXECUTIVE’S STATEMENT TOMKINS PLC REP...</td>\n",
              "      <td>2 TOMKINS PLC REPORT &amp; ACCOUNTS 2003 CHAIRMAN...</td>\n",
              "    </tr>\n",
              "  </tbody>\n",
              "</table>\n",
              "</div>"
            ],
            "text/plain": [
              "                                   Document  ...                                       Summary_Text\n",
              "Original_Filename_x Gold_Filename            ...                                                   \n",
              "15786_819157_2      15786_819156_1    15786  ...   3     Chairman’s statement      In the 18 mon...\n",
              "15783_819108_2      15783_819107_1    15783  ...   CHAIRMAN‘S STATEMENT It has always been your ...\n",
              "15782_819091_2      15782_819090_1    15782  ...   Chairman’s statement the Celestial/Ipilan ore...\n",
              "15787_819176_2      15787_819175_1    15787  ...   page 5 I should like to begin my message with...\n",
              "15816_820156_2      15816_820155_1    15816  ...   2 TOMKINS PLC REPORT & ACCOUNTS 2003 CHAIRMAN...\n",
              "\n",
              "[5 rows x 3 columns]"
            ]
          },
          "metadata": {},
          "execution_count": 92
        }
      ]
    },
    {
      "cell_type": "code",
      "metadata": {
        "id": "G773LW9DjmDJ"
      },
      "source": [
        "train_data.to_csv(\"/content/drive/My Drive/Aiffel_Hackathon/financial_documents/complete_training_data.csv\")"
      ],
      "execution_count": null,
      "outputs": []
    },
    {
      "cell_type": "code",
      "metadata": {
        "id": "OfO3wWThpj9p"
      },
      "source": [
        "train_data2.to_csv(\"/content/drive/My Drive/Aiffel_Hackathon/financial_documents/training_data_clean.csv\")"
      ],
      "execution_count": null,
      "outputs": []
    },
    {
      "cell_type": "markdown",
      "metadata": {
        "id": "SG7H9_uBp-PJ"
      },
      "source": [
        "## 전처리"
      ]
    },
    {
      "cell_type": "code",
      "metadata": {
        "colab": {
          "base_uri": "https://localhost:8080/",
          "height": 203
        },
        "id": "VXr8Xd_4Rcjl",
        "outputId": "b93b202f-dc9a-406c-c0a9-f559b58ea6ec"
      },
      "source": [
        "train_file_path = \"/content/drive/MyDrive/Aiffel_Hackathon/financial_documents/Bo_data/train_data_list_with_texts_short.csv\"\n",
        "\n",
        "train_data2 = pd.read_csv(train_file_path)\n",
        "train_data2.head()"
      ],
      "execution_count": null,
      "outputs": [
        {
          "output_type": "execute_result",
          "data": {
            "text/html": [
              "<div>\n",
              "<style scoped>\n",
              "    .dataframe tbody tr th:only-of-type {\n",
              "        vertical-align: middle;\n",
              "    }\n",
              "\n",
              "    .dataframe tbody tr th {\n",
              "        vertical-align: top;\n",
              "    }\n",
              "\n",
              "    .dataframe thead th {\n",
              "        text-align: right;\n",
              "    }\n",
              "</style>\n",
              "<table border=\"1\" class=\"dataframe\">\n",
              "  <thead>\n",
              "    <tr style=\"text-align: right;\">\n",
              "      <th></th>\n",
              "      <th>Original_Filename_x</th>\n",
              "      <th>Gold_Filename</th>\n",
              "      <th>Document</th>\n",
              "      <th>Full_Text</th>\n",
              "      <th>Summary_Text</th>\n",
              "    </tr>\n",
              "  </thead>\n",
              "  <tbody>\n",
              "    <tr>\n",
              "      <th>0</th>\n",
              "      <td>15786_819157_2</td>\n",
              "      <td>15786_819156_1</td>\n",
              "      <td>15786</td>\n",
              "      <td>6    Chief Executive Officer’s review    The ...</td>\n",
              "      <td>3     Chairman’s statement      In the 18 mon...</td>\n",
              "    </tr>\n",
              "    <tr>\n",
              "      <th>1</th>\n",
              "      <td>15783_819108_2</td>\n",
              "      <td>15783_819107_1</td>\n",
              "      <td>15783</td>\n",
              "      <td>CHIEF EXECUTIVE  OFFICER’S STATEMENT The Bero...</td>\n",
              "      <td>CHAIRMAN‘S STATEMENT It has always been your ...</td>\n",
              "    </tr>\n",
              "    <tr>\n",
              "      <th>2</th>\n",
              "      <td>15782_819091_2</td>\n",
              "      <td>15782_819090_1</td>\n",
              "      <td>15782</td>\n",
              "      <td>Chief executive Officer’s statement The Compa...</td>\n",
              "      <td>Chairman’s statement the Celestial/Ipilan ore...</td>\n",
              "    </tr>\n",
              "    <tr>\n",
              "      <th>3</th>\n",
              "      <td>15787_819176_2</td>\n",
              "      <td>15787_819175_1</td>\n",
              "      <td>15787</td>\n",
              "      <td>page 6 Toledo Mining Corporation plc Annual R...</td>\n",
              "      <td>page 5 I should like to begin my message with...</td>\n",
              "    </tr>\n",
              "    <tr>\n",
              "      <th>4</th>\n",
              "      <td>15816_820156_2</td>\n",
              "      <td>15816_820155_1</td>\n",
              "      <td>15816</td>\n",
              "      <td>3 CHIEF EXECUTIVE’S STATEMENT TOMKINS PLC REP...</td>\n",
              "      <td>2 TOMKINS PLC REPORT &amp; ACCOUNTS 2003 CHAIRMAN...</td>\n",
              "    </tr>\n",
              "  </tbody>\n",
              "</table>\n",
              "</div>"
            ],
            "text/plain": [
              "  Original_Filename_x  ...                                       Summary_Text\n",
              "0      15786_819157_2  ...   3     Chairman’s statement      In the 18 mon...\n",
              "1      15783_819108_2  ...   CHAIRMAN‘S STATEMENT It has always been your ...\n",
              "2      15782_819091_2  ...   Chairman’s statement the Celestial/Ipilan ore...\n",
              "3      15787_819176_2  ...   page 5 I should like to begin my message with...\n",
              "4      15816_820156_2  ...   2 TOMKINS PLC REPORT & ACCOUNTS 2003 CHAIRMAN...\n",
              "\n",
              "[5 rows x 5 columns]"
            ]
          },
          "metadata": {},
          "execution_count": 57
        }
      ]
    },
    {
      "cell_type": "code",
      "metadata": {
        "id": "zPe3eFGDqoso"
      },
      "source": [
        "sample1 = train_data2[\"Full_Text\"][10]\n",
        "sample2 = train_data2[\"Full_Text\"][150]\n",
        "sample3 = train_data2[\"Full_Text\"][1000]\n",
        "sample4 = train_data2[\"Summary_Text\"][10]\n",
        "sample5 = train_data2[\"Summary_Text\"][150]"
      ],
      "execution_count": null,
      "outputs": []
    },
    {
      "cell_type": "code",
      "metadata": {
        "id": "Jh7VME8nt5DL"
      },
      "source": [
        "def preprocessing(sentence): \n",
        "  sentence = sentence.lower()\n",
        "  sentence = re.sub(\"[$]\", \"dollar \", sentence)\n",
        "  sentence = re.sub(\"[£]\", \"pound \", sentence)\n",
        "  sentence = re.sub(\"[%]\", \" percent\", sentence)\n",
        "  sentence = re.sub(r\"[^a-zA-Z0-9?!.,’-]\", ' ', sentence)\n",
        "  sentence = re.sub(r\"([?!])\", r\" \\1 \", sentence)\n",
        "  sentence = re.sub(r'([a-z])(?=[.,])', r'\\1 ', sentence)\n",
        "  sentence = re.sub(r\"\\s+\", \" \", sentence)\n",
        "  return sentence"
      ],
      "execution_count": null,
      "outputs": []
    },
    {
      "cell_type": "code",
      "metadata": {
        "colab": {
          "base_uri": "https://localhost:8080/",
          "height": 120
        },
        "id": "kMLAksQGXgcs",
        "outputId": "d806b3e6-4c3e-4aec-eb01-7401136568a4"
      },
      "source": [
        "# full text testing\n",
        "pro_sample1 = preprocessing(sample1)\n",
        "pro_sample1"
      ],
      "execution_count": null,
      "outputs": [
        {
          "output_type": "execute_result",
          "data": {
            "application/vnd.google.colaboratory.intrinsic+json": {
              "type": "string"
            },
            "text/plain": [
              "' topps tiles plc annual report and financial statements 2005 07 this year , in a turbulent uk trading environment , we have again demonstrated the fundamental strength of our business through the continued delivery of improved profits . store development and expansion our national store opening programme continues apace with a net 24 new stores 20 topps and 4 tile clearing house opened in this financial year . we now have a total of 244 trading stores 207 topps and 37 tile clearing house and are firmly on our way to achieving our stated target of a minimum of 350 uk outlets . we continue to enjoy a good pipeline of suitable sites for occupation or development . in line with our policy of continued store development and refurbishment , 3 stores were closed or relocated , 15 re-fitted and a net 24 new stores opened in the period . we have a total of 64 stores offering our tile studio concept of extra choice of up-market tiles , available on a special order basis and 17 floorstores with an enhanced stock range of laminate and real wood flooring . the average square footage of our stores has increased gradually and is now over 6,300 square feet . our stoneworks concept has continued to be popular , as consumers’ appetite for natural product grows . we now have 19 stores open with a full stoneworks offering and we also offer a selected range of these products in all our other stores . holland we now have a total of 13 stores trading in holland under our 50 50 joint venture including two new stores opened in the period . it is our intention to open a minimum two stores in the next financial period . marketing , advertising and sponsorship as part of our strategy to be the brand of choice in the uk we have again continued our nationwide marketing and advertising programme . our approach is two fold using national television advertising both digital and terrestrial coupled with print and radio advertising on a regional basis . this is not only an effective strategy in respect of maximising our reach uk wide but is also a cost effective approach , spreading costs across each store in concentrated areas such as central london , for example , the carlton weather sponsorship . chief executive’s statement 2 core brands - one objective driving the business forward nicholas ounstead chief executive officer topps tiles plc annual report and financial statements 2005 08 16.1 percent increase in profit before tax 61.3 percent gross margin number of stores at the financial period end 2001 0 50 100 150 250 200 2002 2003 2004 2005 147 171 196 220 244 source see page 13 topps tiles plc annual report and financial statements 2005 09 more specifically , in 2004 the uk ceramic tile market grew 12 percent to 77.2 million square metres , an increase of 49 percent compared with 2000. at manufacturers selling prices the market was worth close to pound 400 million in 2004 source mbd . the uk still has a very low consumption rate compared to its european counterparts with only 1.1 percent of world consumption in 2004 compared with , for example spain at 5.9 percent source ceramic world review . consumption continues to increase driven by issues such as health and hygiene , an increase in second bathrooms , shower rooms , conservatories and utility rooms and an increase in the use of underfloor heating systems . uk retail sales of ceramic tiles are expected to increase by 26 percent by 2010 source mbd and we are confident therefore of the continued growth in the ceramic tile market . current trading in the first seven weeks of the new financial period we have recorded a like-for-like sales decrease of 4.7 percent , however , the two year like-for-like sales shows an increase of 14.1 percent . overall sales have increased by 1.2 percent over last year and 24.8 percent over two years . we have opened stores in hayes , lewes and pentonville road already this new financial year with our target roll-out of 24 new stores for 2005 06. there is no doubt that we , along with the rest of the uk retail sector , are experiencing a very tough trading environment . however , given the strength of these results we believe we have the right business model and the best people to continue to gain market share and we are well placed to maintain our goal of providing sustainable returns for shareholders . nicholas ounstead chief executive officer chief executive’s statement continued topps tiles is one of britain s biggest supporters of youth football . topps stores currently sponsor 225 teams nationwide and our yellow kit is arguably the most famous in the beautiful game . staff development and customer service our vision is of high-performing , motivated and well-trained people who can make a difference to our customers , shareholders , the business and themselves . we live by our values of friendly , helpful and expert advice . the quality of leadership in the company is key to the successful delivery of our strategy for growth and our commitment to training , development and career progression is demonstrated through our in-house training school , incentive schemes , bonus system , share save schemes and other incentives including the home computing initiative’ and the cycle to work’ schemes . we have recently introduced a comprehensive employee benefits scheme which includes a whole range of internal and external company benefits from discounts on holidays to an employee helpline service . we understand the true value of all our employees and actively encourage the recruitment of staff from all age groups . we have a policy of internal promotion , encouraging employees to advance their careers both in the stores and the head office functions . the market despite a widely reported slow down in spending , we believe that in the mid-longer term diy retail remains a relatively stable sector . there are a number of factors underpinning the future of the retail diy market . the uk population is growing steadily , particularly in the 35- 64 key age band for diy and household numbers are growing faster than the population up from 22.4 million in 1991 to 24.5 million in 2003 and owner occupancy is also on the rise and with an ageing uk housing stock that requires constant repair and maintenance . topps tiles plc annual report and financial statements 2005 10 gross margin percent 2001 2002 2003 2004 2005 40 45 50 55 65 60 55.0 56.0 57.5 60.5 61.3 source see page 13 pound 8.8m total capital expenditure during the financial period 18.1 percent basic earnings per share increase '"
            ]
          },
          "metadata": {},
          "execution_count": 60
        }
      ]
    },
    {
      "cell_type": "code",
      "metadata": {
        "colab": {
          "base_uri": "https://localhost:8080/",
          "height": 120
        },
        "id": "a4NptY7TY_fj",
        "outputId": "81f051c5-311c-4011-b432-a34f90215020"
      },
      "source": [
        "# gold summary testing \n",
        "pro_sample4 = preprocessing(sample4)\n",
        "pro_sample4"
      ],
      "execution_count": null,
      "outputs": [
        {
          "output_type": "execute_result",
          "data": {
            "application/vnd.google.colaboratory.intrinsic+json": {
              "type": "string"
            },
            "text/plain": [
              "' topps tiles plc annual report and financial statements 2005 03 i am pleased to report another strong performance by the group with record profits and increased uk market share . we have consolidated our position as the leading uk ceramic tile and wood flooring specialist , backed by what is now a truly national brand . the new topps distribution and marketing centre is fully integrated with the capacity to support our uk store target of a minimum of 350 stores . the period has seen a particularly weak uk consumer environment , however i am pleased to report the resilience of our business model has enabled us to continue to deliver record results and to outperform the market . since flotation in 1997 total shareholder return has grown by over 2,000 percent and we have consistently been a top performing company in the ftse index . financial results group turnover has increase by 10.0 percent over the period to pound 173.3 million , with profit before tax increasing by 16.1 percent to pound 39.2 million . gross margins have improved to 61.3 percent compared to 60.5 percent in 2004. 2004 was an exceptional year in respect of trading and if you look at the trend over the last two years like-for-like sales have improved 24.9 percent set against extremely strong comparatives last year and the tough uk trading , growth in like-for-like sales for the period was 3.4 percent , with overall sales growth of 10.0 percent . our business continues to be highly cash generative and at the year end we had net cash balances of pound 21.8 million . board changes as announced at the annual general meeting on 11 january 2005, stuart williams , my co-founder of topps , stepped down as co-chairman and board director on 31 march 2005. i am delighted however that stuart has taken on the newly created non board advisory role of president and continues to offer his expertise and guidance to the business . dividend the board continues to be committed to a progressive dividend policy and is recommending a final dividend of 6.00 pence per share . together with the interim dividend of 3.50p per share the total dividend for the period will be 9.50 pence per share , an increase of 18.8 percent . the dividend will be paid on 31 january 2006 to all shareholders on the register as at 13 january 2006. people our staff are fundamental to the success of the business and i would like to take this opportunity to thank all our employees for their inspiring contributions and continued commitment during the period . we have created another 174 jobs as a direct result of our expansion programme . outlook although the current uk trading environment continues to be volatile , i remain confident that the strength of our business model and the expertise of the strong management team will enable us to continue to grow the business and ensure the delivery of sustainable growth for shareholders . barry bester chairman chairman’s statement the key to our continued success is our commitment to the highest levels of customer service and both the range and quality of products that we offer . 244 stores - one focus barry bester chairman topps tiles plc annual report and financial statements 2005 04 store locations stock availability store layout our success is built on four key cornerstones customer service '"
            ]
          },
          "metadata": {},
          "execution_count": 61
        }
      ]
    },
    {
      "cell_type": "code",
      "metadata": {
        "id": "34SZIyN0rfof"
      },
      "source": [
        "unclean_full_text = list(train_data2['Full_Text'])\n",
        "clean_full_text =[]\n",
        "for item in unclean_full_text: \n",
        "  sentences = preprocessing(item)\n",
        "  clean_full_text.append(sentences)"
      ],
      "execution_count": null,
      "outputs": []
    },
    {
      "cell_type": "code",
      "metadata": {
        "id": "8ENKHZ6iscNA"
      },
      "source": [
        "unclean_sum_text = list(train_data2['Summary_Text'])\n",
        "clean_summary_text =[]\n",
        "for item in unclean_sum_text: \n",
        "  sentences = preprocessing(item)\n",
        "  clean_summary_text.append(sentences)"
      ],
      "execution_count": null,
      "outputs": []
    },
    {
      "cell_type": "code",
      "metadata": {
        "id": "idf6c64xr2vZ"
      },
      "source": [
        "# Replace the columns with the clean data\n",
        "train_data2['Full_Text'] = clean_full_text\n",
        "train_data2['Summary_Text'] = clean_summary_text"
      ],
      "execution_count": null,
      "outputs": []
    },
    {
      "cell_type": "code",
      "metadata": {
        "id": "B64L4XpZtLre"
      },
      "source": [
        "train_data2.to_csv(\"/content/drive/MyDrive/Aiffel_Hackathon/financial_documents/Bo_data/Training_Data_Clean.csv\")"
      ],
      "execution_count": null,
      "outputs": []
    },
    {
      "cell_type": "code",
      "metadata": {
        "colab": {
          "base_uri": "https://localhost:8080/"
        },
        "id": "Kkcn7fkNae8t",
        "outputId": "76037403-9a51-4a92-95e2-eede831c44db"
      },
      "source": [
        "print(len(train_data2)) "
      ],
      "execution_count": null,
      "outputs": [
        {
          "output_type": "stream",
          "name": "stdout",
          "text": [
            "2408\n"
          ]
        }
      ]
    },
    {
      "cell_type": "markdown",
      "metadata": {
        "id": "O4XpRKlPjiFy"
      },
      "source": [
        "회고: NLP 데이터 전처리가 어렵다고 하던데 직접 해보니까 까다로운 부분이 많았다. 실제 데이터와 일일이 비교하면서 정규표현식을 적용하여 전처리를 진행했는데, '(따옴표)가 사라지지 않는 현상이 발생했다. 알고 보니까 특수문자를 사용한 부분이라 복사 + 붙여넣기를 통해 해결했다. 이번 기회에 정규표현식에 대해서 많은 공부가 된 것 같다."
      ]
    }
  ]
}