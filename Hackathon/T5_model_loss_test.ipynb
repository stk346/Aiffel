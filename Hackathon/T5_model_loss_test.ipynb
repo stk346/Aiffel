{
  "nbformat": 4,
  "nbformat_minor": 0,
  "metadata": {
    "colab": {
      "name": "T5_model_loss_test",
      "provenance": [],
      "collapsed_sections": [],
      "machine_shape": "hm"
    },
    "kernelspec": {
      "name": "python3",
      "display_name": "Python 3"
    },
    "language_info": {
      "name": "python"
    },
    "accelerator": "TPU",
    "widgets": {
      "application/vnd.jupyter.widget-state+json": {
        "5c1da8f5c96346c1a7d58fe71f89fcdb": {
          "model_module": "@jupyter-widgets/controls",
          "model_name": "HBoxModel",
          "model_module_version": "1.5.0",
          "state": {
            "_view_name": "HBoxView",
            "_dom_classes": [],
            "_model_name": "HBoxModel",
            "_view_module": "@jupyter-widgets/controls",
            "_model_module_version": "1.5.0",
            "_view_count": null,
            "_view_module_version": "1.5.0",
            "box_style": "",
            "layout": "IPY_MODEL_68b0de79607b474789c667d53e8b36b3",
            "_model_module": "@jupyter-widgets/controls",
            "children": [
              "IPY_MODEL_b7cbaf4f599c476fbeb9a1b8ae5f6a54",
              "IPY_MODEL_9dbc1bd3982549e98840a1a0fe1f3cc1",
              "IPY_MODEL_0c85e1e96c054303be71cbb3827ce8e9"
            ]
          }
        },
        "68b0de79607b474789c667d53e8b36b3": {
          "model_module": "@jupyter-widgets/base",
          "model_name": "LayoutModel",
          "model_module_version": "1.2.0",
          "state": {
            "_view_name": "LayoutView",
            "grid_template_rows": null,
            "right": null,
            "justify_content": null,
            "_view_module": "@jupyter-widgets/base",
            "overflow": null,
            "_model_module_version": "1.2.0",
            "_view_count": null,
            "flex_flow": null,
            "width": null,
            "min_width": null,
            "border": null,
            "align_items": null,
            "bottom": null,
            "_model_module": "@jupyter-widgets/base",
            "top": null,
            "grid_column": null,
            "overflow_y": null,
            "overflow_x": null,
            "grid_auto_flow": null,
            "grid_area": null,
            "grid_template_columns": null,
            "flex": null,
            "_model_name": "LayoutModel",
            "justify_items": null,
            "grid_row": null,
            "max_height": null,
            "align_content": null,
            "visibility": null,
            "align_self": null,
            "height": null,
            "min_height": null,
            "padding": null,
            "grid_auto_rows": null,
            "grid_gap": null,
            "max_width": null,
            "order": null,
            "_view_module_version": "1.2.0",
            "grid_template_areas": null,
            "object_position": null,
            "object_fit": null,
            "grid_auto_columns": null,
            "margin": null,
            "display": null,
            "left": null
          }
        },
        "b7cbaf4f599c476fbeb9a1b8ae5f6a54": {
          "model_module": "@jupyter-widgets/controls",
          "model_name": "HTMLModel",
          "model_module_version": "1.5.0",
          "state": {
            "_view_name": "HTMLView",
            "style": "IPY_MODEL_edb01696003d4cf2a1073ce07b01dad3",
            "_dom_classes": [],
            "description": "",
            "_model_name": "HTMLModel",
            "placeholder": "​",
            "_view_module": "@jupyter-widgets/controls",
            "_model_module_version": "1.5.0",
            "value": "100%",
            "_view_count": null,
            "_view_module_version": "1.5.0",
            "description_tooltip": null,
            "_model_module": "@jupyter-widgets/controls",
            "layout": "IPY_MODEL_f4a915082dcf40fc9e84f82cfc13cade"
          }
        },
        "9dbc1bd3982549e98840a1a0fe1f3cc1": {
          "model_module": "@jupyter-widgets/controls",
          "model_name": "FloatProgressModel",
          "model_module_version": "1.5.0",
          "state": {
            "_view_name": "ProgressView",
            "style": "IPY_MODEL_fcf77a89029946ee8386c117d0f29717",
            "_dom_classes": [],
            "description": "",
            "_model_name": "FloatProgressModel",
            "bar_style": "success",
            "max": 1,
            "_view_module": "@jupyter-widgets/controls",
            "_model_module_version": "1.5.0",
            "value": 1,
            "_view_count": null,
            "_view_module_version": "1.5.0",
            "orientation": "horizontal",
            "min": 0,
            "description_tooltip": null,
            "_model_module": "@jupyter-widgets/controls",
            "layout": "IPY_MODEL_eb7adb010d49432da75ef13f69ed7f71"
          }
        },
        "0c85e1e96c054303be71cbb3827ce8e9": {
          "model_module": "@jupyter-widgets/controls",
          "model_name": "HTMLModel",
          "model_module_version": "1.5.0",
          "state": {
            "_view_name": "HTMLView",
            "style": "IPY_MODEL_948ea7fb59b840b5bee60dac3f828f7a",
            "_dom_classes": [],
            "description": "",
            "_model_name": "HTMLModel",
            "placeholder": "​",
            "_view_module": "@jupyter-widgets/controls",
            "_model_module_version": "1.5.0",
            "value": " 1/1 [00:00&lt;00:00, 38.86it/s]",
            "_view_count": null,
            "_view_module_version": "1.5.0",
            "description_tooltip": null,
            "_model_module": "@jupyter-widgets/controls",
            "layout": "IPY_MODEL_053927398caf48d596b1eedfb7b06016"
          }
        },
        "edb01696003d4cf2a1073ce07b01dad3": {
          "model_module": "@jupyter-widgets/controls",
          "model_name": "DescriptionStyleModel",
          "model_module_version": "1.5.0",
          "state": {
            "_view_name": "StyleView",
            "_model_name": "DescriptionStyleModel",
            "description_width": "",
            "_view_module": "@jupyter-widgets/base",
            "_model_module_version": "1.5.0",
            "_view_count": null,
            "_view_module_version": "1.2.0",
            "_model_module": "@jupyter-widgets/controls"
          }
        },
        "f4a915082dcf40fc9e84f82cfc13cade": {
          "model_module": "@jupyter-widgets/base",
          "model_name": "LayoutModel",
          "model_module_version": "1.2.0",
          "state": {
            "_view_name": "LayoutView",
            "grid_template_rows": null,
            "right": null,
            "justify_content": null,
            "_view_module": "@jupyter-widgets/base",
            "overflow": null,
            "_model_module_version": "1.2.0",
            "_view_count": null,
            "flex_flow": null,
            "width": null,
            "min_width": null,
            "border": null,
            "align_items": null,
            "bottom": null,
            "_model_module": "@jupyter-widgets/base",
            "top": null,
            "grid_column": null,
            "overflow_y": null,
            "overflow_x": null,
            "grid_auto_flow": null,
            "grid_area": null,
            "grid_template_columns": null,
            "flex": null,
            "_model_name": "LayoutModel",
            "justify_items": null,
            "grid_row": null,
            "max_height": null,
            "align_content": null,
            "visibility": null,
            "align_self": null,
            "height": null,
            "min_height": null,
            "padding": null,
            "grid_auto_rows": null,
            "grid_gap": null,
            "max_width": null,
            "order": null,
            "_view_module_version": "1.2.0",
            "grid_template_areas": null,
            "object_position": null,
            "object_fit": null,
            "grid_auto_columns": null,
            "margin": null,
            "display": null,
            "left": null
          }
        },
        "fcf77a89029946ee8386c117d0f29717": {
          "model_module": "@jupyter-widgets/controls",
          "model_name": "ProgressStyleModel",
          "model_module_version": "1.5.0",
          "state": {
            "_view_name": "StyleView",
            "_model_name": "ProgressStyleModel",
            "description_width": "",
            "_view_module": "@jupyter-widgets/base",
            "_model_module_version": "1.5.0",
            "_view_count": null,
            "_view_module_version": "1.2.0",
            "bar_color": null,
            "_model_module": "@jupyter-widgets/controls"
          }
        },
        "eb7adb010d49432da75ef13f69ed7f71": {
          "model_module": "@jupyter-widgets/base",
          "model_name": "LayoutModel",
          "model_module_version": "1.2.0",
          "state": {
            "_view_name": "LayoutView",
            "grid_template_rows": null,
            "right": null,
            "justify_content": null,
            "_view_module": "@jupyter-widgets/base",
            "overflow": null,
            "_model_module_version": "1.2.0",
            "_view_count": null,
            "flex_flow": null,
            "width": null,
            "min_width": null,
            "border": null,
            "align_items": null,
            "bottom": null,
            "_model_module": "@jupyter-widgets/base",
            "top": null,
            "grid_column": null,
            "overflow_y": null,
            "overflow_x": null,
            "grid_auto_flow": null,
            "grid_area": null,
            "grid_template_columns": null,
            "flex": null,
            "_model_name": "LayoutModel",
            "justify_items": null,
            "grid_row": null,
            "max_height": null,
            "align_content": null,
            "visibility": null,
            "align_self": null,
            "height": null,
            "min_height": null,
            "padding": null,
            "grid_auto_rows": null,
            "grid_gap": null,
            "max_width": null,
            "order": null,
            "_view_module_version": "1.2.0",
            "grid_template_areas": null,
            "object_position": null,
            "object_fit": null,
            "grid_auto_columns": null,
            "margin": null,
            "display": null,
            "left": null
          }
        },
        "948ea7fb59b840b5bee60dac3f828f7a": {
          "model_module": "@jupyter-widgets/controls",
          "model_name": "DescriptionStyleModel",
          "model_module_version": "1.5.0",
          "state": {
            "_view_name": "StyleView",
            "_model_name": "DescriptionStyleModel",
            "description_width": "",
            "_view_module": "@jupyter-widgets/base",
            "_model_module_version": "1.5.0",
            "_view_count": null,
            "_view_module_version": "1.2.0",
            "_model_module": "@jupyter-widgets/controls"
          }
        },
        "053927398caf48d596b1eedfb7b06016": {
          "model_module": "@jupyter-widgets/base",
          "model_name": "LayoutModel",
          "model_module_version": "1.2.0",
          "state": {
            "_view_name": "LayoutView",
            "grid_template_rows": null,
            "right": null,
            "justify_content": null,
            "_view_module": "@jupyter-widgets/base",
            "overflow": null,
            "_model_module_version": "1.2.0",
            "_view_count": null,
            "flex_flow": null,
            "width": null,
            "min_width": null,
            "border": null,
            "align_items": null,
            "bottom": null,
            "_model_module": "@jupyter-widgets/base",
            "top": null,
            "grid_column": null,
            "overflow_y": null,
            "overflow_x": null,
            "grid_auto_flow": null,
            "grid_area": null,
            "grid_template_columns": null,
            "flex": null,
            "_model_name": "LayoutModel",
            "justify_items": null,
            "grid_row": null,
            "max_height": null,
            "align_content": null,
            "visibility": null,
            "align_self": null,
            "height": null,
            "min_height": null,
            "padding": null,
            "grid_auto_rows": null,
            "grid_gap": null,
            "max_width": null,
            "order": null,
            "_view_module_version": "1.2.0",
            "grid_template_areas": null,
            "object_position": null,
            "object_fit": null,
            "grid_auto_columns": null,
            "margin": null,
            "display": null,
            "left": null
          }
        },
        "c491296b41da4aa6941c8c3a602295ca": {
          "model_module": "@jupyter-widgets/controls",
          "model_name": "HBoxModel",
          "model_module_version": "1.5.0",
          "state": {
            "_view_name": "HBoxView",
            "_dom_classes": [],
            "_model_name": "HBoxModel",
            "_view_module": "@jupyter-widgets/controls",
            "_model_module_version": "1.5.0",
            "_view_count": null,
            "_view_module_version": "1.5.0",
            "box_style": "",
            "layout": "IPY_MODEL_771e5cbadbdc4f099e97464132b0fd61",
            "_model_module": "@jupyter-widgets/controls",
            "children": [
              "IPY_MODEL_c4c9e5c73ad94945bb7ee5e2eacb01f0",
              "IPY_MODEL_444b5f05df6e48b3bca15f96b63f6082",
              "IPY_MODEL_27cb13e8824348538ffe9c412bb2b296"
            ]
          }
        },
        "771e5cbadbdc4f099e97464132b0fd61": {
          "model_module": "@jupyter-widgets/base",
          "model_name": "LayoutModel",
          "model_module_version": "1.2.0",
          "state": {
            "_view_name": "LayoutView",
            "grid_template_rows": null,
            "right": null,
            "justify_content": null,
            "_view_module": "@jupyter-widgets/base",
            "overflow": null,
            "_model_module_version": "1.2.0",
            "_view_count": null,
            "flex_flow": null,
            "width": null,
            "min_width": null,
            "border": null,
            "align_items": null,
            "bottom": null,
            "_model_module": "@jupyter-widgets/base",
            "top": null,
            "grid_column": null,
            "overflow_y": null,
            "overflow_x": null,
            "grid_auto_flow": null,
            "grid_area": null,
            "grid_template_columns": null,
            "flex": null,
            "_model_name": "LayoutModel",
            "justify_items": null,
            "grid_row": null,
            "max_height": null,
            "align_content": null,
            "visibility": null,
            "align_self": null,
            "height": null,
            "min_height": null,
            "padding": null,
            "grid_auto_rows": null,
            "grid_gap": null,
            "max_width": null,
            "order": null,
            "_view_module_version": "1.2.0",
            "grid_template_areas": null,
            "object_position": null,
            "object_fit": null,
            "grid_auto_columns": null,
            "margin": null,
            "display": null,
            "left": null
          }
        },
        "c4c9e5c73ad94945bb7ee5e2eacb01f0": {
          "model_module": "@jupyter-widgets/controls",
          "model_name": "HTMLModel",
          "model_module_version": "1.5.0",
          "state": {
            "_view_name": "HTMLView",
            "style": "IPY_MODEL_0603affd20a5450399616dece462c96a",
            "_dom_classes": [],
            "description": "",
            "_model_name": "HTMLModel",
            "placeholder": "​",
            "_view_module": "@jupyter-widgets/controls",
            "_model_module_version": "1.5.0",
            "value": "100%",
            "_view_count": null,
            "_view_module_version": "1.5.0",
            "description_tooltip": null,
            "_model_module": "@jupyter-widgets/controls",
            "layout": "IPY_MODEL_38f90f8b7489465a99d7a2b67f1384e0"
          }
        },
        "444b5f05df6e48b3bca15f96b63f6082": {
          "model_module": "@jupyter-widgets/controls",
          "model_name": "FloatProgressModel",
          "model_module_version": "1.5.0",
          "state": {
            "_view_name": "ProgressView",
            "style": "IPY_MODEL_232e96ea3b1b48678bf9da74d3af2966",
            "_dom_classes": [],
            "description": "",
            "_model_name": "FloatProgressModel",
            "bar_style": "success",
            "max": 3,
            "_view_module": "@jupyter-widgets/controls",
            "_model_module_version": "1.5.0",
            "value": 3,
            "_view_count": null,
            "_view_module_version": "1.5.0",
            "orientation": "horizontal",
            "min": 0,
            "description_tooltip": null,
            "_model_module": "@jupyter-widgets/controls",
            "layout": "IPY_MODEL_97048cfff2d54a8baa4f4ade9b376c09"
          }
        },
        "27cb13e8824348538ffe9c412bb2b296": {
          "model_module": "@jupyter-widgets/controls",
          "model_name": "HTMLModel",
          "model_module_version": "1.5.0",
          "state": {
            "_view_name": "HTMLView",
            "style": "IPY_MODEL_5918fb9bca7f4ebaa2fff362f12d65fb",
            "_dom_classes": [],
            "description": "",
            "_model_name": "HTMLModel",
            "placeholder": "​",
            "_view_module": "@jupyter-widgets/controls",
            "_model_module_version": "1.5.0",
            "value": " 3/3 [00:00&lt;00:00,  5.94ba/s]",
            "_view_count": null,
            "_view_module_version": "1.5.0",
            "description_tooltip": null,
            "_model_module": "@jupyter-widgets/controls",
            "layout": "IPY_MODEL_4507881e68b242db88c3d2be85d947ca"
          }
        },
        "0603affd20a5450399616dece462c96a": {
          "model_module": "@jupyter-widgets/controls",
          "model_name": "DescriptionStyleModel",
          "model_module_version": "1.5.0",
          "state": {
            "_view_name": "StyleView",
            "_model_name": "DescriptionStyleModel",
            "description_width": "",
            "_view_module": "@jupyter-widgets/base",
            "_model_module_version": "1.5.0",
            "_view_count": null,
            "_view_module_version": "1.2.0",
            "_model_module": "@jupyter-widgets/controls"
          }
        },
        "38f90f8b7489465a99d7a2b67f1384e0": {
          "model_module": "@jupyter-widgets/base",
          "model_name": "LayoutModel",
          "model_module_version": "1.2.0",
          "state": {
            "_view_name": "LayoutView",
            "grid_template_rows": null,
            "right": null,
            "justify_content": null,
            "_view_module": "@jupyter-widgets/base",
            "overflow": null,
            "_model_module_version": "1.2.0",
            "_view_count": null,
            "flex_flow": null,
            "width": null,
            "min_width": null,
            "border": null,
            "align_items": null,
            "bottom": null,
            "_model_module": "@jupyter-widgets/base",
            "top": null,
            "grid_column": null,
            "overflow_y": null,
            "overflow_x": null,
            "grid_auto_flow": null,
            "grid_area": null,
            "grid_template_columns": null,
            "flex": null,
            "_model_name": "LayoutModel",
            "justify_items": null,
            "grid_row": null,
            "max_height": null,
            "align_content": null,
            "visibility": null,
            "align_self": null,
            "height": null,
            "min_height": null,
            "padding": null,
            "grid_auto_rows": null,
            "grid_gap": null,
            "max_width": null,
            "order": null,
            "_view_module_version": "1.2.0",
            "grid_template_areas": null,
            "object_position": null,
            "object_fit": null,
            "grid_auto_columns": null,
            "margin": null,
            "display": null,
            "left": null
          }
        },
        "232e96ea3b1b48678bf9da74d3af2966": {
          "model_module": "@jupyter-widgets/controls",
          "model_name": "ProgressStyleModel",
          "model_module_version": "1.5.0",
          "state": {
            "_view_name": "StyleView",
            "_model_name": "ProgressStyleModel",
            "description_width": "",
            "_view_module": "@jupyter-widgets/base",
            "_model_module_version": "1.5.0",
            "_view_count": null,
            "_view_module_version": "1.2.0",
            "bar_color": null,
            "_model_module": "@jupyter-widgets/controls"
          }
        },
        "97048cfff2d54a8baa4f4ade9b376c09": {
          "model_module": "@jupyter-widgets/base",
          "model_name": "LayoutModel",
          "model_module_version": "1.2.0",
          "state": {
            "_view_name": "LayoutView",
            "grid_template_rows": null,
            "right": null,
            "justify_content": null,
            "_view_module": "@jupyter-widgets/base",
            "overflow": null,
            "_model_module_version": "1.2.0",
            "_view_count": null,
            "flex_flow": null,
            "width": null,
            "min_width": null,
            "border": null,
            "align_items": null,
            "bottom": null,
            "_model_module": "@jupyter-widgets/base",
            "top": null,
            "grid_column": null,
            "overflow_y": null,
            "overflow_x": null,
            "grid_auto_flow": null,
            "grid_area": null,
            "grid_template_columns": null,
            "flex": null,
            "_model_name": "LayoutModel",
            "justify_items": null,
            "grid_row": null,
            "max_height": null,
            "align_content": null,
            "visibility": null,
            "align_self": null,
            "height": null,
            "min_height": null,
            "padding": null,
            "grid_auto_rows": null,
            "grid_gap": null,
            "max_width": null,
            "order": null,
            "_view_module_version": "1.2.0",
            "grid_template_areas": null,
            "object_position": null,
            "object_fit": null,
            "grid_auto_columns": null,
            "margin": null,
            "display": null,
            "left": null
          }
        },
        "5918fb9bca7f4ebaa2fff362f12d65fb": {
          "model_module": "@jupyter-widgets/controls",
          "model_name": "DescriptionStyleModel",
          "model_module_version": "1.5.0",
          "state": {
            "_view_name": "StyleView",
            "_model_name": "DescriptionStyleModel",
            "description_width": "",
            "_view_module": "@jupyter-widgets/base",
            "_model_module_version": "1.5.0",
            "_view_count": null,
            "_view_module_version": "1.2.0",
            "_model_module": "@jupyter-widgets/controls"
          }
        },
        "4507881e68b242db88c3d2be85d947ca": {
          "model_module": "@jupyter-widgets/base",
          "model_name": "LayoutModel",
          "model_module_version": "1.2.0",
          "state": {
            "_view_name": "LayoutView",
            "grid_template_rows": null,
            "right": null,
            "justify_content": null,
            "_view_module": "@jupyter-widgets/base",
            "overflow": null,
            "_model_module_version": "1.2.0",
            "_view_count": null,
            "flex_flow": null,
            "width": null,
            "min_width": null,
            "border": null,
            "align_items": null,
            "bottom": null,
            "_model_module": "@jupyter-widgets/base",
            "top": null,
            "grid_column": null,
            "overflow_y": null,
            "overflow_x": null,
            "grid_auto_flow": null,
            "grid_area": null,
            "grid_template_columns": null,
            "flex": null,
            "_model_name": "LayoutModel",
            "justify_items": null,
            "grid_row": null,
            "max_height": null,
            "align_content": null,
            "visibility": null,
            "align_self": null,
            "height": null,
            "min_height": null,
            "padding": null,
            "grid_auto_rows": null,
            "grid_gap": null,
            "max_width": null,
            "order": null,
            "_view_module_version": "1.2.0",
            "grid_template_areas": null,
            "object_position": null,
            "object_fit": null,
            "grid_auto_columns": null,
            "margin": null,
            "display": null,
            "left": null
          }
        },
        "5352161d241f4b48bbeb203160a5b2e0": {
          "model_module": "@jupyter-widgets/controls",
          "model_name": "HBoxModel",
          "model_module_version": "1.5.0",
          "state": {
            "_view_name": "HBoxView",
            "_dom_classes": [],
            "_model_name": "HBoxModel",
            "_view_module": "@jupyter-widgets/controls",
            "_model_module_version": "1.5.0",
            "_view_count": null,
            "_view_module_version": "1.5.0",
            "box_style": "",
            "layout": "IPY_MODEL_c56b4237970b43d5b133f1a39b4798ec",
            "_model_module": "@jupyter-widgets/controls",
            "children": [
              "IPY_MODEL_22eac663744f4c96bae98cf986adf1db",
              "IPY_MODEL_acb8ba0e10ae4dbf8fb6cc458b6a0e95",
              "IPY_MODEL_6587f0cb57804aefabbcdee73ff93ab9"
            ]
          }
        },
        "c56b4237970b43d5b133f1a39b4798ec": {
          "model_module": "@jupyter-widgets/base",
          "model_name": "LayoutModel",
          "model_module_version": "1.2.0",
          "state": {
            "_view_name": "LayoutView",
            "grid_template_rows": null,
            "right": null,
            "justify_content": null,
            "_view_module": "@jupyter-widgets/base",
            "overflow": null,
            "_model_module_version": "1.2.0",
            "_view_count": null,
            "flex_flow": null,
            "width": null,
            "min_width": null,
            "border": null,
            "align_items": null,
            "bottom": null,
            "_model_module": "@jupyter-widgets/base",
            "top": null,
            "grid_column": null,
            "overflow_y": null,
            "overflow_x": null,
            "grid_auto_flow": null,
            "grid_area": null,
            "grid_template_columns": null,
            "flex": null,
            "_model_name": "LayoutModel",
            "justify_items": null,
            "grid_row": null,
            "max_height": null,
            "align_content": null,
            "visibility": null,
            "align_self": null,
            "height": null,
            "min_height": null,
            "padding": null,
            "grid_auto_rows": null,
            "grid_gap": null,
            "max_width": null,
            "order": null,
            "_view_module_version": "1.2.0",
            "grid_template_areas": null,
            "object_position": null,
            "object_fit": null,
            "grid_auto_columns": null,
            "margin": null,
            "display": null,
            "left": null
          }
        },
        "22eac663744f4c96bae98cf986adf1db": {
          "model_module": "@jupyter-widgets/controls",
          "model_name": "HTMLModel",
          "model_module_version": "1.5.0",
          "state": {
            "_view_name": "HTMLView",
            "style": "IPY_MODEL_84aa0f3db89b482fbc1ec52587ceca6a",
            "_dom_classes": [],
            "description": "",
            "_model_name": "HTMLModel",
            "placeholder": "​",
            "_view_module": "@jupyter-widgets/controls",
            "_model_module_version": "1.5.0",
            "value": "100%",
            "_view_count": null,
            "_view_module_version": "1.5.0",
            "description_tooltip": null,
            "_model_module": "@jupyter-widgets/controls",
            "layout": "IPY_MODEL_0a6efa145a334069a496c6f6be71d1e8"
          }
        },
        "acb8ba0e10ae4dbf8fb6cc458b6a0e95": {
          "model_module": "@jupyter-widgets/controls",
          "model_name": "FloatProgressModel",
          "model_module_version": "1.5.0",
          "state": {
            "_view_name": "ProgressView",
            "style": "IPY_MODEL_bb08e7d82b374151bbc6ce1f788a99d3",
            "_dom_classes": [],
            "description": "",
            "_model_name": "FloatProgressModel",
            "bar_style": "success",
            "max": 1,
            "_view_module": "@jupyter-widgets/controls",
            "_model_module_version": "1.5.0",
            "value": 1,
            "_view_count": null,
            "_view_module_version": "1.5.0",
            "orientation": "horizontal",
            "min": 0,
            "description_tooltip": null,
            "_model_module": "@jupyter-widgets/controls",
            "layout": "IPY_MODEL_4aecd610ba3c4aa98b5a908e45a2252e"
          }
        },
        "6587f0cb57804aefabbcdee73ff93ab9": {
          "model_module": "@jupyter-widgets/controls",
          "model_name": "HTMLModel",
          "model_module_version": "1.5.0",
          "state": {
            "_view_name": "HTMLView",
            "style": "IPY_MODEL_31ff48fe37cd4f93a1b2e74e62fc7e83",
            "_dom_classes": [],
            "description": "",
            "_model_name": "HTMLModel",
            "placeholder": "​",
            "_view_module": "@jupyter-widgets/controls",
            "_model_module_version": "1.5.0",
            "value": " 1/1 [00:00&lt;00:00, 11.50ba/s]",
            "_view_count": null,
            "_view_module_version": "1.5.0",
            "description_tooltip": null,
            "_model_module": "@jupyter-widgets/controls",
            "layout": "IPY_MODEL_3d6094beebbe4502bf6ecc54782374cc"
          }
        },
        "84aa0f3db89b482fbc1ec52587ceca6a": {
          "model_module": "@jupyter-widgets/controls",
          "model_name": "DescriptionStyleModel",
          "model_module_version": "1.5.0",
          "state": {
            "_view_name": "StyleView",
            "_model_name": "DescriptionStyleModel",
            "description_width": "",
            "_view_module": "@jupyter-widgets/base",
            "_model_module_version": "1.5.0",
            "_view_count": null,
            "_view_module_version": "1.2.0",
            "_model_module": "@jupyter-widgets/controls"
          }
        },
        "0a6efa145a334069a496c6f6be71d1e8": {
          "model_module": "@jupyter-widgets/base",
          "model_name": "LayoutModel",
          "model_module_version": "1.2.0",
          "state": {
            "_view_name": "LayoutView",
            "grid_template_rows": null,
            "right": null,
            "justify_content": null,
            "_view_module": "@jupyter-widgets/base",
            "overflow": null,
            "_model_module_version": "1.2.0",
            "_view_count": null,
            "flex_flow": null,
            "width": null,
            "min_width": null,
            "border": null,
            "align_items": null,
            "bottom": null,
            "_model_module": "@jupyter-widgets/base",
            "top": null,
            "grid_column": null,
            "overflow_y": null,
            "overflow_x": null,
            "grid_auto_flow": null,
            "grid_area": null,
            "grid_template_columns": null,
            "flex": null,
            "_model_name": "LayoutModel",
            "justify_items": null,
            "grid_row": null,
            "max_height": null,
            "align_content": null,
            "visibility": null,
            "align_self": null,
            "height": null,
            "min_height": null,
            "padding": null,
            "grid_auto_rows": null,
            "grid_gap": null,
            "max_width": null,
            "order": null,
            "_view_module_version": "1.2.0",
            "grid_template_areas": null,
            "object_position": null,
            "object_fit": null,
            "grid_auto_columns": null,
            "margin": null,
            "display": null,
            "left": null
          }
        },
        "bb08e7d82b374151bbc6ce1f788a99d3": {
          "model_module": "@jupyter-widgets/controls",
          "model_name": "ProgressStyleModel",
          "model_module_version": "1.5.0",
          "state": {
            "_view_name": "StyleView",
            "_model_name": "ProgressStyleModel",
            "description_width": "",
            "_view_module": "@jupyter-widgets/base",
            "_model_module_version": "1.5.0",
            "_view_count": null,
            "_view_module_version": "1.2.0",
            "bar_color": null,
            "_model_module": "@jupyter-widgets/controls"
          }
        },
        "4aecd610ba3c4aa98b5a908e45a2252e": {
          "model_module": "@jupyter-widgets/base",
          "model_name": "LayoutModel",
          "model_module_version": "1.2.0",
          "state": {
            "_view_name": "LayoutView",
            "grid_template_rows": null,
            "right": null,
            "justify_content": null,
            "_view_module": "@jupyter-widgets/base",
            "overflow": null,
            "_model_module_version": "1.2.0",
            "_view_count": null,
            "flex_flow": null,
            "width": null,
            "min_width": null,
            "border": null,
            "align_items": null,
            "bottom": null,
            "_model_module": "@jupyter-widgets/base",
            "top": null,
            "grid_column": null,
            "overflow_y": null,
            "overflow_x": null,
            "grid_auto_flow": null,
            "grid_area": null,
            "grid_template_columns": null,
            "flex": null,
            "_model_name": "LayoutModel",
            "justify_items": null,
            "grid_row": null,
            "max_height": null,
            "align_content": null,
            "visibility": null,
            "align_self": null,
            "height": null,
            "min_height": null,
            "padding": null,
            "grid_auto_rows": null,
            "grid_gap": null,
            "max_width": null,
            "order": null,
            "_view_module_version": "1.2.0",
            "grid_template_areas": null,
            "object_position": null,
            "object_fit": null,
            "grid_auto_columns": null,
            "margin": null,
            "display": null,
            "left": null
          }
        },
        "31ff48fe37cd4f93a1b2e74e62fc7e83": {
          "model_module": "@jupyter-widgets/controls",
          "model_name": "DescriptionStyleModel",
          "model_module_version": "1.5.0",
          "state": {
            "_view_name": "StyleView",
            "_model_name": "DescriptionStyleModel",
            "description_width": "",
            "_view_module": "@jupyter-widgets/base",
            "_model_module_version": "1.5.0",
            "_view_count": null,
            "_view_module_version": "1.2.0",
            "_model_module": "@jupyter-widgets/controls"
          }
        },
        "3d6094beebbe4502bf6ecc54782374cc": {
          "model_module": "@jupyter-widgets/base",
          "model_name": "LayoutModel",
          "model_module_version": "1.2.0",
          "state": {
            "_view_name": "LayoutView",
            "grid_template_rows": null,
            "right": null,
            "justify_content": null,
            "_view_module": "@jupyter-widgets/base",
            "overflow": null,
            "_model_module_version": "1.2.0",
            "_view_count": null,
            "flex_flow": null,
            "width": null,
            "min_width": null,
            "border": null,
            "align_items": null,
            "bottom": null,
            "_model_module": "@jupyter-widgets/base",
            "top": null,
            "grid_column": null,
            "overflow_y": null,
            "overflow_x": null,
            "grid_auto_flow": null,
            "grid_area": null,
            "grid_template_columns": null,
            "flex": null,
            "_model_name": "LayoutModel",
            "justify_items": null,
            "grid_row": null,
            "max_height": null,
            "align_content": null,
            "visibility": null,
            "align_self": null,
            "height": null,
            "min_height": null,
            "padding": null,
            "grid_auto_rows": null,
            "grid_gap": null,
            "max_width": null,
            "order": null,
            "_view_module_version": "1.2.0",
            "grid_template_areas": null,
            "object_position": null,
            "object_fit": null,
            "grid_auto_columns": null,
            "margin": null,
            "display": null,
            "left": null
          }
        },
        "3b7f397d423d492ab224569064541833": {
          "model_module": "@jupyter-widgets/controls",
          "model_name": "HBoxModel",
          "model_module_version": "1.5.0",
          "state": {
            "_view_name": "HBoxView",
            "_dom_classes": [],
            "_model_name": "HBoxModel",
            "_view_module": "@jupyter-widgets/controls",
            "_model_module_version": "1.5.0",
            "_view_count": null,
            "_view_module_version": "1.5.0",
            "box_style": "",
            "layout": "IPY_MODEL_2e78d4f98e4e4a48a58fe5d0717a3d4f",
            "_model_module": "@jupyter-widgets/controls",
            "children": [
              "IPY_MODEL_6b9ed129b37343dda3dfd5262a371134",
              "IPY_MODEL_6ff48727f3c94397955671969563c480",
              "IPY_MODEL_e32add82f5c14ed1b9096ac6a166f9c3"
            ]
          }
        },
        "2e78d4f98e4e4a48a58fe5d0717a3d4f": {
          "model_module": "@jupyter-widgets/base",
          "model_name": "LayoutModel",
          "model_module_version": "1.2.0",
          "state": {
            "_view_name": "LayoutView",
            "grid_template_rows": null,
            "right": null,
            "justify_content": null,
            "_view_module": "@jupyter-widgets/base",
            "overflow": null,
            "_model_module_version": "1.2.0",
            "_view_count": null,
            "flex_flow": null,
            "width": null,
            "min_width": null,
            "border": null,
            "align_items": null,
            "bottom": null,
            "_model_module": "@jupyter-widgets/base",
            "top": null,
            "grid_column": null,
            "overflow_y": null,
            "overflow_x": null,
            "grid_auto_flow": null,
            "grid_area": null,
            "grid_template_columns": null,
            "flex": null,
            "_model_name": "LayoutModel",
            "justify_items": null,
            "grid_row": null,
            "max_height": null,
            "align_content": null,
            "visibility": null,
            "align_self": null,
            "height": null,
            "min_height": null,
            "padding": null,
            "grid_auto_rows": null,
            "grid_gap": null,
            "max_width": null,
            "order": null,
            "_view_module_version": "1.2.0",
            "grid_template_areas": null,
            "object_position": null,
            "object_fit": null,
            "grid_auto_columns": null,
            "margin": null,
            "display": null,
            "left": null
          }
        },
        "6b9ed129b37343dda3dfd5262a371134": {
          "model_module": "@jupyter-widgets/controls",
          "model_name": "HTMLModel",
          "model_module_version": "1.5.0",
          "state": {
            "_view_name": "HTMLView",
            "style": "IPY_MODEL_3511fc9fbfc54446be64c13c546cec16",
            "_dom_classes": [],
            "description": "",
            "_model_name": "HTMLModel",
            "placeholder": "​",
            "_view_module": "@jupyter-widgets/controls",
            "_model_module_version": "1.5.0",
            "value": "100%",
            "_view_count": null,
            "_view_module_version": "1.5.0",
            "description_tooltip": null,
            "_model_module": "@jupyter-widgets/controls",
            "layout": "IPY_MODEL_bb6a8ed7c45c4487a95cb7db69f1e9eb"
          }
        },
        "6ff48727f3c94397955671969563c480": {
          "model_module": "@jupyter-widgets/controls",
          "model_name": "FloatProgressModel",
          "model_module_version": "1.5.0",
          "state": {
            "_view_name": "ProgressView",
            "style": "IPY_MODEL_46641fc93a244b4bb796023e0b7e85cd",
            "_dom_classes": [],
            "description": "",
            "_model_name": "FloatProgressModel",
            "bar_style": "success",
            "max": 4,
            "_view_module": "@jupyter-widgets/controls",
            "_model_module_version": "1.5.0",
            "value": 4,
            "_view_count": null,
            "_view_module_version": "1.5.0",
            "orientation": "horizontal",
            "min": 0,
            "description_tooltip": null,
            "_model_module": "@jupyter-widgets/controls",
            "layout": "IPY_MODEL_29f17e09e169419f8be11871f9c296f8"
          }
        },
        "e32add82f5c14ed1b9096ac6a166f9c3": {
          "model_module": "@jupyter-widgets/controls",
          "model_name": "HTMLModel",
          "model_module_version": "1.5.0",
          "state": {
            "_view_name": "HTMLView",
            "style": "IPY_MODEL_9c21ae497bdc4142b32f920d05ed430c",
            "_dom_classes": [],
            "description": "",
            "_model_name": "HTMLModel",
            "placeholder": "​",
            "_view_module": "@jupyter-widgets/controls",
            "_model_module_version": "1.5.0",
            "value": " 4/4 [00:00&lt;00:00,  7.88ba/s]",
            "_view_count": null,
            "_view_module_version": "1.5.0",
            "description_tooltip": null,
            "_model_module": "@jupyter-widgets/controls",
            "layout": "IPY_MODEL_e5cd5ddddbf84b1c9d4677eb9b7cbc33"
          }
        },
        "3511fc9fbfc54446be64c13c546cec16": {
          "model_module": "@jupyter-widgets/controls",
          "model_name": "DescriptionStyleModel",
          "model_module_version": "1.5.0",
          "state": {
            "_view_name": "StyleView",
            "_model_name": "DescriptionStyleModel",
            "description_width": "",
            "_view_module": "@jupyter-widgets/base",
            "_model_module_version": "1.5.0",
            "_view_count": null,
            "_view_module_version": "1.2.0",
            "_model_module": "@jupyter-widgets/controls"
          }
        },
        "bb6a8ed7c45c4487a95cb7db69f1e9eb": {
          "model_module": "@jupyter-widgets/base",
          "model_name": "LayoutModel",
          "model_module_version": "1.2.0",
          "state": {
            "_view_name": "LayoutView",
            "grid_template_rows": null,
            "right": null,
            "justify_content": null,
            "_view_module": "@jupyter-widgets/base",
            "overflow": null,
            "_model_module_version": "1.2.0",
            "_view_count": null,
            "flex_flow": null,
            "width": null,
            "min_width": null,
            "border": null,
            "align_items": null,
            "bottom": null,
            "_model_module": "@jupyter-widgets/base",
            "top": null,
            "grid_column": null,
            "overflow_y": null,
            "overflow_x": null,
            "grid_auto_flow": null,
            "grid_area": null,
            "grid_template_columns": null,
            "flex": null,
            "_model_name": "LayoutModel",
            "justify_items": null,
            "grid_row": null,
            "max_height": null,
            "align_content": null,
            "visibility": null,
            "align_self": null,
            "height": null,
            "min_height": null,
            "padding": null,
            "grid_auto_rows": null,
            "grid_gap": null,
            "max_width": null,
            "order": null,
            "_view_module_version": "1.2.0",
            "grid_template_areas": null,
            "object_position": null,
            "object_fit": null,
            "grid_auto_columns": null,
            "margin": null,
            "display": null,
            "left": null
          }
        },
        "46641fc93a244b4bb796023e0b7e85cd": {
          "model_module": "@jupyter-widgets/controls",
          "model_name": "ProgressStyleModel",
          "model_module_version": "1.5.0",
          "state": {
            "_view_name": "StyleView",
            "_model_name": "ProgressStyleModel",
            "description_width": "",
            "_view_module": "@jupyter-widgets/base",
            "_model_module_version": "1.5.0",
            "_view_count": null,
            "_view_module_version": "1.2.0",
            "bar_color": null,
            "_model_module": "@jupyter-widgets/controls"
          }
        },
        "29f17e09e169419f8be11871f9c296f8": {
          "model_module": "@jupyter-widgets/base",
          "model_name": "LayoutModel",
          "model_module_version": "1.2.0",
          "state": {
            "_view_name": "LayoutView",
            "grid_template_rows": null,
            "right": null,
            "justify_content": null,
            "_view_module": "@jupyter-widgets/base",
            "overflow": null,
            "_model_module_version": "1.2.0",
            "_view_count": null,
            "flex_flow": null,
            "width": null,
            "min_width": null,
            "border": null,
            "align_items": null,
            "bottom": null,
            "_model_module": "@jupyter-widgets/base",
            "top": null,
            "grid_column": null,
            "overflow_y": null,
            "overflow_x": null,
            "grid_auto_flow": null,
            "grid_area": null,
            "grid_template_columns": null,
            "flex": null,
            "_model_name": "LayoutModel",
            "justify_items": null,
            "grid_row": null,
            "max_height": null,
            "align_content": null,
            "visibility": null,
            "align_self": null,
            "height": null,
            "min_height": null,
            "padding": null,
            "grid_auto_rows": null,
            "grid_gap": null,
            "max_width": null,
            "order": null,
            "_view_module_version": "1.2.0",
            "grid_template_areas": null,
            "object_position": null,
            "object_fit": null,
            "grid_auto_columns": null,
            "margin": null,
            "display": null,
            "left": null
          }
        },
        "9c21ae497bdc4142b32f920d05ed430c": {
          "model_module": "@jupyter-widgets/controls",
          "model_name": "DescriptionStyleModel",
          "model_module_version": "1.5.0",
          "state": {
            "_view_name": "StyleView",
            "_model_name": "DescriptionStyleModel",
            "description_width": "",
            "_view_module": "@jupyter-widgets/base",
            "_model_module_version": "1.5.0",
            "_view_count": null,
            "_view_module_version": "1.2.0",
            "_model_module": "@jupyter-widgets/controls"
          }
        },
        "e5cd5ddddbf84b1c9d4677eb9b7cbc33": {
          "model_module": "@jupyter-widgets/base",
          "model_name": "LayoutModel",
          "model_module_version": "1.2.0",
          "state": {
            "_view_name": "LayoutView",
            "grid_template_rows": null,
            "right": null,
            "justify_content": null,
            "_view_module": "@jupyter-widgets/base",
            "overflow": null,
            "_model_module_version": "1.2.0",
            "_view_count": null,
            "flex_flow": null,
            "width": null,
            "min_width": null,
            "border": null,
            "align_items": null,
            "bottom": null,
            "_model_module": "@jupyter-widgets/base",
            "top": null,
            "grid_column": null,
            "overflow_y": null,
            "overflow_x": null,
            "grid_auto_flow": null,
            "grid_area": null,
            "grid_template_columns": null,
            "flex": null,
            "_model_name": "LayoutModel",
            "justify_items": null,
            "grid_row": null,
            "max_height": null,
            "align_content": null,
            "visibility": null,
            "align_self": null,
            "height": null,
            "min_height": null,
            "padding": null,
            "grid_auto_rows": null,
            "grid_gap": null,
            "max_width": null,
            "order": null,
            "_view_module_version": "1.2.0",
            "grid_template_areas": null,
            "object_position": null,
            "object_fit": null,
            "grid_auto_columns": null,
            "margin": null,
            "display": null,
            "left": null
          }
        }
      }
    }
  },
  "cells": [
    {
      "cell_type": "code",
      "metadata": {
        "colab": {
          "base_uri": "https://localhost:8080/"
        },
        "id": "P-6BqKZiU7V1",
        "outputId": "90b78eaf-aa0d-4bba-bcd1-27ffcff7b886"
      },
      "source": [
        "from google.colab import drive\n",
        "drive.mount('/content/drive')"
      ],
      "execution_count": 118,
      "outputs": [
        {
          "output_type": "stream",
          "name": "stdout",
          "text": [
            "Drive already mounted at /content/drive; to attempt to forcibly remount, call drive.mount(\"/content/drive\", force_remount=True).\n"
          ]
        }
      ]
    },
    {
      "cell_type": "code",
      "metadata": {
        "colab": {
          "base_uri": "https://localhost:8080/"
        },
        "id": "AspJCX_UVDPQ",
        "outputId": "1650bbb5-0986-4234-da45-193572d9a918"
      },
      "source": [
        "# colab pro 더 빠른 GPU 사용\n",
        "gpu_info = !nvidia-smi\n",
        "gpu_info = '\\n'.join(gpu_info)\n",
        "if gpu_info.find('failed') >= 0:\n",
        "  print('Not connected to a GPU')\n",
        "else:\n",
        "  print(gpu_info)"
      ],
      "execution_count": 119,
      "outputs": [
        {
          "output_type": "stream",
          "name": "stdout",
          "text": [
            "Not connected to a GPU\n"
          ]
        }
      ]
    },
    {
      "cell_type": "code",
      "metadata": {
        "colab": {
          "base_uri": "https://localhost:8080/"
        },
        "id": "3K2YIAT1VWae",
        "outputId": "32e4efa4-4df6-4a57-b627-1f11269468a9"
      },
      "source": [
        "# colab pro 추가 메모리\n",
        "from psutil import virtual_memory\n",
        "ram_gb = virtual_memory().total / 1e9\n",
        "print('Your runtime has {:.1f} gigabytes of available RAM\\n'.format(ram_gb))\n",
        "\n",
        "if ram_gb < 20:\n",
        "  print('Not using a high-RAM runtime')\n",
        "else:\n",
        "  print('You are using a high-RAM runtime!')"
      ],
      "execution_count": 120,
      "outputs": [
        {
          "output_type": "stream",
          "name": "stdout",
          "text": [
            "Your runtime has 37.8 gigabytes of available RAM\n",
            "\n",
            "You are using a high-RAM runtime!\n"
          ]
        }
      ]
    },
    {
      "cell_type": "code",
      "metadata": {
        "id": "X6gsAUvfjYJ4"
      },
      "source": [
        "import numpy as np"
      ],
      "execution_count": 121,
      "outputs": []
    },
    {
      "cell_type": "markdown",
      "metadata": {
        "id": "LK2edmI9tO61"
      },
      "source": [
        "## Loading the dataset"
      ]
    },
    {
      "cell_type": "code",
      "metadata": {
        "colab": {
          "base_uri": "https://localhost:8080/"
        },
        "id": "--c0Fnu6sksg",
        "outputId": "ab34f3ad-2d8f-4b89-9958-1c128f333421"
      },
      "source": [
        "# # install datasets\n",
        "!pip install datasets"
      ],
      "execution_count": 122,
      "outputs": [
        {
          "output_type": "stream",
          "name": "stdout",
          "text": [
            "Requirement already satisfied: datasets in /usr/local/lib/python3.7/dist-packages (1.15.1)\n",
            "Requirement already satisfied: fsspec[http]>=2021.05.0 in /usr/local/lib/python3.7/dist-packages (from datasets) (2021.10.1)\n",
            "Requirement already satisfied: dill in /usr/local/lib/python3.7/dist-packages (from datasets) (0.3.4)\n",
            "Requirement already satisfied: xxhash in /usr/local/lib/python3.7/dist-packages (from datasets) (2.0.2)\n",
            "Requirement already satisfied: pandas in /usr/local/lib/python3.7/dist-packages (from datasets) (1.1.5)\n",
            "Requirement already satisfied: aiohttp in /usr/local/lib/python3.7/dist-packages (from datasets) (3.8.0)\n",
            "Requirement already satisfied: huggingface-hub<1.0.0,>=0.1.0 in /usr/local/lib/python3.7/dist-packages (from datasets) (0.1.0)\n",
            "Requirement already satisfied: numpy>=1.17 in /usr/local/lib/python3.7/dist-packages (from datasets) (1.19.5)\n",
            "Requirement already satisfied: pyarrow!=4.0.0,>=1.0.0 in /usr/local/lib/python3.7/dist-packages (from datasets) (3.0.0)\n",
            "Requirement already satisfied: requests>=2.19.0 in /usr/local/lib/python3.7/dist-packages (from datasets) (2.23.0)\n",
            "Requirement already satisfied: tqdm>=4.62.1 in /usr/local/lib/python3.7/dist-packages (from datasets) (4.62.3)\n",
            "Requirement already satisfied: importlib-metadata in /usr/local/lib/python3.7/dist-packages (from datasets) (4.8.1)\n",
            "Requirement already satisfied: packaging in /usr/local/lib/python3.7/dist-packages (from datasets) (21.0)\n",
            "Requirement already satisfied: multiprocess in /usr/local/lib/python3.7/dist-packages (from datasets) (0.70.12.2)\n",
            "Requirement already satisfied: pyyaml in /usr/local/lib/python3.7/dist-packages (from huggingface-hub<1.0.0,>=0.1.0->datasets) (6.0)\n",
            "Requirement already satisfied: filelock in /usr/local/lib/python3.7/dist-packages (from huggingface-hub<1.0.0,>=0.1.0->datasets) (3.3.0)\n",
            "Requirement already satisfied: typing-extensions in /usr/local/lib/python3.7/dist-packages (from huggingface-hub<1.0.0,>=0.1.0->datasets) (3.7.4.3)\n",
            "Requirement already satisfied: pyparsing>=2.0.2 in /usr/local/lib/python3.7/dist-packages (from packaging->datasets) (2.4.7)\n",
            "Requirement already satisfied: certifi>=2017.4.17 in /usr/local/lib/python3.7/dist-packages (from requests>=2.19.0->datasets) (2021.5.30)\n",
            "Requirement already satisfied: idna<3,>=2.5 in /usr/local/lib/python3.7/dist-packages (from requests>=2.19.0->datasets) (2.10)\n",
            "Requirement already satisfied: chardet<4,>=3.0.2 in /usr/local/lib/python3.7/dist-packages (from requests>=2.19.0->datasets) (3.0.4)\n",
            "Requirement already satisfied: urllib3!=1.25.0,!=1.25.1,<1.26,>=1.21.1 in /usr/local/lib/python3.7/dist-packages (from requests>=2.19.0->datasets) (1.24.3)\n",
            "Requirement already satisfied: attrs>=17.3.0 in /usr/local/lib/python3.7/dist-packages (from aiohttp->datasets) (21.2.0)\n",
            "Requirement already satisfied: asynctest==0.13.0 in /usr/local/lib/python3.7/dist-packages (from aiohttp->datasets) (0.13.0)\n",
            "Requirement already satisfied: yarl<2.0,>=1.0 in /usr/local/lib/python3.7/dist-packages (from aiohttp->datasets) (1.7.2)\n",
            "Requirement already satisfied: async-timeout<5.0,>=4.0.0a3 in /usr/local/lib/python3.7/dist-packages (from aiohttp->datasets) (4.0.0)\n",
            "Requirement already satisfied: frozenlist>=1.1.1 in /usr/local/lib/python3.7/dist-packages (from aiohttp->datasets) (1.2.0)\n",
            "Requirement already satisfied: aiosignal>=1.1.2 in /usr/local/lib/python3.7/dist-packages (from aiohttp->datasets) (1.2.0)\n",
            "Requirement already satisfied: multidict<7.0,>=4.5 in /usr/local/lib/python3.7/dist-packages (from aiohttp->datasets) (5.2.0)\n",
            "Requirement already satisfied: charset-normalizer<3.0,>=2.0 in /usr/local/lib/python3.7/dist-packages (from aiohttp->datasets) (2.0.7)\n",
            "Requirement already satisfied: zipp>=0.5 in /usr/local/lib/python3.7/dist-packages (from importlib-metadata->datasets) (3.6.0)\n",
            "Requirement already satisfied: python-dateutil>=2.7.3 in /usr/local/lib/python3.7/dist-packages (from pandas->datasets) (2.8.2)\n",
            "Requirement already satisfied: pytz>=2017.2 in /usr/local/lib/python3.7/dist-packages (from pandas->datasets) (2018.9)\n",
            "Requirement already satisfied: six>=1.5 in /usr/local/lib/python3.7/dist-packages (from python-dateutil>=2.7.3->pandas->datasets) (1.15.0)\n"
          ]
        }
      ]
    },
    {
      "cell_type": "code",
      "metadata": {
        "colab": {
          "base_uri": "https://localhost:8080/"
        },
        "id": "QGQ68rQoqVpA",
        "outputId": "e8472076-af0b-418c-d1e9-a09e05cd4bf5"
      },
      "source": [
        "from datasets import load_dataset\n",
        "\n",
        "dataset_file = '/content/drive/MyDrive/Colab Notebooks/Aiffel_Hackathon/financial_documents/Training_Data_200'\n",
        "\n",
        "dataset = load_dataset('csv', data_files=dataset_file, split='train')\n",
        "\n",
        "dataset = dataset.train_test_split(test_size=0.1)\n",
        "train_dataset = dataset['train']\n",
        "val_dataset = dataset['test']"
      ],
      "execution_count": 123,
      "outputs": [
        {
          "output_type": "stream",
          "name": "stderr",
          "text": [
            "Using custom data configuration default-c6d4a6a8c6f12a1d\n",
            "Reusing dataset csv (/root/.cache/huggingface/datasets/csv/default-c6d4a6a8c6f12a1d/0.0.0/bf68a4c4aefa545d0712b2fcbb1b327f905bbe2f6425fbc5e8c25234acb9e14a)\n"
          ]
        }
      ]
    },
    {
      "cell_type": "code",
      "metadata": {
        "colab": {
          "base_uri": "https://localhost:8080/",
          "height": 105,
          "referenced_widgets": [
            "5c1da8f5c96346c1a7d58fe71f89fcdb",
            "68b0de79607b474789c667d53e8b36b3",
            "b7cbaf4f599c476fbeb9a1b8ae5f6a54",
            "9dbc1bd3982549e98840a1a0fe1f3cc1",
            "0c85e1e96c054303be71cbb3827ce8e9",
            "edb01696003d4cf2a1073ce07b01dad3",
            "f4a915082dcf40fc9e84f82cfc13cade",
            "fcf77a89029946ee8386c117d0f29717",
            "eb7adb010d49432da75ef13f69ed7f71",
            "948ea7fb59b840b5bee60dac3f828f7a",
            "053927398caf48d596b1eedfb7b06016"
          ]
        },
        "id": "35Cb6hSI4IR6",
        "outputId": "b8d41f94-06b5-4391-9827-74b892dcedbd"
      },
      "source": [
        "# test dataset\n",
        "\n",
        "test_dataset_file = '/content/drive/MyDrive/Colab Notebooks/Aiffel_Hackathon/financial_documents/Val_Data_Clean.csv'\n",
        "\n",
        "test_dataset = load_dataset('csv', data_files=test_dataset_file, split=['train'])"
      ],
      "execution_count": 124,
      "outputs": [
        {
          "output_type": "stream",
          "name": "stderr",
          "text": [
            "Using custom data configuration default-94fc8c6155ea1649\n",
            "Reusing dataset csv (/root/.cache/huggingface/datasets/csv/default-94fc8c6155ea1649/0.0.0/bf68a4c4aefa545d0712b2fcbb1b327f905bbe2f6425fbc5e8c25234acb9e14a)\n"
          ]
        },
        {
          "output_type": "display_data",
          "data": {
            "application/vnd.jupyter.widget-view+json": {
              "model_id": "5c1da8f5c96346c1a7d58fe71f89fcdb",
              "version_minor": 0,
              "version_major": 2
            },
            "text/plain": [
              "  0%|          | 0/1 [00:00<?, ?it/s]"
            ]
          },
          "metadata": {}
        }
      ]
    },
    {
      "cell_type": "code",
      "metadata": {
        "colab": {
          "base_uri": "https://localhost:8080/"
        },
        "id": "YaldaIMRznpQ",
        "outputId": "5d2f5f4d-2119-4546-f1a4-8896503abe4f"
      },
      "source": [
        "train_dataset"
      ],
      "execution_count": 125,
      "outputs": [
        {
          "output_type": "execute_result",
          "data": {
            "text/plain": [
              "Dataset({\n",
              "    features: ['Unnamed: 0', 'Original_Filename_x', 'Gold_Filename', 'Document', 'Full_Text', 'Summary_Text'],\n",
              "    num_rows: 180\n",
              "})"
            ]
          },
          "metadata": {},
          "execution_count": 125
        }
      ]
    },
    {
      "cell_type": "code",
      "metadata": {
        "colab": {
          "base_uri": "https://localhost:8080/"
        },
        "id": "_WNb_1mhzni4",
        "outputId": "6e52a3a3-b4f3-4def-f406-bd77d1f41b12"
      },
      "source": [
        "val_dataset"
      ],
      "execution_count": 126,
      "outputs": [
        {
          "output_type": "execute_result",
          "data": {
            "text/plain": [
              "Dataset({\n",
              "    features: ['Unnamed: 0', 'Original_Filename_x', 'Gold_Filename', 'Document', 'Full_Text', 'Summary_Text'],\n",
              "    num_rows: 20\n",
              "})"
            ]
          },
          "metadata": {},
          "execution_count": 126
        }
      ]
    },
    {
      "cell_type": "code",
      "metadata": {
        "id": "OVswhJAw3FUB"
      },
      "source": [
        "test_dataset\n",
        "test_dataset = test_dataset[0] # 리스트 -> 데이터셋으로 변환"
      ],
      "execution_count": 139,
      "outputs": []
    },
    {
      "cell_type": "markdown",
      "metadata": {
        "id": "PO4zhPiqs6Tu"
      },
      "source": [
        "## Tokenization"
      ]
    },
    {
      "cell_type": "code",
      "metadata": {
        "colab": {
          "base_uri": "https://localhost:8080/"
        },
        "id": "cqTi8XaBvH3z",
        "outputId": "3e2e4852-4403-4f8a-94db-922cbb42c254"
      },
      "source": [
        "# # transformer 설치\n",
        "!pip install transformers"
      ],
      "execution_count": 128,
      "outputs": [
        {
          "output_type": "stream",
          "name": "stdout",
          "text": [
            "Requirement already satisfied: transformers in /usr/local/lib/python3.7/dist-packages (4.12.3)\n",
            "Requirement already satisfied: numpy>=1.17 in /usr/local/lib/python3.7/dist-packages (from transformers) (1.19.5)\n",
            "Requirement already satisfied: sacremoses in /usr/local/lib/python3.7/dist-packages (from transformers) (0.0.46)\n",
            "Requirement already satisfied: huggingface-hub<1.0,>=0.1.0 in /usr/local/lib/python3.7/dist-packages (from transformers) (0.1.0)\n",
            "Requirement already satisfied: pyyaml>=5.1 in /usr/local/lib/python3.7/dist-packages (from transformers) (6.0)\n",
            "Requirement already satisfied: packaging>=20.0 in /usr/local/lib/python3.7/dist-packages (from transformers) (21.0)\n",
            "Requirement already satisfied: requests in /usr/local/lib/python3.7/dist-packages (from transformers) (2.23.0)\n",
            "Requirement already satisfied: tokenizers<0.11,>=0.10.1 in /usr/local/lib/python3.7/dist-packages (from transformers) (0.10.3)\n",
            "Requirement already satisfied: regex!=2019.12.17 in /usr/local/lib/python3.7/dist-packages (from transformers) (2019.12.20)\n",
            "Requirement already satisfied: importlib-metadata in /usr/local/lib/python3.7/dist-packages (from transformers) (4.8.1)\n",
            "Requirement already satisfied: tqdm>=4.27 in /usr/local/lib/python3.7/dist-packages (from transformers) (4.62.3)\n",
            "Requirement already satisfied: filelock in /usr/local/lib/python3.7/dist-packages (from transformers) (3.3.0)\n",
            "Requirement already satisfied: typing-extensions in /usr/local/lib/python3.7/dist-packages (from huggingface-hub<1.0,>=0.1.0->transformers) (3.7.4.3)\n",
            "Requirement already satisfied: pyparsing>=2.0.2 in /usr/local/lib/python3.7/dist-packages (from packaging>=20.0->transformers) (2.4.7)\n",
            "Requirement already satisfied: zipp>=0.5 in /usr/local/lib/python3.7/dist-packages (from importlib-metadata->transformers) (3.6.0)\n",
            "Requirement already satisfied: urllib3!=1.25.0,!=1.25.1,<1.26,>=1.21.1 in /usr/local/lib/python3.7/dist-packages (from requests->transformers) (1.24.3)\n",
            "Requirement already satisfied: idna<3,>=2.5 in /usr/local/lib/python3.7/dist-packages (from requests->transformers) (2.10)\n",
            "Requirement already satisfied: chardet<4,>=3.0.2 in /usr/local/lib/python3.7/dist-packages (from requests->transformers) (3.0.4)\n",
            "Requirement already satisfied: certifi>=2017.4.17 in /usr/local/lib/python3.7/dist-packages (from requests->transformers) (2021.5.30)\n",
            "Requirement already satisfied: six in /usr/local/lib/python3.7/dist-packages (from sacremoses->transformers) (1.15.0)\n",
            "Requirement already satisfied: click in /usr/local/lib/python3.7/dist-packages (from sacremoses->transformers) (7.1.2)\n",
            "Requirement already satisfied: joblib in /usr/local/lib/python3.7/dist-packages (from sacremoses->transformers) (1.0.1)\n"
          ]
        }
      ]
    },
    {
      "cell_type": "code",
      "metadata": {
        "colab": {
          "base_uri": "https://localhost:8080/"
        },
        "id": "CETss1x3vqYl",
        "outputId": "390dd902-b528-4241-d387-e8efef7a33c3"
      },
      "source": [
        "train_dataset"
      ],
      "execution_count": 129,
      "outputs": [
        {
          "output_type": "execute_result",
          "data": {
            "text/plain": [
              "Dataset({\n",
              "    features: ['Unnamed: 0', 'Original_Filename_x', 'Gold_Filename', 'Document', 'Full_Text', 'Summary_Text'],\n",
              "    num_rows: 180\n",
              "})"
            ]
          },
          "metadata": {},
          "execution_count": 129
        }
      ]
    },
    {
      "cell_type": "code",
      "metadata": {
        "colab": {
          "base_uri": "https://localhost:8080/"
        },
        "id": "4p59aHNUwf-0",
        "outputId": "408e81fc-5faf-41d4-c40a-cafe531719cb"
      },
      "source": [
        "max_source = max([len(i.split()) for i in train_dataset['Full_Text']])\n",
        "print(max_source)\n",
        "max_target = max([len(i.split()) for i in train_dataset['Summary_Text']])\n",
        "print(max_target)"
      ],
      "execution_count": 130,
      "outputs": [
        {
          "output_type": "stream",
          "name": "stdout",
          "text": [
            "2435\n",
            "241\n"
          ]
        }
      ]
    },
    {
      "cell_type": "code",
      "metadata": {
        "colab": {
          "base_uri": "https://localhost:8080/"
        },
        "id": "IwSE91mkxD-t",
        "outputId": "1864e16f-e362-4321-9c1b-226940ce39f7"
      },
      "source": [
        "len(train_dataset['Full_Text'][0].split())"
      ],
      "execution_count": 131,
      "outputs": [
        {
          "output_type": "execute_result",
          "data": {
            "text/plain": [
              "855"
            ]
          },
          "metadata": {},
          "execution_count": 131
        }
      ]
    },
    {
      "cell_type": "code",
      "metadata": {
        "colab": {
          "base_uri": "https://localhost:8080/",
          "height": 1000,
          "referenced_widgets": [
            "c491296b41da4aa6941c8c3a602295ca",
            "771e5cbadbdc4f099e97464132b0fd61",
            "c4c9e5c73ad94945bb7ee5e2eacb01f0",
            "444b5f05df6e48b3bca15f96b63f6082",
            "27cb13e8824348538ffe9c412bb2b296",
            "0603affd20a5450399616dece462c96a",
            "38f90f8b7489465a99d7a2b67f1384e0",
            "232e96ea3b1b48678bf9da74d3af2966",
            "97048cfff2d54a8baa4f4ade9b376c09",
            "5918fb9bca7f4ebaa2fff362f12d65fb",
            "4507881e68b242db88c3d2be85d947ca",
            "5352161d241f4b48bbeb203160a5b2e0",
            "c56b4237970b43d5b133f1a39b4798ec",
            "22eac663744f4c96bae98cf986adf1db",
            "acb8ba0e10ae4dbf8fb6cc458b6a0e95",
            "6587f0cb57804aefabbcdee73ff93ab9",
            "84aa0f3db89b482fbc1ec52587ceca6a",
            "0a6efa145a334069a496c6f6be71d1e8",
            "bb08e7d82b374151bbc6ce1f788a99d3",
            "4aecd610ba3c4aa98b5a908e45a2252e",
            "31ff48fe37cd4f93a1b2e74e62fc7e83",
            "3d6094beebbe4502bf6ecc54782374cc",
            "3b7f397d423d492ab224569064541833",
            "2e78d4f98e4e4a48a58fe5d0717a3d4f",
            "6b9ed129b37343dda3dfd5262a371134",
            "6ff48727f3c94397955671969563c480",
            "e32add82f5c14ed1b9096ac6a166f9c3",
            "3511fc9fbfc54446be64c13c546cec16",
            "bb6a8ed7c45c4487a95cb7db69f1e9eb",
            "46641fc93a244b4bb796023e0b7e85cd",
            "29f17e09e169419f8be11871f9c296f8",
            "9c21ae497bdc4142b32f920d05ed430c",
            "e5cd5ddddbf84b1c9d4677eb9b7cbc33"
          ]
        },
        "id": "ylzI9_RRtVcV",
        "outputId": "8af32bf4-d1af-443b-c1ea-a592199cf5d4"
      },
      "source": [
        "from transformers import AutoTokenizer\n",
        "\n",
        "tokenizer = AutoTokenizer.from_pretrained('t5-base')\n",
        "\n",
        "def tokenize(batch):\n",
        "  tokenized_input = tokenizer(batch['Full_Text'], padding = 'max_length', truncation=True, max_length = 1000)\n",
        "  tokenized_label = tokenizer(batch['Summary_Text'], padding = 'max_length', truncation=True, max_length = max_target)\n",
        "\n",
        "  tokenized_input['labels'] = tokenized_label['input_ids']\n",
        "\n",
        "  return tokenized_input\n",
        "\n",
        "train_dataset = train_dataset.map(tokenize, batched=True, batch_size=64)\n",
        "val_dataset = val_dataset.map(tokenize, batched=True, batch_size=len(val_dataset))\n",
        "test_dataset = test_dataset.map(tokenize, batched=True, batch_size=64) # 추가\n",
        "\n",
        "train_dataset.set_format('numpy', columns=['input_ids', 'attention_mask', 'labels'])\n",
        "val_dataset.set_format('numpy', columns=['input_ids', 'attention_mask', 'labels'])"
      ],
      "execution_count": 140,
      "outputs": [
        {
          "output_type": "stream",
          "name": "stderr",
          "text": [
            "Could not locate the tokenizer configuration file, will try to use the model config instead.\n",
            "loading configuration file https://huggingface.co/t5-base/resolve/main/config.json from cache at /root/.cache/huggingface/transformers/91e9fe874e06c44883b535d6c950b8b89d6eaa3298d8e7fb3b2c78039e9f8b7b.66b9637a52aa11e9285cdd6e668cc0df14b3bcf0b6674cf3ba5353c542649637\n",
            "Model config T5Config {\n",
            "  \"architectures\": [\n",
            "    \"T5WithLMHeadModel\"\n",
            "  ],\n",
            "  \"d_ff\": 3072,\n",
            "  \"d_kv\": 64,\n",
            "  \"d_model\": 768,\n",
            "  \"decoder_start_token_id\": 0,\n",
            "  \"dropout_rate\": 0.1,\n",
            "  \"eos_token_id\": 1,\n",
            "  \"feed_forward_proj\": \"relu\",\n",
            "  \"initializer_factor\": 1.0,\n",
            "  \"is_encoder_decoder\": true,\n",
            "  \"layer_norm_epsilon\": 1e-06,\n",
            "  \"model_type\": \"t5\",\n",
            "  \"n_positions\": 512,\n",
            "  \"num_decoder_layers\": 12,\n",
            "  \"num_heads\": 12,\n",
            "  \"num_layers\": 12,\n",
            "  \"output_past\": true,\n",
            "  \"pad_token_id\": 0,\n",
            "  \"relative_attention_num_buckets\": 32,\n",
            "  \"task_specific_params\": {\n",
            "    \"summarization\": {\n",
            "      \"early_stopping\": true,\n",
            "      \"length_penalty\": 2.0,\n",
            "      \"max_length\": 200,\n",
            "      \"min_length\": 30,\n",
            "      \"no_repeat_ngram_size\": 3,\n",
            "      \"num_beams\": 4,\n",
            "      \"prefix\": \"summarize: \"\n",
            "    },\n",
            "    \"translation_en_to_de\": {\n",
            "      \"early_stopping\": true,\n",
            "      \"max_length\": 300,\n",
            "      \"num_beams\": 4,\n",
            "      \"prefix\": \"translate English to German: \"\n",
            "    },\n",
            "    \"translation_en_to_fr\": {\n",
            "      \"early_stopping\": true,\n",
            "      \"max_length\": 300,\n",
            "      \"num_beams\": 4,\n",
            "      \"prefix\": \"translate English to French: \"\n",
            "    },\n",
            "    \"translation_en_to_ro\": {\n",
            "      \"early_stopping\": true,\n",
            "      \"max_length\": 300,\n",
            "      \"num_beams\": 4,\n",
            "      \"prefix\": \"translate English to Romanian: \"\n",
            "    }\n",
            "  },\n",
            "  \"transformers_version\": \"4.12.3\",\n",
            "  \"use_cache\": true,\n",
            "  \"vocab_size\": 32128\n",
            "}\n",
            "\n",
            "loading file https://huggingface.co/t5-base/resolve/main/spiece.model from cache at /root/.cache/huggingface/transformers/684a47ca6257e4ca71f0037771464c5b323e945fbc58697d2fad8a7dd1a2f8ba.3b69006860e7b5d0a63ffdddc01ddcd6b7c318a6f4fd793596552c741734c62d\n",
            "loading file https://huggingface.co/t5-base/resolve/main/tokenizer.json from cache at /root/.cache/huggingface/transformers/90de37880b5ff5ac7ab70ff0bd369f207e9b74133fa153c163d14c5bb0116207.8627f1bd5d270a9fd2e5a51c8bec3223896587cc3cfe13edeabb0992ab43c529\n",
            "loading file https://huggingface.co/t5-base/resolve/main/added_tokens.json from cache at None\n",
            "loading file https://huggingface.co/t5-base/resolve/main/special_tokens_map.json from cache at None\n",
            "loading file https://huggingface.co/t5-base/resolve/main/tokenizer_config.json from cache at None\n",
            "loading configuration file https://huggingface.co/t5-base/resolve/main/config.json from cache at /root/.cache/huggingface/transformers/91e9fe874e06c44883b535d6c950b8b89d6eaa3298d8e7fb3b2c78039e9f8b7b.66b9637a52aa11e9285cdd6e668cc0df14b3bcf0b6674cf3ba5353c542649637\n",
            "Model config T5Config {\n",
            "  \"architectures\": [\n",
            "    \"T5WithLMHeadModel\"\n",
            "  ],\n",
            "  \"d_ff\": 3072,\n",
            "  \"d_kv\": 64,\n",
            "  \"d_model\": 768,\n",
            "  \"decoder_start_token_id\": 0,\n",
            "  \"dropout_rate\": 0.1,\n",
            "  \"eos_token_id\": 1,\n",
            "  \"feed_forward_proj\": \"relu\",\n",
            "  \"initializer_factor\": 1.0,\n",
            "  \"is_encoder_decoder\": true,\n",
            "  \"layer_norm_epsilon\": 1e-06,\n",
            "  \"model_type\": \"t5\",\n",
            "  \"n_positions\": 512,\n",
            "  \"num_decoder_layers\": 12,\n",
            "  \"num_heads\": 12,\n",
            "  \"num_layers\": 12,\n",
            "  \"output_past\": true,\n",
            "  \"pad_token_id\": 0,\n",
            "  \"relative_attention_num_buckets\": 32,\n",
            "  \"task_specific_params\": {\n",
            "    \"summarization\": {\n",
            "      \"early_stopping\": true,\n",
            "      \"length_penalty\": 2.0,\n",
            "      \"max_length\": 200,\n",
            "      \"min_length\": 30,\n",
            "      \"no_repeat_ngram_size\": 3,\n",
            "      \"num_beams\": 4,\n",
            "      \"prefix\": \"summarize: \"\n",
            "    },\n",
            "    \"translation_en_to_de\": {\n",
            "      \"early_stopping\": true,\n",
            "      \"max_length\": 300,\n",
            "      \"num_beams\": 4,\n",
            "      \"prefix\": \"translate English to German: \"\n",
            "    },\n",
            "    \"translation_en_to_fr\": {\n",
            "      \"early_stopping\": true,\n",
            "      \"max_length\": 300,\n",
            "      \"num_beams\": 4,\n",
            "      \"prefix\": \"translate English to French: \"\n",
            "    },\n",
            "    \"translation_en_to_ro\": {\n",
            "      \"early_stopping\": true,\n",
            "      \"max_length\": 300,\n",
            "      \"num_beams\": 4,\n",
            "      \"prefix\": \"translate English to Romanian: \"\n",
            "    }\n",
            "  },\n",
            "  \"transformers_version\": \"4.12.3\",\n",
            "  \"use_cache\": true,\n",
            "  \"vocab_size\": 32128\n",
            "}\n",
            "\n"
          ]
        },
        {
          "output_type": "display_data",
          "data": {
            "application/vnd.jupyter.widget-view+json": {
              "model_id": "c491296b41da4aa6941c8c3a602295ca",
              "version_minor": 0,
              "version_major": 2
            },
            "text/plain": [
              "  0%|          | 0/3 [00:00<?, ?ba/s]"
            ]
          },
          "metadata": {}
        },
        {
          "output_type": "display_data",
          "data": {
            "application/vnd.jupyter.widget-view+json": {
              "model_id": "5352161d241f4b48bbeb203160a5b2e0",
              "version_minor": 0,
              "version_major": 2
            },
            "text/plain": [
              "  0%|          | 0/1 [00:00<?, ?ba/s]"
            ]
          },
          "metadata": {}
        },
        {
          "output_type": "display_data",
          "data": {
            "application/vnd.jupyter.widget-view+json": {
              "model_id": "3b7f397d423d492ab224569064541833",
              "version_minor": 0,
              "version_major": 2
            },
            "text/plain": [
              "  0%|          | 0/4 [00:00<?, ?ba/s]"
            ]
          },
          "metadata": {}
        }
      ]
    },
    {
      "cell_type": "code",
      "metadata": {
        "colab": {
          "base_uri": "https://localhost:8080/"
        },
        "id": "59g-NcuqQzGc",
        "outputId": "0e467c66-37ea-4ee9-db22-c36a34c1a6e4"
      },
      "source": [
        "val_dataset"
      ],
      "execution_count": 141,
      "outputs": [
        {
          "output_type": "execute_result",
          "data": {
            "text/plain": [
              "Dataset({\n",
              "    features: ['Document', 'Full_Text', 'Gold_Filename', 'Original_Filename_x', 'Summary_Text', 'Unnamed: 0', 'attention_mask', 'input_ids', 'labels'],\n",
              "    num_rows: 20\n",
              "})"
            ]
          },
          "metadata": {},
          "execution_count": 141
        }
      ]
    },
    {
      "cell_type": "code",
      "metadata": {
        "id": "8TZQewdTu-Kr",
        "colab": {
          "base_uri": "https://localhost:8080/"
        },
        "outputId": "e6228070-2f7b-4a34-d929-d6c8ff6388d7"
      },
      "source": [
        "train_dataset[0]"
      ],
      "execution_count": 142,
      "outputs": [
        {
          "output_type": "execute_result",
          "data": {
            "text/plain": [
              "{'attention_mask': array([1, 1, 1, 1, 1, 1, 1, 1, 1, 1, 1, 1, 1, 1, 1, 1, 1, 1, 1, 1, 1, 1,\n",
              "        1, 1, 1, 1, 1, 1, 1, 1, 1, 1, 1, 1, 1, 1, 1, 1, 1, 1, 1, 1, 1, 1,\n",
              "        1, 1, 1, 1, 1, 1, 1, 1, 1, 1, 1, 1, 1, 1, 1, 1, 1, 1, 1, 1, 1, 1,\n",
              "        1, 1, 1, 1, 1, 1, 1, 1, 1, 1, 1, 1, 1, 1, 1, 1, 1, 1, 1, 1, 1, 1,\n",
              "        1, 1, 1, 1, 1, 1, 1, 1, 1, 1, 1, 1, 1, 1, 1, 1, 1, 1, 1, 1, 1, 1,\n",
              "        1, 1, 1, 1, 1, 1, 1, 1, 1, 1, 1, 1, 1, 1, 1, 1, 1, 1, 1, 1, 1, 1,\n",
              "        1, 1, 1, 1, 1, 1, 1, 1, 1, 1, 1, 1, 1, 1, 1, 1, 1, 1, 1, 1, 1, 1,\n",
              "        1, 1, 1, 1, 1, 1, 1, 1, 1, 1, 1, 1, 1, 1, 1, 1, 1, 1, 1, 1, 1, 1,\n",
              "        1, 1, 1, 1, 1, 1, 1, 1, 1, 1, 1, 1, 1, 1, 1, 1, 1, 1, 1, 1, 1, 1,\n",
              "        1, 1, 1, 1, 1, 1, 1, 1, 1, 1, 1, 1, 1, 1, 1, 1, 1, 1, 1, 1, 1, 1,\n",
              "        1, 1, 1, 1, 1, 1, 1, 1, 1, 1, 1, 1, 1, 1, 1, 1, 1, 1, 1, 1, 1, 1,\n",
              "        1, 1, 1, 1, 1, 1, 1, 1, 1, 1, 1, 1, 1, 1, 1, 1, 1, 1, 1, 1, 1, 1,\n",
              "        1, 1, 1, 1, 1, 1, 1, 1, 1, 1, 1, 1, 1, 1, 1, 1, 1, 1, 1, 1, 1, 1,\n",
              "        1, 1, 1, 1, 1, 1, 1, 1, 1, 1, 1, 1, 1, 1, 1, 1, 1, 1, 1, 1, 1, 1,\n",
              "        1, 1, 1, 1, 1, 1, 1, 1, 1, 1, 1, 1, 1, 1, 1, 1, 1, 1, 1, 1, 1, 1,\n",
              "        1, 1, 1, 1, 1, 1, 1, 1, 1, 1, 1, 1, 1, 1, 1, 1, 1, 1, 1, 1, 1, 1,\n",
              "        1, 1, 1, 1, 1, 1, 1, 1, 1, 1, 1, 1, 1, 1, 1, 1, 1, 1, 1, 1, 1, 1,\n",
              "        1, 1, 1, 1, 1, 1, 1, 1, 1, 1, 1, 1, 1, 1, 1, 1, 1, 1, 1, 1, 1, 1,\n",
              "        1, 1, 1, 1, 1, 1, 1, 1, 1, 1, 1, 1, 1, 1, 1, 1, 1, 1, 1, 1, 1, 1,\n",
              "        1, 1, 1, 1, 1, 1, 1, 1, 1, 1, 1, 1, 1, 1, 1, 1, 1, 1, 1, 1, 1, 1,\n",
              "        1, 1, 1, 1, 1, 1, 1, 1, 1, 1, 1, 1, 1, 1, 1, 1, 1, 1, 1, 1, 1, 1,\n",
              "        1, 1, 1, 1, 1, 1, 1, 1, 1, 1, 1, 1, 1, 1, 1, 1, 1, 1, 1, 1, 1, 1,\n",
              "        1, 1, 1, 1, 1, 1, 1, 1, 1, 1, 1, 1, 1, 1, 1, 1, 1, 1, 1, 1, 1, 1,\n",
              "        1, 1, 1, 1, 1, 1, 1, 1, 1, 1, 1, 1, 1, 1, 1, 1, 1, 1, 1, 1, 1, 1,\n",
              "        1, 1, 1, 1, 1, 1, 1, 1, 1, 1, 1, 1, 1, 1, 1, 1, 1, 1, 1, 1, 1, 1,\n",
              "        1, 1, 1, 1, 1, 1, 1, 1, 1, 1, 1, 1, 1, 1, 1, 1, 1, 1, 1, 1, 1, 1,\n",
              "        1, 1, 1, 1, 1, 1, 1, 1, 1, 1, 1, 1, 1, 1, 1, 1, 1, 1, 1, 1, 1, 1,\n",
              "        1, 1, 1, 1, 1, 1, 1, 1, 1, 1, 1, 1, 1, 1, 1, 1, 1, 1, 1, 1, 1, 1,\n",
              "        1, 1, 1, 1, 1, 1, 1, 1, 1, 1, 1, 1, 1, 1, 1, 1, 1, 1, 1, 1, 1, 1,\n",
              "        1, 1, 1, 1, 1, 1, 1, 1, 1, 1, 1, 1, 1, 1, 1, 1, 1, 1, 1, 1, 1, 1,\n",
              "        1, 1, 1, 1, 1, 1, 1, 1, 1, 1, 1, 1, 1, 1, 1, 1, 1, 1, 1, 1, 1, 1,\n",
              "        1, 1, 1, 1, 1, 1, 1, 1, 1, 1, 1, 1, 1, 1, 1, 1, 1, 1, 1, 1, 1, 1,\n",
              "        1, 1, 1, 1, 1, 1, 1, 1, 1, 1, 1, 1, 1, 1, 1, 1, 1, 1, 1, 1, 1, 1,\n",
              "        1, 1, 1, 1, 1, 1, 1, 1, 1, 1, 1, 1, 1, 1, 1, 1, 1, 1, 1, 1, 1, 1,\n",
              "        1, 1, 1, 1, 1, 1, 1, 1, 1, 1, 1, 1, 1, 1, 1, 1, 1, 1, 1, 1, 1, 1,\n",
              "        1, 1, 1, 1, 1, 1, 1, 1, 1, 1, 1, 1, 1, 1, 1, 1, 1, 1, 1, 1, 1, 1,\n",
              "        1, 1, 1, 1, 1, 1, 1, 1, 1, 1, 1, 1, 1, 1, 1, 1, 1, 1, 1, 1, 1, 1,\n",
              "        1, 1, 1, 1, 1, 1, 1, 1, 1, 1, 1, 1, 1, 1, 1, 1, 1, 1, 1, 1, 1, 1,\n",
              "        1, 1, 1, 1, 1, 1, 1, 1, 1, 1, 1, 1, 1, 1, 1, 1, 1, 1, 1, 1, 1, 1,\n",
              "        1, 1, 1, 1, 1, 1, 1, 1, 1, 1, 1, 1, 1, 1, 1, 1, 1, 1, 1, 1, 1, 1,\n",
              "        1, 1, 1, 1, 1, 1, 1, 1, 1, 1, 1, 1, 1, 1, 1, 1, 1, 1, 1, 1, 1, 1,\n",
              "        1, 1, 1, 1, 1, 1, 1, 1, 1, 1, 1, 1, 1, 1, 1, 1, 1, 1, 1, 1, 1, 1,\n",
              "        1, 1, 1, 1, 1, 1, 1, 1, 1, 1, 1, 1, 1, 1, 1, 1, 1, 1, 1, 1, 1, 1,\n",
              "        1, 1, 1, 1, 1, 1, 1, 1, 1, 1, 1, 1, 1, 1, 1, 1, 1, 1, 1, 1, 1, 1,\n",
              "        1, 1, 1, 1, 1, 1, 1, 1, 1, 1, 1, 1, 1, 1, 1, 1, 1, 1, 1, 1, 1, 1,\n",
              "        1, 1, 1, 1, 1, 1, 1, 1, 1, 1], dtype=int8),\n",
              " 'input_ids': array([  314,   465,  3109, 17462,  6067,    11,  6435,  1958,  4752,\n",
              "           75,  3541,    23,    15,    89,  5408,     7,  1132,  4168,\n",
              "         3109, 17462,    19,     3,     9,  1270,    18,   390,  1043,\n",
              "           11,  1807,  8211,    28,  3984,    16,  2514,     6, 12157,\n",
              "            6,  6144,    11,   439,  3247,     9,     7,     5,   101,\n",
              "         2674,    12,   993, 26715,   701,    57,   338,  2496,   748,\n",
              "           12,   253,   126, 10656,    32, 17089, 11222,    16,   641,\n",
              "         2127,  4120,     5,   421,  1998,    19,    12,   474,     3,\n",
              "            9,  2399,  4833,    13, 19405,     7,    16,   286,    16,\n",
              "          731,    18, 13261,   873, 15341,     7,    24,    56,  8182,\n",
              "         1604,   999,    11, 14609,     5,   304,  8048,   414,     6,\n",
              "         2038,  1509,     8,   349,   143, 11207,  2188,     5,   101,\n",
              "         4760,    69,  4833,   117,    62,  4019,    77, 24706,    26,\n",
              "            8,  2908,    13,   999,   117,    11,    62,  2031, 10166,\n",
              "            3,     9,   307,    18, 24549,  1281,  1041,     5,    37,\n",
              "          215,  4687,    26,   465,  3109, 17462,    16,     3,     9,\n",
              "          182,  1101,  1723,  1102,    11,    65,   356,   178,    95,\n",
              "           21,   856,    72,     3, 26389, 24690,    16,  5832,  5420,\n",
              "           17,  9303,    69,  4833,  1570,  1673,    62,  7347,     3,\n",
              "            9,  7580,  1046,    16,     8,  2695,     7,  2831,    51,\n",
              "         8939, 24383,    16, 12157,     6,     3, 20861,    34,    38,\n",
              "         3216,    18, 13261,    11,  8107,    18,    60,  7535,     5,\n",
              "          100,    19,  1776,   125,    34,    65,  2120,    91,    12,\n",
              "           36,     5,   421,  7686,   270,  3321,    15,  8182,  1574,\n",
              "           16,  7218,  6339,    53,  1287,   772,    11, 18686,    53,\n",
              "           69,  1357,    12, 11928,   342,  1438,    30,  2695,     7,\n",
              "         2831,    51,  8939,     5, 19764,     7,    45,     8,   166,\n",
              "          662,   168,     7,  2139,   178,  1903,     8, 15754,    13,\n",
              "         7763,  1733,  6190,     6,   274, 20071,  1358,     6,    16,\n",
              "         1762,  6386,    86,  1090,   168,  8668,   591,    72,   145,\n",
              "         1486,    26,    69,  4454,     5,   101, 24223,   221,    26,\n",
              "           12,  9248,     8,  2695,     7,  2831,    51,  8939,  1004,\n",
              "          856,    57,     3, 26361,    16,  1151,   168,     7,    11,\n",
              "           16,  6983,    18,  1201,    62,  7347,  1151,     3, 10610,\n",
              "          545,     6,  1517,   178,   592,    12,  1401,   126,  1055,\n",
              "        18160,  3248,     5,  3325,     7,    15, 19404,   120,    62,\n",
              "          162,   263,  7686,    16,     3,     9,   856,   850,   168,\n",
              "            7,    12,   833,     6,     3,  3770,     8,   792,    95,\n",
              "           12,   627,  2091,     7,     5,    37,   386,   126,   168,\n",
              "            7,    24,    33,  5874,   641,  8668,   940,     6,  8668,\n",
              "          927,    11,  8668,  1298,    43,  1936,    69,   235,  1947,\n",
              "         1444,   999,    57,   305,  6170,     5,  2695,     7,  2831,\n",
              "           51,  8939,  3256,    12,   995,   562,    21,  1170,    11,\n",
              "           62,  1672,    34,    12,  6339,   856,  1516,    77, 24706,\n",
              "            7,    12,    69,  3134,   999,     5,    94,   641,  4471,\n",
              "           46,  2033,  3435,  3751,  6093,    24, 20390,     7,    69,\n",
              "         1418,    12,  6665,   119,  1645,     5,     3,  7371,     8,\n",
              "         2793,    13,  1756,    11,   772,  7965,    20,    18, 13261,\n",
              "           15,    26,     8,  9550,   106, 10908,    15,  3009,  3239,\n",
              "          213,     8,  2695,     7,  2831,    51,  8939, 24383,    19,\n",
              "         1069,     6,    11,  8048,  2139,   178,  5521,   126,  1729,\n",
              "           41,  2338,  5421,     7,   666,   137,    86,  1332,  7218,\n",
              "           62,  4313,    46,  1004,    16,  2514,    28,  1126,  1055,\n",
              "           12,  2695,     7,  2831,    51,  8939,     6,    11, 29446,\n",
              "           26,     3,     9,     3,  2712,   464,  1046,    41, 16785,\n",
              "           61,    16,     8,  1592, 16323,     7, 24383,     5,   100,\n",
              "        24383,  3792,     3,  3539,  2812,  8770,     7,     6,    11,\n",
              "           19,  7747,    57,  3899,    11,  7254,  7999,     6,     3,\n",
              "            9,  1385,  1906,    11, 13841,  1669,     5,   101,     3,\n",
              "        14064,  1936,    69,  1046,    12,  7580,   826,     3,    60,\n",
              "           18,   295,   651,    13,     3,     9,  3150,     3, 28940,\n",
              "          168,    16,   532, 10263,     5,  3118,    19,   230,  4912,\n",
              "           12,  9162,  3117,   769, 26899, 14670,    11,   220,   308,\n",
              "        30149,   331,  6279,    56, 25370,     8, 10263,   844,    21,\n",
              "        18160,     5,   101,    43, 14841,  1592, 16323,     7,    38,\n",
              "          271,    72,  1020,    63,  6736,  2695,     7,  2831,    51,\n",
              "         8939,     6,    68,    28,     8,  1055,    21,  1146, 11157,\n",
              "            5,    86,   685,     8,     3, 23094,  3751,  8103,     7,\n",
              "           45,  2695,     7,  2831,    51,  8939,  1243,    62,    33,\n",
              "           72, 17540,     3, 13449,    12,  2058,   139,  1146,    18,\n",
              "        13261,    32,   102,  1493,   202,  2197,    12,  8726,    69,\n",
              "         4833,     5,  7940,     6,     8,  9502, 21682,   772,  6360,\n",
              "           24,  1592,   345,    40, 13676,   429,   370,     8,  1004,\n",
              "           12,   918,     3,     9,  1695, 12045,    13, 18160,  3248,\n",
              "           21,   128,   203,   235,   369,     5,  6540,   999,    16,\n",
              "         2038, 15013,     8,  5919,    13,    69,  4833,     6,  3134,\n",
              "          999,    12,   465,  3109, 17462,    65,     3, 23310,    38,\n",
              "         3117,    16,     8, 25278,    53,   953,     5,   305,  7389,\n",
              "          934,  2038,   371,    77,   152,  4703,     7,   282,     8,\n",
              "        13404,   243,     6,    16,  2038,   465,  3109, 17462,     7,\n",
              "         3751,     3,  4774, 15121,    12, 11989, 19215,    16,  7218,\n",
              "            9, 16720,     7,    17,  3097,  8630,    16,  1673,     6,\n",
              "          788,    12,  6891,  1936,   999, 13548,     5,   100,  5475,\n",
              "           46,   993,   858,   968,  5406,     5, 17969,  3199,    41,\n",
              "        26116,    20,  4788,  1575,     6,    20,   102,  7886,   257,\n",
              "           11,   183,   127,    17,  2121,    61,  1936,    12,  6897,\n",
              "        19215,     6,     9, 16720,     7,    17,   957,  8630,    16,\n",
              "         7033,    86,  1445,    13,  1784,     6,   465,  3109, 17462,\n",
              "         3279,   489,  9286,   274,  5159,    57,   194,    13,     3,\n",
              "            9,  9308,    13, 25828,     6, 23221,   126,  9495,  4776,\n",
              "           13,     3, 16029,   102,   284,    28,  1895,    11,   126,\n",
              "         4367,     5,    27,   183,   182,  5010,    12,   934,    24,\n",
              "            8,  1281,  1041,   581, 10825,  1846,  6067,    11,  6435,\n",
              "         1958,    47,  2031,    60,  6065,    15,    26,    16,   465,\n",
              "         3109, 17462,     7, 14499,    11,     8,     3, 26413,     3,\n",
              "        15942,    12,   178,   130,  1866,     5,    86,    66,    62,\n",
              "         1204,   147,  3063,  3229, 15062,   770,     5, 10825,  1846,\n",
              "           65,    92,     3, 26704, 19664,    66,  3485, 15085,     7,\n",
              "          581,   465,  3109, 17462,     5,   621,     8,  2109,  4228,\n",
              "          833,    62,    92, 10774,     3,     9,   837,  3229,  1828,\n",
              "          770,   998,  3064,    28,  2514,  5826,  1925,     6,    84,\n",
              "          963,  9848,    12,   993,     8, 24564,  1247,    38,  1151,\n",
              "          168,     7,    33,  1940,    30,   999,     5,   101,  4686,\n",
              "           46,  2332, 24564,  1247,    13,   837,  3229, 23221,    84,\n",
              "           65,  1936,    12,  1514, 11039,   770,   826,     3,     9,\n",
              "         7856,  2121,    13,   999,  1917,     6,    38,  2162,    30,\n",
              "          489,   932,  5832,   100,  1101, 15547,   689,    56,   428,\n",
              "          178,     8,  1418,    12,  1704,    35,     8,  4974,    13,\n",
              "         1170,   190,   529,    18,    26,   173,    76,  3268,  2731,\n",
              "            5,   389,  2949,   647,  1326,  5153,     3,     9,   248,\n",
              "         1154,    16,  6386,   101,   263,  6195,  3055,    12,  4405,\n",
              "            1], dtype=int32),\n",
              " 'labels': array([  220,  7389,   934,  2038, 19451, 26715,    27,   183,  5010,\n",
              "           12,   915,     8,  2041,   934,    11,  3744,    13,   465,\n",
              "         3109, 17462,  6067,    11,  6435,  1958,  4752,    75,    21,\n",
              "            8,   215,  3492,  2664,  1882,  6386,   100,    47,     3,\n",
              "            9,  3164,    11,  1465,   215,     5, 31417,   120,     6,\n",
              "          465,  3109, 17462,  2804,     8,  7763,  1733,  6190,   500,\n",
              "            6,   274,  2069,  1358,     6,    20,  4788,  1575,     6,\n",
              "           20,   102,  7886,   257,    11,   183,   127,    17,  2121,\n",
              "            6,    21,     8,   166,    97,    16,     8,   349,     7,\n",
              "          892,     5,   101,    92,  6997,    69,  1998,    13,  4321,\n",
              "         1702,  1170,    11,  4019,  1936,   321,   999,    11,  3751,\n",
              "            5, 19746,  2661,    11,   999,    86,     8,   215,    62,\n",
              "          263,     1,     0,     0,     0,     0,     0,     0,     0,\n",
              "            0,     0,     0,     0,     0,     0,     0,     0,     0,\n",
              "            0,     0,     0,     0,     0,     0,     0,     0,     0,\n",
              "            0,     0,     0,     0,     0,     0,     0,     0,     0,\n",
              "            0,     0,     0,     0,     0,     0,     0,     0,     0,\n",
              "            0,     0,     0,     0,     0,     0,     0,     0,     0,\n",
              "            0,     0,     0,     0,     0,     0,     0,     0,     0,\n",
              "            0,     0,     0,     0,     0,     0,     0,     0,     0,\n",
              "            0,     0,     0,     0,     0,     0,     0,     0,     0,\n",
              "            0,     0,     0,     0,     0,     0,     0,     0,     0,\n",
              "            0,     0,     0,     0,     0,     0,     0,     0,     0,\n",
              "            0,     0,     0,     0,     0,     0,     0,     0,     0,\n",
              "            0,     0,     0,     0,     0,     0,     0,     0,     0,\n",
              "            0,     0,     0,     0,     0,     0,     0,     0,     0,\n",
              "            0,     0,     0,     0,     0,     0,     0])}"
            ]
          },
          "metadata": {},
          "execution_count": 142
        }
      ]
    },
    {
      "cell_type": "code",
      "metadata": {
        "id": "Ro9D4RHHyC3E"
      },
      "source": [
        "train_dataset.save_to_disk('/content/drive/MyDrive/Colab Notebooks/Aiffel_Hackathon/T5/')\n",
        "val_dataset.save_to_disk('/content/drive/MyDrive/Colab Notebooks/Aiffel_Hackathon/T5/')\n",
        "test_dataset.save_to_disk('/content/drive/MyDrive/Colab Notebooks/Aiffel_Hackathon/T5/')"
      ],
      "execution_count": 144,
      "outputs": []
    },
    {
      "cell_type": "code",
      "metadata": {
        "id": "uBTIM5Q97sQ8"
      },
      "source": [
        "test_data = '/content/drive/MyDrive/Colab Notebooks/Aiffel_Hackathon/financial_documents/Val_Data_Clean.csv'"
      ],
      "execution_count": 105,
      "outputs": []
    },
    {
      "cell_type": "code",
      "metadata": {
        "id": "m70Ulm-d5PON",
        "colab": {
          "base_uri": "https://localhost:8080/"
        },
        "outputId": "e7839912-867b-494b-b012-61648b95d692"
      },
      "source": [
        "# 처음에는 max_source, max_target = 0으로 설정했는데, 인덱싱 오류 나와서 일단 위에서 출력한 숫자를 적용했음.\n",
        "# max_source, max_target = 0으로 설정했을 때 tokenized된 max_source = 6448, max_target = 1124임\n",
        "\n",
        "import pandas as pd\n",
        "\n",
        "# df = pd.read_csv(train_data) # 필요 없는 부분인것 같음\n",
        "\n",
        "source_text = train_dataset['Full_Text']\n",
        "target_text = train_dataset['Summary_Text']\n",
        "\n",
        "tokenized_source_text = tokenizer(list(source_text), truncation=False, padding=False)\n",
        "tokenized_target_text = tokenizer(list(target_text), truncation=False, padding=False)\n",
        "\n",
        "# max_source = 1000\n",
        "# for item in tokenized_source_text['input_ids']:\n",
        "#   if len(item) > max_source:\n",
        "#     max_source = len(item)\n",
        "\n",
        "# max_target = 243\n",
        "# for item in tokenized_target_text['input_ids']:\n",
        "#   if len(item) > max_target:\n",
        "#     max_target = len(item)"
      ],
      "execution_count": 145,
      "outputs": [
        {
          "output_type": "stream",
          "name": "stderr",
          "text": [
            "Token indices sequence length is longer than the specified maximum sequence length for this model (1273 > 512). Running this sequence through the model will result in indexing errors\n"
          ]
        }
      ]
    },
    {
      "cell_type": "markdown",
      "metadata": {
        "id": "lgLI3Vxhogmx"
      },
      "source": [
        "## Training"
      ]
    },
    {
      "cell_type": "code",
      "metadata": {
        "colab": {
          "base_uri": "https://localhost:8080/",
          "height": 1000
        },
        "id": "Dw34-Tsfpvth",
        "outputId": "8de9aa89-b89d-4393-cc25-8a2824243007"
      },
      "source": [
        "from transformers import T5ForConditionalGeneration, Trainer, TrainingArguments\n",
        "##\n",
        "import torch\n",
        "import gc\n",
        "gc.collect()\n",
        "torch.cuda.empty_cache()\n",
        "##\n",
        "model = T5ForConditionalGeneration.from_pretrained('t5-base')\n",
        "\n",
        "output_dir = '/content/drive/MyDrive/Colab Notebooks/Aiffel_Hackathon/T5'\n",
        "\n",
        "training_args = TrainingArguments(\n",
        "    output_dir=output_dir,\n",
        "    num_train_epochs=2,\n",
        "    per_device_train_batch_size = 1, # default 8\n",
        "    per_device_eval_batch_size = 1, # default 8\n",
        "    eval_accumulation_steps = 4, # Number of eval steps to keep in GPU (the higher, the more vRAM used) default 1\n",
        "    prediction_loss_only = True, # If i need to cumpute only loss and not other metrics, setting this to true will use less RAM\n",
        "    learning_rate=0.001,\n",
        "    evaluation_strategy = 'steps', # Run evaluation every eval_steps\n",
        "    save_steps = 1000, # How often to save a checkpoint\n",
        "    save_total_limit = 1, # Number of maximum checkpoints to save\n",
        "    remove_unused_columns=True, # Removes unless columns from the dataset\n",
        "    # run_name = 'run_name', # Wandb run name\n",
        "    # logging_steps=1000, # How often to log loss to wandb\n",
        "    eval_steps = 1000, # How often to run evaluation on the val_set\n",
        "    # logging_first_step = False, # Wheter to log also the very first training step to wandb\n",
        "    load_best_model_at_end = True, # Whether to load the best model found at each evaluation.\n",
        "    metric_for_best_model = \"loss\", # Use loss to evaluate best model.\n",
        "    greater_is_better = False # Best model is the one with the lowest loss, not highest.\n",
        ")\n",
        "\n",
        "trainer = Trainer(\n",
        "    model=model,\n",
        "    args=training_args,\n",
        "    train_dataset=train_dataset,\n",
        "    eval_dataset=val_dataset\n",
        ")\n",
        "\n",
        "\n",
        "\n",
        "trainer.train()\n",
        "trainer.save_model(output_dir + '/model')"
      ],
      "execution_count": 146,
      "outputs": [
        {
          "output_type": "stream",
          "name": "stderr",
          "text": [
            "loading configuration file https://huggingface.co/t5-base/resolve/main/config.json from cache at /root/.cache/huggingface/transformers/91e9fe874e06c44883b535d6c950b8b89d6eaa3298d8e7fb3b2c78039e9f8b7b.66b9637a52aa11e9285cdd6e668cc0df14b3bcf0b6674cf3ba5353c542649637\n",
            "Model config T5Config {\n",
            "  \"architectures\": [\n",
            "    \"T5WithLMHeadModel\"\n",
            "  ],\n",
            "  \"d_ff\": 3072,\n",
            "  \"d_kv\": 64,\n",
            "  \"d_model\": 768,\n",
            "  \"decoder_start_token_id\": 0,\n",
            "  \"dropout_rate\": 0.1,\n",
            "  \"eos_token_id\": 1,\n",
            "  \"feed_forward_proj\": \"relu\",\n",
            "  \"initializer_factor\": 1.0,\n",
            "  \"is_encoder_decoder\": true,\n",
            "  \"layer_norm_epsilon\": 1e-06,\n",
            "  \"model_type\": \"t5\",\n",
            "  \"n_positions\": 512,\n",
            "  \"num_decoder_layers\": 12,\n",
            "  \"num_heads\": 12,\n",
            "  \"num_layers\": 12,\n",
            "  \"output_past\": true,\n",
            "  \"pad_token_id\": 0,\n",
            "  \"relative_attention_num_buckets\": 32,\n",
            "  \"task_specific_params\": {\n",
            "    \"summarization\": {\n",
            "      \"early_stopping\": true,\n",
            "      \"length_penalty\": 2.0,\n",
            "      \"max_length\": 200,\n",
            "      \"min_length\": 30,\n",
            "      \"no_repeat_ngram_size\": 3,\n",
            "      \"num_beams\": 4,\n",
            "      \"prefix\": \"summarize: \"\n",
            "    },\n",
            "    \"translation_en_to_de\": {\n",
            "      \"early_stopping\": true,\n",
            "      \"max_length\": 300,\n",
            "      \"num_beams\": 4,\n",
            "      \"prefix\": \"translate English to German: \"\n",
            "    },\n",
            "    \"translation_en_to_fr\": {\n",
            "      \"early_stopping\": true,\n",
            "      \"max_length\": 300,\n",
            "      \"num_beams\": 4,\n",
            "      \"prefix\": \"translate English to French: \"\n",
            "    },\n",
            "    \"translation_en_to_ro\": {\n",
            "      \"early_stopping\": true,\n",
            "      \"max_length\": 300,\n",
            "      \"num_beams\": 4,\n",
            "      \"prefix\": \"translate English to Romanian: \"\n",
            "    }\n",
            "  },\n",
            "  \"transformers_version\": \"4.12.3\",\n",
            "  \"use_cache\": true,\n",
            "  \"vocab_size\": 32128\n",
            "}\n",
            "\n",
            "loading weights file https://huggingface.co/t5-base/resolve/main/pytorch_model.bin from cache at /root/.cache/huggingface/transformers/ab4e948915b067f5cb6e5105f6f85044fd717b133f43240db67899a8fc7b29a2.26934c75adf19ceac3c268b721ba353356b7609c45f5627550326f275a2163b4\n",
            "All model checkpoint weights were used when initializing T5ForConditionalGeneration.\n",
            "\n",
            "All the weights of T5ForConditionalGeneration were initialized from the model checkpoint at t5-base.\n",
            "If your task is similar to the task the model of the checkpoint was trained on, you can already use T5ForConditionalGeneration for predictions without further training.\n",
            "PyTorch: setting up devices\n",
            "The default value for the training argument `--report_to` will change in v5 (from all installed integrations to none). In v5, you will need to use `--report_to all` to get the same behavior as now. You should start updating your code and make this info disappear :-).\n",
            "The following columns in the training set  don't have a corresponding argument in `T5ForConditionalGeneration.forward` and have been ignored: Original_Filename_x, Gold_Filename, Document, Unnamed: 0, Full_Text, Summary_Text.\n",
            "***** Running training *****\n",
            "  Num examples = 180\n",
            "  Num Epochs = 2\n",
            "  Instantaneous batch size per device = 1\n",
            "  Total train batch size (w. parallel, distributed & accumulation) = 1\n",
            "  Gradient Accumulation steps = 1\n",
            "  Total optimization steps = 360\n"
          ]
        },
        {
          "output_type": "display_data",
          "data": {
            "text/html": [
              "\n",
              "    <div>\n",
              "      \n",
              "      <progress value='360' max='360' style='width:300px; height:20px; vertical-align: middle;'></progress>\n",
              "      [360/360 23:17, Epoch 2/2]\n",
              "    </div>\n",
              "    <table border=\"1\" class=\"dataframe\">\n",
              "  <thead>\n",
              "    <tr style=\"text-align: left;\">\n",
              "      <th>Step</th>\n",
              "      <th>Training Loss</th>\n",
              "      <th>Validation Loss</th>\n",
              "    </tr>\n",
              "  </thead>\n",
              "  <tbody>\n",
              "  </tbody>\n",
              "</table><p>"
            ],
            "text/plain": [
              "<IPython.core.display.HTML object>"
            ]
          },
          "metadata": {}
        },
        {
          "output_type": "stream",
          "name": "stderr",
          "text": [
            "\n",
            "\n",
            "Training completed. Do not forget to share your model on huggingface.co/models =)\n",
            "\n",
            "\n",
            "Saving model checkpoint to /content/drive/MyDrive/Colab Notebooks/Aiffel_Hackathon/T5/model\n",
            "Configuration saved in /content/drive/MyDrive/Colab Notebooks/Aiffel_Hackathon/T5/model/config.json\n",
            "Model weights saved in /content/drive/MyDrive/Colab Notebooks/Aiffel_Hackathon/T5/model/pytorch_model.bin\n"
          ]
        }
      ]
    },
    {
      "cell_type": "markdown",
      "metadata": {
        "id": "ZVr2xd-I7D76"
      },
      "source": [
        "## Evaluation"
      ]
    },
    {
      "cell_type": "code",
      "metadata": {
        "colab": {
          "base_uri": "https://localhost:8080/",
          "height": 1000
        },
        "id": "_9JMROJedhrv",
        "outputId": "94b5cedf-2fbb-459d-dbf7-0ba6c98412be"
      },
      "source": [
        "model_dir = '/content/drive/MyDrive/Colab Notebooks/Aiffel_Hackathon/T5/model'\n",
        "output_dir = '/content/drive/MyDrive/Colab Notebooks/Aiffel_Hackathon/T5'\n",
        "\n",
        "model = T5ForConditionalGeneration.from_pretrained(model_dir)\n",
        "\n",
        "pred_args = TrainingArguments(\n",
        "    output_dir=output_dir,\n",
        "    per_device_eval_batch_size=4,\n",
        "    remove_unused_columns=True,\n",
        "    eval_accumulation_steps=1\n",
        ")\n",
        "\n",
        "trainer = Trainer(model=model, args=pred_args)\n",
        "\n",
        "preds, labels, *_ = trainer.predict(test_dataset)\n",
        "# preds = np.asarray(preds) # 기존 자료형이 튜플이기 때문에 오류 발생. numpy로 변환하면 모양이 안맞아서 broad casting 안됨\n",
        "preds_tokens = preds.argmax(axis=2)\n",
        "\n",
        "decoded_sources = []\n",
        "for row in test_dataset:\n",
        "    decoded_sources.append(tokenizer.decode(row['input_ids']))\n",
        "\n",
        "decoded_preds = [tokenizer.decode(pred) for pred in preds_tokens]\n",
        "decoded_labels = [tokenizer.decode(label) for label in labels]\n",
        "\n",
        "output = pd.DataFrame({'Source Text': decoded_sources, 'Target Text': decoded_labels, 'Generated Text': decoded_preds})\n",
        "output.to_excel(output_dir + \"/predictions.xlsx\")"
      ],
      "execution_count": 148,
      "outputs": [
        {
          "output_type": "stream",
          "name": "stderr",
          "text": [
            "loading configuration file /content/drive/MyDrive/Colab Notebooks/Aiffel_Hackathon/T5/model/config.json\n",
            "Model config T5Config {\n",
            "  \"_name_or_path\": \"t5-base\",\n",
            "  \"architectures\": [\n",
            "    \"T5ForConditionalGeneration\"\n",
            "  ],\n",
            "  \"d_ff\": 3072,\n",
            "  \"d_kv\": 64,\n",
            "  \"d_model\": 768,\n",
            "  \"decoder_start_token_id\": 0,\n",
            "  \"dropout_rate\": 0.1,\n",
            "  \"eos_token_id\": 1,\n",
            "  \"feed_forward_proj\": \"relu\",\n",
            "  \"initializer_factor\": 1.0,\n",
            "  \"is_encoder_decoder\": true,\n",
            "  \"layer_norm_epsilon\": 1e-06,\n",
            "  \"model_type\": \"t5\",\n",
            "  \"n_positions\": 512,\n",
            "  \"num_decoder_layers\": 12,\n",
            "  \"num_heads\": 12,\n",
            "  \"num_layers\": 12,\n",
            "  \"output_past\": true,\n",
            "  \"pad_token_id\": 0,\n",
            "  \"relative_attention_num_buckets\": 32,\n",
            "  \"task_specific_params\": {\n",
            "    \"summarization\": {\n",
            "      \"early_stopping\": true,\n",
            "      \"length_penalty\": 2.0,\n",
            "      \"max_length\": 200,\n",
            "      \"min_length\": 30,\n",
            "      \"no_repeat_ngram_size\": 3,\n",
            "      \"num_beams\": 4,\n",
            "      \"prefix\": \"summarize: \"\n",
            "    },\n",
            "    \"translation_en_to_de\": {\n",
            "      \"early_stopping\": true,\n",
            "      \"max_length\": 300,\n",
            "      \"num_beams\": 4,\n",
            "      \"prefix\": \"translate English to German: \"\n",
            "    },\n",
            "    \"translation_en_to_fr\": {\n",
            "      \"early_stopping\": true,\n",
            "      \"max_length\": 300,\n",
            "      \"num_beams\": 4,\n",
            "      \"prefix\": \"translate English to French: \"\n",
            "    },\n",
            "    \"translation_en_to_ro\": {\n",
            "      \"early_stopping\": true,\n",
            "      \"max_length\": 300,\n",
            "      \"num_beams\": 4,\n",
            "      \"prefix\": \"translate English to Romanian: \"\n",
            "    }\n",
            "  },\n",
            "  \"torch_dtype\": \"float32\",\n",
            "  \"transformers_version\": \"4.12.3\",\n",
            "  \"use_cache\": true,\n",
            "  \"vocab_size\": 32128\n",
            "}\n",
            "\n",
            "loading weights file /content/drive/MyDrive/Colab Notebooks/Aiffel_Hackathon/T5/model/pytorch_model.bin\n",
            "All model checkpoint weights were used when initializing T5ForConditionalGeneration.\n",
            "\n",
            "All the weights of T5ForConditionalGeneration were initialized from the model checkpoint at /content/drive/MyDrive/Colab Notebooks/Aiffel_Hackathon/T5/model.\n",
            "If your task is similar to the task the model of the checkpoint was trained on, you can already use T5ForConditionalGeneration for predictions without further training.\n",
            "PyTorch: setting up devices\n",
            "The default value for the training argument `--report_to` will change in v5 (from all installed integrations to none). In v5, you will need to use `--report_to all` to get the same behavior as now. You should start updating your code and make this info disappear :-).\n",
            "The following columns in the test set  don't have a corresponding argument in `T5ForConditionalGeneration.forward` and have been ignored: Original_Filename_x, Gold_Filename, Document, Unnamed: 0, Full_Text, Summary_Text.\n",
            "***** Running Prediction *****\n",
            "  Num examples = 246\n",
            "  Batch size = 4\n"
          ]
        },
        {
          "output_type": "display_data",
          "data": {
            "text/html": [
              "\n",
              "    <div>\n",
              "      \n",
              "      <progress value='62' max='62' style='width:300px; height:20px; vertical-align: middle;'></progress>\n",
              "      [62/62 04:01]\n",
              "    </div>\n",
              "    "
            ],
            "text/plain": [
              "<IPython.core.display.HTML object>"
            ]
          },
          "metadata": {}
        },
        {
          "output_type": "error",
          "ename": "AttributeError",
          "evalue": "ignored",
          "traceback": [
            "\u001b[0;31m---------------------------------------------------------------------------\u001b[0m",
            "\u001b[0;31mAttributeError\u001b[0m                            Traceback (most recent call last)",
            "\u001b[0;32m<ipython-input-148-4ba54124497c>\u001b[0m in \u001b[0;36m<module>\u001b[0;34m()\u001b[0m\n\u001b[1;32m     15\u001b[0m \u001b[0mpreds\u001b[0m\u001b[0;34m,\u001b[0m \u001b[0mlabels\u001b[0m\u001b[0;34m,\u001b[0m \u001b[0;34m*\u001b[0m\u001b[0m_\u001b[0m \u001b[0;34m=\u001b[0m \u001b[0mtrainer\u001b[0m\u001b[0;34m.\u001b[0m\u001b[0mpredict\u001b[0m\u001b[0;34m(\u001b[0m\u001b[0mtest_dataset\u001b[0m\u001b[0;34m)\u001b[0m\u001b[0;34m\u001b[0m\u001b[0;34m\u001b[0m\u001b[0m\n\u001b[1;32m     16\u001b[0m \u001b[0;31m# preds = np.asarray(preds) # 기존 자료형이 튜플이기 때문에 오류 발생. numpy로 변환\u001b[0m\u001b[0;34m\u001b[0m\u001b[0;34m\u001b[0m\u001b[0;34m\u001b[0m\u001b[0m\n\u001b[0;32m---> 17\u001b[0;31m \u001b[0mpreds_tokens\u001b[0m \u001b[0;34m=\u001b[0m \u001b[0mpreds\u001b[0m\u001b[0;34m.\u001b[0m\u001b[0margmax\u001b[0m\u001b[0;34m(\u001b[0m\u001b[0maxis\u001b[0m\u001b[0;34m=\u001b[0m\u001b[0;36m2\u001b[0m\u001b[0;34m)\u001b[0m\u001b[0;34m\u001b[0m\u001b[0;34m\u001b[0m\u001b[0m\n\u001b[0m\u001b[1;32m     18\u001b[0m \u001b[0;34m\u001b[0m\u001b[0m\n\u001b[1;32m     19\u001b[0m \u001b[0mdecoded_sources\u001b[0m \u001b[0;34m=\u001b[0m \u001b[0;34m[\u001b[0m\u001b[0;34m]\u001b[0m\u001b[0;34m\u001b[0m\u001b[0;34m\u001b[0m\u001b[0m\n",
            "\u001b[0;31mAttributeError\u001b[0m: 'tuple' object has no attribute 'argmax'"
          ]
        }
      ]
    },
    {
      "cell_type": "code",
      "metadata": {
        "colab": {
          "base_uri": "https://localhost:8080/"
        },
        "id": "QV-kIEqvfl4E",
        "outputId": "fa5a809f-03c0-4455-e3dc-dd4c371599dc"
      },
      "source": [
        "preds"
      ],
      "execution_count": 151,
      "outputs": [
        {
          "output_type": "execute_result",
          "data": {
            "text/plain": [
              "(array([[[ -8.8167515, -11.349447 , -14.951155 , ..., -44.507427 ,\n",
              "          -44.28397  , -44.361774 ],\n",
              "         [-30.52831  , -15.63776  ,  -8.775997 , ..., -46.43926  ,\n",
              "          -46.27089  , -46.385086 ],\n",
              "         [-52.70977  , -27.755772 , -27.75125  , ..., -70.00102  ,\n",
              "          -69.837135 , -70.02378  ],\n",
              "         ...,\n",
              "         [ 39.024258 ,  -7.18725  ,  -8.601317 , ..., -30.532154 ,\n",
              "          -30.390512 , -30.358355 ],\n",
              "         [ 38.910435 ,  -7.1637287,  -8.609358 , ..., -30.50736  ,\n",
              "          -30.365067 , -30.334715 ],\n",
              "         [ 39.360703 ,  -7.131469 ,  -8.646362 , ..., -30.611734 ,\n",
              "          -30.468115 , -30.445229 ]],\n",
              " \n",
              "        [[-11.504383 , -12.996344 , -15.867767 , ..., -43.720524 ,\n",
              "          -43.627098 , -43.66737  ],\n",
              "         [-60.891907 , -28.500023 , -25.09755  , ..., -72.279854 ,\n",
              "          -72.196754 , -72.397415 ],\n",
              "         [-58.528572 , -30.0933   , -26.258911 , ..., -75.82728  ,\n",
              "          -75.55645  , -75.83769  ],\n",
              "         ...,\n",
              "         [ 37.132545 ,  -4.5157404,  -8.067751 , ..., -28.08426  ,\n",
              "          -27.977768 , -27.881506 ],\n",
              "         [ 36.93009  ,  -4.5819006,  -8.028096 , ..., -27.914457 ,\n",
              "          -27.806389 , -27.71144  ],\n",
              "         [ 36.725746 ,  -4.6831126,  -8.097608 , ..., -28.010527 ,\n",
              "          -27.90171  , -27.809875 ]],\n",
              " \n",
              "        [[-11.343342 , -13.357874 , -15.376953 , ..., -49.708805 ,\n",
              "          -49.602177 , -49.654152 ],\n",
              "         [-20.201717 ,  -8.929265 , -10.9640465, ..., -43.43107  ,\n",
              "          -43.53452  , -43.54121  ],\n",
              "         [-24.25721  ,  -9.326196 , -13.364941 , ..., -47.73692  ,\n",
              "          -47.996475 , -47.972565 ],\n",
              "         ...,\n",
              "         [ 31.061626 ,  -9.440368 , -10.17656  , ..., -33.835304 ,\n",
              "          -33.727444 , -33.79541  ],\n",
              "         [ 30.942993 ,  -9.498744 , -10.221807 , ..., -33.979683 ,\n",
              "          -33.872135 , -33.94009  ],\n",
              "         [ 30.840656 ,  -9.550727 , -10.262075 , ..., -34.10934  ,\n",
              "          -34.001877 , -34.069813 ]],\n",
              " \n",
              "        ...,\n",
              " \n",
              "        [[ -7.736475 , -11.028531 , -13.543787 , ..., -44.46338  ,\n",
              "          -44.373756 , -44.382317 ],\n",
              "         [-33.598705 , -13.733644 , -14.9865465, ..., -51.7517   ,\n",
              "          -51.811    , -51.886017 ],\n",
              "         [-19.803474 ,  -6.567891 , -10.3018   , ..., -40.894073 ,\n",
              "          -40.89112  , -40.913837 ],\n",
              "         ...,\n",
              "         [ 34.92751  ,  -5.2977467,  -6.193557 , ..., -29.083115 ,\n",
              "          -28.959003 , -28.974567 ],\n",
              "         [ 35.066635 ,  -5.26737  ,  -6.1515813, ..., -29.092638 ,\n",
              "          -28.969658 , -28.985659 ],\n",
              "         [ 35.21328  ,  -5.098397 ,  -5.983512 , ..., -28.764742 ,\n",
              "          -28.64844  , -28.663677 ]],\n",
              " \n",
              "        [[-10.773308 , -12.631239 , -15.037798 , ..., -44.34913  ,\n",
              "          -44.144783 , -44.21357  ],\n",
              "         [-24.94299  , -10.833398 ,  -4.6776924, ..., -35.2792   ,\n",
              "          -35.275787 , -35.18205  ],\n",
              "         [-23.530289 , -13.13836  , -10.942713 , ..., -49.875378 ,\n",
              "          -49.95477  , -50.196907 ],\n",
              "         ...,\n",
              "         [ 31.020676 , -10.005115 , -10.487388 , ..., -33.08437  ,\n",
              "          -32.863163 , -32.933712 ],\n",
              "         [ 30.992376 , -10.059588 , -10.521732 , ..., -33.185825 ,\n",
              "          -32.963154 , -33.034977 ],\n",
              "         [ 30.949825 , -10.112464 , -10.555616 , ..., -33.28475  ,\n",
              "          -33.060646 , -33.133583 ]],\n",
              " \n",
              "        [[-13.535286 , -12.583753 , -16.574795 , ..., -48.163666 ,\n",
              "          -47.987072 , -48.067314 ],\n",
              "         [-56.931713 , -26.505508 , -26.383621 , ..., -71.03067  ,\n",
              "          -71.04972  , -71.13849  ],\n",
              "         [-44.319523 , -21.329983 , -24.847015 , ..., -62.421383 ,\n",
              "          -62.438374 , -62.547634 ],\n",
              "         ...,\n",
              "         [ 35.70387  ,  -6.2663636,  -8.438197 , ..., -28.657154 ,\n",
              "          -28.501902 , -28.542885 ],\n",
              "         [ 35.599182 ,  -6.236246 ,  -8.428004 , ..., -28.68463  ,\n",
              "          -28.533878 , -28.571583 ],\n",
              "         [ 35.384876 ,  -6.1273255,  -8.430149 , ..., -28.81921  ,\n",
              "          -28.671364 , -28.707687 ]]], dtype=float32),\n",
              " array([[[ 0.23807691,  0.3543625 , -0.00572736, ...,  0.38647023,\n",
              "           0.565895  ,  0.03450584],\n",
              "         [ 0.16553073,  0.49945056,  0.01854337, ..., -0.2396101 ,\n",
              "           0.7838155 , -0.11761953],\n",
              "         [ 0.55973315,  0.4448025 ,  0.3280991 , ...,  0.38797814,\n",
              "           0.40606895,  0.2549655 ],\n",
              "         ...,\n",
              "         [-0.19523576, -0.16252671, -0.22189687, ..., -0.47533098,\n",
              "           0.42373   , -0.4725975 ],\n",
              "         [ 0.17746566, -0.08868093,  0.20238358, ...,  0.07841336,\n",
              "          -0.1978672 , -0.15720272],\n",
              "         [ 0.0133437 , -0.01536236,  0.01288001, ..., -0.01897946,\n",
              "           0.00208731, -0.00837988]],\n",
              " \n",
              "        [[ 0.2036509 ,  0.11054914,  0.02724985, ...,  0.13468643,\n",
              "           0.09142291,  0.22700241],\n",
              "         [-0.33723792,  0.00648727, -0.18848574, ...,  0.14591458,\n",
              "           0.02843367, -0.46287122],\n",
              "         [-0.0957883 ,  0.10146761,  0.06051022, ...,  0.22892214,\n",
              "          -0.22531319, -0.01398108],\n",
              "         ...,\n",
              "         [ 0.09102014, -0.16120943, -0.0696992 , ...,  0.21950789,\n",
              "          -0.14901464, -0.01215644],\n",
              "         [-0.07667922,  0.05493116, -0.14823355, ...,  0.14143625,\n",
              "          -0.14204961,  0.17498563],\n",
              "         [ 0.01356961, -0.01428438,  0.0141946 , ..., -0.01371126,\n",
              "          -0.00430056, -0.01102141]],\n",
              " \n",
              "        [[ 0.0233754 ,  0.10429474,  0.167372  , ...,  0.33295515,\n",
              "           0.24228415,  0.5327964 ],\n",
              "         [-0.36686558,  0.24370645,  0.12812755, ..., -0.2423536 ,\n",
              "           0.15823908,  0.2380463 ],\n",
              "         [-0.10094652, -0.18343538,  0.260433  , ..., -0.03883423,\n",
              "           0.11059888,  0.37893227],\n",
              "         ...,\n",
              "         [ 0.03477816, -0.12995377, -0.07373312, ..., -0.49532112,\n",
              "           0.5807914 ,  0.13760589],\n",
              "         [ 0.06278467, -0.00180494, -0.07548817, ..., -0.25071764,\n",
              "          -0.01417955,  0.02988447],\n",
              "         [ 0.01278974, -0.01430039,  0.0118701 , ..., -0.01755734,\n",
              "          -0.00729533, -0.00614543]],\n",
              " \n",
              "        ...,\n",
              " \n",
              "        [[ 0.04864334,  0.05295275,  0.07477217, ...,  0.08790982,\n",
              "           0.38772675,  0.43181327],\n",
              "         [-0.15990062,  0.5377039 ,  0.02521987, ..., -0.38084602,\n",
              "           0.54867613,  0.05122677],\n",
              "         [-0.06086272, -0.1298202 ,  0.41368198, ..., -0.12104092,\n",
              "           0.26619548,  0.16781364],\n",
              "         ...,\n",
              "         [-0.2649331 , -0.18577595,  0.42413637, ...,  0.15905628,\n",
              "          -0.23253267, -0.11018746],\n",
              "         [-0.29283458, -0.22170861,  0.46314898, ...,  0.01072008,\n",
              "          -0.1146875 , -0.16279824],\n",
              "         [ 0.00957406, -0.01563386,  0.01570643, ..., -0.01568627,\n",
              "          -0.00426826, -0.01240372]],\n",
              " \n",
              "        [[ 0.30923167, -0.2797141 , -0.09476981, ...,  0.10086073,\n",
              "           0.00851332,  0.51574653],\n",
              "         [ 0.36820918,  0.27856022, -0.03115077, ..., -0.328536  ,\n",
              "          -0.16098861,  0.15961286],\n",
              "         [-0.12434875, -0.13006738, -0.08826748, ...,  0.1414885 ,\n",
              "           0.43074873, -0.1667956 ],\n",
              "         ...,\n",
              "         [-0.11439871, -0.11076849,  0.19022782, ..., -0.11794889,\n",
              "           0.3710924 , -0.3548603 ],\n",
              "         [-0.15238233,  0.03524901, -0.19392444, ...,  0.03765572,\n",
              "           0.5293426 , -0.37546158],\n",
              "         [ 0.00932311, -0.01864387,  0.01222235, ..., -0.01261098,\n",
              "           0.00178456, -0.00761525]],\n",
              " \n",
              "        [[ 0.17647657,  0.25381884,  0.10926031, ...,  0.29541153,\n",
              "           0.3733881 ,  0.13216655],\n",
              "         [ 0.21005434,  0.11482822,  0.5889242 , ...,  0.27145058,\n",
              "           0.1497649 ,  0.62801427],\n",
              "         [ 0.17798862,  0.12964603,  0.70202035, ...,  0.05988316,\n",
              "           0.14509551,  0.34251204],\n",
              "         ...,\n",
              "         [-0.10078397,  0.06456145,  0.17532058, ...,  0.11874987,\n",
              "           0.38954663, -0.66237336],\n",
              "         [-0.27768788, -0.17242454, -0.08846899, ..., -0.1383883 ,\n",
              "          -0.00628849, -0.14416255],\n",
              "         [ 0.00825552, -0.02044976,  0.00716564, ..., -0.02145985,\n",
              "          -0.00395356, -0.00985808]]], dtype=float32))"
            ]
          },
          "metadata": {},
          "execution_count": 151
        }
      ]
    },
    {
      "cell_type": "code",
      "metadata": {
        "colab": {
          "base_uri": "https://localhost:8080/",
          "height": 354
        },
        "id": "mji8PLWhmsG_",
        "outputId": "bb59b239-84bf-493c-ac3f-bccde247fa5c"
      },
      "source": [
        "temp = np.asarray(preds)"
      ],
      "execution_count": 185,
      "outputs": [
        {
          "output_type": "stream",
          "name": "stderr",
          "text": [
            "/usr/local/lib/python3.7/dist-packages/numpy/core/_asarray.py:83: VisibleDeprecationWarning: Creating an ndarray from ragged nested sequences (which is a list-or-tuple of lists-or-tuples-or ndarrays with different lengths or shapes) is deprecated. If you meant to do this, you must specify 'dtype=object' when creating the ndarray\n",
            "  return array(a, dtype, copy=False, order=order)\n"
          ]
        },
        {
          "output_type": "error",
          "ename": "ValueError",
          "evalue": "ignored",
          "traceback": [
            "\u001b[0;31m---------------------------------------------------------------------------\u001b[0m",
            "\u001b[0;31mValueError\u001b[0m                                Traceback (most recent call last)",
            "\u001b[0;32m<ipython-input-185-7c8c25678625>\u001b[0m in \u001b[0;36m<module>\u001b[0;34m()\u001b[0m\n\u001b[0;32m----> 1\u001b[0;31m \u001b[0mtemp\u001b[0m \u001b[0;34m=\u001b[0m \u001b[0mnp\u001b[0m\u001b[0;34m.\u001b[0m\u001b[0masarray\u001b[0m\u001b[0;34m(\u001b[0m\u001b[0mpreds\u001b[0m\u001b[0;34m)\u001b[0m\u001b[0;34m\u001b[0m\u001b[0;34m\u001b[0m\u001b[0m\n\u001b[0m",
            "\u001b[0;32m/usr/local/lib/python3.7/dist-packages/numpy/core/_asarray.py\u001b[0m in \u001b[0;36masarray\u001b[0;34m(a, dtype, order)\u001b[0m\n\u001b[1;32m     81\u001b[0m \u001b[0;34m\u001b[0m\u001b[0m\n\u001b[1;32m     82\u001b[0m     \"\"\"\n\u001b[0;32m---> 83\u001b[0;31m     \u001b[0;32mreturn\u001b[0m \u001b[0marray\u001b[0m\u001b[0;34m(\u001b[0m\u001b[0ma\u001b[0m\u001b[0;34m,\u001b[0m \u001b[0mdtype\u001b[0m\u001b[0;34m,\u001b[0m \u001b[0mcopy\u001b[0m\u001b[0;34m=\u001b[0m\u001b[0;32mFalse\u001b[0m\u001b[0;34m,\u001b[0m \u001b[0morder\u001b[0m\u001b[0;34m=\u001b[0m\u001b[0morder\u001b[0m\u001b[0;34m)\u001b[0m\u001b[0;34m\u001b[0m\u001b[0;34m\u001b[0m\u001b[0m\n\u001b[0m\u001b[1;32m     84\u001b[0m \u001b[0;34m\u001b[0m\u001b[0m\n\u001b[1;32m     85\u001b[0m \u001b[0;34m\u001b[0m\u001b[0m\n",
            "\u001b[0;31mValueError\u001b[0m: could not broadcast input array from shape (246,241,32128) into shape (246)"
          ]
        }
      ]
    },
    {
      "cell_type": "code",
      "metadata": {
        "id": "7pMXPae_y7fi"
      },
      "source": [
        "temp = list(preds)"
      ],
      "execution_count": 153,
      "outputs": []
    },
    {
      "cell_type": "code",
      "metadata": {
        "colab": {
          "base_uri": "https://localhost:8080/"
        },
        "id": "iwrGaadPzI_D",
        "outputId": "fd86ac99-2d60-4d55-9214-084207cca62c"
      },
      "source": [
        "labels.shape"
      ],
      "execution_count": 178,
      "outputs": [
        {
          "output_type": "execute_result",
          "data": {
            "text/plain": [
              "(246, 241)"
            ]
          },
          "metadata": {},
          "execution_count": 178
        }
      ]
    },
    {
      "cell_type": "code",
      "metadata": {
        "colab": {
          "base_uri": "https://localhost:8080/"
        },
        "id": "BAt-LfP9zQkS",
        "outputId": "7a5e5464-e94b-4b73-c4db-f20bde8a044e"
      },
      "source": [
        "len(preds[1])"
      ],
      "execution_count": 159,
      "outputs": [
        {
          "output_type": "execute_result",
          "data": {
            "text/plain": [
              "246"
            ]
          },
          "metadata": {},
          "execution_count": 159
        }
      ]
    },
    {
      "cell_type": "code",
      "metadata": {
        "colab": {
          "base_uri": "https://localhost:8080/"
        },
        "id": "Xl6f5fpZziTD",
        "outputId": "7c55fd6b-2eae-47c4-cc07-4b2d3601fe3a"
      },
      "source": [
        "len(preds[0])"
      ],
      "execution_count": 164,
      "outputs": [
        {
          "output_type": "execute_result",
          "data": {
            "text/plain": [
              "246"
            ]
          },
          "metadata": {},
          "execution_count": 164
        }
      ]
    },
    {
      "cell_type": "code",
      "metadata": {
        "colab": {
          "base_uri": "https://localhost:8080/"
        },
        "id": "3x3L4WrQ6ajH",
        "outputId": "c86377d5-1f22-40e4-8dc8-04b9bfa398a4"
      },
      "source": [
        "len(preds)"
      ],
      "execution_count": 176,
      "outputs": [
        {
          "output_type": "execute_result",
          "data": {
            "text/plain": [
              "2"
            ]
          },
          "metadata": {},
          "execution_count": 176
        }
      ]
    },
    {
      "cell_type": "markdown",
      "metadata": {
        "id": "Z7hE5ZoJ0DdT"
      },
      "source": [
        "preds, labels의 타입이 왜 다른지 모르겠다.  \n",
        "* preds: Tuple\n",
        "* labels: numpyarray\n",
        "  \n",
        "해당 오류로 Evaluation을 진행하지 못했다."
      ]
    },
    {
      "cell_type": "code",
      "metadata": {
        "id": "cD8t3meT69eT"
      },
      "source": [
        ""
      ],
      "execution_count": null,
      "outputs": []
    }
  ]
}